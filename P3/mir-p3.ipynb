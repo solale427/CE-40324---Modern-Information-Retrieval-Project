{
 "cells": [
  {
   "cell_type": "raw",
   "metadata": {
    "pycharm": {
     "name": "#%% md\n"
    }
   },
   "source": [
    "<div style=\"direction:rtl;line-height:300%;\">\n",
    "<font face=\"XB Zar\" size=5>\n",
    "<div align=center>\n",
    "<font face=\"B Titr\" size=5>\n",
    "<p></p><p></p>\n",
    "بسمه تعالی\n",
    "<p></p>\n",
    "</font>\n",
    "<p></p>\n",
    "<font>\n",
    "<br>\n",
    "درس بازیابی پیشرفته اطلاعات\n",
    "<br>\n",
    "مدرس: دکتر سلیمانی\n",
    "</font>\n",
    "<p></p>\n",
    "<br>\n",
    "<font>\n",
    "<b>فاز سوم پروژه</b>\n",
    "</font>\n",
    "<br>\n",
    "<br>\n",
    "موعد تحویل:  ساعت ۶ صبح ۸ تیر<br>\n",
    "<br>\n",
    "<br>\n",
    "<br>\n",
    "<font>\n",
    "دانشگاه صنعتی شریف\n",
    "<br>\n",
    "دانشکده مهندسی کامپیوتر\n",
    "<br>\n",
    "<br>\n",
    "</font>\n",
    "</div>\n",
    "</font>\n",
    "</div>"
   ]
  },
  {
   "cell_type": "markdown",
   "metadata": {
    "pycharm": {
     "name": "#%% md\n"
    }
   },
   "source": [
    "<div dir=\"rtl\">\n",
    "<font face=\"XB Zar\" size=5>\n",
    "    <h1>\n",
    "    <b>مقدمه</b>\n",
    "    </h1>\n",
    "    <p></p>\n",
    "    <p></p>\n",
    "</font>\n",
    "<font face=\"XB Zar\" size=3>\n",
    "     <br>\n",
    "    در این فاز از پروژه، تمرکز ما بر \n",
    "    crawling \n",
    "    و تحلیل مقالات استخراج‌شده از اینترنت خواهد بود. ما با بررسی تکنیک های مختلف  \n",
    "    web crawling\n",
    "    برای استخراج مقالات و سایر اطلاعات مرتبط از وب شروع خواهیم کرد.\n",
    "    <br>\n",
    "    در مرحله بعد، الگوریتم های تجزیه و تحلیل  لینک مانند\n",
    "    PageRank\n",
    "    و \n",
    "    HITS\n",
    "    را برای تعیین اهمیت این مقالات بر اساس نقل قول‌ها، ارجاعات یا اشکال دیگر پیوندها اعمال خواهیم‌کرد. ما همچنین یاد خواهیم‌گرفت که چگونه یک الگوریتم \n",
    "    PageRank\n",
    "    شخصی‌سازی‌شده را پیاده‌سازی کنیم که ترجیحات کاربر را برای ارائه نتایج مرتبط تر در نظر می‌گیرد.\n",
    "    <br>\n",
    "    در بخش سوم این مرحله، یک موتور جستجوی شخصی‌سازی شده را پیاده‌سازی میکنیم و یاد می‌گیریم که چگونه موتور جستجویی بسازیم که نتایجی را بر اساس ترجیحات کاربر ارائه دهد.\n",
    "    <br>\n",
    "در نهایت، ما یک \n",
    "    task \n",
    "     در مورد \n",
    "    recommendation system \n",
    "    ها خواهیم‌داشت، که در آن از تکنیک های مختلف برای توصیه مقالات یا صفحات وب به کاربران بر اساس ترجیحات و رفتار آنها استفاده خواهیم کرد.\n",
    "    <br>\n",
    "     تنها زبان قابل قبول برای پروژه پایتون است. محدودیت استفاده از کتاب‌خانه‌های آماده در هر بخش مشخص شده است. در انتهای پروژه قرار است یک سیستم یکپارچه‌ی جست‌و‌جو داشته باشید، بنابراین به پیاده‌سازی هر چه بهتر این فاز توجه داشته باشید.\n",
    "</font>\n",
    "</div>\n",
    "   "
   ]
  },
  {
   "cell_type": "markdown",
   "metadata": {
    "pycharm": {
     "name": "#%% md\n"
    }
   },
   "source": [
    "<div dir=\"rtl\">\n",
    "<font face=\"XB Zar\" size=4>\n",
    "    <h1>\n",
    "    <b>پیاده‌سازی Crawler (۴۰ نمره)</b>\n",
    "    </h1>\n",
    "</font>\n",
    "    <br>\n",
    "\n",
    "<font face=\"XB Zar\" size=3>\n",
    "   در این بخش باید یک Crawler \n",
    "    برای واکشی اطلاعات تعدادی مقاله از سایت <a href=\"https://www.semanticscholar.org/\">Semantic Scholar</a> پیاده سازی کنید.\n",
    "   اطلاعات واکشی شده باید حاوی موارد زیر باشد.\n",
    "</font>\n",
    "</div>\n",
    "<br>\n",
    "<table dir=\"ltr\" style=\"width: 100%; border-collapse: collapse;\">\n",
    "  <tr>\n",
    "    <th style=\"padding: 8px; text-align: justify; border: 1px solid black;\">ID</th>\n",
    "    <th style=\"padding: 8px; text-align: justify; border: 1px solid black;\">Title</th>\n",
    "    <th style=\"padding: 8px; text-align: justify; border: 1px solid black;\">Abstract</th>\n",
    "    <th style=\"padding: 8px; text-align: justify; border: 1px solid black;\">Publication Year</th>\n",
    "    <th style=\"padding: 8px; text-align: justify; border: 1px solid black;\">Authors</th>\n",
    "    <th style=\"padding: 8px; text-align: justify; border: 1px solid black;\">Related Topics</th>\n",
    "    <th style=\"padding: 8px; text-align: justify; border: 1px solid black;\">Citation Count</th>\n",
    "    <th style=\"padding: 8px; text-align: justify; border: 1px solid black;\">Reference Count</th>\n",
    "    <th style=\"padding: 8px; text-align: justify; border: 1px solid black;\">References</th>\n",
    "  </tr>\n",
    "  <tr>\n",
    "    <td style=\"padding: 8px; text-align: justify; border: 1px solid black;\">Unique ID of the paper</td>\n",
    "    <td style=\"padding: 8px; text-align: justify; border: 1px solid black;\">Title of the paper</td>\n",
    "    <td style=\"padding: 8px; text-align: justify; border: 1px solid black;\">Abstract of the paper</td>\n",
    "    <td style=\"padding: 8px; text-align: justify; border: 1px solid black;\">Publication year</td>\n",
    "    <td style=\"padding: 8px; text-align: justify; border: 1px solid black;\">Name of the first author, ..., Name of the last author</td>\n",
    "    <td style=\"padding: 8px; text-align: justify; border: 1px solid black;\">topic1, topic2, ...</td>\n",
    "    <td style=\"padding: 8px; text-align: justify; border: 1px solid black;\">number of citations of the paper</td>\n",
    "    <td style=\"padding: 8px; text-align: justify; border: 1px solid black;\">number of references of the paper</td>\n",
    "    <td style=\"padding: 8px; text-align: justify; border: 1px solid black;\">ID of the first reference, ..., ID of the tenth reference</td>\n",
    "  </tr>\n",
    "</table>\n",
    "    <br>"
   ]
  },
  {
   "cell_type": "code",
   "execution_count": 18,
   "metadata": {
    "execution": {
     "iopub.execute_input": "2023-06-25T09:07:54.157596Z",
     "iopub.status.busy": "2023-06-25T09:07:54.157148Z",
     "iopub.status.idle": "2023-06-25T09:08:06.221998Z",
     "shell.execute_reply": "2023-06-25T09:08:06.220559Z",
     "shell.execute_reply.started": "2023-06-25T09:07:54.157566Z"
    },
    "trusted": true
   },
   "outputs": [
    {
     "name": "stdout",
     "output_type": "stream",
     "text": [
      "Collecting gdown\n",
      "  Downloading gdown-4.7.1-py3-none-any.whl (15 kB)\n",
      "Requirement already satisfied: filelock in /opt/conda/lib/python3.10/site-packages (from gdown) (3.12.0)\n",
      "Requirement already satisfied: requests[socks] in /opt/conda/lib/python3.10/site-packages (from gdown) (2.28.2)\n",
      "Requirement already satisfied: six in /opt/conda/lib/python3.10/site-packages (from gdown) (1.16.0)\n",
      "Requirement already satisfied: tqdm in /opt/conda/lib/python3.10/site-packages (from gdown) (4.64.1)\n",
      "Requirement already satisfied: beautifulsoup4 in /opt/conda/lib/python3.10/site-packages (from gdown) (4.12.2)\n",
      "Requirement already satisfied: soupsieve>1.2 in /opt/conda/lib/python3.10/site-packages (from beautifulsoup4->gdown) (2.3.2.post1)\n",
      "Requirement already satisfied: charset-normalizer<4,>=2 in /opt/conda/lib/python3.10/site-packages (from requests[socks]->gdown) (2.1.1)\n",
      "Requirement already satisfied: idna<4,>=2.5 in /opt/conda/lib/python3.10/site-packages (from requests[socks]->gdown) (3.4)\n",
      "Requirement already satisfied: urllib3<1.27,>=1.21.1 in /opt/conda/lib/python3.10/site-packages (from requests[socks]->gdown) (1.26.15)\n",
      "Requirement already satisfied: certifi>=2017.4.17 in /opt/conda/lib/python3.10/site-packages (from requests[socks]->gdown) (2023.5.7)\n",
      "Requirement already satisfied: PySocks!=1.5.7,>=1.5.6 in /opt/conda/lib/python3.10/site-packages (from requests[socks]->gdown) (1.7.1)\n",
      "Installing collected packages: gdown\n",
      "Successfully installed gdown-4.7.1\n",
      "\u001B[33mWARNING: Running pip as the 'root' user can result in broken permissions and conflicting behaviour with the system package manager. It is recommended to use a virtual environment instead: https://pip.pypa.io/warnings/venv\u001B[0m\u001B[33m\n",
      "\u001B[0m"
     ]
    }
   ],
   "source": [
    "!pip install gdown"
   ]
  },
  {
   "cell_type": "code",
   "execution_count": 4,
   "metadata": {
    "ExecuteTime": {
     "end_time": "2023-06-26T07:21:36.656782452Z",
     "start_time": "2023-06-26T07:21:36.222209257Z"
    },
    "execution": {
     "iopub.execute_input": "2023-06-25T21:37:55.948700Z",
     "iopub.status.busy": "2023-06-25T21:37:55.948043Z",
     "iopub.status.idle": "2023-06-25T21:37:56.207146Z",
     "shell.execute_reply": "2023-06-25T21:37:56.206153Z",
     "shell.execute_reply.started": "2023-06-25T21:37:55.948661Z"
    },
    "trusted": true
   },
   "outputs": [],
   "source": [
    "import time\n",
    "import pprint\n",
    "import json\n",
    "from collections import defaultdict\n",
    "from scipy import linalg\n",
    "import numpy as np\n",
    "import pandas as pd"
   ]
  },
  {
   "cell_type": "code",
   "execution_count": 5,
   "metadata": {
    "ExecuteTime": {
     "end_time": "2023-06-26T07:23:04.532912510Z",
     "start_time": "2023-06-26T07:23:04.520851334Z"
    },
    "execution": {
     "iopub.execute_input": "2023-06-25T21:38:08.409531Z",
     "iopub.status.busy": "2023-06-25T21:38:08.409033Z",
     "iopub.status.idle": "2023-06-25T21:38:08.416250Z",
     "shell.execute_reply": "2023-06-25T21:38:08.415078Z",
     "shell.execute_reply.started": "2023-06-25T21:38:08.409488Z"
    },
    "trusted": true
   },
   "outputs": [],
   "source": [
    "writers = ['Rabiee', 'Rohban', 'Sharifi', 'Soleymani', 'Kasaei']"
   ]
  },
  {
   "cell_type": "code",
   "execution_count": 21,
   "metadata": {
    "execution": {
     "iopub.execute_input": "2023-06-25T09:08:16.803536Z",
     "iopub.status.busy": "2023-06-25T09:08:16.803170Z",
     "iopub.status.idle": "2023-06-25T09:08:17.019219Z",
     "shell.execute_reply": "2023-06-25T09:08:17.018376Z",
     "shell.execute_reply.started": "2023-06-25T09:08:16.803510Z"
    },
    "trusted": true
   },
   "outputs": [],
   "source": [
    "import gdown"
   ]
  },
  {
   "cell_type": "code",
   "execution_count": 22,
   "metadata": {
    "execution": {
     "iopub.execute_input": "2023-06-25T09:08:24.133232Z",
     "iopub.status.busy": "2023-06-25T09:08:24.132061Z",
     "iopub.status.idle": "2023-06-25T09:08:43.100074Z",
     "shell.execute_reply": "2023-06-25T09:08:43.098830Z",
     "shell.execute_reply.started": "2023-06-25T09:08:24.133195Z"
    },
    "trusted": true
   },
   "outputs": [
    {
     "data": {
      "text/plain": [
       "['/kaggle/working/HW3/ir-phase-3.ipynb',\n",
       " '/kaggle/working/HW3/Kasaei.txt',\n",
       " '/kaggle/working/HW3/Rabiee.txt',\n",
       " '/kaggle/working/HW3/recommended_papers.json',\n",
       " '/kaggle/working/HW3/recommended_papers.rar',\n",
       " '/kaggle/working/HW3/Rohban.txt',\n",
       " '/kaggle/working/HW3/Sharifi.txt',\n",
       " '/kaggle/working/HW3/Soleymani.txt']"
      ]
     },
     "execution_count": 22,
     "metadata": {},
     "output_type": "execute_result"
    }
   ],
   "source": [
    "url = 'https://drive.google.com/drive/folders/1arkiPq89oR9iaQEHaECKKUmqAmwa5IaN?usp=sharing'\n",
    "gdown.download_folder(url, quiet=True)"
   ]
  },
  {
   "cell_type": "markdown",
   "metadata": {
    "pycharm": {
     "name": "#%% md\n"
    }
   },
   "source": [
    "<div dir=\"rtl\">\n",
    "\n",
    "<font face=\"XB Zar\" size=3>\n",
    "  ابتدا فرایند واکشی را از ۵ مقاله‌ی هر استاد شروع کنید و\n",
    "    ۱۰\n",
    "    مرجع اول هر مقاله را به صف مقالات اضافه کنید.\n",
    "    فرایند واکشی را نا جایی ادامه دهید که اطلاعات ۲۰۰۰ مقاله را داشته باشید.\n",
    "    اطلاعات مقالات را در فایل crawled_paper_profName.json ذخیره کنید.\n",
    "</font>\n",
    "</div>\n",
    "\n",
    "<div dir=\"rtl\">\n",
    "\n",
    "<font face=\"XB Zar\" size=3>\n",
    "  در پیاده سازی Crawler به موارد زیر دقت کنید.\n",
    "    \n",
    "    \n",
    "<ul>\n",
    "<li>حق استفاده از api سایت semantic scholar را ندارید.</li>\n",
    "<li>برای واکشی می‌توانید از پکیج‌هایی مثل <a href=\"https://www.selenium.dev/selenium/docs/api/py/\">Selenium</a> و یا <a href=\"https://github.com/scrapy/scrapy\">Scrapy</a>  استفاده کنید. استفاده از پکیج‌های دیگر نیز مجاز است. همچنین برای پارس اطلاعات واکشی شده می‌توانید از پکیج <a href=\"https://pypi.org/project/beautifulsoup4/\">Beautiful Soup</a> استفاده کنید.\n",
    "</li>\n",
    "<li>بین هر بار درخواست از سایت یک فاصله چند ثانیه‌ای بدهید.</li>\n",
    "<li>در زمان تحویل کد Crawler شما اجرا خواهد شد و صحت آن بررسی خواهد شد.</li>\n",
    "<li>در صورتی که ‌Crawler شما به دچار اروری مثل request timeout شد نباید کار خود را متوقف کند.</li>\n",
    "</ul>\n",
    "\n",
    "\n",
    "</font>\n",
    "</div>"
   ]
  },
  {
   "cell_type": "code",
   "execution_count": 3,
   "metadata": {
    "execution": {
     "iopub.execute_input": "2023-06-25T07:38:43.237772Z",
     "iopub.status.busy": "2023-06-25T07:38:43.236820Z",
     "iopub.status.idle": "2023-06-25T07:39:14.062426Z",
     "shell.execute_reply": "2023-06-25T07:39:14.061232Z",
     "shell.execute_reply.started": "2023-06-25T07:38:43.237733Z"
    },
    "trusted": true
   },
   "outputs": [
    {
     "name": "stdout",
     "output_type": "stream",
     "text": [
      "--2023-06-25 07:38:44--  https://dl.google.com/linux/linux_signing_key.pub\n",
      "Resolving dl.google.com (dl.google.com)... 64.233.187.136, 64.233.187.190, 64.233.187.93, ...\n",
      "Connecting to dl.google.com (dl.google.com)|64.233.187.136|:443... connected.\n",
      "HTTP request sent, awaiting response... 200 OK\n",
      "Length: 14605 (14K) [application/octet-stream]\n",
      "Saving to: ‘linux_signing_key.pub.15’\n",
      "\n",
      "linux_signing_key.p 100%[===================>]  14.26K  --.-KB/s    in 0s      \n",
      "\n",
      "2023-06-25 07:38:44 (71.1 MB/s) - ‘linux_signing_key.pub.15’ saved [14605/14605]\n",
      "\n",
      "OK\n",
      "Get:1 http://dl.google.com/linux/chrome/deb stable InRelease [1825 B]\n",
      "Get:2 http://packages.cloud.google.com/apt gcsfuse-focal InRelease [5002 B]    \n",
      "Get:3 https://packages.cloud.google.com/apt cloud-sdk InRelease [6361 B]       \n",
      "Get:4 http://dl.google.com/linux/chrome/deb stable/main amd64 Packages [1080 B]\n",
      "Get:5 https://packages.cloud.google.com/apt cloud-sdk/main amd64 Packages [467 kB]\n",
      "Get:6 http://security.ubuntu.com/ubuntu focal-security InRelease [114 kB]      \n",
      "Hit:7 http://archive.ubuntu.com/ubuntu focal InRelease                         \n",
      "Get:8 http://archive.ubuntu.com/ubuntu focal-updates InRelease [114 kB]        \n",
      "Get:9 http://security.ubuntu.com/ubuntu focal-security/main amd64 Packages [2820 kB]\n",
      "Get:10 http://archive.ubuntu.com/ubuntu focal-backports InRelease [108 kB]\n",
      "Get:11 http://archive.ubuntu.com/ubuntu focal-updates/restricted amd64 Packages [2554 kB]\n",
      "Get:12 http://security.ubuntu.com/ubuntu focal-security/restricted amd64 Packages [2416 kB]\n",
      "Get:13 http://security.ubuntu.com/ubuntu focal-security/universe amd64 Packages [1064 kB]\n",
      "Get:14 http://archive.ubuntu.com/ubuntu focal-updates/universe amd64 Packages [1360 kB]\n",
      "Get:15 http://archive.ubuntu.com/ubuntu focal-updates/main amd64 Packages [3299 kB]\n",
      "Fetched 14.3 MB in 4s (3711 kB/s)                           \n",
      "Reading package lists... Done\n",
      "Reading package lists... Done\n",
      "Building dependency tree       \n",
      "Reading state information... Done\n",
      "The following additional packages will be installed:\n",
      "  libgbm1 libu2f-udev libudev1 libwayland-server0 udev\n",
      "The following NEW packages will be installed:\n",
      "  google-chrome-stable libgbm1 libu2f-udev libwayland-server0 udev\n",
      "The following packages will be upgraded:\n",
      "  libudev1\n",
      "1 upgraded, 5 newly installed, 0 to remove and 71 not upgraded.\n",
      "Need to get 95.9 MB of archives.\n",
      "After this operation, 331 MB of additional disk space will be used.\n",
      "Get:1 http://dl.google.com/linux/chrome/deb stable/main amd64 google-chrome-stable amd64 114.0.5735.133-1 [94.4 MB]\n",
      "Get:2 http://archive.ubuntu.com/ubuntu focal-updates/main amd64 libwayland-server0 amd64 1.18.0-1ubuntu0.1 [31.3 kB]\n",
      "Get:3 http://archive.ubuntu.com/ubuntu focal-updates/main amd64 libgbm1 amd64 21.2.6-0ubuntu0.1~20.04.2 [29.2 kB]\n",
      "Get:4 http://archive.ubuntu.com/ubuntu focal-updates/main amd64 libudev1 amd64 245.4-4ubuntu3.22 [75.4 kB]\n",
      "Get:5 http://archive.ubuntu.com/ubuntu focal-updates/main amd64 udev amd64 245.4-4ubuntu3.22 [1366 kB]\n",
      "Get:6 http://archive.ubuntu.com/ubuntu focal/main amd64 libu2f-udev all 1.1.10-1 [6108 B]\n",
      "Fetched 95.9 MB in 2s (39.9 MB/s)\n",
      "Selecting previously unselected package libwayland-server0:amd64.\n",
      "(Reading database ... 109859 files and directories currently installed.)\n",
      "Preparing to unpack .../libwayland-server0_1.18.0-1ubuntu0.1_amd64.deb ...\n",
      "Unpacking libwayland-server0:amd64 (1.18.0-1ubuntu0.1) ...\n",
      "Selecting previously unselected package libgbm1:amd64.\n",
      "Preparing to unpack .../libgbm1_21.2.6-0ubuntu0.1~20.04.2_amd64.deb ...\n",
      "Unpacking libgbm1:amd64 (21.2.6-0ubuntu0.1~20.04.2) ...\n",
      "Preparing to unpack .../libudev1_245.4-4ubuntu3.22_amd64.deb ...\n",
      "Unpacking libudev1:amd64 (245.4-4ubuntu3.22) over (245.4-4ubuntu3.21) ...\n",
      "Setting up libudev1:amd64 (245.4-4ubuntu3.22) ...\n",
      "Selecting previously unselected package udev.\n",
      "(Reading database ... 109873 files and directories currently installed.)\n",
      "Preparing to unpack .../udev_245.4-4ubuntu3.22_amd64.deb ...\n",
      "Unpacking udev (245.4-4ubuntu3.22) ...\n",
      "Selecting previously unselected package libu2f-udev.\n",
      "Preparing to unpack .../libu2f-udev_1.1.10-1_all.deb ...\n",
      "Unpacking libu2f-udev (1.1.10-1) ...\n",
      "Selecting previously unselected package google-chrome-stable.\n",
      "Preparing to unpack .../google-chrome-stable_114.0.5735.133-1_amd64.deb ...\n",
      "Unpacking google-chrome-stable (114.0.5735.133-1) ...\n",
      "Setting up libwayland-server0:amd64 (1.18.0-1ubuntu0.1) ...\n",
      "Setting up libgbm1:amd64 (21.2.6-0ubuntu0.1~20.04.2) ...\n",
      "Setting up udev (245.4-4ubuntu3.22) ...\n",
      "invoke-rc.d: could not determine current runlevel\n",
      "invoke-rc.d: policy-rc.d denied execution of start.\n",
      "Setting up libu2f-udev (1.1.10-1) ...\n",
      "Failed to send reload request: No such file or directory\n",
      "Setting up google-chrome-stable (114.0.5735.133-1) ...\n",
      "update-alternatives: using /usr/bin/google-chrome-stable to provide /usr/bin/x-www-browser (x-www-browser) in auto mode\n",
      "update-alternatives: using /usr/bin/google-chrome-stable to provide /usr/bin/gnome-www-browser (gnome-www-browser) in auto mode\n",
      "update-alternatives: using /usr/bin/google-chrome-stable to provide /usr/bin/google-chrome (google-chrome) in auto mode\n",
      "Processing triggers for libc-bin (2.31-0ubuntu9.9) ...\n",
      "Processing triggers for systemd (245.4-4ubuntu3.21) ...\n",
      "Processing triggers for man-db (2.9.1-1) ...\n",
      "Processing triggers for mime-support (3.64ubuntu1) ...\n"
     ]
    }
   ],
   "source": [
    "!wget https: // dl.google.com/linux/linux_signing_key.pub\n",
    "!sudo apt-key add linux_signing_key.pub\n",
    "!echo 'deb [arch=amd64] http://dl.google.com/linux/chrome/deb/ stable main' >> /etc/apt/sources.list.d/google-chrome.list\n",
    "!sudo apt-get -y update\n",
    "!sudo apt-get install -y google-chrome-stable"
   ]
  },
  {
   "cell_type": "code",
   "execution_count": 4,
   "metadata": {
    "execution": {
     "iopub.execute_input": "2023-06-25T07:39:14.064370Z",
     "iopub.status.busy": "2023-06-25T07:39:14.063942Z",
     "iopub.status.idle": "2023-06-25T07:39:18.191982Z",
     "shell.execute_reply": "2023-06-25T07:39:18.190939Z",
     "shell.execute_reply.started": "2023-06-25T07:39:14.064327Z"
    },
    "trusted": true
   },
   "outputs": [
    {
     "name": "stdout",
     "output_type": "stream",
     "text": [
      "curl: /opt/conda/lib/libcurl.so.4: no version information available (required by curl)\n",
      "--2023-06-25 07:39:15--  http://chromedriver.storage.googleapis.com/114.0.5735.90/chromedriver_linux64.zip\n",
      "Resolving chromedriver.storage.googleapis.com (chromedriver.storage.googleapis.com)... 74.125.204.128, 2404:6800:4008:c04::80\n",
      "Connecting to chromedriver.storage.googleapis.com (chromedriver.storage.googleapis.com)|74.125.204.128|:80... connected.\n",
      "HTTP request sent, awaiting response... 200 OK\n",
      "Length: 7407250 (7.1M) [application/zip]\n",
      "Saving to: ‘/tmp/chromedriver.zip’\n",
      "\n",
      "/tmp/chromedriver.z 100%[===================>]   7.06M  6.84MB/s    in 1.0s    \n",
      "\n",
      "2023-06-25 07:39:16 (6.84 MB/s) - ‘/tmp/chromedriver.zip’ saved [7407250/7407250]\n",
      "\n",
      "Archive:  /tmp/chromedriver.zip\n",
      "  inflating: /usr/local/bin/chromedriver  \n"
     ]
    }
   ],
   "source": [
    "# install chromedriver\n",
    "# !apt-get install -y qq unzip\n",
    "!wget -O/tmp/chromedriver.zip http: // chromedriver.storage.googleapis.com/ `curl -sS chromedriver.storage.googleapis.com/LATEST_RELEASE` /chromedriver_linux64.zip\n",
    "!unzip/tmp/chromedriver.zip chromedriver -d/usr/local/bin/"
   ]
  },
  {
   "cell_type": "code",
   "execution_count": 5,
   "metadata": {
    "execution": {
     "iopub.execute_input": "2023-06-25T07:39:18.197974Z",
     "iopub.status.busy": "2023-06-25T07:39:18.197563Z",
     "iopub.status.idle": "2023-06-25T07:39:49.942647Z",
     "shell.execute_reply": "2023-06-25T07:39:49.941424Z",
     "shell.execute_reply.started": "2023-06-25T07:39:18.197937Z"
    },
    "trusted": true
   },
   "outputs": [
    {
     "name": "stdout",
     "output_type": "stream",
     "text": [
      "Reading package lists... Done\n",
      "Building dependency tree       \n",
      "Reading state information... Done\n",
      "The following additional packages will be installed:\n",
      "  apparmor chromium-browser chromium-chromedriver liblzo2-2 snapd\n",
      "  squashfs-tools\n",
      "Suggested packages:\n",
      "  apparmor-profiles-extra apparmor-utils zenity | kdialog\n",
      "The following NEW packages will be installed:\n",
      "  apparmor chromium-browser chromium-chromedriver liblzo2-2 python3-selenium\n",
      "  snapd squashfs-tools\n",
      "0 upgraded, 7 newly installed, 0 to remove and 71 not upgraded.\n",
      "Need to get 38.7 MB of archives.\n",
      "After this operation, 174 MB of additional disk space will be used.\n",
      "Get:1 http://archive.ubuntu.com/ubuntu focal-updates/main amd64 apparmor amd64 2.13.3-7ubuntu5.2 [502 kB]\n",
      "Get:2 http://archive.ubuntu.com/ubuntu focal/main amd64 liblzo2-2 amd64 2.10-2 [50.8 kB]\n",
      "Get:3 http://archive.ubuntu.com/ubuntu focal-updates/main amd64 squashfs-tools amd64 1:4.4-1ubuntu0.3 [117 kB]\n",
      "Get:4 http://archive.ubuntu.com/ubuntu focal-updates/main amd64 snapd amd64 2.58+20.04.1 [37.9 MB]\n",
      "Get:5 http://archive.ubuntu.com/ubuntu focal-updates/universe amd64 chromium-browser amd64 1:85.0.4183.83-0ubuntu0.20.04.3 [48.5 kB]\n",
      "Get:6 http://archive.ubuntu.com/ubuntu focal-updates/universe amd64 chromium-chromedriver amd64 1:85.0.4183.83-0ubuntu0.20.04.3 [2496 B]\n",
      "Get:7 http://archive.ubuntu.com/ubuntu focal/universe amd64 python3-selenium all 4.0.0~a1+dfsg1-1.1 [86.2 kB]\n",
      "Fetched 38.7 MB in 4s (8736 kB/s)      \u001B[0m\u001B[33m\n",
      "Preconfiguring packages ...\n",
      "\n",
      "\u001B7\u001B[0;23r\u001B8\u001B[1ASelecting previously unselected package apparmor.\n",
      "(Reading database ... 110107 files and directories currently installed.)\n",
      "Preparing to unpack .../apparmor_2.13.3-7ubuntu5.2_amd64.deb ...\n",
      "\u001B7\u001B[24;0f\u001B[42m\u001B[30mProgress: [  0%]\u001B[49m\u001B[39m [..........................................................] \u001B8\u001B7\u001B[24;0f\u001B[42m\u001B[30mProgress: [  3%]\u001B[49m\u001B[39m [##........................................................] \u001B8Unpacking apparmor (2.13.3-7ubuntu5.2) ...\n",
      "\u001B7\u001B[24;0f\u001B[42m\u001B[30mProgress: [  7%]\u001B[49m\u001B[39m [####......................................................] \u001B8Selecting previously unselected package liblzo2-2:amd64.\n",
      "Preparing to unpack .../liblzo2-2_2.10-2_amd64.deb ...\n",
      "\u001B7\u001B[24;0f\u001B[42m\u001B[30mProgress: [ 10%]\u001B[49m\u001B[39m [######....................................................] \u001B8Unpacking liblzo2-2:amd64 (2.10-2) ...\n",
      "\u001B7\u001B[24;0f\u001B[42m\u001B[30mProgress: [ 14%]\u001B[49m\u001B[39m [########..................................................] \u001B8Selecting previously unselected package squashfs-tools.\n",
      "Preparing to unpack .../squashfs-tools_1%3a4.4-1ubuntu0.3_amd64.deb ...\n",
      "\u001B7\u001B[24;0f\u001B[42m\u001B[30mProgress: [ 17%]\u001B[49m\u001B[39m [#########.................................................] \u001B8Unpacking squashfs-tools (1:4.4-1ubuntu0.3) ...\n",
      "\u001B7\u001B[24;0f\u001B[42m\u001B[30mProgress: [ 21%]\u001B[49m\u001B[39m [############..............................................] \u001B8Selecting previously unselected package snapd.\n",
      "Preparing to unpack .../snapd_2.58+20.04.1_amd64.deb ...\n",
      "\u001B7\u001B[24;0f\u001B[42m\u001B[30mProgress: [ 24%]\u001B[49m\u001B[39m [##############............................................] \u001B8Unpacking snapd (2.58+20.04.1) ...\n",
      "\u001B7\u001B[24;0f\u001B[42m\u001B[30mProgress: [ 28%]\u001B[49m\u001B[39m [################..........................................] \u001B8Setting up apparmor (2.13.3-7ubuntu5.2) ...\n",
      "\u001B7\u001B[24;0f\u001B[42m\u001B[30mProgress: [ 31%]\u001B[49m\u001B[39m [##################........................................] \u001B8Created symlink /etc/systemd/system/sysinit.target.wants/apparmor.service → /lib/systemd/system/apparmor.service.\n",
      "\u001B7\u001B[24;0f\u001B[42m\u001B[30mProgress: [ 34%]\u001B[49m\u001B[39m [###################.......................................] \u001B8Setting up liblzo2-2:amd64 (2.10-2) ...\n",
      "\u001B7\u001B[24;0f\u001B[42m\u001B[30mProgress: [ 38%]\u001B[49m\u001B[39m [######################....................................] \u001B8\u001B7\u001B[24;0f\u001B[42m\u001B[30mProgress: [ 41%]\u001B[49m\u001B[39m [########################..................................] \u001B8Setting up squashfs-tools (1:4.4-1ubuntu0.3) ...\n",
      "\u001B7\u001B[24;0f\u001B[42m\u001B[30mProgress: [ 45%]\u001B[49m\u001B[39m [##########################................................] \u001B8\u001B7\u001B[24;0f\u001B[42m\u001B[30mProgress: [ 48%]\u001B[49m\u001B[39m [############################..............................] \u001B8Setting up snapd (2.58+20.04.1) ...\n",
      "\u001B7\u001B[24;0f\u001B[42m\u001B[30mProgress: [ 52%]\u001B[49m\u001B[39m [#############################.............................] \u001B8Created symlink /etc/systemd/system/multi-user.target.wants/snapd.aa-prompt-listener.service → /lib/systemd/system/snapd.aa-prompt-listener.service.\n",
      "Created symlink /etc/systemd/system/multi-user.target.wants/snapd.apparmor.service → /lib/systemd/system/snapd.apparmor.service.\n",
      "Created symlink /etc/systemd/system/multi-user.target.wants/snapd.autoimport.service → /lib/systemd/system/snapd.autoimport.service.\n",
      "Created symlink /etc/systemd/system/multi-user.target.wants/snapd.core-fixup.service → /lib/systemd/system/snapd.core-fixup.service.\n",
      "Created symlink /etc/systemd/system/multi-user.target.wants/snapd.recovery-chooser-trigger.service → /lib/systemd/system/snapd.recovery-chooser-trigger.service.\n",
      "Created symlink /etc/systemd/system/multi-user.target.wants/snapd.seeded.service → /lib/systemd/system/snapd.seeded.service.\n",
      "Created symlink /etc/systemd/system/cloud-final.service.wants/snapd.seeded.service → /lib/systemd/system/snapd.seeded.service.\n",
      "Created symlink /etc/systemd/system/multi-user.target.wants/snapd.service → /lib/systemd/system/snapd.service.\n",
      "Created symlink /etc/systemd/system/timers.target.wants/snapd.snap-repair.timer → /lib/systemd/system/snapd.snap-repair.timer.\n",
      "Created symlink /etc/systemd/system/sockets.target.wants/snapd.socket → /lib/systemd/system/snapd.socket.\n",
      "Created symlink /etc/systemd/system/final.target.wants/snapd.system-shutdown.service → /lib/systemd/system/snapd.system-shutdown.service.\n",
      "\u001B7\u001B[24;0f\u001B[42m\u001B[30mProgress: [ 55%]\u001B[49m\u001B[39m [################################..........................] \u001B8Selecting previously unselected package chromium-browser.\n",
      "(Reading database ... 110403 files and directories currently installed.)\n",
      "Preparing to unpack .../chromium-browser_1%3a85.0.4183.83-0ubuntu0.20.04.3_amd64.deb ...\n",
      "\u001B7\u001B[24;0f\u001B[42m\u001B[30mProgress: [ 59%]\u001B[49m\u001B[39m [##################################........................] \u001B8=> Installing the chromium snap\n",
      "==> Checking connectivity with the snap store\n",
      "===> System doesn't have a working snapd, skipping\n",
      "Unpacking chromium-browser (1:85.0.4183.83-0ubuntu0.20.04.3) ...\n",
      "\u001B7\u001B[24;0f\u001B[42m\u001B[30mProgress: [ 62%]\u001B[49m\u001B[39m [####################################......................] \u001B8Selecting previously unselected package chromium-chromedriver.\n",
      "Preparing to unpack .../chromium-chromedriver_1%3a85.0.4183.83-0ubuntu0.20.04.3_amd64.deb ...\n",
      "\u001B7\u001B[24;0f\u001B[42m\u001B[30mProgress: [ 66%]\u001B[49m\u001B[39m [######################################....................] \u001B8Unpacking chromium-chromedriver (1:85.0.4183.83-0ubuntu0.20.04.3) ...\n",
      "\u001B7\u001B[24;0f\u001B[42m\u001B[30mProgress: [ 69%]\u001B[49m\u001B[39m [#######################################...................] \u001B8Selecting previously unselected package python3-selenium.\n",
      "Preparing to unpack .../python3-selenium_4.0.0~a1+dfsg1-1.1_all.deb ...\n",
      "\u001B7\u001B[24;0f\u001B[42m\u001B[30mProgress: [ 72%]\u001B[49m\u001B[39m [##########################################................] \u001B8Unpacking python3-selenium (4.0.0~a1+dfsg1-1.1) ...\n",
      "\u001B7\u001B[24;0f\u001B[42m\u001B[30mProgress: [ 76%]\u001B[49m\u001B[39m [############################################..............] \u001B8Setting up python3-selenium (4.0.0~a1+dfsg1-1.1) ...\n",
      "\u001B7\u001B[24;0f\u001B[42m\u001B[30mProgress: [ 79%]\u001B[49m\u001B[39m [##############################################............] \u001B8\u001B7\u001B[24;0f\u001B[42m\u001B[30mProgress: [ 83%]\u001B[49m\u001B[39m [################################################..........] \u001B8Setting up chromium-browser (1:85.0.4183.83-0ubuntu0.20.04.3) ...\n",
      "\u001B7\u001B[24;0f\u001B[42m\u001B[30mProgress: [ 86%]\u001B[49m\u001B[39m [##################################################........] \u001B8\u001B7\u001B[24;0f\u001B[42m\u001B[30mProgress: [ 90%]\u001B[49m\u001B[39m [####################################################......] \u001B8Setting up chromium-chromedriver (1:85.0.4183.83-0ubuntu0.20.04.3) ...\n",
      "\u001B7\u001B[24;0f\u001B[42m\u001B[30mProgress: [ 93%]\u001B[49m\u001B[39m [#####################################################.....] \u001B8\u001B7\u001B[24;0f\u001B[42m\u001B[30mProgress: [ 97%]\u001B[49m\u001B[39m [########################################################..] \u001B8Processing triggers for mime-support (3.64ubuntu1) ...\n",
      "Processing triggers for hicolor-icon-theme (0.17-2) ...\n",
      "Processing triggers for libc-bin (2.31-0ubuntu9.9) ...\n",
      "Processing triggers for systemd (245.4-4ubuntu3.21) ...\n",
      "Processing triggers for man-db (2.9.1-1) ...\n",
      "Processing triggers for dbus (1.12.16-2ubuntu2.3) ...\n",
      "\n",
      "\u001B7\u001B[0;24r\u001B8\u001B[1A\u001B[J\u001B[33mWARNING: Running pip as the 'root' user can result in broken permissions and conflicting behaviour with the system package manager. It is recommended to use a virtual environment instead: https://pip.pypa.io/warnings/venv\u001B[0m\u001B[33m\n",
      "\u001B[0m"
     ]
    }
   ],
   "source": [
    "# install selenium\n",
    "!sudo apt install -y python3-selenium\n",
    "!pip install selenium == 3.141.0 > /dev/null"
   ]
  },
  {
   "cell_type": "code",
   "execution_count": 6,
   "metadata": {
    "execution": {
     "iopub.execute_input": "2023-06-25T07:39:49.945386Z",
     "iopub.status.busy": "2023-06-25T07:39:49.944838Z",
     "iopub.status.idle": "2023-06-25T07:39:51.093793Z",
     "shell.execute_reply": "2023-06-25T07:39:51.092503Z",
     "shell.execute_reply.started": "2023-06-25T07:39:49.945342Z"
    },
    "trusted": true
   },
   "outputs": [
    {
     "name": "stdout",
     "output_type": "stream",
     "text": [
      "Google Chrome 114.0.5735.133 \n"
     ]
    }
   ],
   "source": [
    "!google-chrome --version"
   ]
  },
  {
   "cell_type": "code",
   "execution_count": 7,
   "metadata": {
    "execution": {
     "iopub.execute_input": "2023-06-25T07:39:51.096538Z",
     "iopub.status.busy": "2023-06-25T07:39:51.096039Z",
     "iopub.status.idle": "2023-06-25T07:39:52.118024Z",
     "shell.execute_reply": "2023-06-25T07:39:52.116950Z",
     "shell.execute_reply.started": "2023-06-25T07:39:51.096495Z"
    },
    "trusted": true
   },
   "outputs": [
    {
     "name": "stdout",
     "output_type": "stream",
     "text": [
      "ChromeDriver 114.0.5735.90 (386bc09e8f4f2e025eddae123f36f6263096ae49-refs/branch-heads/5735@{#1052})\n"
     ]
    }
   ],
   "source": [
    "!chromedriver -v"
   ]
  },
  {
   "cell_type": "code",
   "execution_count": 107,
   "metadata": {
    "execution": {
     "iopub.execute_input": "2023-06-25T08:25:52.635285Z",
     "iopub.status.busy": "2023-06-25T08:25:52.634818Z",
     "iopub.status.idle": "2023-06-25T08:25:52.640236Z",
     "shell.execute_reply": "2023-06-25T08:25:52.639395Z",
     "shell.execute_reply.started": "2023-06-25T08:25:52.635248Z"
    },
    "trusted": true
   },
   "outputs": [],
   "source": [
    "from selenium.webdriver.chrome.options import Options\n",
    "from selenium.webdriver.chrome.service import Service\n",
    "from selenium import webdriver\n",
    "from selenium.webdriver.common.by import By\n",
    "from PIL import Image\n",
    "from selenium.webdriver.common.action_chains import ActionChains"
   ]
  },
  {
   "cell_type": "code",
   "execution_count": 108,
   "metadata": {
    "execution": {
     "iopub.execute_input": "2023-06-25T08:25:53.446868Z",
     "iopub.status.busy": "2023-06-25T08:25:53.446470Z",
     "iopub.status.idle": "2023-06-25T08:25:54.607580Z",
     "shell.execute_reply": "2023-06-25T08:25:54.606531Z",
     "shell.execute_reply.started": "2023-06-25T08:25:53.446836Z"
    },
    "trusted": true
   },
   "outputs": [],
   "source": [
    "chrome_options = webdriver.ChromeOptions()\n",
    "chrome_options.add_argument('--no-sandbox')\n",
    "chrome_options.add_argument('--headless')\n",
    "chrome_options.add_argument('--disable-gpu')\n",
    "chrome_options.add_argument('--disable-dev-shm-usage')\n",
    "chrome_options.add_argument(\"--window-size=1920,1080\")\n",
    "driver = webdriver.Chrome(options=chrome_options)"
   ]
  },
  {
   "cell_type": "code",
   "execution_count": 109,
   "metadata": {
    "execution": {
     "iopub.execute_input": "2023-06-25T08:25:55.728386Z",
     "iopub.status.busy": "2023-06-25T08:25:55.727230Z",
     "iopub.status.idle": "2023-06-25T08:25:55.734223Z",
     "shell.execute_reply": "2023-06-25T08:25:55.733192Z",
     "shell.execute_reply.started": "2023-06-25T08:25:55.728344Z"
    },
    "trusted": true
   },
   "outputs": [],
   "source": [
    "paper_urls = defaultdict(list)\n",
    "\n",
    "for writer in writers:\n",
    "    with open(f'/kaggle/working/HW3/{writer}.txt', \"r\") as f:\n",
    "        for url in f:\n",
    "            paper_urls[writer].append((url, None))"
   ]
  },
  {
   "cell_type": "code",
   "execution_count": 110,
   "metadata": {
    "execution": {
     "iopub.execute_input": "2023-06-25T08:25:56.646992Z",
     "iopub.status.busy": "2023-06-25T08:25:56.646009Z",
     "iopub.status.idle": "2023-06-25T08:25:56.653155Z",
     "shell.execute_reply": "2023-06-25T08:25:56.652025Z",
     "shell.execute_reply.started": "2023-06-25T08:25:56.646953Z"
    },
    "trusted": true
   },
   "outputs": [
    {
     "data": {
      "text/plain": [
       "('https://www.semanticscholar.org/paper/A-Hybrid-Deep-Learning-Architecture-for-Mobile-Osia-Shamsabadi/6f0685d61328f0f90972fe822258d574b74e9c7a\\n',\n",
       " None)"
      ]
     },
     "execution_count": 110,
     "metadata": {},
     "output_type": "execute_result"
    }
   ],
   "source": [
    "paper_urls[writers[0]][2]"
   ]
  },
  {
   "cell_type": "code",
   "execution_count": 111,
   "metadata": {
    "execution": {
     "iopub.execute_input": "2023-06-25T08:25:57.560039Z",
     "iopub.status.busy": "2023-06-25T08:25:57.559629Z",
     "iopub.status.idle": "2023-06-25T08:25:57.572377Z",
     "shell.execute_reply": "2023-06-25T08:25:57.571311Z",
     "shell.execute_reply.started": "2023-06-25T08:25:57.560008Z"
    },
    "trusted": true
   },
   "outputs": [],
   "source": [
    "def parese_one_paper(url):\n",
    "    driver.get(url)\n",
    "    title = driver.find_element(By.CSS_SELECTOR, \"h1[data-test-id='paper-detail-title']\").text\n",
    "    id_element = driver.find_elements(By.CSS_SELECTOR, \"li[data-test-id='corpus-id']\")\n",
    "    if id_element:\n",
    "        paper_id = id_element[0].text[len('Corpus ID: '):]\n",
    "    else:\n",
    "        paper_id = ''\n",
    "    expand_button = driver.find_elements(By.CSS_SELECTOR, \"button[data-test-id='text-truncator-toggle']\")\n",
    "    if expand_button:\n",
    "        expand_button[0].click()\n",
    "    abstract_element = driver.find_elements(By.CSS_SELECTOR, \".text-truncator.abstract__text.text--preline\")\n",
    "    if abstract_element:\n",
    "        abstract = abstract_element[0].text.rstrip(' \\nCollapse')\n",
    "    else:\n",
    "        abstract = ''\n",
    "    date = driver.find_element(By.CSS_SELECTOR, \"span[data-test-id='paper-year']\").text\n",
    "\n",
    "    expand_authors_button = driver.find_elements(By.CSS_SELECTOR, \"button[data-test-id='author-list-expand']\")\n",
    "    if expand_authors_button:\n",
    "        ActionChains(driver).move_to_element(expand_authors_button[0]).click().perform()\n",
    "    authors = [x.strip().rstrip(\" less\") for x in driver.find_element(By.CSS_SELECTOR, \".author-list\").text.split(',')]\n",
    "    citation_element = driver.find_elements(By.CSS_SELECTOR, \".scorecard-stat__headline__dark\")\n",
    "    if citation_element:\n",
    "        citation_count = citation_element[0].text.rstrip(' Citations')\n",
    "    else:\n",
    "        citation_count = ''\n",
    "    references_count = driver.find_element(By.XPATH, '''//*[@id=\"cited-papers\"]/div[1]/div/div/h2''').text.rstrip(\n",
    "        ' References')\n",
    "    references = driver.find_element(By.XPATH, '''//*[@id=\"cited-papers\"]/div[2]/div/div[1]''')\n",
    "    references_list = references.find_elements(By.CSS_SELECTOR, \".link-button--show-visited\")\n",
    "    reference_urls = []\n",
    "    for reference in references_list:\n",
    "        reference_urls.append(reference.get_attribute('href'))\n",
    "\n",
    "    related = driver.find_element(By.CSS_SELECTOR, \".flex-container.similar-papers__body\")\n",
    "    related_papers = related.find_elements(By.CSS_SELECTOR, '.cl-container')\n",
    "    print(related_papers, related)\n",
    "    related_urls = [element.get_attribute(\"href\") for element in related_papers]\n",
    "\n",
    "    paper_urls[writer] += [(x, paper_id) for x in reference_urls]\n",
    "    paper_data = {\n",
    "        'paper_id': paper_id,\n",
    "        'title': title,\n",
    "        'abstract': abstract,\n",
    "        'date': date,\n",
    "        'authors': authors,\n",
    "        'citation_count': citation_count,\n",
    "        'references_count': references_count,\n",
    "        'reference_ids': [],\n",
    "        'related_papers': related_urls\n",
    "    }\n",
    "    return paper_data"
   ]
  },
  {
   "cell_type": "code",
   "execution_count": 112,
   "metadata": {
    "execution": {
     "iopub.execute_input": "2023-06-25T08:25:58.594270Z",
     "iopub.status.busy": "2023-06-25T08:25:58.593790Z",
     "iopub.status.idle": "2023-06-25T08:26:19.062140Z",
     "shell.execute_reply": "2023-06-25T08:26:19.060482Z",
     "shell.execute_reply.started": "2023-06-25T08:25:58.594231Z"
    },
    "trusted": true
   },
   "outputs": [
    {
     "name": "stdout",
     "output_type": "stream",
     "text": [
      "Rabiee\n",
      "[] <selenium.webdriver.remote.webelement.WebElement (session=\"6bdda21d7deca9f4b2883b62872433da\", element=\"5FEE956F5BE9EA2D237D71387F6D5D59_element_68\")>\n",
      "{'paper_id': '9281781', 'title': 'Spatial-Aware Dictionary Learning for Hyperspectral Image Classification', 'abstract': 'This paper presents a structured dictionary-based model for hyperspectral data that incorporates both spectral and contextual characteristics of spectral samples. The idea is to partition the pixels of a hyperspectral image into a number of spatial neighborhoods called contextual groups and to model the pixels inside a group as members of a common subspace. That is, each pixel is represented using a linear combination of a few dictionary elements learned from the data, but since pixels inside a contextual group are often made up of the same materials, their linear combinations are constrained to use common elements from the dictionary. To this end, dictionary learning is carried out with a joint sparse regularizer to induce a common sparsity pattern in the sparse coefficients of a contextual group. The sparse coefficients are then used for classification using a linear support vector machine. Experimental results on a number of real hyperspectral images confirm the effectiveness of the proposed representation for hyperspectral image classification. Moreover, experiments with simulated multispectral data show that the proposed model is capable of finding representations that may effectively be used for classification of multispectral resolution samples.', 'date': '5 August 2013', 'authors': ['A. Soltani-Farani', 'H. Rabi', 'Seyyed Abbas Hosseini'], 'citation_count': '125', 'references_count': '67', 'reference_ids': [], 'related_papers': []}\n",
      "0\n"
     ]
    },
    {
     "ename": "KeyboardInterrupt",
     "evalue": "",
     "output_type": "error",
     "traceback": [
      "\u001B[0;31m---------------------------------------------------------------------------\u001B[0m",
      "\u001B[0;31mKeyboardInterrupt\u001B[0m                         Traceback (most recent call last)",
      "Cell \u001B[0;32mIn[112], line 12\u001B[0m\n\u001B[1;32m     10\u001B[0m     \u001B[38;5;28;01mbreak\u001B[39;00m\n\u001B[1;32m     11\u001B[0m \u001B[38;5;28;01mtry\u001B[39;00m:\n\u001B[0;32m---> 12\u001B[0m     \u001B[43mtime\u001B[49m\u001B[38;5;241;43m.\u001B[39;49m\u001B[43msleep\u001B[49m\u001B[43m(\u001B[49m\u001B[38;5;241;43m10\u001B[39;49m\u001B[43m)\u001B[49m\n\u001B[1;32m     13\u001B[0m     data \u001B[38;5;241m=\u001B[39m parese_one_paper(url)\n\u001B[1;32m     14\u001B[0m     \u001B[38;5;28mprint\u001B[39m(data)\n",
      "\u001B[0;31mKeyboardInterrupt\u001B[0m: "
     ]
    }
   ],
   "source": [
    "pp = pprint.PrettyPrinter(indent=4)\n",
    "\n",
    "c = 0\n",
    "for writer in writers:\n",
    "    crawled_datas = {}\n",
    "    print(writer)\n",
    "    c = 0\n",
    "    for url, father in paper_urls[writer][:2]:\n",
    "        if c >= 400:\n",
    "            break\n",
    "        try:\n",
    "            time.sleep(10)\n",
    "            data = parese_one_paper(url)\n",
    "            print(data)\n",
    "            crawled_datas[data['paper_id']] = data\n",
    "            if father:\n",
    "                crawled_datas[father]['reference_ids'].append(data['paper_id'])\n",
    "            if c % 20 == 0:\n",
    "                print(c)\n",
    "            c += 1\n",
    "        except Exception as e:\n",
    "            print(e, url)\n",
    "        with open(f\"crawled_paper_{writer}.json\", \"w\") as f:\n",
    "            json.dump(crawled_datas, f)"
   ]
  },
  {
   "cell_type": "code",
   "execution_count": null,
   "metadata": {
    "execution": {
     "iopub.status.busy": "2023-06-25T08:12:55.728806Z",
     "iopub.status.idle": "2023-06-25T08:12:55.729517Z",
     "shell.execute_reply": "2023-06-25T08:12:55.729328Z",
     "shell.execute_reply.started": "2023-06-25T08:12:55.729307Z"
    },
    "trusted": true
   },
   "outputs": [],
   "source": [
    "crawled_datas"
   ]
  },
  {
   "cell_type": "markdown",
   "metadata": {
    "pycharm": {
     "name": "#%% md\n"
    }
   },
   "source": [
    "<div dir=\"rtl\">\n",
    "<font face=\"XB Zar\" size=4>\n",
    "    <h1>\n",
    "    <b>PageRank \n",
    "        شخصی‌سازی‌شده\n",
    "        (۲۰ نمره)</b>\n",
    "    </h1>\n",
    "</font>\n",
    "    <br>\n",
    "<font face=\"XB Zar\" size=3>\n",
    "در این بخش، الگوریتم \n",
    "    PageRank \n",
    "    شخصی‌سازی‌شده را پیاده‌سازی می‌کنیم که توسعه‌ای از الگوریتم \n",
    "    PageRank\n",
    "    است که ترجیحات کاربر را در نظر می‌گیرد. الگوریتم \n",
    "    PageRank\n",
    "    شخصی‌سازی‌شده گره‌ها را در یک گراف بر اساس اهمیت آنها برای کاربر رتبه‌بندی می‌کند، نه بر اساس اهمیت کلی آنها در نمودار.\n",
    "    \n",
    "</font>\n",
    "</div>"
   ]
  },
  {
   "cell_type": "code",
   "execution_count": 116,
   "metadata": {
    "execution": {
     "iopub.execute_input": "2023-06-25T08:26:53.575910Z",
     "iopub.status.busy": "2023-06-25T08:26:53.575001Z",
     "iopub.status.idle": "2023-06-25T08:27:01.729204Z",
     "shell.execute_reply": "2023-06-25T08:27:01.728177Z",
     "shell.execute_reply.started": "2023-06-25T08:26:53.575868Z"
    },
    "trusted": true
   },
   "outputs": [
    {
     "data": {
      "text/plain": [
       "['/kaggle/working/crawled_data/crawled_paper_Kasaei.json',\n",
       " '/kaggle/working/crawled_data/crawled_paper_Rabiee.json',\n",
       " '/kaggle/working/crawled_data/crawled_paper_Rohban.json',\n",
       " '/kaggle/working/crawled_data/crawled_paper_Sharifi.json',\n",
       " '/kaggle/working/crawled_data/crawled_paper_Soleymani.json']"
      ]
     },
     "execution_count": 116,
     "metadata": {},
     "output_type": "execute_result"
    }
   ],
   "source": [
    "url = \"https://drive.google.com/drive/folders/1Kl_W1zhqfd1kNyKZ_NR5N9YK1gof6TXl\"\n",
    "gdown.download_folder(url, quiet=True)"
   ]
  },
  {
   "cell_type": "code",
   "execution_count": 117,
   "metadata": {
    "execution": {
     "iopub.execute_input": "2023-06-25T08:27:49.251271Z",
     "iopub.status.busy": "2023-06-25T08:27:49.250773Z",
     "iopub.status.idle": "2023-06-25T08:27:49.259332Z",
     "shell.execute_reply": "2023-06-25T08:27:49.258073Z",
     "shell.execute_reply.started": "2023-06-25T08:27:49.251235Z"
    },
    "trusted": true
   },
   "outputs": [],
   "source": [
    "def create_adjacency_matrix(nodes):\n",
    "    node_ids = set()\n",
    "    for node in nodes:\n",
    "        node_ids.add(nodes[node][\"paper_id\"])\n",
    "        node_ids.update(nodes[node][\"reference_ids\"])\n",
    "\n",
    "    id_to_index = {node_id: index for index, node_id in enumerate(node_ids)}\n",
    "\n",
    "    matrix_size = len(node_ids)\n",
    "    adjacency_matrix = [[0] * matrix_size for _ in range(matrix_size)]\n",
    "\n",
    "    for node in nodes:\n",
    "        n = len(nodes[node][\"reference_ids\"])\n",
    "        source_index = id_to_index[nodes[node][\"paper_id\"]]\n",
    "        for destination_id in nodes[node][\"reference_ids\"]:\n",
    "            destination_index = id_to_index[destination_id]\n",
    "            adjacency_matrix[source_index][destination_index] = 1 / n\n",
    "\n",
    "    return adjacency_matrix, id_to_index\n"
   ]
  },
  {
   "cell_type": "code",
   "execution_count": 118,
   "metadata": {
    "collapsed": false,
    "execution": {
     "iopub.execute_input": "2023-06-25T08:27:49.679680Z",
     "iopub.status.busy": "2023-06-25T08:27:49.679296Z",
     "iopub.status.idle": "2023-06-25T08:27:49.687953Z",
     "shell.execute_reply": "2023-06-25T08:27:49.686667Z",
     "shell.execute_reply.started": "2023-06-25T08:27:49.679651Z"
    },
    "jupyter": {
     "outputs_hidden": false
    },
    "pycharm": {
     "name": "#%%\n"
    },
    "trusted": true
   },
   "outputs": [],
   "source": [
    "from typing import Dict, List\n",
    "\n",
    "\n",
    "def pagerank(graph: Dict[str, List[str]]) -> Dict[str, float]:\n",
    "    \"\"\"\n",
    "    Returns the personalized PageRank scores for the nodes in the graph, given the user's preferences.\n",
    "\n",
    "    Parameters:\n",
    "    graph (Dict[str, List[str]]): The graph represented as a dictionary of node IDs and their outgoing edges.\n",
    "    \n",
    "    Returns:\n",
    "    Dict[str, float]: A dictionary of node IDs and their personalized PageRank scores.\n",
    "    \"\"\"\n",
    "    adjacency_matrix, id_to_index = create_adjacency_matrix(graph)\n",
    "    adjacency_matrix = np.array(adjacency_matrix)\n",
    "    P = 0.9 * adjacency_matrix + 0.1 * (1 / len(graph))\n",
    "    w, vl = linalg.eig(P)\n",
    "    largest_eigenvector = vl[:, np.argmax(w)]\n",
    "    index_to_id = {v: k for k, v in id_to_index.items()}\n",
    "    result = {index_to_id[i]: v for i, v in enumerate(largest_eigenvector)}\n",
    "    result = {k: v for k, v in sorted(result.items(), key=lambda item: item[1], reverse=True)}\n",
    "\n",
    "    return result"
   ]
  },
  {
   "cell_type": "markdown",
   "metadata": {
    "pycharm": {
     "name": "#%% md\n"
    }
   },
   "source": [
    "<div dir=\"rtl\">\n",
    "<font face=\"XB Zar\" size=3>\n",
    "در این بخش از الگوریتم \n",
    "PageRank\n",
    "شخصی‌سازی‌شده که در قسمت قبلی پیاده‌سازی شده‌است برای\n",
    "شناسایی مقالات مهم مرتبط با حوزه‌ی کاری یک استاد \n",
    "خاص استفاده می‌کنیم. این تابع، یک \n",
    "    field \n",
    "    را به عنوان ورودی دریافت می‌کند. خروجی نیز\n",
    "مقالات برتری که بیشترین ارتباط را با آن زمینه دارند؛ خواهدبود.\n",
    "</font>\n",
    "</div>"
   ]
  },
  {
   "cell_type": "code",
   "execution_count": 119,
   "metadata": {
    "collapsed": false,
    "execution": {
     "iopub.execute_input": "2023-06-25T08:27:50.600912Z",
     "iopub.status.busy": "2023-06-25T08:27:50.600519Z",
     "iopub.status.idle": "2023-06-25T08:27:50.607298Z",
     "shell.execute_reply": "2023-06-25T08:27:50.606201Z",
     "shell.execute_reply.started": "2023-06-25T08:27:50.600882Z"
    },
    "jupyter": {
     "outputs_hidden": false
    },
    "pycharm": {
     "name": "#%%\n"
    },
    "trusted": true
   },
   "outputs": [],
   "source": [
    "from itertools import islice\n",
    "\n",
    "\n",
    "def important_articles(Professor: str) -> List[str]:\n",
    "    \"\"\"\n",
    "    Returns the most important articles in the field of given professor, based on the personalized PageRank scores.\n",
    "\n",
    "    Parameters:\n",
    "    Professor (str): Professor's name.\n",
    "\n",
    "    Returns:\n",
    "    List[str]: A list of article IDs representing the most important articles in the field of given professor.\n",
    "    \"\"\"\n",
    "    with open(f'/kaggle/working/crawled_data/crawled_paper_{Professor}.json') as f:\n",
    "        papers = json.load(f)\n",
    "        pr = pagerank(papers)\n",
    "        return [{k, pr[k]} for k in list(pr.keys())[:10]]"
   ]
  },
  {
   "cell_type": "code",
   "execution_count": 120,
   "metadata": {
    "execution": {
     "iopub.execute_input": "2023-06-25T08:27:51.187204Z",
     "iopub.status.busy": "2023-06-25T08:27:51.186190Z",
     "iopub.status.idle": "2023-06-25T08:27:51.293861Z",
     "shell.execute_reply": "2023-06-25T08:27:51.292836Z",
     "shell.execute_reply.started": "2023-06-25T08:27:51.187160Z"
    },
    "trusted": true
   },
   "outputs": [
    {
     "data": {
      "text/plain": [
       "[{(0.48942785616762513+0j), '235097481'},\n",
       " {(0.39035063714938384+0j), '196551931'},\n",
       " {(0.3463515941009826+0j), '232145932'},\n",
       " {(0.32094358432282194+0j), '231972684'},\n",
       " {(0.16781462092956187+0j), '202539519'},\n",
       " {(0.14983619469015136+0j), '174800445'},\n",
       " {(0.14983619469015122+0j), '205330797'},\n",
       " {(0.1449474121292178+0j), '5458500'},\n",
       " {(0.14494741212921777+0j), '3361768'},\n",
       " {(0.10094836908081735+0j), '16267073'}]"
      ]
     },
     "execution_count": 120,
     "metadata": {},
     "output_type": "execute_result"
    }
   ],
   "source": [
    "important_articles('Soleymani')"
   ]
  },
  {
   "cell_type": "markdown",
   "metadata": {
    "pycharm": {
     "name": "#%% md\n"
    }
   },
   "source": [
    "<div dir=\"rtl\">\n",
    "<font face=\"XB Zar\" size=4>\n",
    "    <h1>\n",
    "    <b>جستجو شخصی‌سازی‌شده (۱۰ نمره)</b>\n",
    "    </h1>\n",
    "</font>\n",
    "    <br>\n",
    "<font face=\"XB Zar\" size=3>\n",
    "الگوریتم جست‌و‌جویی که در فازهای گذشته پیاده‌سازی کرده‌اید را به گونه‌ای تغییر دهید که نتایج به دست آمده جست‌و‌جو بر حسب علایق فرد مرتب شوند. از قضیه‌ی خطی بودن برای این کار استفاده کنید.\n",
    "    \n",
    "</font>\n",
    "</div>"
   ]
  },
  {
   "cell_type": "code",
   "execution_count": 1,
   "metadata": {
    "ExecuteTime": {
     "end_time": "2023-06-26T07:24:27.690509017Z",
     "start_time": "2023-06-26T07:24:25.181060226Z"
    },
    "collapsed": false
   },
   "outputs": [
    {
     "name": "stderr",
     "output_type": "stream",
     "text": [
      "[nltk_data] Downloading package punkt to /home/solale/nltk_data...\n",
      "[nltk_data]   Package punkt is already up-to-date!\n",
      "[nltk_data] Downloading package wordnet to /home/solale/nltk_data...\n",
      "[nltk_data]   Package wordnet is already up-to-date!\n",
      "[nltk_data] Downloading package omw-1.4 to /home/solale/nltk_data...\n",
      "[nltk_data]   Package omw-1.4 is already up-to-date!\n",
      "[nltk_data] Downloading package averaged_perceptron_tagger to\n",
      "[nltk_data]     /home/solale/nltk_data...\n",
      "[nltk_data]   Package averaged_perceptron_tagger is already up-to-\n",
      "[nltk_data]       date!\n"
     ]
    }
   ],
   "source": [
    "from phase1 import *\n",
    "from ast import literal_eval"
   ]
  },
  {
   "cell_type": "code",
   "execution_count": 2,
   "metadata": {
    "ExecuteTime": {
     "end_time": "2023-06-26T07:32:26.025381063Z",
     "start_time": "2023-06-26T07:32:25.994898571Z"
    },
    "collapsed": false
   },
   "outputs": [],
   "source": [
    "def create_writer_df(writer_papers):\n",
    "    for p in writer_papers:\n",
    "        writer_papers[p]['title'] = clean_data(writer_papers[p]['title'])\n",
    "        writer_papers[p]['abstract'] = clean_data(writer_papers[p]['abstract'])\n",
    "\n",
    "    df = pd.DataFrame([{k: v[k] for k in ['title', 'abstract', 'paper_id']} for p, v in writer_papers.items()])\n",
    "    return df"
   ]
  },
  {
   "cell_type": "code",
   "execution_count": 11,
   "metadata": {
    "ExecuteTime": {
     "end_time": "2023-06-26T07:47:15.902321790Z",
     "start_time": "2023-06-26T07:46:50.231873702Z"
    },
    "collapsed": false
   },
   "outputs": [],
   "source": [
    "datasets = {}\n",
    "for writer in writers:\n",
    "    with open(f'./crawled_data/crawled_paper_{writer}.json', 'r') as f:\n",
    "        papers = json.load(f)\n",
    "        df = create_writer_df(papers)\n",
    "        datasets[writer] = df"
   ]
  },
  {
   "cell_type": "code",
   "execution_count": 12,
   "metadata": {
    "ExecuteTime": {
     "end_time": "2023-06-26T07:47:15.986343165Z",
     "start_time": "2023-06-26T07:47:15.943785103Z"
    },
    "collapsed": false
   },
   "outputs": [
    {
     "data": {
      "text/html": [
       "<div>\n",
       "<style scoped>\n",
       "    .dataframe tbody tr th:only-of-type {\n",
       "        vertical-align: middle;\n",
       "    }\n",
       "\n",
       "    .dataframe tbody tr th {\n",
       "        vertical-align: top;\n",
       "    }\n",
       "\n",
       "    .dataframe thead th {\n",
       "        text-align: right;\n",
       "    }\n",
       "</style>\n",
       "<table border=\"1\" class=\"dataframe\">\n",
       "  <thead>\n",
       "    <tr style=\"text-align: right;\">\n",
       "      <th></th>\n",
       "      <th>title</th>\n",
       "      <th>abstract</th>\n",
       "      <th>paper_id</th>\n",
       "    </tr>\n",
       "  </thead>\n",
       "  <tbody>\n",
       "    <tr>\n",
       "      <th>0</th>\n",
       "      <td>[spatial, aware, dictionary, learn, for, hyper...</td>\n",
       "      <td>[this, paper, present, a, structure, dictionar...</td>\n",
       "      <td>9281781</td>\n",
       "    </tr>\n",
       "    <tr>\n",
       "      <th>1</th>\n",
       "      <td>[multiresolution, knowledge, distillation, for...</td>\n",
       "      <td>[unsupervised, representation, learn, have, pr...</td>\n",
       "      <td>227126845</td>\n",
       "    </tr>\n",
       "    <tr>\n",
       "      <th>2</th>\n",
       "      <td>[a, hybrid, deep, learn, architecture, for, pr...</td>\n",
       "      <td>[internet, of, thing, iot, device, and, applic...</td>\n",
       "      <td>4909695</td>\n",
       "    </tr>\n",
       "    <tr>\n",
       "      <th>3</th>\n",
       "      <td>[novel, dataset, for, fine, grain, abnormal, b...</td>\n",
       "      <td>[despite, the, huge, research, on, crowd, on, ...</td>\n",
       "      <td>34979781</td>\n",
       "    </tr>\n",
       "    <tr>\n",
       "      <th>4</th>\n",
       "      <td>[deep, private, feature, extraction]</td>\n",
       "      <td>[we, present, and, evaluate, deep, private, fe...</td>\n",
       "      <td>11527748</td>\n",
       "    </tr>\n",
       "  </tbody>\n",
       "</table>\n",
       "</div>"
      ],
      "text/plain": [
       "                                               title  \\\n",
       "0  [spatial, aware, dictionary, learn, for, hyper...   \n",
       "1  [multiresolution, knowledge, distillation, for...   \n",
       "2  [a, hybrid, deep, learn, architecture, for, pr...   \n",
       "3  [novel, dataset, for, fine, grain, abnormal, b...   \n",
       "4               [deep, private, feature, extraction]   \n",
       "\n",
       "                                            abstract   paper_id  \n",
       "0  [this, paper, present, a, structure, dictionar...    9281781  \n",
       "1  [unsupervised, representation, learn, have, pr...  227126845  \n",
       "2  [internet, of, thing, iot, device, and, applic...    4909695  \n",
       "3  [despite, the, huge, research, on, crowd, on, ...   34979781  \n",
       "4  [we, present, and, evaluate, deep, private, fe...   11527748  "
      ]
     },
     "execution_count": 12,
     "metadata": {},
     "output_type": "execute_result"
    }
   ],
   "source": [
    "datasets[writers[0]].head()"
   ]
  },
  {
   "cell_type": "code",
   "execution_count": 13,
   "metadata": {
    "ExecuteTime": {
     "end_time": "2023-06-26T07:47:16.688225375Z",
     "start_time": "2023-06-26T07:47:15.944317236Z"
    },
    "collapsed": false
   },
   "outputs": [],
   "source": [
    "stop_words = find_stop_words(\n",
    "    [' '.join(item) for item in [[' '.join(item) for item in list(datasets[x].abstract)] for x in datasets]])\n",
    "stop_words_list = [x[0] for x in stop_words]"
   ]
  },
  {
   "cell_type": "code",
   "execution_count": 30,
   "metadata": {
    "ExecuteTime": {
     "end_time": "2023-06-26T07:47:16.707297846Z",
     "start_time": "2023-06-26T07:47:16.671831636Z"
    },
    "collapsed": false
   },
   "outputs": [],
   "source": [
    "all_positional_index = {}\n",
    "all_doc_dicts = {}\n",
    "all_tf_docs = {}\n",
    "all_idf_dicts = {}\n",
    "all_okapi_idf = {}\n",
    "\n",
    "for writer in writers:\n",
    "    doc_dict = create_paper_id_map(df=df, stop_words_list=stop_words_list)\n",
    "    all_doc_dicts[writer] = doc_dict\n",
    "    \n",
    "    positional_index = construct_positional_indexes(doc_dict=doc_dict)\n",
    "    all_positional_index[writer] = positional_index\n",
    "    \n",
    "    tf_doc = compute_tf(doc_dict)\n",
    "    all_tf_docs[writer] = tf_doc\n",
    "\n",
    "    idf_dict = compute_idf(positional_index, N=len(doc_dict))\n",
    "    all_idf_dicts[writer] = idf_dict\n",
    "\n",
    "    okapi_idf = compute_idf_okapi(positional_index, N=len(doc_dict))\n",
    "    all_okapi_idf[writer] = okapi_idf"
   ]
  },
  {
   "cell_type": "code",
   "execution_count": null,
   "metadata": {
    "collapsed": false,
    "jupyter": {
     "outputs_hidden": false
    },
    "pycharm": {
     "name": "#%%\n"
    }
   },
   "outputs": [],
   "source": [
    "from typing import List, Tuple\n",
    "\n",
    "\n",
    "def search(title_query: str, abstract_query: str, max_result_count: int, method: str = 'ltn-lnn', weight: float = 0.5,\n",
    "           print=False, preferred_field: str = None):\n",
    "    \"\"\"\n",
    "        Finds relevant documents to query\n",
    "        \n",
    "        Parameters\n",
    "        ---------------------------------------------------------------------------------------------------\n",
    "        max_result_count: Return top 'max_result_count' docs which have the highest scores. \n",
    "                          notice that if max_result_count = -1, then you have to return all docs\n",
    "        \n",
    "        mode: 'detailed' for searching in title and text separately.\n",
    "              'overall' for all words, and weighted by where the word appears on.\n",
    "        \n",
    "        where: when mode ='detailed', when we want search query \n",
    "                in title or text not both of them at the same time.\n",
    "        \n",
    "        method: 'ltn-lnn' or 'ltc-lnc' or 'okapi25'\n",
    "        \n",
    "        preferred_field: A list containing preference rate to Dr. Rabiee, Dr. Soleymani, Dr. Rohban, \n",
    "                         Dr. Kasaei, and Dr. Sharifi's papers, respectively.\n",
    "\n",
    "        Returns\n",
    "        ----------------------------------------------------------------------------------------------------\n",
    "        list\n",
    "        Retrieved documents with snippet\n",
    "    \"\"\"\n",
    "    # TODO: return top 'max_result_count' documents for your searched query\n",
    "    result = [\"a72d6bd0b6d9b7aee66e91253bc6c6de37fa4e6a\"]\n",
    "\n",
    "    return result\n"
   ]
  },
  {
   "cell_type": "markdown",
   "metadata": {
    "pycharm": {
     "name": "#%% md\n"
    }
   },
   "source": [
    "<div dir=\"rtl\" style=\"text-align: justify\">\n",
    "<font face=\"XB Zar\" size=4>\n",
    "    <h1>\n",
    "    <b>رتبه‌بندی نویسندگان (۲۵ نمره)</b>\n",
    "    </h1>\n",
    "</font>\n",
    "    <br>\n",
    "<font face=\"XB Zar\" size=3>  \n",
    "    برای رتبه‌بندی نویسندگان، مفهوم ارجاع نویسندگان به یکدیگر مطرح می‌شود. زمانی که نویسنده A در مقاله خود به مقاله P که نویسنده B جزو نویسندگان آن مقاله یعنی مقاله P می‌باشد، ارجاع دهد، می‌گوییم که نویسنده A به نویسنده B ارجاع داده است. با توجه به این رابطه، می‌توان گراف ارجاعات بین نویسندگان را ایجاد و سپس با استفاده از الگوریتم HITS\n",
    "نویسندگان را رتبه‌بندی کرد. برای رتبه‌بندی نیاز است تا از شاخص‌های hub و authority استفاده کنیم.\n",
    "\n",
    "\n",
    "</font>\n",
    "</div>"
   ]
  },
  {
   "cell_type": "code",
   "execution_count": null,
   "metadata": {
    "collapsed": false
   },
   "outputs": [],
   "source": [
    "crawled_papers = {}\n",
    "for writer in writers:\n",
    "    with open(f'/kaggle/working/crawled_data/crawled_paper_{writer}.json', \"r\") as f:\n",
    "        crawled_papers = dict(crawled_papers, **json.load(f))  #%% raw\n",
    "< div\n",
    "style = \"direction:rtl;line-height:300%;\" >\n",
    "< font\n",
    "face = \"XB Zar\"\n",
    "size = 5 >\n",
    "< div\n",
    "align = center >\n",
    "< font\n",
    "face = \"B Titr\"\n",
    "size = 5 >\n",
    "< p > </p > < p > < /p >\n",
    "بسمه\n",
    "تعالی\n",
    "< p > </p >\n",
    "< /font >\n",
    "< p > </p >\n",
    "< font >\n",
    "< br >\n",
    "درس\n",
    "بازیابی\n",
    "پیشرفته\n",
    "اطلاعات\n",
    "< br >\n",
    "مدرس: دکتر\n",
    "سلیمانی\n",
    "< /font >\n",
    "< p > </p >\n",
    "< br >\n",
    "< font >\n",
    "< b > فاز\n",
    "سوم\n",
    "پروژه </b >\n",
    "< /font >\n",
    "< br >\n",
    "< br >\n",
    "موعد\n",
    "تحویل: ساعت ۶ صبح ۸ تیر < br >\n",
    "< br >\n",
    "< br >\n",
    "< br >\n",
    "< font >\n",
    "دانشگاه\n",
    "صنعتی\n",
    "شریف\n",
    "< br >\n",
    "دانشکده\n",
    "مهندسی\n",
    "کامپیوتر\n",
    "< br >\n",
    "< br >\n",
    "< /font >\n",
    "< /div >\n",
    "< /font >\n",
    "< /div >"
   ]
  },
  {
   "cell_type": "markdown",
   "metadata": {
    "collapsed": false
   },
   "source": [
    "<div dir=\"rtl\">\n",
    "<font face=\"XB Zar\" size=5>\n",
    "    <h1>\n",
    "    <b>مقدمه</b>\n",
    "    </h1>\n",
    "    <p></p>\n",
    "    <p></p>\n",
    "</font>\n",
    "<font face=\"XB Zar\" size=3>\n",
    "     <br>\n",
    "    در این فاز از پروژه، تمرکز ما بر\n",
    "    crawling\n",
    "    و تحلیل مقالات استخراج‌شده از اینترنت خواهد بود. ما با بررسی تکنیک های مختلف\n",
    "    web crawling\n",
    "    برای استخراج مقالات و سایر اطلاعات مرتبط از وب شروع خواهیم کرد.\n",
    "    <br>\n",
    "    در مرحله بعد، الگوریتم های تجزیه و تحلیل  لینک مانند\n",
    "    PageRank\n",
    "    و\n",
    "    HITS\n",
    "    را برای تعیین اهمیت این مقالات بر اساس نقل قول‌ها، ارجاعات یا اشکال دیگر پیوندها اعمال خواهیم‌کرد. ما همچنین یاد خواهیم‌گرفت که چگونه یک الگوریتم\n",
    "    PageRank\n",
    "    شخصی‌سازی‌شده را پیاده‌سازی کنیم که ترجیحات کاربر را برای ارائه نتایج مرتبط تر در نظر می‌گیرد.\n",
    "    <br>\n",
    "    در بخش سوم این مرحله، یک موتور جستجوی شخصی‌سازی شده را پیاده‌سازی میکنیم و یاد می‌گیریم که چگونه موتور جستجویی بسازیم که نتایجی را بر اساس ترجیحات کاربر ارائه دهد.\n",
    "    <br>\n",
    "در نهایت، ما یک\n",
    "    task\n",
    "     در مورد\n",
    "    recommendation system\n",
    "    ها خواهیم‌داشت، که در آن از تکنیک های مختلف برای توصیه مقالات یا صفحات وب به کاربران بر اساس ترجیحات و رفتار آنها استفاده خواهیم کرد.\n",
    "    <br>\n",
    "     تنها زبان قابل قبول برای پروژه پایتون است. محدودیت استفاده از کتاب‌خانه‌های آماده در هر بخش مشخص شده است. در انتهای پروژه قرار است یک سیستم یکپارچه‌ی جست‌و‌جو داشته باشید، بنابراین به پیاده‌سازی هر چه بهتر این فاز توجه داشته باشید.\n",
    "</font>\n",
    "</div>\n"
   ]
  },
  {
   "cell_type": "markdown",
   "metadata": {
    "collapsed": false
   },
   "source": [
    "<div dir=\"rtl\">\n",
    "<font face=\"XB Zar\" size=4>\n",
    "    <h1>\n",
    "    <b>پیاده‌سازی Crawler (۴۰ نمره)</b>\n",
    "    </h1>\n",
    "</font>\n",
    "    <br>\n",
    "\n",
    "<font face=\"XB Zar\" size=3>\n",
    "   در این بخش باید یک Crawler\n",
    "    برای واکشی اطلاعات تعدادی مقاله از سایت <a href=\"https://www.semanticscholar.org/\">Semantic Scholar</a> پیاده سازی کنید.\n",
    "   اطلاعات واکشی شده باید حاوی موارد زیر باشد.\n",
    "</font>\n",
    "</div>\n",
    "<br>\n",
    "<table dir=\"ltr\" style=\"width: 100%; border-collapse: collapse;\">\n",
    "  <tr>\n",
    "    <th style=\"padding: 8px; text-align: justify; border: 1px solid black;\">ID</th>\n",
    "    <th style=\"padding: 8px; text-align: justify; border: 1px solid black;\">Title</th>\n",
    "    <th style=\"padding: 8px; text-align: justify; border: 1px solid black;\">Abstract</th>\n",
    "    <th style=\"padding: 8px; text-align: justify; border: 1px solid black;\">Publication Year</th>\n",
    "    <th style=\"padding: 8px; text-align: justify; border: 1px solid black;\">Authors</th>\n",
    "    <th style=\"padding: 8px; text-align: justify; border: 1px solid black;\">Related Topics</th>\n",
    "    <th style=\"padding: 8px; text-align: justify; border: 1px solid black;\">Citation Count</th>\n",
    "    <th style=\"padding: 8px; text-align: justify; border: 1px solid black;\">Reference Count</th>\n",
    "    <th style=\"padding: 8px; text-align: justify; border: 1px solid black;\">References</th>\n",
    "  </tr>\n",
    "  <tr>\n",
    "    <td style=\"padding: 8px; text-align: justify; border: 1px solid black;\">Unique ID of the paper</td>\n",
    "    <td style=\"padding: 8px; text-align: justify; border: 1px solid black;\">Title of the paper</td>\n",
    "    <td style=\"padding: 8px; text-align: justify; border: 1px solid black;\">Abstract of the paper</td>\n",
    "    <td style=\"padding: 8px; text-align: justify; border: 1px solid black;\">Publication year</td>\n",
    "    <td style=\"padding: 8px; text-align: justify; border: 1px solid black;\">Name of the first author, ..., Name of the last author</td>\n",
    "    <td style=\"padding: 8px; text-align: justify; border: 1px solid black;\">topic1, topic2, ...</td>\n",
    "    <td style=\"padding: 8px; text-align: justify; border: 1px solid black;\">number of citations of the paper</td>\n",
    "    <td style=\"padding: 8px; text-align: justify; border: 1px solid black;\">number of references of the paper</td>\n",
    "    <td style=\"padding: 8px; text-align: justify; border: 1px solid black;\">ID of the first reference, ..., ID of the tenth reference</td>\n",
    "  </tr>\n",
    "</table>\n",
    "    <br>"
   ]
  },
  {
   "cell_type": "code",
   "execution_count": null,
   "metadata": {
    "collapsed": false
   },
   "outputs": [],
   "source": [
    "!pip install gdown"
   ]
  },
  {
   "cell_type": "code",
   "execution_count": null,
   "metadata": {
    "collapsed": false
   },
   "outputs": [],
   "source": [
    "import time\n",
    "import pprint\n",
    "import json\n",
    "from collections import defaultdict\n",
    "from scipy import linalg\n",
    "import numpy as np\n",
    "import pandas as pd"
   ]
  },
  {
   "cell_type": "code",
   "execution_count": null,
   "metadata": {
    "collapsed": false
   },
   "outputs": [],
   "source": [
    "writers = ['Rabiee', 'Rohban', 'Sharifi', 'Soleymani', 'Kasaei']"
   ]
  },
  {
   "cell_type": "code",
   "execution_count": null,
   "metadata": {
    "collapsed": false
   },
   "outputs": [],
   "source": [
    "import gdown"
   ]
  },
  {
   "cell_type": "code",
   "execution_count": null,
   "metadata": {
    "collapsed": false
   },
   "outputs": [],
   "source": [
    "url = 'https://drive.google.com/drive/folders/1arkiPq89oR9iaQEHaECKKUmqAmwa5IaN?usp=sharing'\n",
    "gdown.download_folder(url, quiet=True)"
   ]
  },
  {
   "cell_type": "markdown",
   "metadata": {
    "collapsed": false
   },
   "source": [
    "<div dir=\"rtl\">\n",
    "\n",
    "<font face=\"XB Zar\" size=3>\n",
    "  ابتدا فرایند واکشی را از ۵ مقاله‌ی هر استاد شروع کنید و\n",
    "    ۱۰\n",
    "    مرجع اول هر مقاله را به صف مقالات اضافه کنید.\n",
    "    فرایند واکشی را نا جایی ادامه دهید که اطلاعات ۲۰۰۰ مقاله را داشته باشید.\n",
    "    اطلاعات مقالات را در فایل crawled_paper_profName.json ذخیره کنید.\n",
    "</font>\n",
    "</div>\n",
    "\n",
    "<div dir=\"rtl\">\n",
    "\n",
    "<font face=\"XB Zar\" size=3>\n",
    "  در پیاده سازی Crawler به موارد زیر دقت کنید.\n",
    "\n",
    "\n",
    "<ul>\n",
    "<li>حق استفاده از api سایت semantic scholar را ندارید.</li>\n",
    "<li>برای واکشی می‌توانید از پکیج‌هایی مثل <a href=\"https://www.selenium.dev/selenium/docs/api/py/\">Selenium</a> و یا <a href=\"https://github.com/scrapy/scrapy\">Scrapy</a>  استفاده کنید. استفاده از پکیج‌های دیگر نیز مجاز است. همچنین برای پارس اطلاعات واکشی شده می‌توانید از پکیج <a href=\"https://pypi.org/project/beautifulsoup4/\">Beautiful Soup</a> استفاده کنید.\n",
    "</li>\n",
    "<li>بین هر بار درخواست از سایت یک فاصله چند ثانیه‌ای بدهید.</li>\n",
    "<li>در زمان تحویل کد Crawler شما اجرا خواهد شد و صحت آن بررسی خواهد شد.</li>\n",
    "<li>در صورتی که ‌Crawler شما به دچار اروری مثل request timeout شد نباید کار خود را متوقف کند.</li>\n",
    "</ul>\n",
    "\n",
    "\n",
    "</font>\n",
    "</div>"
   ]
  },
  {
   "cell_type": "code",
   "execution_count": null,
   "metadata": {
    "collapsed": false
   },
   "outputs": [],
   "source": [
    "!wget https: // dl.google.com/linux/linux_signing_key.pub\n",
    "!sudo apt-key add linux_signing_key.pub\n",
    "!echo 'deb [arch=amd64] http://dl.google.com/linux/chrome/deb/ stable main' >> /etc/apt/sources.list.d/google-chrome.list\n",
    "!sudo apt-get -y update\n",
    "!sudo apt-get install -y google-chrome-stable"
   ]
  },
  {
   "cell_type": "code",
   "execution_count": null,
   "metadata": {
    "collapsed": false
   },
   "outputs": [],
   "source": [
    "# install chromedriver\n",
    "# !apt-get install -y qq unzip\n",
    "!wget -O/tmp/chromedriver.zip http: // chromedriver.storage.googleapis.com/ `curl -sS chromedriver.storage.googleapis.com/LATEST_RELEASE` /chromedriver_linux64.zip\n",
    "!unzip/tmp/chromedriver.zip chromedriver -d/usr/local/bin/"
   ]
  },
  {
   "cell_type": "code",
   "execution_count": null,
   "metadata": {
    "collapsed": false
   },
   "outputs": [],
   "source": [
    "# install selenium\n",
    "!sudo apt install -y python3-selenium\n",
    "!pip install selenium == 3.141.0 > /dev/null"
   ]
  },
  {
   "cell_type": "code",
   "execution_count": null,
   "metadata": {
    "collapsed": false
   },
   "outputs": [],
   "source": [
    "!google-chrome --version"
   ]
  },
  {
   "cell_type": "code",
   "execution_count": null,
   "metadata": {
    "collapsed": false
   },
   "outputs": [],
   "source": [
    "!chromedriver -v"
   ]
  },
  {
   "cell_type": "code",
   "execution_count": null,
   "metadata": {
    "collapsed": false
   },
   "outputs": [],
   "source": [
    "from selenium.webdriver.chrome.options import Options\n",
    "from selenium.webdriver.chrome.service import Service\n",
    "from selenium import webdriver\n",
    "from selenium.webdriver.common.by import By\n",
    "from PIL import Image\n",
    "from selenium.webdriver.common.action_chains import ActionChains"
   ]
  },
  {
   "cell_type": "code",
   "execution_count": null,
   "metadata": {
    "collapsed": false
   },
   "outputs": [],
   "source": [
    "chrome_options = webdriver.ChromeOptions()\n",
    "chrome_options.add_argument('--no-sandbox')\n",
    "chrome_options.add_argument('--headless')\n",
    "chrome_options.add_argument('--disable-gpu')\n",
    "chrome_options.add_argument('--disable-dev-shm-usage')\n",
    "chrome_options.add_argument(\"--window-size=1920,1080\")\n",
    "driver = webdriver.Chrome(options=chrome_options)"
   ]
  },
  {
   "cell_type": "code",
   "execution_count": null,
   "metadata": {
    "collapsed": false
   },
   "outputs": [],
   "source": [
    "paper_urls = defaultdict(list)\n",
    "\n",
    "for writer in writers:\n",
    "    with open(f'/kaggle/working/HW3/{writer}.txt', \"r\") as f:\n",
    "        for url in f:\n",
    "            paper_urls[writer].append((url, None))"
   ]
  },
  {
   "cell_type": "code",
   "execution_count": null,
   "metadata": {
    "collapsed": false
   },
   "outputs": [],
   "source": [
    "paper_urls[writers[0]][2]"
   ]
  },
  {
   "cell_type": "code",
   "execution_count": null,
   "metadata": {
    "collapsed": false
   },
   "outputs": [],
   "source": [
    "def parese_one_paper(url):\n",
    "    driver.get(url)\n",
    "    title = driver.find_element(By.CSS_SELECTOR, \"h1[data-test-id='paper-detail-title']\").text\n",
    "    id_element = driver.find_elements(By.CSS_SELECTOR, \"li[data-test-id='corpus-id']\")\n",
    "    if id_element:\n",
    "        paper_id = id_element[0].text[len('Corpus ID: '):]\n",
    "    else:\n",
    "        paper_id = ''\n",
    "    expand_button = driver.find_elements(By.CSS_SELECTOR, \"button[data-test-id='text-truncator-toggle']\")\n",
    "    if expand_button:\n",
    "        expand_button[0].click()\n",
    "    abstract_element = driver.find_elements(By.CSS_SELECTOR, \".text-truncator.abstract__text.text--preline\")\n",
    "    if abstract_element:\n",
    "        abstract = abstract_element[0].text.rstrip(' \\nCollapse')\n",
    "    else:\n",
    "        abstract = ''\n",
    "    date = driver.find_element(By.CSS_SELECTOR, \"span[data-test-id='paper-year']\").text\n",
    "\n",
    "    expand_authors_button = driver.find_elements(By.CSS_SELECTOR, \"button[data-test-id='author-list-expand']\")\n",
    "    if expand_authors_button:\n",
    "        ActionChains(driver).move_to_element(expand_authors_button[0]).click().perform()\n",
    "    authors = [x.strip().rstrip(\" less\") for x in driver.find_element(By.CSS_SELECTOR, \".author-list\").text.split(',')]\n",
    "    citation_element = driver.find_elements(By.CSS_SELECTOR, \".scorecard-stat__headline__dark\")\n",
    "    if citation_element:\n",
    "        citation_count = citation_element[0].text.rstrip(' Citations')\n",
    "    else:\n",
    "        citation_count = ''\n",
    "    references_count = driver.find_element(By.XPATH, '''//*[@id=\"cited-papers\"]/div[1]/div/div/h2''').text.rstrip(\n",
    "        ' References')\n",
    "    references = driver.find_element(By.XPATH, '''//*[@id=\"cited-papers\"]/div[2]/div/div[1]''')\n",
    "    references_list = references.find_elements(By.CSS_SELECTOR, \".link-button--show-visited\")\n",
    "    reference_urls = []\n",
    "    for reference in references_list:\n",
    "        reference_urls.append(reference.get_attribute('href'))\n",
    "\n",
    "    related = driver.find_element(By.CSS_SELECTOR, \".flex-container.similar-papers__body\")\n",
    "    related_papers = related.find_elements(By.CSS_SELECTOR, '.cl-container')\n",
    "    print(related_papers, related)\n",
    "    related_urls = [element.get_attribute(\"href\") for element in related_papers]\n",
    "\n",
    "    paper_urls[writer] += [(x, paper_id) for x in reference_urls]\n",
    "    paper_data = {\n",
    "        'paper_id': paper_id,\n",
    "        'title': title,\n",
    "        'abstract': abstract,\n",
    "        'date': date,\n",
    "        'authors': authors,\n",
    "        'citation_count': citation_count,\n",
    "        'references_count': references_count,\n",
    "        'reference_ids': [],\n",
    "        'related_papers': related_urls\n",
    "    }\n",
    "    return paper_data"
   ]
  },
  {
   "cell_type": "code",
   "execution_count": null,
   "metadata": {
    "collapsed": false
   },
   "outputs": [],
   "source": [
    "pp = pprint.PrettyPrinter(indent=4)\n",
    "\n",
    "c = 0\n",
    "for writer in writers:\n",
    "    crawled_datas = {}\n",
    "    print(writer)\n",
    "    c = 0\n",
    "    for url, father in paper_urls[writer][:2]:\n",
    "        if c >= 400:\n",
    "            break\n",
    "        try:\n",
    "            time.sleep(10)\n",
    "            data = parese_one_paper(url)\n",
    "            print(data)\n",
    "            crawled_datas[data['paper_id']] = data\n",
    "            if father:\n",
    "                crawled_datas[father]['reference_ids'].append(data['paper_id'])\n",
    "            if c % 20 == 0:\n",
    "                print(c)\n",
    "            c += 1\n",
    "        except Exception as e:\n",
    "            print(e, url)\n",
    "        with open(f\"crawled_paper_{writer}.json\", \"w\") as f:\n",
    "            json.dump(crawled_datas, f)"
   ]
  },
  {
   "cell_type": "code",
   "execution_count": null,
   "metadata": {
    "collapsed": false
   },
   "outputs": [],
   "source": [
    "crawled_datas"
   ]
  },
  {
   "cell_type": "markdown",
   "metadata": {
    "collapsed": false
   },
   "source": [
    "<div dir=\"rtl\">\n",
    "<font face=\"XB Zar\" size=4>\n",
    "    <h1>\n",
    "    <b>PageRank\n",
    "        شخصی‌سازی‌شده\n",
    "        (۲۰ نمره)</b>\n",
    "    </h1>\n",
    "</font>\n",
    "    <br>\n",
    "<font face=\"XB Zar\" size=3>\n",
    "در این بخش، الگوریتم\n",
    "    PageRank\n",
    "    شخصی‌سازی‌شده را پیاده‌سازی می‌کنیم که توسعه‌ای از الگوریتم\n",
    "    PageRank\n",
    "    است که ترجیحات کاربر را در نظر می‌گیرد. الگوریتم\n",
    "    PageRank\n",
    "    شخصی‌سازی‌شده گره‌ها را در یک گراف بر اساس اهمیت آنها برای کاربر رتبه‌بندی می‌کند، نه بر اساس اهمیت کلی آنها در نمودار.\n",
    "\n",
    "</font>\n",
    "</div>"
   ]
  },
  {
   "cell_type": "code",
   "execution_count": null,
   "metadata": {
    "collapsed": false
   },
   "outputs": [],
   "source": [
    "url = \"https://drive.google.com/drive/folders/1Kl_W1zhqfd1kNyKZ_NR5N9YK1gof6TXl\"\n",
    "gdown.download_folder(url, quiet=True)"
   ]
  },
  {
   "cell_type": "code",
   "execution_count": null,
   "metadata": {
    "collapsed": false
   },
   "outputs": [],
   "source": [
    "def create_adjacency_matrix(nodes):\n",
    "    node_ids = set()\n",
    "    for node in nodes:\n",
    "        node_ids.add(nodes[node][\"paper_id\"])\n",
    "        node_ids.update(nodes[node][\"reference_ids\"])\n",
    "\n",
    "    id_to_index = {node_id: index for index, node_id in enumerate(node_ids)}\n",
    "\n",
    "    matrix_size = len(node_ids)\n",
    "    adjacency_matrix = [[0] * matrix_size for _ in range(matrix_size)]\n",
    "\n",
    "    for node in nodes:\n",
    "        n = len(nodes[node][\"reference_ids\"])\n",
    "        source_index = id_to_index[nodes[node][\"paper_id\"]]\n",
    "        for destination_id in nodes[node][\"reference_ids\"]:\n",
    "            destination_index = id_to_index[destination_id]\n",
    "            adjacency_matrix[source_index][destination_index] = 1 / n\n",
    "\n",
    "    return adjacency_matrix, id_to_index\n"
   ]
  },
  {
   "cell_type": "code",
   "execution_count": null,
   "metadata": {
    "collapsed": false
   },
   "outputs": [],
   "source": [
    "from typing import Dict, List\n",
    "\n",
    "\n",
    "def pagerank(graph: Dict[str, List[str]]) -> Dict[str, float]:\n",
    "    \"\"\"\n",
    "    Returns the personalized PageRank scores for the nodes in the graph, given the user's preferences.\n",
    "\n",
    "    Parameters:\n",
    "    graph (Dict[str, List[str]]): The graph represented as a dictionary of node IDs and their outgoing edges.\n",
    "\n",
    "    Returns:\n",
    "    Dict[str, float]: A dictionary of node IDs and their personalized PageRank scores.\n",
    "    \"\"\"\n",
    "    adjacency_matrix, id_to_index = create_adjacency_matrix(graph)\n",
    "    adjacency_matrix = np.array(adjacency_matrix)\n",
    "    P = 0.9 * adjacency_matrix + 0.1 * (1 / len(graph))\n",
    "    w, vl = linalg.eig(P)\n",
    "    largest_eigenvector = vl[:, np.argmax(w)]\n",
    "    index_to_id = {v: k for k, v in id_to_index.items()}\n",
    "    result = {index_to_id[i]: v for i, v in enumerate(largest_eigenvector)}\n",
    "    result = {k: v for k, v in sorted(result.items(), key=lambda item: item[1], reverse=True)}\n",
    "\n",
    "    return result"
   ]
  },
  {
   "cell_type": "markdown",
   "metadata": {
    "collapsed": false
   },
   "source": [
    "<div dir=\"rtl\">\n",
    "<font face=\"XB Zar\" size=3>\n",
    "در این بخش از الگوریتم\n",
    "PageRank\n",
    "شخصی‌سازی‌شده که در قسمت قبلی پیاده‌سازی شده‌است برای\n",
    "شناسایی مقالات مهم مرتبط با حوزه‌ی کاری یک استاد\n",
    "خاص استفاده می‌کنیم. این تابع، یک\n",
    "    field\n",
    "    را به عنوان ورودی دریافت می‌کند. خروجی نیز\n",
    "مقالات برتری که بیشترین ارتباط را با آن زمینه دارند؛ خواهدبود.\n",
    "</font>\n",
    "</div>"
   ]
  },
  {
   "cell_type": "code",
   "execution_count": null,
   "metadata": {
    "collapsed": false
   },
   "outputs": [],
   "source": [
    "from itertools import islice\n",
    "\n",
    "\n",
    "def important_articles(Professor: str) -> List[str]:\n",
    "    \"\"\"\n",
    "    Returns the most important articles in the field of given professor, based on the personalized PageRank scores.\n",
    "\n",
    "    Parameters:\n",
    "    Professor (str): Professor's name.\n",
    "\n",
    "    Returns:\n",
    "    List[str]: A list of article IDs representing the most important articles in the field of given professor.\n",
    "    \"\"\"\n",
    "    with open(f'/kaggle/working/crawled_data/crawled_paper_{Professor}.json') as f:\n",
    "        papers = json.load(f)\n",
    "        pr = pagerank(papers)\n",
    "        return [{k, pr[k]} for k in list(pr.keys())[:10]]"
   ]
  },
  {
   "cell_type": "code",
   "execution_count": null,
   "metadata": {
    "collapsed": false
   },
   "outputs": [],
   "source": [
    "important_articles('Soleymani')"
   ]
  },
  {
   "cell_type": "markdown",
   "metadata": {
    "collapsed": false
   },
   "source": [
    "<div dir=\"rtl\">\n",
    "<font face=\"XB Zar\" size=4>\n",
    "    <h1>\n",
    "    <b>جستجو شخصی‌سازی‌شده (۱۰ نمره)</b>\n",
    "    </h1>\n",
    "</font>\n",
    "    <br>\n",
    "<font face=\"XB Zar\" size=3>\n",
    "الگوریتم جست‌و‌جویی که در فازهای گذشته پیاده‌سازی کرده‌اید را به گونه‌ای تغییر دهید که نتایج به دست آمده جست‌و‌جو بر حسب علایق فرد مرتب شوند. از قضیه‌ی خطی بودن برای این کار استفاده کنید.\n",
    "\n",
    "</font>\n",
    "</div>"
   ]
  },
  {
   "cell_type": "code",
   "execution_count": null,
   "metadata": {
    "collapsed": false
   },
   "outputs": [],
   "source": [
    "from phase1 import *\n",
    "from ast import literal_eval"
   ]
  },
  {
   "cell_type": "code",
   "execution_count": null,
   "metadata": {
    "collapsed": false
   },
   "outputs": [],
   "source": [
    "def create_writer_df(writer_papers):\n",
    "    for p in writer_papers:\n",
    "        writer_papers[p]['title'] = clean_data(writer_papers[p]['title'])\n",
    "        writer_papers[p]['abstract'] = clean_data(writer_papers[p]['abstract'])\n",
    "\n",
    "    df = pd.DataFrame([{k: v[k] for k in ['title', 'abstract'], 'id': p} for p, v in writer_papers.items()])"
   ]
  },
  {
   "cell_type": "code",
   "execution_count": null,
   "metadata": {
    "collapsed": false
   },
   "outputs": [],
   "source": [
    "datasets = {}\n",
    "for writer in writers:\n",
    "    with open(f'./crawled_data/crawled_paper_{writer}.json', 'r') as f:\n",
    "        papers = json.load(f)\n"
   ]
  },
  {
   "cell_type": "code",
   "execution_count": null,
   "metadata": {
    "collapsed": false
   },
   "outputs": [],
   "source": [
    "from typing import List, Tuple\n",
    "\n",
    "\n",
    "def search(title_query: str, abstract_query: str, max_result_count: int, method: str = 'ltn-lnn', weight: float = 0.5,\n",
    "           print=False, preferred_field: str = None):\n",
    "    \"\"\"\n",
    "        Finds relevant documents to query\n",
    "\n",
    "        Parameters\n",
    "        ---------------------------------------------------------------------------------------------------\n",
    "        max_result_count: Return top 'max_result_count' docs which have the highest scores.\n",
    "                          notice that if max_result_count = -1, then you have to return all docs\n",
    "\n",
    "        mode: 'detailed' for searching in title and text separately.\n",
    "              'overall' for all words, and weighted by where the word appears on.\n",
    "\n",
    "        where: when mode ='detailed', when we want search query\n",
    "                in title or text not both of them at the same time.\n",
    "\n",
    "        method: 'ltn-lnn' or 'ltc-lnc' or 'okapi25'\n",
    "\n",
    "        preferred_field: A list containing preference rate to Dr. Rabiee, Dr. Soleymani, Dr. Rohban,\n",
    "                         Dr. Kasaei, and Dr. Sharifi's papers, respectively.\n",
    "\n",
    "        Returns\n",
    "        ----------------------------------------------------------------------------------------------------\n",
    "        list\n",
    "        Retrieved documents with snippet\n",
    "    \"\"\"\n",
    "    # TODO: return top 'max_result_count' documents for your searched query\n",
    "    result = [\"a72d6bd0b6d9b7aee66e91253bc6c6de37fa4e6a\"]\n",
    "\n",
    "    return result\n"
   ]
  },
  {
   "cell_type": "markdown",
   "metadata": {
    "collapsed": false
   },
   "source": [
    "<div dir=\"rtl\" style=\"text-align: justify\">\n",
    "<font face=\"XB Zar\" size=4>\n",
    "    <h1>\n",
    "    <b>رتبه‌بندی نویسندگان (۲۵ نمره)</b>\n",
    "    </h1>\n",
    "</font>\n",
    "    <br>\n",
    "<font face=\"XB Zar\" size=3>\n",
    "    برای رتبه‌بندی نویسندگان، مفهوم ارجاع نویسندگان به یکدیگر مطرح می‌شود. زمانی که نویسنده A در مقاله خود به مقاله P که نویسنده B جزو نویسندگان آن مقاله یعنی مقاله P می‌باشد، ارجاع دهد، می‌گوییم که نویسنده A به نویسنده B ارجاع داده است. با توجه به این رابطه، می‌توان گراف ارجاعات بین نویسندگان را ایجاد و سپس با استفاده از الگوریتم HITS\n",
    "نویسندگان را رتبه‌بندی کرد. برای رتبه‌بندی نیاز است تا از شاخص‌های hub و authority استفاده کنیم.\n",
    "\n",
    "\n",
    "</font>\n",
    "</div>"
   ]
  },
  {
   "cell_type": "code",
   "execution_count": null,
   "metadata": {
    "collapsed": false
   },
   "outputs": [],
   "source": [
    "crawled_papers = {}\n",
    "for writer in writers:\n",
    "    with open(f'/kaggle/working/crawled_data/crawled_paper_{writer}.json', \"r\") as f:\n",
    "        crawled_papers = dict(crawled_papers, **json.load(f))"
   ]
  },
  {
   "cell_type": "code",
   "execution_count": null,
   "metadata": {
    "collapsed": false
   },
   "outputs": [],
   "source": [
    "crawled_papers['701890']"
   ]
  },
  {
   "cell_type": "code",
   "execution_count": null,
   "metadata": {
    "collapsed": false
   },
   "outputs": [],
   "source": [
    "for k in crawled_papers:\n",
    "    crawled_papers[k]['authors'] = [x.strip() for x in crawled_papers[k]['authors'].split(',') if 'authors' not in x]"
   ]
  },
  {
   "cell_type": "code",
   "execution_count": null,
   "metadata": {
    "collapsed": false
   },
   "outputs": [],
   "source": [
    "def create_authors_adjacency_matrix(nodes):\n",
    "    authors = set()\n",
    "    for node in nodes:\n",
    "        authors.update(nodes[node]['authors'])\n",
    "\n",
    "    name_to_index = {author: index for index, author in enumerate(authors)}\n",
    "\n",
    "    matrix_size = len(authors)\n",
    "    adjacency_matrix = [[0] * matrix_size for _ in range(matrix_size)]\n",
    "\n",
    "    for node in nodes:\n",
    "        for author in nodes[node][\"authors\"]:\n",
    "            source_index = name_to_index[author]\n",
    "            for destination_id in nodes[node][\"reference_ids\"]:\n",
    "                if nodes.get(destination_id):\n",
    "                    for ref_author in nodes[destination_id]['authors']:\n",
    "                        destination_index = name_to_index[ref_author]\n",
    "                        adjacency_matrix[source_index][destination_index] = 1\n",
    "\n",
    "    return adjacency_matrix, name_to_index"
   ]
  },
  {
   "cell_type": "code",
   "execution_count": null,
   "metadata": {
    "collapsed": false
   },
   "outputs": [],
   "source": [
    "import networkx as nx\n",
    "import networkx as nx\n",
    "\n",
    "\n",
    "def hit_algorithm(papers, n):\n",
    "    \"\"\"\n",
    "        Implementing the HITS algorithm to score authors based on their papers and co-authors.\n",
    "\n",
    "        Parameters\n",
    "        ---------------------------------------------------------------------------------------------------\n",
    "        papers: A list of paper dictionaries with the following keys:\n",
    "                \"id\": A unique ID for the paper\n",
    "                \"title\": The title of the paper\n",
    "                \"abstract\": The abstract of the paper\n",
    "                \"date\": The year in which the paper was published\n",
    "                \"authors\": A list of the names of the authors of the paper\n",
    "                \"related_topics\": A list of IDs for related topics (optional)\n",
    "                \"citation_count\": The number of times the paper has been cited (optional)\n",
    "                \"reference_count\": The number of references in the paper (optional)\n",
    "                \"references\": A list of IDs for papers that are cited in the paper (optional)\n",
    "        n: An integer representing the number of top authors to return.\n",
    "\n",
    "        Returns\n",
    "        ---------------------------------------------------------------------------------------------------\n",
    "        List\n",
    "        list of the top n authors based on their hub scores.\n",
    "    \"\"\"\n",
    "    # Create a graph of authors and papers (all of the authors and papers represented as nodes, and all of the authors who wrote each paper connected to the corresponding paper node by an edge)\n",
    "    adjacency_matrix, name_to_index = create_authors_adjacency_matrix(papers)\n",
    "    adjacency_matrix = np.array(adjacency_matrix)\n",
    "    index_to_name = {v: k for k, v in name_to_index.items()}\n",
    "    # Run the HITS algorithm\n",
    "    AAT = np.dot(adjacency_matrix, adjacency_matrix.T)\n",
    "    ATA = np.dot(adjacency_matrix.T, adjacency_matrix)\n",
    "    h_w, hubs = linalg.eig(AAT)\n",
    "    hubs = hubs[:, np.argmax(h_w)]\n",
    "    a_w, authorities = linalg.eig(ATA)\n",
    "    authorities = authorities[:, np.argmax(a_w)]\n",
    "    # Create a list of top n authors based on their hub scores\n",
    "    top_authors = authorities.argsort()[-n:][::-1]\n",
    "    return [index_to_name[t] for t in top_authors]"
   ]
  },
  {
   "cell_type": "code",
   "execution_count": null,
   "metadata": {
    "collapsed": false
   },
   "outputs": [],
   "source": [
    "# call the hit_algorithm function\n",
    "top_authors = hit_algorithm(crawled_papers, 2)\n",
    "\n",
    "# print the top authors\n",
    "print(top_authors)"
   ]
  },
  {
   "cell_type": "markdown",
   "metadata": {
    "collapsed": false
   },
   "source": [
    "<div dir=\"rtl\">\n",
    "<font face=\"XB Zar\" size=4>\n",
    "    <h1>\n",
    "    <b>سیستم پیشنهادگر (۲۰ نمره)</b>\n",
    "    </h1>\n",
    "</font>\n",
    "<font face=\"XB Zar\" size=3>\n",
    "\n",
    "در این بخش سعی می‌کنیم که یک سیستم پیشنهادگر مقالات بر اساس جست‌و‌جو‌ها یا علايق یک کاربر پیاده‌سازی کنیم، سیستم پیشنهاد دهنده‌ای که قصد داریم آن را ایجاد کنیم،‌ باید بتواند بر اساس لیستی از مقالاتی که کاربر قبلا آن‌ها را مطالعه کرده یا به آن‌ها علاقه داشته است، مقالات تازه انتشار یافته‌‌ی جدید را به کاربر پیشنهاد دهد.\n",
    "\n",
    "در فایل recommended_papers.json\n",
    "لیستی از کاربران قرار دارد که در فیلد positive_papers هر کاربر،\n",
    "تعداد ۵۰ مقاله از مقالاتی که کاربر به آن‌ها علاقه داشته است مشخص شده است. و همچینین در فیلد recommendedPapers هر کاربر تعداد ۱۰ مقاله به ترتیب اهمیت، از مقالات جدیدی که کاربر آن‌ها را پسندیده است قرار دارد.\n",
    "\n",
    "در این بخش هدف شما یادگیری سیستم پیشنهاد‌ دهنده بر اساس همین داده‌ها می‌باشد، و به عبارتی شما بایستی کاربر‌ها را به دو دسته آموزش و آزمایش تقسیم کنید، و بر اساس داده‌های آموزشی بتوانید مقالات جدید مورد پسند کاربرهای آزمایش را پیش‌بینی کنید. (بنابراین در این پیش‌بینی نمی‌توانید از فیلد recommendedPapers این کاربران استفاده کنید.)\n",
    "\n",
    "</font>\n",
    "</div>"
   ]
  },
  {
   "cell_type": "code",
   "execution_count": null,
   "metadata": {
    "collapsed": false
   },
   "outputs": [],
   "source": [
    "import json\n",
    "\n",
    "with open('/kaggle/working/HW3/recommended_papers.json', 'r') as fp:\n",
    "    recommended_papers = json.load(fp)"
   ]
  },
  {
   "cell_type": "code",
   "execution_count": null,
   "metadata": {
    "collapsed": false
   },
   "outputs": [],
   "source": [
    "sample_user = recommended_papers[0]"
   ]
  },
  {
   "cell_type": "code",
   "execution_count": null,
   "metadata": {
    "collapsed": false
   },
   "outputs": [],
   "source": [
    "sample_user.keys()"
   ]
  },
  {
   "cell_type": "code",
   "execution_count": null,
   "metadata": {
    "collapsed": false
   },
   "outputs": [],
   "source": [
    "print(sample_user['positive_papers'][0]['paperId'])\n",
    "print(sample_user['positive_papers'][0]['title'])\n",
    "print(sample_user['positive_papers'][0]['abstract'])\n",
    "print(sample_user['positive_papers'][0]['fieldsOfStudy'])\n",
    "print(sample_user['recommendedPapers'][0])"
   ]
  },
  {
   "cell_type": "code",
   "execution_count": null,
   "metadata": {
    "collapsed": false
   },
   "outputs": [],
   "source": [
    "users_df = pd.DataFrame(\n",
    "    [{\n",
    "        'favorites': [x['paperId'] for x in user['positive_papers']],\n",
    "        'new_favorites': [x['paperId'] for x in user['recommendedPapers']],\n",
    "        'id': i + 1\n",
    "    } for i, user in enumerate(recommended_papers)])"
   ]
  },
  {
   "cell_type": "code",
   "execution_count": null,
   "metadata": {
    "collapsed": false
   },
   "outputs": [],
   "source": [
    "all_papers_list = [user['positive_papers'] for user in recommended_papers] + [user['recommendedPapers'] for user in\n",
    "                                                                              recommended_papers]\n",
    "all_papers_list = [paper for l in all_papers_list for paper in l]\n",
    "papers_df = pd.DataFrame(all_papers_list)\n",
    "papers_df = papers_df.drop_duplicates(subset=['paperId'], keep='last')"
   ]
  },
  {
   "cell_type": "code",
   "execution_count": null,
   "metadata": {
    "collapsed": false
   },
   "outputs": [],
   "source": [
    "papers_df.head()"
   ]
  },
  {
   "cell_type": "code",
   "execution_count": null,
   "metadata": {
    "collapsed": false
   },
   "outputs": [],
   "source": [
    "users_df.head()"
   ]
  },
  {
   "cell_type": "code",
   "execution_count": null,
   "metadata": {
    "collapsed": false
   },
   "outputs": [],
   "source": [
    "import pandas as pd\n",
    "import matplotlib.pyplot as plt\n",
    "\n",
    "study_fields_counts = papers_df['fieldsOfStudy'].explode().value_counts()\n",
    "\n",
    "plt.figure(figsize=(10, 6))\n",
    "study_fields_counts.plot(kind='bar')\n",
    "plt.title('Number of Papers by Study Field')\n",
    "plt.xlabel('Study Field')\n",
    "plt.ylabel('Count')\n",
    "plt.xticks(rotation=45)\n",
    "plt.tight_layout()\n",
    "plt.show()"
   ]
  },
  {
   "cell_type": "code",
   "execution_count": null,
   "metadata": {
    "collapsed": false
   },
   "outputs": [],
   "source": [
    "unique_fields = papers_df['fieldsOfStudy'].explode().unique()"
   ]
  },
  {
   "cell_type": "code",
   "execution_count": null,
   "metadata": {
    "collapsed": false
   },
   "outputs": [],
   "source": [
    "unique_fields = list(unique_fields)"
   ]
  },
  {
   "cell_type": "code",
   "execution_count": null,
   "metadata": {
    "collapsed": false
   },
   "outputs": [],
   "source": [
    "len(unique_fields)"
   ]
  },
  {
   "cell_type": "code",
   "execution_count": null,
   "metadata": {
    "collapsed": false
   },
   "outputs": [],
   "source": [
    "unique_fields"
   ]
  },
  {
   "cell_type": "code",
   "execution_count": null,
   "metadata": {
    "collapsed": false
   },
   "outputs": [],
   "source": [
    "user_field_ratio = []\n",
    "for _, user in users_df.iterrows():\n",
    "    favorite_papers = user['favorites']\n",
    "    field_counts = {}\n",
    "\n",
    "    for paper in favorite_papers:\n",
    "        fields = papers_df.loc[papers_df['paperId'] == paper, 'fieldsOfStudy'].values[0]\n",
    "        if fields:\n",
    "            for field in fields:\n",
    "                field_counts[field] = field_counts.get(field, 0) + 1\n",
    "\n",
    "    total_papers = len(favorite_papers)\n",
    "    field_ratio = {field: count / total_papers for field, count in field_counts.items()}\n",
    "    user_field_ratio.append(field_ratio)\n",
    "\n",
    "users_df['field_tendency'] = [[x.get(f, 0) for f in unique_fields] for x in user_field_ratio]"
   ]
  },
  {
   "cell_type": "code",
   "execution_count": null,
   "metadata": {
    "collapsed": false
   },
   "outputs": [],
   "source": [
    "from sklearn.model_selection import train_test_split\n",
    "\n",
    "train_users_df, test_users_df = train_test_split(users_df, test_size=0.2)"
   ]
  },
  {
   "cell_type": "code",
   "execution_count": null,
   "metadata": {
    "collapsed": false
   },
   "outputs": [],
   "source": [
    "test_users_df.shape"
   ]
  },
  {
   "cell_type": "code",
   "execution_count": null,
   "metadata": {
    "collapsed": false
   },
   "outputs": [],
   "source": [
    "train_users_df.head()"
   ]
  },
  {
   "cell_type": "markdown",
   "metadata": {
    "collapsed": false
   },
   "source": [
    "<div dir=\"rtl\">\n",
    "<font face=\"XB Zar\" size=4>\n",
    "    <h2>\n",
    "    <b>روش Collaborative Filtering (۱۰ نمره)</b>\n",
    "    </h2>\n",
    "</font>\n",
    "<font face=\"XB Zar\" size=3>\n",
    "\n",
    "در این راهکار سعی می‌کنیم با استفاده از کاربران مشابه با یک کاربر، سلیقه‌ی او را حدس بزنیم و مقالاتی را که کاربران مشابه دیده‌اند را به کاربر نمایش دهیم.\n",
    "\n",
    "در این روش ابتدا باید $N$ کاربر که سلیقه‌ی مشابه با کاربر $x$ دارند را پیدا کنید، و با ترکیب لیست مقالات جدید مورد علاقه‌ی آن $N$ کاربر مشابه،\n",
    " ۱۰ مقاله‌ به کاربر $x$ پیشنهاد دهید.\n",
    "\n",
    "توجه داشته باشید که برای اینکه شباهت دو کاربر را پیدا کنید، باید cosine_similarity بین بردار زمینه‌های مورد علاقه‌ی دو کاربر استفاده کنید. این بردار از $M$ درایه تشکیل شده است، که $M$ تعداد زمینه‌های یکتاییست که در داده‌ها وجود دارد. و در این بردار درایه‌ی $j$ام\n",
    "نشان دهنده‌ی نسبت تعداد مقالات خوانده‌ی شده‌ کاربر در زمینه‌ی $j$ به تعداد کل مقاله‌های خوانده شده توسط او می‌باشد. (توجه کنید که هر مقاله می‌تواند چند زمینه داشته باشد و بنابراین حاصل جمع درایه‌های این بردار الزاما یک نمی‌باشد)\n",
    "\n",
    "</font>\n",
    "</div>"
   ]
  },
  {
   "cell_type": "code",
   "execution_count": null,
   "metadata": {
    "collapsed": false
   },
   "outputs": [],
   "source": [
    "users_df.head()"
   ]
  },
  {
   "cell_type": "code",
   "execution_count": null,
   "metadata": {
    "collapsed": false
   },
   "outputs": [],
   "source": [
    "def recommend_articles(user_id, users, similar_users, top_k=10):\n",
    "    article_pool = defaultdict(int)\n",
    "    for similar_user in similar_users:\n",
    "        liked_articles = users[users['id'] == similar_user].new_favorites.values[0]\n",
    "        for article in liked_articles:\n",
    "            article_pool[article] += 1\n",
    "    sorted_articles = sorted(article_pool, key=article_pool.get, reverse=True)\n",
    "    recommended_articles = sorted_articles[:top_k]\n",
    "    return recommended_articles"
   ]
  },
  {
   "cell_type": "code",
   "execution_count": null,
   "metadata": {
    "collapsed": false
   },
   "outputs": [],
   "source": [
    "from sklearn.metrics.pairwise import cosine_similarity\n",
    "\n",
    "\n",
    "def collaborative_filtering(users, user_id: int, field_tendency, N=10):\n",
    "    \"\"\"\n",
    "    Returns the top 10 related articles to the user, based on similar users (Similar users should be on \"train data\").\n",
    "\n",
    "    Parameters:\n",
    "    user_id (int): The unique index of the user.\n",
    "    N: The number of hyperparameter N in Nearest Neighbor algorithm.\n",
    "\n",
    "    Returns:\n",
    "    List[str]: A list of 10 article IDs that are most relevant to the user's interests.\n",
    "    \"\"\"\n",
    "    field_tendency_list = list(users.field_tendency)\n",
    "    ids = list(users.id)\n",
    "    similarity_scores = cosine_similarity([field_tendency], field_tendency_list)[0]\n",
    "    top_indices = [ids[x] for x in np.argsort(similarity_scores)[::-1][:10] if ids[x] != user_id]\n",
    "    #     top_matches = [similarity_scores[index] for index in top_indices]\n",
    "    return recommend_articles(user_id, users, top_indices, N)\n"
   ]
  },
  {
   "cell_type": "code",
   "execution_count": null,
   "metadata": {
    "collapsed": false
   },
   "outputs": [],
   "source": [
    "collaborative_filtering(train_users_df, 2, train_users_df[train_users_df['id'] == 2].field_tendency.values[0])"
   ]
  },
  {
   "cell_type": "markdown",
   "metadata": {
    "collapsed": false
   },
   "source": [
    "<div dir=\"rtl\">\n",
    "<font face=\"XB Zar\" size=4>\n",
    "    <h2>\n",
    "    <b>روش Content Based (۱۰ نمره)</b>\n",
    "    </h2>\n",
    "</font>\n",
    "<font face=\"XB Zar\" size=3>\n",
    "\n",
    "در این روش با استفاده از مقالات قبلی که کاربر آن‌ها را پسندیده است، به کاربر مقاله‌ی جدید پیشنهاد می‌دهیم.\n",
    "\n",
    "برای اینکار ابتدا تمام مقالات پیشنهاد شده برای تمام کاربرها را سر جمع کنید. (در واقع مدلی که پیاده‌سازی می‌کنید نباید بداند که به کدام کاربر چه مقالاتی پیشنهاد شده است)\n",
    "\n",
    "سپس بردار tf-idf برای تایتل هر یک از مقالات را ایجاد کنید، و میانگین بردار مقالات مورد علاقه‌ی هر فرد را با لیستی که از مقالات جدید سر جمع کردید مقایسه کنید و ۱۰ تا از شبیه‌ترین مقالات را خروجی دهید.\n",
    "\n",
    "</font>\n",
    "</div>"
   ]
  },
  {
   "cell_type": "code",
   "execution_count": null,
   "metadata": {
    "collapsed": false
   },
   "outputs": [],
   "source": [
    "titles = list(papers_df.title)"
   ]
  },
  {
   "cell_type": "code",
   "execution_count": null,
   "metadata": {
    "collapsed": false
   },
   "outputs": [],
   "source": [
    "from sklearn.feature_extraction.text import TfidfVectorizer\n",
    "\n",
    "vectorizer = TfidfVectorizer()\n",
    "vectorizer.fit(titles)"
   ]
  },
  {
   "cell_type": "code",
   "execution_count": null,
   "metadata": {
    "collapsed": false
   },
   "outputs": [],
   "source": [
    "new_papers = list([x for l in train_users_df['new_favorites'] for x in l])\n",
    "new_titles = np.array(papers_df[papers_df['paperId'].isin(new_papers)].title.values)\n",
    "new_papers_embeddings = vectorizer.transform(new_titles)"
   ]
  },
  {
   "cell_type": "code",
   "execution_count": null,
   "metadata": {
    "collapsed": false
   },
   "outputs": [],
   "source": [
    "def content_based_recommendation(user_id, favorites):\n",
    "    \"\"\"\n",
    "    Returns the top 10 related articles to the user, based on the titles of the articles.\n",
    "\n",
    "    Parameters:\n",
    "    user_id (int): The unique index of the user.\n",
    "\n",
    "    Returns:\n",
    "    List[str]: A list of 10 article IDs that are most relevant to the user's interests.\n",
    "    \"\"\"\n",
    "\n",
    "    favorite_titles = np.array(papers_df[papers_df['paperId'].isin(favorites)].title.values)\n",
    "    favorite_emmbeded = np.mean(vectorizer.transform(favorite_titles), axis=0)\n",
    "    f = np.array(favorite_emmbeded)\n",
    "    similarity_scores = cosine_similarity(f, new_papers_embeddings)[0]\n",
    "    top_indices = [new_papers[x] for x in np.argsort(similarity_scores)[::-1][:10]]\n",
    "\n",
    "    return top_indices"
   ]
  },
  {
   "cell_type": "code",
   "execution_count": null,
   "metadata": {
    "collapsed": false
   },
   "outputs": [],
   "source": [
    "content_based_recommendation(2, train_users_df[train_users_df['id'] == 2].favorites.values[0])"
   ]
  },
  {
   "cell_type": "markdown",
   "metadata": {
    "collapsed": false
   },
   "source": [
    "<div dir=\"rtl\">\n",
    "<font face=\"XB Zar\" size=4>\n",
    "    <h2>\n",
    "    <b>ارزیابی سیستم‌های پیشنهادگر</b>\n",
    "    </h2>\n",
    "</font>\n",
    "<font face=\"XB Zar\" size=3>\n",
    "\n",
    "در این بخش سیستم‌های پیشنهادگری را که پیاده کرده‌اید را با استفاده از معیار nDCG و با استفاده از دادگان واقعی از علایق کاربران نسبت به مقالات جدید ارزیابی کنید و نتایج حاصل از دو روش را با هم مقایسه کنید.\n",
    "\n",
    "</font>\n",
    "</div>"
   ]
  },
  {
   "cell_type": "code",
   "execution_count": null,
   "metadata": {
    "collapsed": false
   },
   "outputs": [],
   "source": [
    "from typing import List\n",
    "\n",
    "\n",
    "def get_ndcg(predicted, actual):\n",
    "    dcg = []\n",
    "    for i, p in enumerate(predicted):\n",
    "        if p in actual:\n",
    "            r = 1\n",
    "        else:\n",
    "            r = 0\n",
    "        dcg.append(r / np.log2(i + 2))\n",
    "    return np.average(np.array(dcg))\n",
    "\n",
    "\n",
    "def cacluate_NDCG(actual: List[List[str]], predicted: List[List[str]]) -> float:\n",
    "    \"\"\"\n",
    "    Calculates the Normalized Discounted Cumulative Gain (NDCG) of the predicted results\n",
    "\n",
    "    Parameters\n",
    "    ----------\n",
    "    actual : List[List[str]]\n",
    "        The actual results\n",
    "    predicted : List[List[str]]\n",
    "        The predicted results\n",
    "\n",
    "    Returns\n",
    "    -------\n",
    "    float\n",
    "        The NDCG of the predicted results\n",
    "    \"\"\"\n",
    "    r = [1] * 10\n",
    "    perfect_dcg = np.average(np.array(r / np.log2(np.arange(2, len(r) + 2))))\n",
    "    ndcg = []\n",
    "\n",
    "    for i in range(len(predicted)):\n",
    "        dcg = get_ndcg(actual=actual[i], predicted=predicted[i])\n",
    "        ndcg.append(dcg)\n",
    "\n",
    "    return np.average(np.array(ndcg) / perfect_dcg)"
   ]
  },
  {
   "cell_type": "code",
   "execution_count": null,
   "metadata": {
    "collapsed": false
   },
   "outputs": [],
   "source": [
    "predicted_papers = [collaborative_filtering(train_users_df, user['id'], user['field_tendency']) for _, user in\n",
    "                    test_users_df.iterrows()]\n",
    "actual_papers = list(test_users_df.new_favorites)\n",
    "print('NDCG of collaborative filtering:')\n",
    "cacluate_NDCG(predicted_papers, actual_papers)"
   ]
  },
  {
   "cell_type": "code",
   "execution_count": null,
   "metadata": {
    "collapsed": false
   },
   "outputs": [],
   "source": [
    "predicted_papers = [content_based_recommendation(user['id'], user['favorites']) for _, user in test_users_df.iterrows()]\n",
    "actual_papers = list(test_users_df.new_favorites)\n",
    "print('NDCG of content based recommendation:')\n",
    "cacluate_NDCG(predicted_papers, actual_papers)"
   ]
  },
  {
   "cell_type": "markdown",
   "metadata": {
    "collapsed": false
   },
   "source": [
    "<div dir=\"rtl\" style=\"text-align: justify\">\n",
    "<font face=\"XB Zar\" size=4>\n",
    "    <h1>\n",
    "    <b>رابط کاربری (تا ۱۰ نمره)</b>\n",
    "    </h1>\n",
    "</font>\n",
    "    <br>\n",
    "<font face=\"XB Zar\" size=3>\n",
    "در این بخش\n",
    " باید یک واسط کاربری ساده برای اجرای تعاملی بخش‌های مختلف سیستم که از فاز ۱ ساخته‌اید و همچنین مشاهده نتایج پیاده‌سازی کنید. در صورت پیاده سازی زیبا و بهتر رابط کاربری تا ده نمره نمره امتیازی نیز در نظر گرفته خواهد شد.\n",
    "</font>\n",
    "</div>"
   ]
  },
  {
   "cell_type": "code",
   "execution_count": null,
   "metadata": {
    "collapsed": false
   },
   "outputs": [],
   "source": []
  },
  {
   "cell_type": "code",
   "execution_count": 13,
   "metadata": {
    "execution": {
     "iopub.execute_input": "2023-06-24T19:43:41.276736Z",
     "iopub.status.busy": "2023-06-24T19:43:41.276351Z",
     "iopub.status.idle": "2023-06-24T19:43:41.284026Z",
     "shell.execute_reply": "2023-06-24T19:43:41.282990Z",
     "shell.execute_reply.started": "2023-06-24T19:43:41.276706Z"
    },
    "trusted": true
   },
   "outputs": [
    {
     "data": {
      "text/plain": [
       "{'paper_id': '701890',\n",
       " 'title': 'Ionic Mechanisms of Acquired QT Prolongation and Torsades de Pointes in Rabbits With Chronic Complete Atrioventricular Block',\n",
       " 'abstract': 'Background—The ionic basis of acquired QT prolongation and torsade de pointes (TdP) unrelated to drugs is not fully understood. Methods and Results—We created a rabbit model with chronic complete atrioventricular block (AVB) (n=34), which showed prominent QT prolongation (by 120%), high incidence of spontaneous TdP (71%), and cardiac hypertrophy. Patch-clamp experiments were performed in left ventricular myocytes from 9 rabbits (8 with TdP, 1 without TdP) at ≈21 days of AVB and from 8 sham-operated controls with sinus rhythm. Action potential duration was prolonged in AVB myocytes compared with control (+61% at 0.5 Hz, +21% at 3 Hz). Both rapidly and slowly activating components of the delayed rectifier K+ current (IKr and IKs) in AVB myocytes were significantly smaller than in control by 50% and 55%, respectively. There was no significant difference in Ca2+-independent transient outward current (Ito1). L-type Ca2+ current (ICa,L) in control and AVB myocytes was similar in peak amplitude, but the half voltage for activation was shifted to the negative direction (5.9 mV) in AVB myocytes. Voltage dependence of ICa,L inactivation was not different in control and AVB myocytes. The inward rectifier K+ current (IK1) significantly increased in AVB myocytes compared with control. Conclusions—In the rabbit, chronic AVB leads to prominent QT prolongation and high incidence of spontaneous TdP. Downregulation of both IKr and IKs in association with altered ICa,L activation kinetics may underlie the arrhythmogenic ventricular remodeling.',\n",
       " 'date': '8 October 2002',\n",
       " 'authors': ['Yukiomi Tsuji', 'T. Opthof'],\n",
       " 'citation_count': '94',\n",
       " 'references_count': '17',\n",
       " 'reference_ids': []}"
      ]
     },
     "execution_count": 13,
     "metadata": {},
     "output_type": "execute_result"
    }
   ],
   "source": [
    "crawled_papers['701890']"
   ]
  },
  {
   "cell_type": "code",
   "execution_count": 11,
   "metadata": {
    "execution": {
     "iopub.execute_input": "2023-06-24T19:43:35.067833Z",
     "iopub.status.busy": "2023-06-24T19:43:35.066893Z",
     "iopub.status.idle": "2023-06-24T19:43:35.076436Z",
     "shell.execute_reply": "2023-06-24T19:43:35.075276Z",
     "shell.execute_reply.started": "2023-06-24T19:43:35.067790Z"
    },
    "trusted": true
   },
   "outputs": [],
   "source": [
    "for k in crawled_papers:\n",
    "    crawled_papers[k]['authors'] = [x.strip() for x in crawled_papers[k]['authors'].split(',') if 'authors' not in x]"
   ]
  },
  {
   "cell_type": "code",
   "execution_count": 14,
   "metadata": {
    "execution": {
     "iopub.execute_input": "2023-06-24T19:43:44.654338Z",
     "iopub.status.busy": "2023-06-24T19:43:44.653677Z",
     "iopub.status.idle": "2023-06-24T19:43:44.665346Z",
     "shell.execute_reply": "2023-06-24T19:43:44.664243Z",
     "shell.execute_reply.started": "2023-06-24T19:43:44.654291Z"
    },
    "trusted": true
   },
   "outputs": [],
   "source": [
    "def create_authors_adjacency_matrix(nodes):\n",
    "    authors = set()\n",
    "    for node in nodes:\n",
    "        authors.update(nodes[node]['authors'])\n",
    "\n",
    "    name_to_index = {author: index for index, author in enumerate(authors)}\n",
    "\n",
    "    matrix_size = len(authors)\n",
    "    adjacency_matrix = [[0] * matrix_size for _ in range(matrix_size)]\n",
    "\n",
    "    for node in nodes:\n",
    "        for author in nodes[node][\"authors\"]:\n",
    "            source_index = name_to_index[author]\n",
    "            for destination_id in nodes[node][\"reference_ids\"]:\n",
    "                if nodes.get(destination_id):\n",
    "                    for ref_author in nodes[destination_id]['authors']:\n",
    "                        destination_index = name_to_index[ref_author]\n",
    "                        adjacency_matrix[source_index][destination_index] = 1\n",
    "\n",
    "    return adjacency_matrix, name_to_index"
   ]
  },
  {
   "cell_type": "code",
   "execution_count": 30,
   "metadata": {
    "collapsed": false,
    "execution": {
     "iopub.execute_input": "2023-06-24T19:59:19.763529Z",
     "iopub.status.busy": "2023-06-24T19:59:19.763084Z",
     "iopub.status.idle": "2023-06-24T19:59:19.775111Z",
     "shell.execute_reply": "2023-06-24T19:59:19.773754Z",
     "shell.execute_reply.started": "2023-06-24T19:59:19.763492Z"
    },
    "jupyter": {
     "outputs_hidden": false
    },
    "pycharm": {
     "name": "#%%\n"
    },
    "trusted": true
   },
   "outputs": [],
   "source": [
    "import networkx as nx\n",
    "import networkx as nx\n",
    "\n",
    "\n",
    "def hit_algorithm(papers, n):\n",
    "    \"\"\"\n",
    "        Implementing the HITS algorithm to score authors based on their papers and co-authors.\n",
    "\n",
    "        Parameters\n",
    "        ---------------------------------------------------------------------------------------------------\n",
    "        papers: A list of paper dictionaries with the following keys:\n",
    "                \"id\": A unique ID for the paper\n",
    "                \"title\": The title of the paper\n",
    "                \"abstract\": The abstract of the paper\n",
    "                \"date\": The year in which the paper was published\n",
    "                \"authors\": A list of the names of the authors of the paper\n",
    "                \"related_topics\": A list of IDs for related topics (optional)\n",
    "                \"citation_count\": The number of times the paper has been cited (optional)\n",
    "                \"reference_count\": The number of references in the paper (optional)\n",
    "                \"references\": A list of IDs for papers that are cited in the paper (optional)\n",
    "        n: An integer representing the number of top authors to return.\n",
    "\n",
    "        Returns\n",
    "        ---------------------------------------------------------------------------------------------------\n",
    "        List \n",
    "        list of the top n authors based on their hub scores.\n",
    "    \"\"\"\n",
    "    # Create a graph of authors and papers (all of the authors and papers represented as nodes, and all of the authors who wrote each paper connected to the corresponding paper node by an edge)\n",
    "    adjacency_matrix, name_to_index = create_authors_adjacency_matrix(papers)\n",
    "    adjacency_matrix = np.array(adjacency_matrix)\n",
    "    index_to_name = {v: k for k, v in name_to_index.items()}\n",
    "    # Run the HITS algorithm\n",
    "    AAT = np.dot(adjacency_matrix, adjacency_matrix.T)\n",
    "    ATA = np.dot(adjacency_matrix.T, adjacency_matrix)\n",
    "    h_w, hubs = linalg.eig(AAT)\n",
    "    hubs = hubs[:, np.argmax(h_w)]\n",
    "    a_w, authorities = linalg.eig(ATA)\n",
    "    authorities = authorities[:, np.argmax(a_w)]\n",
    "    # Create a list of top n authors based on their hub scores\n",
    "    top_authors = authorities.argsort()[-n:][::-1]\n",
    "    return [index_to_name[t] for t in top_authors]"
   ]
  },
  {
   "cell_type": "code",
   "execution_count": 33,
   "metadata": {
    "collapsed": false,
    "execution": {
     "iopub.execute_input": "2023-06-24T19:59:39.273724Z",
     "iopub.status.busy": "2023-06-24T19:59:39.273275Z",
     "iopub.status.idle": "2023-06-24T20:01:21.276750Z",
     "shell.execute_reply": "2023-06-24T20:01:21.275512Z",
     "shell.execute_reply.started": "2023-06-24T19:59:39.273688Z"
    },
    "jupyter": {
     "outputs_hidden": false
    },
    "pycharm": {
     "name": "#%%\n"
    },
    "trusted": true
   },
   "outputs": [
    {
     "name": "stdout",
     "output_type": "stream",
     "text": [
      "['C. Hao', 'M. Njah']\n"
     ]
    }
   ],
   "source": [
    "# call the hit_algorithm function\n",
    "top_authors = hit_algorithm(crawled_papers, 2)\n",
    "\n",
    "# print the top authors\n",
    "print(top_authors)"
   ]
  },
  {
   "cell_type": "markdown",
   "metadata": {
    "pycharm": {
     "name": "#%% md\n"
    }
   },
   "source": [
    "<div dir=\"rtl\">\n",
    "<font face=\"XB Zar\" size=4>\n",
    "    <h1>\n",
    "    <b>سیستم پیشنهادگر (۲۰ نمره)</b>\n",
    "    </h1>\n",
    "</font>\n",
    "<font face=\"XB Zar\" size=3>\n",
    "\n",
    "در این بخش سعی می‌کنیم که یک سیستم پیشنهادگر مقالات بر اساس جست‌و‌جو‌ها یا علايق یک کاربر پیاده‌سازی کنیم، سیستم پیشنهاد دهنده‌ای که قصد داریم آن را ایجاد کنیم،‌ باید بتواند بر اساس لیستی از مقالاتی که کاربر قبلا آن‌ها را مطالعه کرده یا به آن‌ها علاقه داشته است، مقالات تازه انتشار یافته‌‌ی جدید را به کاربر پیشنهاد دهد.\n",
    "\n",
    "در فایل recommended_papers.json\n",
    "لیستی از کاربران قرار دارد که در فیلد positive_papers هر کاربر،\n",
    "تعداد ۵۰ مقاله از مقالاتی که کاربر به آن‌ها علاقه داشته است مشخص شده است. و همچینین در فیلد recommendedPapers هر کاربر تعداد ۱۰ مقاله به ترتیب اهمیت، از مقالات جدیدی که کاربر آن‌ها را پسندیده است قرار دارد.\n",
    "\n",
    "در این بخش هدف شما یادگیری سیستم پیشنهاد‌ دهنده بر اساس همین داده‌ها می‌باشد، و به عبارتی شما بایستی کاربر‌ها را به دو دسته آموزش و آزمایش تقسیم کنید، و بر اساس داده‌های آموزشی بتوانید مقالات جدید مورد پسند کاربرهای آزمایش را پیش‌بینی کنید. (بنابراین در این پیش‌بینی نمی‌توانید از فیلد recommendedPapers این کاربران استفاده کنید.)\n",
    "\n",
    "</font>\n",
    "</div>"
   ]
  },
  {
   "cell_type": "code",
   "execution_count": 3,
   "metadata": {
    "collapsed": false,
    "execution": {
     "iopub.execute_input": "2023-06-25T21:38:15.851200Z",
     "iopub.status.busy": "2023-06-25T21:38:15.850819Z",
     "iopub.status.idle": "2023-06-25T21:38:16.260436Z",
     "shell.execute_reply": "2023-06-25T21:38:16.259285Z",
     "shell.execute_reply.started": "2023-06-25T21:38:15.851171Z"
    },
    "jupyter": {
     "outputs_hidden": false
    },
    "pycharm": {
     "name": "#%%\n"
    },
    "trusted": true
   },
   "outputs": [],
   "source": [
    "import json\n",
    "\n",
    "with open('/kaggle/working/HW3/recommended_papers.json', 'r') as fp:\n",
    "    recommended_papers = json.load(fp)"
   ]
  },
  {
   "cell_type": "code",
   "execution_count": 4,
   "metadata": {
    "collapsed": false,
    "execution": {
     "iopub.execute_input": "2023-06-25T21:38:16.627079Z",
     "iopub.status.busy": "2023-06-25T21:38:16.626671Z",
     "iopub.status.idle": "2023-06-25T21:38:16.631745Z",
     "shell.execute_reply": "2023-06-25T21:38:16.630966Z",
     "shell.execute_reply.started": "2023-06-25T21:38:16.627047Z"
    },
    "jupyter": {
     "outputs_hidden": false
    },
    "pycharm": {
     "name": "#%%\n"
    },
    "trusted": true
   },
   "outputs": [],
   "source": [
    "sample_user = recommended_papers[0]"
   ]
  },
  {
   "cell_type": "code",
   "execution_count": 5,
   "metadata": {
    "execution": {
     "iopub.execute_input": "2023-06-25T21:38:17.302329Z",
     "iopub.status.busy": "2023-06-25T21:38:17.301919Z",
     "iopub.status.idle": "2023-06-25T21:38:17.309861Z",
     "shell.execute_reply": "2023-06-25T21:38:17.308723Z",
     "shell.execute_reply.started": "2023-06-25T21:38:17.302295Z"
    },
    "trusted": true
   },
   "outputs": [
    {
     "data": {
      "text/plain": [
       "dict_keys(['positive_papers', 'recommendedPapers'])"
      ]
     },
     "execution_count": 5,
     "metadata": {},
     "output_type": "execute_result"
    }
   ],
   "source": [
    "sample_user.keys()"
   ]
  },
  {
   "cell_type": "code",
   "execution_count": 6,
   "metadata": {
    "collapsed": false,
    "execution": {
     "iopub.execute_input": "2023-06-25T21:38:17.793488Z",
     "iopub.status.busy": "2023-06-25T21:38:17.793107Z",
     "iopub.status.idle": "2023-06-25T21:38:17.799804Z",
     "shell.execute_reply": "2023-06-25T21:38:17.798751Z",
     "shell.execute_reply.started": "2023-06-25T21:38:17.793455Z"
    },
    "jupyter": {
     "outputs_hidden": false
    },
    "pycharm": {
     "name": "#%%\n"
    },
    "trusted": true
   },
   "outputs": [
    {
     "name": "stdout",
     "output_type": "stream",
     "text": [
      "d9404b4a794c07b5e2cdf3203aabf06d70c6be9b\n",
      "CENTAURO: A Hybrid Locomotion and High Power Resilient Manipulation Platform\n",
      "Despite the development of a large number of mobile manipulation robots, very few platforms can demonstrate the required strength and mechanical sturdiness to accommodate the needs of real-world applications with high payload and moderate/harsh physical interaction demands, e.g., in disaster-response scenarios or heavy logistics/collaborative tasks. In this letter, we introduce the design of a wheeled-legged mobile manipulation platform capable of executing demanding manipulation tasks, and demonstrating significant physical resilience while possessing a body size (height/width) and weight compatible to that of a human. The achieved performance is the result of combining a number of design and implementation principles related to the actuation system, the integration of body structure and actuation, and the wheeled-legged mobility concept. These design principles are discussed, and the solutions adopted for various robot components are detailed. Finally, the robot performance is demonstrated in a set of experiments validating its power and strength capability when manipulating heavy payload and executing tasks involving high impact physical interactions.\n",
      "['Computer Science']\n",
      "{'paperId': '94eebbefe8a37cf394be899b85af295c2e3a1f01', 'title': 'Efficient Parametric Approximations of Neural Network Function Space Distance', 'abstract': 'It is often useful to compactly summarize important properties of model parameters and training data so that they can be used later without storing and/or iterating over the entire dataset. As a specific case, we consider estimating the Function Space Distance (FSD) over a training set, i.e. the average discrepancy between the outputs of two neural networks. We propose a Linearized Activation Function TRick (LAFTR) and derive an efficient approximation to FSD for ReLU neural networks. The key idea is to approximate the architecture as a linear network with stochastic gating. Despite requiring only one parameter per unit of the network, our approach outcompetes other parametric approximations with larger memory requirements. Applied to continual learning, our parametric approximation is competitive with state-of-the-art nonparametric approximations, which require storing many training examples. Furthermore, we show its efficacy in estimating influence functions accurately and detecting mislabeled examples without expensive iterations over the entire dataset.', 'fieldsOfStudy': ['Computer Science', 'Mathematics']}\n"
     ]
    }
   ],
   "source": [
    "print(sample_user['positive_papers'][0]['paperId'])\n",
    "print(sample_user['positive_papers'][0]['title'])\n",
    "print(sample_user['positive_papers'][0]['abstract'])\n",
    "print(sample_user['positive_papers'][0]['fieldsOfStudy'])\n",
    "print(sample_user['recommendedPapers'][0])"
   ]
  },
  {
   "cell_type": "code",
   "execution_count": 7,
   "metadata": {
    "execution": {
     "iopub.execute_input": "2023-06-25T21:38:18.659911Z",
     "iopub.status.busy": "2023-06-25T21:38:18.658978Z",
     "iopub.status.idle": "2023-06-25T21:38:18.676734Z",
     "shell.execute_reply": "2023-06-25T21:38:18.675790Z",
     "shell.execute_reply.started": "2023-06-25T21:38:18.659877Z"
    },
    "trusted": true
   },
   "outputs": [],
   "source": [
    "users_df = pd.DataFrame(\n",
    "    [{\n",
    "        'favorites': [x['paperId'] for x in user['positive_papers']],\n",
    "        'new_favorites': [x['paperId'] for x in user['recommendedPapers']],\n",
    "        'id': i + 1\n",
    "    } for i, user in enumerate(recommended_papers)])"
   ]
  },
  {
   "cell_type": "code",
   "execution_count": 8,
   "metadata": {
    "execution": {
     "iopub.execute_input": "2023-06-25T21:38:19.217044Z",
     "iopub.status.busy": "2023-06-25T21:38:19.216677Z",
     "iopub.status.idle": "2023-06-25T21:38:19.275777Z",
     "shell.execute_reply": "2023-06-25T21:38:19.274816Z",
     "shell.execute_reply.started": "2023-06-25T21:38:19.217014Z"
    },
    "trusted": true
   },
   "outputs": [],
   "source": [
    "all_papers_list = [user['positive_papers'] for user in recommended_papers] + [user['recommendedPapers'] for user in\n",
    "                                                                              recommended_papers]\n",
    "all_papers_list = [paper for l in all_papers_list for paper in l]\n",
    "papers_df = pd.DataFrame(all_papers_list)\n",
    "papers_df = papers_df.drop_duplicates(subset=['paperId'], keep='last')"
   ]
  },
  {
   "cell_type": "code",
   "execution_count": 9,
   "metadata": {
    "execution": {
     "iopub.execute_input": "2023-06-25T21:38:19.671503Z",
     "iopub.status.busy": "2023-06-25T21:38:19.671144Z",
     "iopub.status.idle": "2023-06-25T21:38:19.700204Z",
     "shell.execute_reply": "2023-06-25T21:38:19.699197Z",
     "shell.execute_reply.started": "2023-06-25T21:38:19.671476Z"
    },
    "trusted": true
   },
   "outputs": [
    {
     "data": {
      "text/html": [
       "<div>\n",
       "<style scoped>\n",
       "    .dataframe tbody tr th:only-of-type {\n",
       "        vertical-align: middle;\n",
       "    }\n",
       "\n",
       "    .dataframe tbody tr th {\n",
       "        vertical-align: top;\n",
       "    }\n",
       "\n",
       "    .dataframe thead th {\n",
       "        text-align: right;\n",
       "    }\n",
       "</style>\n",
       "<table border=\"1\" class=\"dataframe\">\n",
       "  <thead>\n",
       "    <tr style=\"text-align: right;\">\n",
       "      <th></th>\n",
       "      <th>paperId</th>\n",
       "      <th>title</th>\n",
       "      <th>abstract</th>\n",
       "      <th>fieldsOfStudy</th>\n",
       "    </tr>\n",
       "  </thead>\n",
       "  <tbody>\n",
       "    <tr>\n",
       "      <th>7</th>\n",
       "      <td>9d36472d5ae93ce8bd5d5ba8ca602d65e9435f9c</td>\n",
       "      <td>MultiSpeech: Multi-Speaker Text to Speech with...</td>\n",
       "      <td>Transformer-based text to speech (TTS) model (...</td>\n",
       "      <td>[Computer Science, Engineering]</td>\n",
       "    </tr>\n",
       "    <tr>\n",
       "      <th>13</th>\n",
       "      <td>002f450563b22a0f7918e1a1ae4d5ccb31daf720</td>\n",
       "      <td>Selecting the Best Data Filtering Method for N...</td>\n",
       "      <td>Performance of NMT systems has been proven to ...</td>\n",
       "      <td>None</td>\n",
       "    </tr>\n",
       "    <tr>\n",
       "      <th>17</th>\n",
       "      <td>b54c477885d53a27039c81f028e710ca54c83f11</td>\n",
       "      <td>Semi-Supervised Kernel Mean Shift Clustering</td>\n",
       "      <td>Mean shift clustering is a powerful nonparamet...</td>\n",
       "      <td>[Mathematics, Computer Science, Medicine]</td>\n",
       "    </tr>\n",
       "    <tr>\n",
       "      <th>21</th>\n",
       "      <td>887dca3660b7c6543faac513d804e621f0134470</td>\n",
       "      <td>Text-to-Image Generation Grounded by Fine-Grai...</td>\n",
       "      <td>Localized Narratives [28] is a dataset with de...</td>\n",
       "      <td>[Computer Science]</td>\n",
       "    </tr>\n",
       "    <tr>\n",
       "      <th>60</th>\n",
       "      <td>c0afb5edcfbe0281e33ee314b4a09a885bcc694a</td>\n",
       "      <td>Large Scaled Relation Extraction With Reinforc...</td>\n",
       "      <td>\\n \\n Sentence relation extraction aims to ext...</td>\n",
       "      <td>[Computer Science]</td>\n",
       "    </tr>\n",
       "  </tbody>\n",
       "</table>\n",
       "</div>"
      ],
      "text/plain": [
       "                                     paperId  \\\n",
       "7   9d36472d5ae93ce8bd5d5ba8ca602d65e9435f9c   \n",
       "13  002f450563b22a0f7918e1a1ae4d5ccb31daf720   \n",
       "17  b54c477885d53a27039c81f028e710ca54c83f11   \n",
       "21  887dca3660b7c6543faac513d804e621f0134470   \n",
       "60  c0afb5edcfbe0281e33ee314b4a09a885bcc694a   \n",
       "\n",
       "                                                title  \\\n",
       "7   MultiSpeech: Multi-Speaker Text to Speech with...   \n",
       "13  Selecting the Best Data Filtering Method for N...   \n",
       "17       Semi-Supervised Kernel Mean Shift Clustering   \n",
       "21  Text-to-Image Generation Grounded by Fine-Grai...   \n",
       "60  Large Scaled Relation Extraction With Reinforc...   \n",
       "\n",
       "                                             abstract  \\\n",
       "7   Transformer-based text to speech (TTS) model (...   \n",
       "13  Performance of NMT systems has been proven to ...   \n",
       "17  Mean shift clustering is a powerful nonparamet...   \n",
       "21  Localized Narratives [28] is a dataset with de...   \n",
       "60  \\n \\n Sentence relation extraction aims to ext...   \n",
       "\n",
       "                                fieldsOfStudy  \n",
       "7             [Computer Science, Engineering]  \n",
       "13                                       None  \n",
       "17  [Mathematics, Computer Science, Medicine]  \n",
       "21                         [Computer Science]  \n",
       "60                         [Computer Science]  "
      ]
     },
     "execution_count": 9,
     "metadata": {},
     "output_type": "execute_result"
    }
   ],
   "source": [
    "papers_df.head()"
   ]
  },
  {
   "cell_type": "code",
   "execution_count": 10,
   "metadata": {
    "execution": {
     "iopub.execute_input": "2023-06-25T21:38:20.090975Z",
     "iopub.status.busy": "2023-06-25T21:38:20.090605Z",
     "iopub.status.idle": "2023-06-25T21:38:20.105389Z",
     "shell.execute_reply": "2023-06-25T21:38:20.104134Z",
     "shell.execute_reply.started": "2023-06-25T21:38:20.090933Z"
    },
    "trusted": true
   },
   "outputs": [
    {
     "data": {
      "text/html": [
       "<div>\n",
       "<style scoped>\n",
       "    .dataframe tbody tr th:only-of-type {\n",
       "        vertical-align: middle;\n",
       "    }\n",
       "\n",
       "    .dataframe tbody tr th {\n",
       "        vertical-align: top;\n",
       "    }\n",
       "\n",
       "    .dataframe thead th {\n",
       "        text-align: right;\n",
       "    }\n",
       "</style>\n",
       "<table border=\"1\" class=\"dataframe\">\n",
       "  <thead>\n",
       "    <tr style=\"text-align: right;\">\n",
       "      <th></th>\n",
       "      <th>favorites</th>\n",
       "      <th>new_favorites</th>\n",
       "      <th>id</th>\n",
       "    </tr>\n",
       "  </thead>\n",
       "  <tbody>\n",
       "    <tr>\n",
       "      <th>0</th>\n",
       "      <td>[d9404b4a794c07b5e2cdf3203aabf06d70c6be9b, 656...</td>\n",
       "      <td>[94eebbefe8a37cf394be899b85af295c2e3a1f01, ee4...</td>\n",
       "      <td>1</td>\n",
       "    </tr>\n",
       "    <tr>\n",
       "      <th>1</th>\n",
       "      <td>[81844300b993b53280083754a3860ecb59120eaf, a5d...</td>\n",
       "      <td>[87f95ab94bb19eb7716e0d4bbe0d37ca30f64157, 0dd...</td>\n",
       "      <td>2</td>\n",
       "    </tr>\n",
       "    <tr>\n",
       "      <th>2</th>\n",
       "      <td>[3f3704d87860a816ac3cc7257a9acccf0d463b7a, 1ef...</td>\n",
       "      <td>[0dd2dafa9389f83160a63be3fde23b5d121a4786, c92...</td>\n",
       "      <td>3</td>\n",
       "    </tr>\n",
       "    <tr>\n",
       "      <th>3</th>\n",
       "      <td>[ef8c190afe11b0a73e1b3f1a989ec70e7bfd444d, b12...</td>\n",
       "      <td>[191cbd8198393aebaa15f2c1e4cdf116f9d58cb0, 682...</td>\n",
       "      <td>4</td>\n",
       "    </tr>\n",
       "    <tr>\n",
       "      <th>4</th>\n",
       "      <td>[cb2cc1a7e8aaabaa8efa3c7e63b3c621ec6e062f, a47...</td>\n",
       "      <td>[3881ec4fad84887a03aeacdf46cec2e787656e8f, 757...</td>\n",
       "      <td>5</td>\n",
       "    </tr>\n",
       "  </tbody>\n",
       "</table>\n",
       "</div>"
      ],
      "text/plain": [
       "                                           favorites  \\\n",
       "0  [d9404b4a794c07b5e2cdf3203aabf06d70c6be9b, 656...   \n",
       "1  [81844300b993b53280083754a3860ecb59120eaf, a5d...   \n",
       "2  [3f3704d87860a816ac3cc7257a9acccf0d463b7a, 1ef...   \n",
       "3  [ef8c190afe11b0a73e1b3f1a989ec70e7bfd444d, b12...   \n",
       "4  [cb2cc1a7e8aaabaa8efa3c7e63b3c621ec6e062f, a47...   \n",
       "\n",
       "                                       new_favorites  id  \n",
       "0  [94eebbefe8a37cf394be899b85af295c2e3a1f01, ee4...   1  \n",
       "1  [87f95ab94bb19eb7716e0d4bbe0d37ca30f64157, 0dd...   2  \n",
       "2  [0dd2dafa9389f83160a63be3fde23b5d121a4786, c92...   3  \n",
       "3  [191cbd8198393aebaa15f2c1e4cdf116f9d58cb0, 682...   4  \n",
       "4  [3881ec4fad84887a03aeacdf46cec2e787656e8f, 757...   5  "
      ]
     },
     "execution_count": 10,
     "metadata": {},
     "output_type": "execute_result"
    }
   ],
   "source": [
    "users_df.head()"
   ]
  },
  {
   "cell_type": "code",
   "execution_count": 11,
   "metadata": {
    "execution": {
     "iopub.execute_input": "2023-06-25T21:38:20.494382Z",
     "iopub.status.busy": "2023-06-25T21:38:20.493779Z",
     "iopub.status.idle": "2023-06-25T21:38:21.009790Z",
     "shell.execute_reply": "2023-06-25T21:38:21.008781Z",
     "shell.execute_reply.started": "2023-06-25T21:38:20.494337Z"
    },
    "trusted": true
   },
   "outputs": [
    {
     "data": {
      "image/png": "[encoded data removed]",
      "text/plain": [
       "<Figure size 1000x600 with 1 Axes>"
      ]
     },
     "metadata": {},
     "output_type": "display_data"
    }
   ],
   "source": [
    "import pandas as pd\n",
    "import matplotlib.pyplot as plt\n",
    "\n",
    "study_fields_counts = papers_df['fieldsOfStudy'].explode().value_counts()\n",
    "\n",
    "plt.figure(figsize=(10, 6))\n",
    "study_fields_counts.plot(kind='bar')\n",
    "plt.title('Number of Papers by Study Field')\n",
    "plt.xlabel('Study Field')\n",
    "plt.ylabel('Count')\n",
    "plt.xticks(rotation=45)\n",
    "plt.tight_layout()\n",
    "plt.show()"
   ]
  },
  {
   "cell_type": "code",
   "execution_count": 12,
   "metadata": {
    "execution": {
     "iopub.execute_input": "2023-06-25T21:38:21.011856Z",
     "iopub.status.busy": "2023-06-25T21:38:21.011352Z",
     "iopub.status.idle": "2023-06-25T21:38:21.020657Z",
     "shell.execute_reply": "2023-06-25T21:38:21.019118Z",
     "shell.execute_reply.started": "2023-06-25T21:38:21.011827Z"
    },
    "trusted": true
   },
   "outputs": [],
   "source": [
    "unique_fields = papers_df['fieldsOfStudy'].explode().unique()"
   ]
  },
  {
   "cell_type": "code",
   "execution_count": 13,
   "metadata": {
    "execution": {
     "iopub.execute_input": "2023-06-25T21:38:22.075804Z",
     "iopub.status.busy": "2023-06-25T21:38:22.075433Z",
     "iopub.status.idle": "2023-06-25T21:38:22.080474Z",
     "shell.execute_reply": "2023-06-25T21:38:22.079790Z",
     "shell.execute_reply.started": "2023-06-25T21:38:22.075776Z"
    },
    "trusted": true
   },
   "outputs": [],
   "source": [
    "unique_fields = list(unique_fields)"
   ]
  },
  {
   "cell_type": "code",
   "execution_count": 14,
   "metadata": {
    "execution": {
     "iopub.execute_input": "2023-06-25T21:38:23.067086Z",
     "iopub.status.busy": "2023-06-25T21:38:23.066680Z",
     "iopub.status.idle": "2023-06-25T21:38:23.073073Z",
     "shell.execute_reply": "2023-06-25T21:38:23.072010Z",
     "shell.execute_reply.started": "2023-06-25T21:38:23.067052Z"
    },
    "trusted": true
   },
   "outputs": [
    {
     "data": {
      "text/plain": [
       "19"
      ]
     },
     "execution_count": 14,
     "metadata": {},
     "output_type": "execute_result"
    }
   ],
   "source": [
    "len(unique_fields)"
   ]
  },
  {
   "cell_type": "code",
   "execution_count": 15,
   "metadata": {
    "execution": {
     "iopub.execute_input": "2023-06-25T21:38:25.085610Z",
     "iopub.status.busy": "2023-06-25T21:38:25.085236Z",
     "iopub.status.idle": "2023-06-25T21:38:25.092353Z",
     "shell.execute_reply": "2023-06-25T21:38:25.091152Z",
     "shell.execute_reply.started": "2023-06-25T21:38:25.085572Z"
    },
    "trusted": true
   },
   "outputs": [
    {
     "data": {
      "text/plain": [
       "['Computer Science',\n",
       " 'Engineering',\n",
       " None,\n",
       " 'Mathematics',\n",
       " 'Medicine',\n",
       " 'Economics',\n",
       " 'Business',\n",
       " 'Physics',\n",
       " 'Biology',\n",
       " 'Psychology',\n",
       " 'Geography',\n",
       " 'Environmental Science',\n",
       " 'Chemistry',\n",
       " 'Materials Science',\n",
       " 'Geology',\n",
       " 'Political Science',\n",
       " 'Sociology',\n",
       " 'Art',\n",
       " 'Philosophy']"
      ]
     },
     "execution_count": 15,
     "metadata": {},
     "output_type": "execute_result"
    }
   ],
   "source": [
    "unique_fields"
   ]
  },
  {
   "cell_type": "code",
   "execution_count": 157,
   "metadata": {
    "execution": {
     "iopub.execute_input": "2023-06-25T22:16:09.356025Z",
     "iopub.status.busy": "2023-06-25T22:16:09.355631Z",
     "iopub.status.idle": "2023-06-25T22:16:40.532887Z",
     "shell.execute_reply": "2023-06-25T22:16:40.531831Z",
     "shell.execute_reply.started": "2023-06-25T22:16:09.355995Z"
    },
    "trusted": true
   },
   "outputs": [],
   "source": [
    "user_field_ratio = []\n",
    "for _, user in users_df.iterrows():\n",
    "    favorite_papers = user['favorites']\n",
    "    field_counts = {}\n",
    "\n",
    "    for paper in favorite_papers:\n",
    "        fields = papers_df.loc[papers_df['paperId'] == paper, 'fieldsOfStudy'].values[0]\n",
    "        if fields:\n",
    "            for field in fields:\n",
    "                field_counts[field] = field_counts.get(field, 0) + 1\n",
    "\n",
    "    total_papers = len(favorite_papers)\n",
    "    field_ratio = {field: count / total_papers for field, count in field_counts.items()}\n",
    "    user_field_ratio.append(field_ratio)\n",
    "\n",
    "users_df['field_tendency'] = [[x.get(f, 0) for f in unique_fields] for x in user_field_ratio]"
   ]
  },
  {
   "cell_type": "code",
   "execution_count": 158,
   "metadata": {
    "execution": {
     "iopub.execute_input": "2023-06-25T22:16:56.003414Z",
     "iopub.status.busy": "2023-06-25T22:16:56.002998Z",
     "iopub.status.idle": "2023-06-25T22:16:56.010880Z",
     "shell.execute_reply": "2023-06-25T22:16:56.009655Z",
     "shell.execute_reply.started": "2023-06-25T22:16:56.003383Z"
    },
    "trusted": true
   },
   "outputs": [],
   "source": [
    "from sklearn.model_selection import train_test_split\n",
    "\n",
    "train_users_df, test_users_df = train_test_split(users_df, test_size=0.2)"
   ]
  },
  {
   "cell_type": "code",
   "execution_count": 159,
   "metadata": {
    "execution": {
     "iopub.execute_input": "2023-06-25T22:16:57.729924Z",
     "iopub.status.busy": "2023-06-25T22:16:57.729124Z",
     "iopub.status.idle": "2023-06-25T22:16:57.738287Z",
     "shell.execute_reply": "2023-06-25T22:16:57.736916Z",
     "shell.execute_reply.started": "2023-06-25T22:16:57.729881Z"
    },
    "trusted": true
   },
   "outputs": [
    {
     "data": {
      "text/plain": [
       "(109, 4)"
      ]
     },
     "execution_count": 159,
     "metadata": {},
     "output_type": "execute_result"
    }
   ],
   "source": [
    "test_users_df.shape"
   ]
  },
  {
   "cell_type": "code",
   "execution_count": 160,
   "metadata": {
    "execution": {
     "iopub.execute_input": "2023-06-25T22:17:04.948969Z",
     "iopub.status.busy": "2023-06-25T22:17:04.948577Z",
     "iopub.status.idle": "2023-06-25T22:17:04.967140Z",
     "shell.execute_reply": "2023-06-25T22:17:04.966095Z",
     "shell.execute_reply.started": "2023-06-25T22:17:04.948923Z"
    },
    "trusted": true
   },
   "outputs": [
    {
     "data": {
      "text/html": [
       "<div>\n",
       "<style scoped>\n",
       "    .dataframe tbody tr th:only-of-type {\n",
       "        vertical-align: middle;\n",
       "    }\n",
       "\n",
       "    .dataframe tbody tr th {\n",
       "        vertical-align: top;\n",
       "    }\n",
       "\n",
       "    .dataframe thead th {\n",
       "        text-align: right;\n",
       "    }\n",
       "</style>\n",
       "<table border=\"1\" class=\"dataframe\">\n",
       "  <thead>\n",
       "    <tr style=\"text-align: right;\">\n",
       "      <th></th>\n",
       "      <th>favorites</th>\n",
       "      <th>new_favorites</th>\n",
       "      <th>id</th>\n",
       "      <th>field_tendency</th>\n",
       "    </tr>\n",
       "  </thead>\n",
       "  <tbody>\n",
       "    <tr>\n",
       "      <th>178</th>\n",
       "      <td>[ebd0473f6c43cfd73d653c9919fa7b6285e2850b, 469...</td>\n",
       "      <td>[5cbadc7545b5296a8b245be20c78f8b9b628973c, ba8...</td>\n",
       "      <td>179</td>\n",
       "      <td>[0.86, 0.14, 0, 0.08, 0.02, 0, 0, 0, 0.02, 0, ...</td>\n",
       "    </tr>\n",
       "    <tr>\n",
       "      <th>412</th>\n",
       "      <td>[2b13ffc8c770160f03cc72b6f2c9ad788243d988, 586...</td>\n",
       "      <td>[2714c11c0809d638e1e501831913671914407e5d, 590...</td>\n",
       "      <td>413</td>\n",
       "      <td>[0.84, 0.16, 0, 0.02, 0, 0.02, 0, 0.04, 0.02, ...</td>\n",
       "    </tr>\n",
       "    <tr>\n",
       "      <th>93</th>\n",
       "      <td>[f5252075bb34666863cd01cc82c2d941d4ffe6c6, ef8...</td>\n",
       "      <td>[e82717bc04fd1143828d86236662aceae24b2d36, 67b...</td>\n",
       "      <td>94</td>\n",
       "      <td>[0.86, 0.06, 0, 0.18, 0.18, 0, 0, 0.02, 0.06, ...</td>\n",
       "    </tr>\n",
       "    <tr>\n",
       "      <th>67</th>\n",
       "      <td>[451850bcc3dc33897564b57b1a732df350bab3d1, 1de...</td>\n",
       "      <td>[555e1eb9a171b70309c84d5c5db71e78e255c403, be5...</td>\n",
       "      <td>68</td>\n",
       "      <td>[0.84, 0.04, 0, 0.32, 0.18, 0.02, 0, 0, 0.02, ...</td>\n",
       "    </tr>\n",
       "    <tr>\n",
       "      <th>458</th>\n",
       "      <td>[1255e08be4331e48760cbbacb8ed93ee0fe29151, cd9...</td>\n",
       "      <td>[2b6aa2226b8333b89a03c3f83e2d015a772f92a4, 79f...</td>\n",
       "      <td>459</td>\n",
       "      <td>[0.78, 0.06, 0, 0.26, 0.18, 0.04, 0.02, 0.02, ...</td>\n",
       "    </tr>\n",
       "  </tbody>\n",
       "</table>\n",
       "</div>"
      ],
      "text/plain": [
       "                                             favorites  \\\n",
       "178  [ebd0473f6c43cfd73d653c9919fa7b6285e2850b, 469...   \n",
       "412  [2b13ffc8c770160f03cc72b6f2c9ad788243d988, 586...   \n",
       "93   [f5252075bb34666863cd01cc82c2d941d4ffe6c6, ef8...   \n",
       "67   [451850bcc3dc33897564b57b1a732df350bab3d1, 1de...   \n",
       "458  [1255e08be4331e48760cbbacb8ed93ee0fe29151, cd9...   \n",
       "\n",
       "                                         new_favorites   id  \\\n",
       "178  [5cbadc7545b5296a8b245be20c78f8b9b628973c, ba8...  179   \n",
       "412  [2714c11c0809d638e1e501831913671914407e5d, 590...  413   \n",
       "93   [e82717bc04fd1143828d86236662aceae24b2d36, 67b...   94   \n",
       "67   [555e1eb9a171b70309c84d5c5db71e78e255c403, be5...   68   \n",
       "458  [2b6aa2226b8333b89a03c3f83e2d015a772f92a4, 79f...  459   \n",
       "\n",
       "                                        field_tendency  \n",
       "178  [0.86, 0.14, 0, 0.08, 0.02, 0, 0, 0, 0.02, 0, ...  \n",
       "412  [0.84, 0.16, 0, 0.02, 0, 0.02, 0, 0.04, 0.02, ...  \n",
       "93   [0.86, 0.06, 0, 0.18, 0.18, 0, 0, 0.02, 0.06, ...  \n",
       "67   [0.84, 0.04, 0, 0.32, 0.18, 0.02, 0, 0, 0.02, ...  \n",
       "458  [0.78, 0.06, 0, 0.26, 0.18, 0.04, 0.02, 0.02, ...  "
      ]
     },
     "execution_count": 160,
     "metadata": {},
     "output_type": "execute_result"
    }
   ],
   "source": [
    "train_users_df.head()"
   ]
  },
  {
   "cell_type": "markdown",
   "metadata": {
    "pycharm": {
     "name": "#%% md\n"
    }
   },
   "source": [
    "<div dir=\"rtl\">\n",
    "<font face=\"XB Zar\" size=4>\n",
    "    <h2>\n",
    "    <b>روش Collaborative Filtering (۱۰ نمره)</b>\n",
    "    </h2>\n",
    "</font>\n",
    "<font face=\"XB Zar\" size=3>\n",
    "\n",
    "در این راهکار سعی می‌کنیم با استفاده از کاربران مشابه با یک کاربر، سلیقه‌ی او را حدس بزنیم و مقالاتی را که کاربران مشابه دیده‌اند را به کاربر نمایش دهیم.\n",
    "\n",
    "در این روش ابتدا باید $N$ کاربر که سلیقه‌ی مشابه با کاربر $x$ دارند را پیدا کنید، و با ترکیب لیست مقالات جدید مورد علاقه‌ی آن $N$ کاربر مشابه،\n",
    " ۱۰ مقاله‌ به کاربر $x$ پیشنهاد دهید.\n",
    "\n",
    "توجه داشته باشید که برای اینکه شباهت دو کاربر را پیدا کنید، باید cosine_similarity بین بردار زمینه‌های مورد علاقه‌ی دو کاربر استفاده کنید. این بردار از $M$ درایه تشکیل شده است، که $M$ تعداد زمینه‌های یکتاییست که در داده‌ها وجود دارد. و در این بردار درایه‌ی $j$ام\n",
    "نشان دهنده‌ی نسبت تعداد مقالات خوانده‌ی شده‌ کاربر در زمینه‌ی $j$ به تعداد کل مقاله‌های خوانده شده توسط او می‌باشد. (توجه کنید که هر مقاله می‌تواند چند زمینه داشته باشد و بنابراین حاصل جمع درایه‌های این بردار الزاما یک نمی‌باشد)\n",
    "\n",
    "</font>\n",
    "</div>"
   ]
  },
  {
   "cell_type": "code",
   "execution_count": 161,
   "metadata": {
    "execution": {
     "iopub.execute_input": "2023-06-25T22:17:07.182700Z",
     "iopub.status.busy": "2023-06-25T22:17:07.182309Z",
     "iopub.status.idle": "2023-06-25T22:17:07.199409Z",
     "shell.execute_reply": "2023-06-25T22:17:07.198337Z",
     "shell.execute_reply.started": "2023-06-25T22:17:07.182671Z"
    },
    "trusted": true
   },
   "outputs": [
    {
     "data": {
      "text/html": [
       "<div>\n",
       "<style scoped>\n",
       "    .dataframe tbody tr th:only-of-type {\n",
       "        vertical-align: middle;\n",
       "    }\n",
       "\n",
       "    .dataframe tbody tr th {\n",
       "        vertical-align: top;\n",
       "    }\n",
       "\n",
       "    .dataframe thead th {\n",
       "        text-align: right;\n",
       "    }\n",
       "</style>\n",
       "<table border=\"1\" class=\"dataframe\">\n",
       "  <thead>\n",
       "    <tr style=\"text-align: right;\">\n",
       "      <th></th>\n",
       "      <th>favorites</th>\n",
       "      <th>new_favorites</th>\n",
       "      <th>id</th>\n",
       "      <th>field_tendency</th>\n",
       "    </tr>\n",
       "  </thead>\n",
       "  <tbody>\n",
       "    <tr>\n",
       "      <th>0</th>\n",
       "      <td>[d9404b4a794c07b5e2cdf3203aabf06d70c6be9b, 656...</td>\n",
       "      <td>[94eebbefe8a37cf394be899b85af295c2e3a1f01, ee4...</td>\n",
       "      <td>1</td>\n",
       "      <td>[0.78, 0.08, 0, 0.28, 0.22, 0, 0.02, 0, 0.06, ...</td>\n",
       "    </tr>\n",
       "    <tr>\n",
       "      <th>1</th>\n",
       "      <td>[81844300b993b53280083754a3860ecb59120eaf, a5d...</td>\n",
       "      <td>[87f95ab94bb19eb7716e0d4bbe0d37ca30f64157, 0dd...</td>\n",
       "      <td>2</td>\n",
       "      <td>[0.9, 0.02, 0, 0.22, 0.1, 0, 0, 0, 0.04, 0.02,...</td>\n",
       "    </tr>\n",
       "    <tr>\n",
       "      <th>2</th>\n",
       "      <td>[3f3704d87860a816ac3cc7257a9acccf0d463b7a, 1ef...</td>\n",
       "      <td>[0dd2dafa9389f83160a63be3fde23b5d121a4786, c92...</td>\n",
       "      <td>3</td>\n",
       "      <td>[0.82, 0.06, 0, 0.16, 0.1, 0, 0, 0.04, 0.04, 0...</td>\n",
       "    </tr>\n",
       "    <tr>\n",
       "      <th>3</th>\n",
       "      <td>[ef8c190afe11b0a73e1b3f1a989ec70e7bfd444d, b12...</td>\n",
       "      <td>[191cbd8198393aebaa15f2c1e4cdf116f9d58cb0, 682...</td>\n",
       "      <td>4</td>\n",
       "      <td>[0.66, 0.04, 0, 0.22, 0.2, 0.02, 0.02, 0, 0.04...</td>\n",
       "    </tr>\n",
       "    <tr>\n",
       "      <th>4</th>\n",
       "      <td>[cb2cc1a7e8aaabaa8efa3c7e63b3c621ec6e062f, a47...</td>\n",
       "      <td>[3881ec4fad84887a03aeacdf46cec2e787656e8f, 757...</td>\n",
       "      <td>5</td>\n",
       "      <td>[0.84, 0.06, 0, 0.12, 0.08, 0.04, 0, 0.04, 0.0...</td>\n",
       "    </tr>\n",
       "  </tbody>\n",
       "</table>\n",
       "</div>"
      ],
      "text/plain": [
       "                                           favorites  \\\n",
       "0  [d9404b4a794c07b5e2cdf3203aabf06d70c6be9b, 656...   \n",
       "1  [81844300b993b53280083754a3860ecb59120eaf, a5d...   \n",
       "2  [3f3704d87860a816ac3cc7257a9acccf0d463b7a, 1ef...   \n",
       "3  [ef8c190afe11b0a73e1b3f1a989ec70e7bfd444d, b12...   \n",
       "4  [cb2cc1a7e8aaabaa8efa3c7e63b3c621ec6e062f, a47...   \n",
       "\n",
       "                                       new_favorites  id  \\\n",
       "0  [94eebbefe8a37cf394be899b85af295c2e3a1f01, ee4...   1   \n",
       "1  [87f95ab94bb19eb7716e0d4bbe0d37ca30f64157, 0dd...   2   \n",
       "2  [0dd2dafa9389f83160a63be3fde23b5d121a4786, c92...   3   \n",
       "3  [191cbd8198393aebaa15f2c1e4cdf116f9d58cb0, 682...   4   \n",
       "4  [3881ec4fad84887a03aeacdf46cec2e787656e8f, 757...   5   \n",
       "\n",
       "                                      field_tendency  \n",
       "0  [0.78, 0.08, 0, 0.28, 0.22, 0, 0.02, 0, 0.06, ...  \n",
       "1  [0.9, 0.02, 0, 0.22, 0.1, 0, 0, 0, 0.04, 0.02,...  \n",
       "2  [0.82, 0.06, 0, 0.16, 0.1, 0, 0, 0.04, 0.04, 0...  \n",
       "3  [0.66, 0.04, 0, 0.22, 0.2, 0.02, 0.02, 0, 0.04...  \n",
       "4  [0.84, 0.06, 0, 0.12, 0.08, 0.04, 0, 0.04, 0.0...  "
      ]
     },
     "execution_count": 161,
     "metadata": {},
     "output_type": "execute_result"
    }
   ],
   "source": [
    "users_df.head()"
   ]
  },
  {
   "cell_type": "code",
   "execution_count": 162,
   "metadata": {
    "execution": {
     "iopub.execute_input": "2023-06-25T22:17:07.609989Z",
     "iopub.status.busy": "2023-06-25T22:17:07.609565Z",
     "iopub.status.idle": "2023-06-25T22:17:07.616709Z",
     "shell.execute_reply": "2023-06-25T22:17:07.615508Z",
     "shell.execute_reply.started": "2023-06-25T22:17:07.609932Z"
    },
    "trusted": true
   },
   "outputs": [],
   "source": [
    "def recommend_articles(user_id, users, similar_users, top_k=10):\n",
    "    article_pool = defaultdict(int)\n",
    "    for similar_user in similar_users:\n",
    "        liked_articles = users[users['id'] == similar_user].new_favorites.values[0]\n",
    "        for article in liked_articles:\n",
    "            article_pool[article] += 1\n",
    "    sorted_articles = sorted(article_pool, key=article_pool.get, reverse=True)\n",
    "    recommended_articles = sorted_articles[:top_k]\n",
    "    return recommended_articles"
   ]
  },
  {
   "cell_type": "code",
   "execution_count": null,
   "metadata": {
    "collapsed": false
   },
   "outputs": [],
   "source": [
    "from sklearn.metrics.pairwise import cosine_similarity\n",
    "\n",
    "\n",
    "def collaborative_filtering(users, user_id: int, field_tendency, N=10):\n",
    "    \"\"\"\n",
    "    Returns the top 10 related articles to the user, based on similar users (Similar users should be on \"train data\").\n",
    "\n",
    "    Parameters:\n",
    "    user_id (int): The unique index of the user.\n",
    "    N: The number of hyperparameter N in Nearest Neighbor algorithm.\n",
    "\n",
    "    Returns:\n",
    "    List[str]: A list of 10 article IDs that are most relevant to the user's interests.\n",
    "    \"\"\"\n",
    "    field_tendency_list = list(users.field_tendency)\n",
    "    ids = list(users.id)\n",
    "    similarity_scores = cosine_similarity([field_tendency], field_tendency_list)[0]\n",
    "    top_indices = [ids[x] for x in np.argsort(similarity_scores)[::-1][:10] if ids[x] != user_id]\n",
    "    #     top_matches = [similarity_scores[index] for index in top_indices]\n",
    "    return recommend_articles(user_id, users, top_indices, N)#%% raw\n",
    "<div style=\"direction:rtl;line-height:300%;\">\n",
    "<font face=\"XB Zar\" size=5>\n",
    "<div align=center>\n",
    "<font face=\"B Titr\" size=5>\n",
    "<p></p><p></p>\n",
    "بسمه تعالی\n",
    "<p></p>\n",
    "</font>\n",
    "<p></p>\n",
    "<font>\n",
    "<br>\n",
    "درس بازیابی پیشرفته اطلاعات\n",
    "<br>\n",
    "مدرس: دکتر سلیمانی\n",
    "</font>\n",
    "<p></p>\n",
    "<br>\n",
    "<font>\n",
    "<b>فاز سوم پروژه</b>\n",
    "</font>\n",
    "<br>\n",
    "<br>\n",
    "موعد تحویل:  ساعت ۶ صبح ۸ تیر<br>\n",
    "<br>\n",
    "<br>\n",
    "<br>\n",
    "<font>\n",
    "دانشگاه صنعتی شریف\n",
    "<br>\n",
    "دانشکده مهندسی کامپیوتر\n",
    "<br>\n",
    "<br>\n",
    "</font>\n",
    "</div>\n",
    "</font>\n",
    "</div>"
   ]
  },
  {
   "cell_type": "markdown",
   "metadata": {
    "collapsed": false
   },
   "source": [
    "<div dir=\"rtl\">\n",
    "<font face=\"XB Zar\" size=5>\n",
    "    <h1>\n",
    "    <b>مقدمه</b>\n",
    "    </h1>\n",
    "    <p></p>\n",
    "    <p></p>\n",
    "</font>\n",
    "<font face=\"XB Zar\" size=3>\n",
    "     <br>\n",
    "    در این فاز از پروژه، تمرکز ما بر\n",
    "    crawling\n",
    "    و تحلیل مقالات استخراج‌شده از اینترنت خواهد بود. ما با بررسی تکنیک های مختلف\n",
    "    web crawling\n",
    "    برای استخراج مقالات و سایر اطلاعات مرتبط از وب شروع خواهیم کرد.\n",
    "    <br>\n",
    "    در مرحله بعد، الگوریتم های تجزیه و تحلیل  لینک مانند\n",
    "    PageRank\n",
    "    و\n",
    "    HITS\n",
    "    را برای تعیین اهمیت این مقالات بر اساس نقل قول‌ها، ارجاعات یا اشکال دیگر پیوندها اعمال خواهیم‌کرد. ما همچنین یاد خواهیم‌گرفت که چگونه یک الگوریتم\n",
    "    PageRank\n",
    "    شخصی‌سازی‌شده را پیاده‌سازی کنیم که ترجیحات کاربر را برای ارائه نتایج مرتبط تر در نظر می‌گیرد.\n",
    "    <br>\n",
    "    در بخش سوم این مرحله، یک موتور جستجوی شخصی‌سازی شده را پیاده‌سازی میکنیم و یاد می‌گیریم که چگونه موتور جستجویی بسازیم که نتایجی را بر اساس ترجیحات کاربر ارائه دهد.\n",
    "    <br>\n",
    "در نهایت، ما یک\n",
    "    task\n",
    "     در مورد\n",
    "    recommendation system\n",
    "    ها خواهیم‌داشت، که در آن از تکنیک های مختلف برای توصیه مقالات یا صفحات وب به کاربران بر اساس ترجیحات و رفتار آنها استفاده خواهیم کرد.\n",
    "    <br>\n",
    "     تنها زبان قابل قبول برای پروژه پایتون است. محدودیت استفاده از کتاب‌خانه‌های آماده در هر بخش مشخص شده است. در انتهای پروژه قرار است یک سیستم یکپارچه‌ی جست‌و‌جو داشته باشید، بنابراین به پیاده‌سازی هر چه بهتر این فاز توجه داشته باشید.\n",
    "</font>\n",
    "</div>\n"
   ]
  },
  {
   "cell_type": "markdown",
   "metadata": {
    "collapsed": false
   },
   "source": [
    "<div dir=\"rtl\">\n",
    "<font face=\"XB Zar\" size=4>\n",
    "    <h1>\n",
    "    <b>پیاده‌سازی Crawler (۴۰ نمره)</b>\n",
    "    </h1>\n",
    "</font>\n",
    "    <br>\n",
    "\n",
    "<font face=\"XB Zar\" size=3>\n",
    "   در این بخش باید یک Crawler\n",
    "    برای واکشی اطلاعات تعدادی مقاله از سایت <a href=\"https://www.semanticscholar.org/\">Semantic Scholar</a> پیاده سازی کنید.\n",
    "   اطلاعات واکشی شده باید حاوی موارد زیر باشد.\n",
    "</font>\n",
    "</div>\n",
    "<br>\n",
    "<table dir=\"ltr\" style=\"width: 100%; border-collapse: collapse;\">\n",
    "  <tr>\n",
    "    <th style=\"padding: 8px; text-align: justify; border: 1px solid black;\">ID</th>\n",
    "    <th style=\"padding: 8px; text-align: justify; border: 1px solid black;\">Title</th>\n",
    "    <th style=\"padding: 8px; text-align: justify; border: 1px solid black;\">Abstract</th>\n",
    "    <th style=\"padding: 8px; text-align: justify; border: 1px solid black;\">Publication Year</th>\n",
    "    <th style=\"padding: 8px; text-align: justify; border: 1px solid black;\">Authors</th>\n",
    "    <th style=\"padding: 8px; text-align: justify; border: 1px solid black;\">Related Topics</th>\n",
    "    <th style=\"padding: 8px; text-align: justify; border: 1px solid black;\">Citation Count</th>\n",
    "    <th style=\"padding: 8px; text-align: justify; border: 1px solid black;\">Reference Count</th>\n",
    "    <th style=\"padding: 8px; text-align: justify; border: 1px solid black;\">References</th>\n",
    "  </tr>\n",
    "  <tr>\n",
    "    <td style=\"padding: 8px; text-align: justify; border: 1px solid black;\">Unique ID of the paper</td>\n",
    "    <td style=\"padding: 8px; text-align: justify; border: 1px solid black;\">Title of the paper</td>\n",
    "    <td style=\"padding: 8px; text-align: justify; border: 1px solid black;\">Abstract of the paper</td>\n",
    "    <td style=\"padding: 8px; text-align: justify; border: 1px solid black;\">Publication year</td>\n",
    "    <td style=\"padding: 8px; text-align: justify; border: 1px solid black;\">Name of the first author, ..., Name of the last author</td>\n",
    "    <td style=\"padding: 8px; text-align: justify; border: 1px solid black;\">topic1, topic2, ...</td>\n",
    "    <td style=\"padding: 8px; text-align: justify; border: 1px solid black;\">number of citations of the paper</td>\n",
    "    <td style=\"padding: 8px; text-align: justify; border: 1px solid black;\">number of references of the paper</td>\n",
    "    <td style=\"padding: 8px; text-align: justify; border: 1px solid black;\">ID of the first reference, ..., ID of the tenth reference</td>\n",
    "  </tr>\n",
    "</table>\n",
    "    <br>"
   ]
  },
  {
   "cell_type": "code",
   "execution_count": null,
   "metadata": {
    "collapsed": false
   },
   "outputs": [],
   "source": [
    "!pip install gdown"
   ]
  },
  {
   "cell_type": "code",
   "execution_count": null,
   "metadata": {
    "collapsed": false
   },
   "outputs": [],
   "source": [
    "import time\n",
    "import pprint\n",
    "import json\n",
    "from collections import defaultdict\n",
    "from scipy import linalg\n",
    "import numpy as np\n",
    "import pandas as pd"
   ]
  },
  {
   "cell_type": "code",
   "execution_count": null,
   "metadata": {
    "collapsed": false
   },
   "outputs": [],
   "source": [
    "writers = ['Rabiee', 'Rohban', 'Sharifi', 'Soleymani', 'Kasaei']"
   ]
  },
  {
   "cell_type": "code",
   "execution_count": null,
   "metadata": {
    "collapsed": false
   },
   "outputs": [],
   "source": [
    "import gdown"
   ]
  },
  {
   "cell_type": "code",
   "execution_count": null,
   "metadata": {
    "collapsed": false
   },
   "outputs": [],
   "source": [
    "url = 'https://drive.google.com/drive/folders/1arkiPq89oR9iaQEHaECKKUmqAmwa5IaN?usp=sharing'\n",
    "gdown.download_folder(url, quiet=True)"
   ]
  },
  {
   "cell_type": "markdown",
   "metadata": {
    "collapsed": false
   },
   "source": [
    "<div dir=\"rtl\">\n",
    "\n",
    "<font face=\"XB Zar\" size=3>\n",
    "  ابتدا فرایند واکشی را از ۵ مقاله‌ی هر استاد شروع کنید و\n",
    "    ۱۰\n",
    "    مرجع اول هر مقاله را به صف مقالات اضافه کنید.\n",
    "    فرایند واکشی را نا جایی ادامه دهید که اطلاعات ۲۰۰۰ مقاله را داشته باشید.\n",
    "    اطلاعات مقالات را در فایل crawled_paper_profName.json ذخیره کنید.\n",
    "</font>\n",
    "</div>\n",
    "\n",
    "<div dir=\"rtl\">\n",
    "\n",
    "<font face=\"XB Zar\" size=3>\n",
    "  در پیاده سازی Crawler به موارد زیر دقت کنید.\n",
    "\n",
    "\n",
    "<ul>\n",
    "<li>حق استفاده از api سایت semantic scholar را ندارید.</li>\n",
    "<li>برای واکشی می‌توانید از پکیج‌هایی مثل <a href=\"https://www.selenium.dev/selenium/docs/api/py/\">Selenium</a> و یا <a href=\"https://github.com/scrapy/scrapy\">Scrapy</a>  استفاده کنید. استفاده از پکیج‌های دیگر نیز مجاز است. همچنین برای پارس اطلاعات واکشی شده می‌توانید از پکیج <a href=\"https://pypi.org/project/beautifulsoup4/\">Beautiful Soup</a> استفاده کنید.\n",
    "</li>\n",
    "<li>بین هر بار درخواست از سایت یک فاصله چند ثانیه‌ای بدهید.</li>\n",
    "<li>در زمان تحویل کد Crawler شما اجرا خواهد شد و صحت آن بررسی خواهد شد.</li>\n",
    "<li>در صورتی که ‌Crawler شما به دچار اروری مثل request timeout شد نباید کار خود را متوقف کند.</li>\n",
    "</ul>\n",
    "\n",
    "\n",
    "</font>\n",
    "</div>"
   ]
  },
  {
   "cell_type": "code",
   "execution_count": null,
   "metadata": {
    "collapsed": false
   },
   "outputs": [],
   "source": [
    "!wget https: // dl.google.com/linux/linux_signing_key.pub\n",
    "!sudo apt-key add linux_signing_key.pub\n",
    "!echo 'deb [arch=amd64] http://dl.google.com/linux/chrome/deb/ stable main' >> /etc/apt/sources.list.d/google-chrome.list\n",
    "!sudo apt-get -y update\n",
    "!sudo apt-get install -y google-chrome-stable"
   ]
  },
  {
   "cell_type": "code",
   "execution_count": null,
   "metadata": {
    "collapsed": false
   },
   "outputs": [],
   "source": [
    "# install chromedriver\n",
    "# !apt-get install -y qq unzip\n",
    "!wget -O/tmp/chromedriver.zip http: // chromedriver.storage.googleapis.com/ `curl -sS chromedriver.storage.googleapis.com/LATEST_RELEASE` /chromedriver_linux64.zip\n",
    "!unzip/tmp/chromedriver.zip chromedriver -d/usr/local/bin/"
   ]
  },
  {
   "cell_type": "code",
   "execution_count": null,
   "metadata": {
    "collapsed": false
   },
   "outputs": [],
   "source": [
    "# install selenium\n",
    "!sudo apt install -y python3-selenium\n",
    "!pip install selenium == 3.141.0 > /dev/null"
   ]
  },
  {
   "cell_type": "code",
   "execution_count": null,
   "metadata": {
    "collapsed": false
   },
   "outputs": [],
   "source": [
    "!google-chrome --version"
   ]
  },
  {
   "cell_type": "code",
   "execution_count": null,
   "metadata": {
    "collapsed": false
   },
   "outputs": [],
   "source": [
    "!chromedriver -v"
   ]
  },
  {
   "cell_type": "code",
   "execution_count": null,
   "metadata": {
    "collapsed": false
   },
   "outputs": [],
   "source": [
    "from selenium.webdriver.chrome.options import Options\n",
    "from selenium.webdriver.chrome.service import Service\n",
    "from selenium import webdriver\n",
    "from selenium.webdriver.common.by import By\n",
    "from PIL import Image\n",
    "from selenium.webdriver.common.action_chains import ActionChains"
   ]
  },
  {
   "cell_type": "code",
   "execution_count": null,
   "metadata": {
    "collapsed": false
   },
   "outputs": [],
   "source": [
    "chrome_options = webdriver.ChromeOptions()\n",
    "chrome_options.add_argument('--no-sandbox')\n",
    "chrome_options.add_argument('--headless')\n",
    "chrome_options.add_argument('--disable-gpu')\n",
    "chrome_options.add_argument('--disable-dev-shm-usage')\n",
    "chrome_options.add_argument(\"--window-size=1920,1080\")\n",
    "driver = webdriver.Chrome(options=chrome_options)"
   ]
  },
  {
   "cell_type": "code",
   "execution_count": null,
   "metadata": {
    "collapsed": false
   },
   "outputs": [],
   "source": [
    "paper_urls = defaultdict(list)\n",
    "\n",
    "for writer in writers:\n",
    "    with open(f'/kaggle/working/HW3/{writer}.txt', \"r\") as f:\n",
    "        for url in f:\n",
    "            paper_urls[writer].append((url, None))"
   ]
  },
  {
   "cell_type": "code",
   "execution_count": null,
   "metadata": {
    "collapsed": false
   },
   "outputs": [],
   "source": [
    "paper_urls[writers[0]][2]"
   ]
  },
  {
   "cell_type": "code",
   "execution_count": null,
   "metadata": {
    "collapsed": false
   },
   "outputs": [],
   "source": [
    "def parese_one_paper(url):\n",
    "    driver.get(url)\n",
    "    title = driver.find_element(By.CSS_SELECTOR, \"h1[data-test-id='paper-detail-title']\").text\n",
    "    id_element = driver.find_elements(By.CSS_SELECTOR, \"li[data-test-id='corpus-id']\")\n",
    "    if id_element:\n",
    "        paper_id = id_element[0].text[len('Corpus ID: '):]\n",
    "    else:\n",
    "        paper_id = ''\n",
    "    expand_button = driver.find_elements(By.CSS_SELECTOR, \"button[data-test-id='text-truncator-toggle']\")\n",
    "    if expand_button:\n",
    "        expand_button[0].click()\n",
    "    abstract_element = driver.find_elements(By.CSS_SELECTOR, \".text-truncator.abstract__text.text--preline\")\n",
    "    if abstract_element:\n",
    "        abstract = abstract_element[0].text.rstrip(' \\nCollapse')\n",
    "    else:\n",
    "        abstract = ''\n",
    "    date = driver.find_element(By.CSS_SELECTOR, \"span[data-test-id='paper-year']\").text\n",
    "\n",
    "    expand_authors_button = driver.find_elements(By.CSS_SELECTOR, \"button[data-test-id='author-list-expand']\")\n",
    "    if expand_authors_button:\n",
    "        ActionChains(driver).move_to_element(expand_authors_button[0]).click().perform()\n",
    "    authors = [x.strip().rstrip(\" less\") for x in driver.find_element(By.CSS_SELECTOR, \".author-list\").text.split(',')]\n",
    "    citation_element = driver.find_elements(By.CSS_SELECTOR, \".scorecard-stat__headline__dark\")\n",
    "    if citation_element:\n",
    "        citation_count = citation_element[0].text.rstrip(' Citations')\n",
    "    else:\n",
    "        citation_count = ''\n",
    "    references_count = driver.find_element(By.XPATH, '''//*[@id=\"cited-papers\"]/div[1]/div/div/h2''').text.rstrip(\n",
    "        ' References')\n",
    "    references = driver.find_element(By.XPATH, '''//*[@id=\"cited-papers\"]/div[2]/div/div[1]''')\n",
    "    references_list = references.find_elements(By.CSS_SELECTOR, \".link-button--show-visited\")\n",
    "    reference_urls = []\n",
    "    for reference in references_list:\n",
    "        reference_urls.append(reference.get_attribute('href'))\n",
    "\n",
    "    related = driver.find_element(By.CSS_SELECTOR, \".flex-container.similar-papers__body\")\n",
    "    related_papers = related.find_elements(By.CSS_SELECTOR, '.cl-container')\n",
    "    print(related_papers, related)\n",
    "    related_urls = [element.get_attribute(\"href\") for element in related_papers]\n",
    "\n",
    "    paper_urls[writer] += [(x, paper_id) for x in reference_urls]\n",
    "    paper_data = {\n",
    "        'paper_id': paper_id,\n",
    "        'title': title,\n",
    "        'abstract': abstract,\n",
    "        'date': date,\n",
    "        'authors': authors,\n",
    "        'citation_count': citation_count,\n",
    "        'references_count': references_count,\n",
    "        'reference_ids': [],\n",
    "        'related_papers': related_urls\n",
    "    }\n",
    "    return paper_data"
   ]
  },
  {
   "cell_type": "code",
   "execution_count": null,
   "metadata": {
    "collapsed": false
   },
   "outputs": [],
   "source": [
    "pp = pprint.PrettyPrinter(indent=4)\n",
    "\n",
    "c = 0\n",
    "for writer in writers:\n",
    "    crawled_datas = {}\n",
    "    print(writer)\n",
    "    c = 0\n",
    "    for url, father in paper_urls[writer][:2]:\n",
    "        if c >= 400:\n",
    "            break\n",
    "        try:\n",
    "            time.sleep(10)\n",
    "            data = parese_one_paper(url)\n",
    "            print(data)\n",
    "            crawled_datas[data['paper_id']] = data\n",
    "            if father:\n",
    "                crawled_datas[father]['reference_ids'].append(data['paper_id'])\n",
    "            if c % 20 == 0:\n",
    "                print(c)\n",
    "            c += 1\n",
    "        except Exception as e:\n",
    "            print(e, url)\n",
    "        with open(f\"crawled_paper_{writer}.json\", \"w\") as f:\n",
    "            json.dump(crawled_datas, f)"
   ]
  },
  {
   "cell_type": "code",
   "execution_count": null,
   "metadata": {
    "collapsed": false
   },
   "outputs": [],
   "source": [
    "crawled_datas"
   ]
  },
  {
   "cell_type": "markdown",
   "metadata": {
    "collapsed": false
   },
   "source": [
    "<div dir=\"rtl\">\n",
    "<font face=\"XB Zar\" size=4>\n",
    "    <h1>\n",
    "    <b>PageRank\n",
    "        شخصی‌سازی‌شده\n",
    "        (۲۰ نمره)</b>\n",
    "    </h1>\n",
    "</font>\n",
    "    <br>\n",
    "<font face=\"XB Zar\" size=3>\n",
    "در این بخش، الگوریتم\n",
    "    PageRank\n",
    "    شخصی‌سازی‌شده را پیاده‌سازی می‌کنیم که توسعه‌ای از الگوریتم\n",
    "    PageRank\n",
    "    است که ترجیحات کاربر را در نظر می‌گیرد. الگوریتم\n",
    "    PageRank\n",
    "    شخصی‌سازی‌شده گره‌ها را در یک گراف بر اساس اهمیت آنها برای کاربر رتبه‌بندی می‌کند، نه بر اساس اهمیت کلی آنها در نمودار.\n",
    "\n",
    "</font>\n",
    "</div>"
   ]
  },
  {
   "cell_type": "code",
   "execution_count": null,
   "metadata": {
    "collapsed": false
   },
   "outputs": [],
   "source": [
    "url = \"https://drive.google.com/drive/folders/1Kl_W1zhqfd1kNyKZ_NR5N9YK1gof6TXl\"\n",
    "gdown.download_folder(url, quiet=True)"
   ]
  },
  {
   "cell_type": "code",
   "execution_count": null,
   "metadata": {
    "collapsed": false
   },
   "outputs": [],
   "source": [
    "def create_adjacency_matrix(nodes):\n",
    "    node_ids = set()\n",
    "    for node in nodes:\n",
    "        node_ids.add(nodes[node][\"paper_id\"])\n",
    "        node_ids.update(nodes[node][\"reference_ids\"])\n",
    "\n",
    "    id_to_index = {node_id: index for index, node_id in enumerate(node_ids)}\n",
    "\n",
    "    matrix_size = len(node_ids)\n",
    "    adjacency_matrix = [[0] * matrix_size for _ in range(matrix_size)]\n",
    "\n",
    "    for node in nodes:\n",
    "        n = len(nodes[node][\"reference_ids\"])\n",
    "        source_index = id_to_index[nodes[node][\"paper_id\"]]\n",
    "        for destination_id in nodes[node][\"reference_ids\"]:\n",
    "            destination_index = id_to_index[destination_id]\n",
    "            adjacency_matrix[source_index][destination_index] = 1 / n\n",
    "\n",
    "    return adjacency_matrix, id_to_index\n"
   ]
  },
  {
   "cell_type": "code",
   "execution_count": null,
   "metadata": {
    "collapsed": false
   },
   "outputs": [],
   "source": [
    "from typing import Dict, List\n",
    "\n",
    "\n",
    "def pagerank(graph: Dict[str, List[str]]) -> Dict[str, float]:\n",
    "    \"\"\"\n",
    "    Returns the personalized PageRank scores for the nodes in the graph, given the user's preferences.\n",
    "\n",
    "    Parameters:\n",
    "    graph (Dict[str, List[str]]): The graph represented as a dictionary of node IDs and their outgoing edges.\n",
    "\n",
    "    Returns:\n",
    "    Dict[str, float]: A dictionary of node IDs and their personalized PageRank scores.\n",
    "    \"\"\"\n",
    "    adjacency_matrix, id_to_index = create_adjacency_matrix(graph)\n",
    "    adjacency_matrix = np.array(adjacency_matrix)\n",
    "    P = 0.9 * adjacency_matrix + 0.1 * (1 / len(graph))\n",
    "    w, vl = linalg.eig(P)\n",
    "    largest_eigenvector = vl[:, np.argmax(w)]\n",
    "    index_to_id = {v: k for k, v in id_to_index.items()}\n",
    "    result = {index_to_id[i]: v for i, v in enumerate(largest_eigenvector)}\n",
    "    result = {k: v for k, v in sorted(result.items(), key=lambda item: item[1], reverse=True)}\n",
    "\n",
    "    return result"
   ]
  },
  {
   "cell_type": "markdown",
   "metadata": {
    "collapsed": false
   },
   "source": [
    "<div dir=\"rtl\">\n",
    "<font face=\"XB Zar\" size=3>\n",
    "در این بخش از الگوریتم\n",
    "PageRank\n",
    "شخصی‌سازی‌شده که در قسمت قبلی پیاده‌سازی شده‌است برای\n",
    "شناسایی مقالات مهم مرتبط با حوزه‌ی کاری یک استاد\n",
    "خاص استفاده می‌کنیم. این تابع، یک\n",
    "    field\n",
    "    را به عنوان ورودی دریافت می‌کند. خروجی نیز\n",
    "مقالات برتری که بیشترین ارتباط را با آن زمینه دارند؛ خواهدبود.\n",
    "</font>\n",
    "</div>"
   ]
  },
  {
   "cell_type": "code",
   "execution_count": null,
   "metadata": {
    "collapsed": false
   },
   "outputs": [],
   "source": [
    "from itertools import islice\n",
    "\n",
    "\n",
    "def important_articles(Professor: str) -> List[str]:\n",
    "    \"\"\"\n",
    "    Returns the most important articles in the field of given professor, based on the personalized PageRank scores.\n",
    "\n",
    "    Parameters:\n",
    "    Professor (str): Professor's name.\n",
    "\n",
    "    Returns:\n",
    "    List[str]: A list of article IDs representing the most important articles in the field of given professor.\n",
    "    \"\"\"\n",
    "    with open(f'/kaggle/working/crawled_data/crawled_paper_{Professor}.json') as f:\n",
    "        papers = json.load(f)\n",
    "        pr = pagerank(papers)\n",
    "        return [{k, pr[k]} for k in list(pr.keys())[:10]]"
   ]
  },
  {
   "cell_type": "code",
   "execution_count": null,
   "metadata": {
    "collapsed": false
   },
   "outputs": [],
   "source": [
    "important_articles('Soleymani')"
   ]
  },
  {
   "cell_type": "markdown",
   "metadata": {
    "collapsed": false
   },
   "source": [
    "<div dir=\"rtl\">\n",
    "<font face=\"XB Zar\" size=4>\n",
    "    <h1>\n",
    "    <b>جستجو شخصی‌سازی‌شده (۱۰ نمره)</b>\n",
    "    </h1>\n",
    "</font>\n",
    "    <br>\n",
    "<font face=\"XB Zar\" size=3>\n",
    "الگوریتم جست‌و‌جویی که در فازهای گذشته پیاده‌سازی کرده‌اید را به گونه‌ای تغییر دهید که نتایج به دست آمده جست‌و‌جو بر حسب علایق فرد مرتب شوند. از قضیه‌ی خطی بودن برای این کار استفاده کنید.\n",
    "\n",
    "</font>\n",
    "</div>"
   ]
  },
  {
   "cell_type": "code",
   "execution_count": 6,
   "metadata": {
    "collapsed": false
   },
   "outputs": [],
   "source": [
    "from phase1 import *\n",
    "from ast import literal_eval"
   ]
  },
  {
   "cell_type": "code",
   "execution_count": 7,
   "metadata": {
    "collapsed": false
   },
   "outputs": [],
   "source": [
    "def create_writer_df(writer_papers):\n",
    "    for p in writer_papers:\n",
    "        writer_papers[p]['title'] = clean_data(writer_papers[p]['title'])\n",
    "        writer_papers[p]['abstract'] = clean_data(writer_papers[p]['abstract'])\n",
    "\n",
    "    df = pd.DataFrame([{k: v[k] for k in ['title', 'abstract', 'paper_id']} for p, v in writer_papers.items()])\n",
    "    return df"
   ]
  },
  {
   "cell_type": "code",
   "execution_count": 8,
   "metadata": {
    "collapsed": false
   },
   "outputs": [],
   "source": [
    "datasets = {}\n",
    "for writer in writers:\n",
    "    with open(f'./crawled_data/crawled_paper_{writer}.json', 'r') as f:\n",
    "        papers = json.load(f)\n",
    "        df = create_writer_df(papers)\n",
    "        datasets[writer] = df"
   ]
  },
  {
   "cell_type": "code",
   "execution_count": 9,
   "metadata": {
    "collapsed": false
   },
   "outputs": [
    {
     "data": {
      "text/html": [
       "<div>\n",
       "<style scoped>\n",
       "    .dataframe tbody tr th:only-of-type {\n",
       "        vertical-align: middle;\n",
       "    }\n",
       "\n",
       "    .dataframe tbody tr th {\n",
       "        vertical-align: top;\n",
       "    }\n",
       "\n",
       "    .dataframe thead th {\n",
       "        text-align: right;\n",
       "    }\n",
       "</style>\n",
       "<table border=\"1\" class=\"dataframe\">\n",
       "  <thead>\n",
       "    <tr style=\"text-align: right;\">\n",
       "      <th></th>\n",
       "      <th>title</th>\n",
       "      <th>abstract</th>\n",
       "      <th>paper_id</th>\n",
       "    </tr>\n",
       "  </thead>\n",
       "  <tbody>\n",
       "    <tr>\n",
       "      <th>0</th>\n",
       "      <td>[spatial, aware, dictionary, learn, for, hyper...</td>\n",
       "      <td>[this, paper, present, a, structure, dictionar...</td>\n",
       "      <td>9281781</td>\n",
       "    </tr>\n",
       "    <tr>\n",
       "      <th>1</th>\n",
       "      <td>[multiresolution, knowledge, distillation, for...</td>\n",
       "      <td>[unsupervised, representation, learn, have, pr...</td>\n",
       "      <td>227126845</td>\n",
       "    </tr>\n",
       "    <tr>\n",
       "      <th>2</th>\n",
       "      <td>[a, hybrid, deep, learn, architecture, for, pr...</td>\n",
       "      <td>[internet, of, thing, iot, device, and, applic...</td>\n",
       "      <td>4909695</td>\n",
       "    </tr>\n",
       "    <tr>\n",
       "      <th>3</th>\n",
       "      <td>[novel, dataset, for, fine, grain, abnormal, b...</td>\n",
       "      <td>[despite, the, huge, research, on, crowd, on, ...</td>\n",
       "      <td>34979781</td>\n",
       "    </tr>\n",
       "    <tr>\n",
       "      <th>4</th>\n",
       "      <td>[deep, private, feature, extraction]</td>\n",
       "      <td>[we, present, and, evaluate, deep, private, fe...</td>\n",
       "      <td>11527748</td>\n",
       "    </tr>\n",
       "  </tbody>\n",
       "</table>\n",
       "</div>"
      ],
      "text/plain": [
       "                                               title  \\\n",
       "0  [spatial, aware, dictionary, learn, for, hyper...   \n",
       "1  [multiresolution, knowledge, distillation, for...   \n",
       "2  [a, hybrid, deep, learn, architecture, for, pr...   \n",
       "3  [novel, dataset, for, fine, grain, abnormal, b...   \n",
       "4               [deep, private, feature, extraction]   \n",
       "\n",
       "                                            abstract   paper_id  \n",
       "0  [this, paper, present, a, structure, dictionar...    9281781  \n",
       "1  [unsupervised, representation, learn, have, pr...  227126845  \n",
       "2  [internet, of, thing, iot, device, and, applic...    4909695  \n",
       "3  [despite, the, huge, research, on, crowd, on, ...   34979781  \n",
       "4  [we, present, and, evaluate, deep, private, fe...   11527748  "
      ]
     },
     "execution_count": 9,
     "metadata": {},
     "output_type": "execute_result"
    }
   ],
   "source": [
    "datasets[writers[0]].head()"
   ]
  },
  {
   "cell_type": "code",
   "execution_count": 10,
   "metadata": {
    "collapsed": false
   },
   "outputs": [
    {
     "ename": "AttributeError",
     "evalue": "'str' object has no attribute 'abstract'",
     "output_type": "error",
     "traceback": [
      "\u001B[0;31m---------------------------------------------------------------------------\u001B[0m",
      "\u001B[0;31mAttributeError\u001B[0m                            Traceback (most recent call last)",
      "Cell \u001B[0;32mIn[10], line 2\u001B[0m\n\u001B[1;32m      1\u001B[0m stop_words \u001B[39m=\u001B[39m find_stop_words(\n\u001B[0;32m----> 2\u001B[0m     [\u001B[39m'\u001B[39m\u001B[39m \u001B[39m\u001B[39m'\u001B[39m\u001B[39m.\u001B[39mjoin(item) \u001B[39mfor\u001B[39;00m item \u001B[39min\u001B[39;00m [[\u001B[39m'\u001B[39m\u001B[39m \u001B[39m\u001B[39m'\u001B[39m\u001B[39m.\u001B[39mjoin(item) \u001B[39mfor\u001B[39;00m item \u001B[39min\u001B[39;00m \u001B[39mlist\u001B[39m(x\u001B[39m.\u001B[39mabstract)] \u001B[39mfor\u001B[39;00m x \u001B[39min\u001B[39;00m datasets]])\n\u001B[1;32m      3\u001B[0m stop_words_list \u001B[39m=\u001B[39m [x[\u001B[39m0\u001B[39m] \u001B[39mfor\u001B[39;00m x \u001B[39min\u001B[39;00m stop_words]\n",
      "Cell \u001B[0;32mIn[10], line 2\u001B[0m, in \u001B[0;36m<listcomp>\u001B[0;34m(.0)\u001B[0m\n\u001B[1;32m      1\u001B[0m stop_words \u001B[39m=\u001B[39m find_stop_words(\n\u001B[0;32m----> 2\u001B[0m     [\u001B[39m'\u001B[39m\u001B[39m \u001B[39m\u001B[39m'\u001B[39m\u001B[39m.\u001B[39mjoin(item) \u001B[39mfor\u001B[39;00m item \u001B[39min\u001B[39;00m [[\u001B[39m'\u001B[39m\u001B[39m \u001B[39m\u001B[39m'\u001B[39m\u001B[39m.\u001B[39mjoin(item) \u001B[39mfor\u001B[39;00m item \u001B[39min\u001B[39;00m \u001B[39mlist\u001B[39m(x\u001B[39m.\u001B[39;49mabstract)] \u001B[39mfor\u001B[39;00m x \u001B[39min\u001B[39;00m datasets]])\n\u001B[1;32m      3\u001B[0m stop_words_list \u001B[39m=\u001B[39m [x[\u001B[39m0\u001B[39m] \u001B[39mfor\u001B[39;00m x \u001B[39min\u001B[39;00m stop_words]\n",
      "\u001B[0;31mAttributeError\u001B[0m: 'str' object has no attribute 'abstract'"
     ]
    }
   ],
   "source": [
    "stop_words = find_stop_words(\n",
    "    [' '.join(item) for item in [[' '.join(item) for item in list(x.abstract)] for x in datasets]])\n",
    "stop_words_list = [x[0] for x in stop_words]"
   ]
  },
  {
   "cell_type": "code",
   "execution_count": null,
   "metadata": {
    "collapsed": false
   },
   "outputs": [],
   "source": [
    "all_positional_index = {}\n",
    "all_doc_dicts = {}\n",
    "\n",
    "for writer in writers:\n",
    "    doc_dict = create_paper_id_map(df=df, stop_words_list=stop_words_list)"
   ]
  },
  {
   "cell_type": "code",
   "execution_count": null,
   "metadata": {
    "collapsed": false
   },
   "outputs": [],
   "source": [
    "from typing import List, Tuple\n",
    "\n",
    "\n",
    "def search(title_query: str, abstract_query: str, max_result_count: int, method: str = 'ltn-lnn', weight: float = 0.5,\n",
    "           print=False, preferred_field: str = None):\n",
    "    \"\"\"\n",
    "        Finds relevant documents to query\n",
    "\n",
    "        Parameters\n",
    "        ---------------------------------------------------------------------------------------------------\n",
    "        max_result_count: Return top 'max_result_count' docs which have the highest scores.\n",
    "                          notice that if max_result_count = -1, then you have to return all docs\n",
    "\n",
    "        mode: 'detailed' for searching in title and text separately.\n",
    "              'overall' for all words, and weighted by where the word appears on.\n",
    "\n",
    "        where: when mode ='detailed', when we want search query\n",
    "                in title or text not both of them at the same time.\n",
    "\n",
    "        method: 'ltn-lnn' or 'ltc-lnc' or 'okapi25'\n",
    "\n",
    "        preferred_field: A list containing preference rate to Dr. Rabiee, Dr. Soleymani, Dr. Rohban,\n",
    "                         Dr. Kasaei, and Dr. Sharifi's papers, respectively.\n",
    "\n",
    "        Returns\n",
    "        ----------------------------------------------------------------------------------------------------\n",
    "        list\n",
    "        Retrieved documents with snippet\n",
    "    \"\"\"\n",
    "    # TODO: return top 'max_result_count' documents for your searched query\n",
    "    result = [\"a72d6bd0b6d9b7aee66e91253bc6c6de37fa4e6a\"]\n",
    "\n",
    "    return result\n"
   ]
  },
  {
   "cell_type": "markdown",
   "metadata": {
    "collapsed": false
   },
   "source": [
    "<div dir=\"rtl\" style=\"text-align: justify\">\n",
    "<font face=\"XB Zar\" size=4>\n",
    "    <h1>\n",
    "    <b>رتبه‌بندی نویسندگان (۲۵ نمره)</b>\n",
    "    </h1>\n",
    "</font>\n",
    "    <br>\n",
    "<font face=\"XB Zar\" size=3>\n",
    "    برای رتبه‌بندی نویسندگان، مفهوم ارجاع نویسندگان به یکدیگر مطرح می‌شود. زمانی که نویسنده A در مقاله خود به مقاله P که نویسنده B جزو نویسندگان آن مقاله یعنی مقاله P می‌باشد، ارجاع دهد، می‌گوییم که نویسنده A به نویسنده B ارجاع داده است. با توجه به این رابطه، می‌توان گراف ارجاعات بین نویسندگان را ایجاد و سپس با استفاده از الگوریتم HITS\n",
    "نویسندگان را رتبه‌بندی کرد. برای رتبه‌بندی نیاز است تا از شاخص‌های hub و authority استفاده کنیم.\n",
    "\n",
    "\n",
    "</font>\n",
    "</div>"
   ]
  },
  {
   "cell_type": "code",
   "execution_count": null,
   "metadata": {
    "collapsed": false
   },
   "outputs": [],
   "source": [
    "crawled_papers = {}\n",
    "for writer in writers:\n",
    "    with open(f'/kaggle/working/crawled_data/crawled_paper_{writer}.json', \"r\") as f:\n",
    "        crawled_papers = dict(crawled_papers, **json.load(f))  #%% raw\n",
    "< div\n",
    "style = \"direction:rtl;line-height:300%;\" >\n",
    "< font\n",
    "face = \"XB Zar\"\n",
    "size = 5 >\n",
    "< div\n",
    "align = center >\n",
    "< font\n",
    "face = \"B Titr\"\n",
    "size = 5 >\n",
    "< p > </p > < p > < /p >\n",
    "بسمه\n",
    "تعالی\n",
    "< p > </p >\n",
    "< /font >\n",
    "< p > </p >\n",
    "< font >\n",
    "< br >\n",
    "درس\n",
    "بازیابی\n",
    "پیشرفته\n",
    "اطلاعات\n",
    "< br >\n",
    "مدرس: دکتر\n",
    "سلیمانی\n",
    "< /font >\n",
    "< p > </p >\n",
    "< br >\n",
    "< font >\n",
    "< b > فاز\n",
    "سوم\n",
    "پروژه </b >\n",
    "< /font >\n",
    "< br >\n",
    "< br >\n",
    "موعد\n",
    "تحویل: ساعت ۶ صبح ۸ تیر < br >\n",
    "< br >\n",
    "< br >\n",
    "< br >\n",
    "< font >\n",
    "دانشگاه\n",
    "صنعتی\n",
    "شریف\n",
    "< br >\n",
    "دانشکده\n",
    "مهندسی\n",
    "کامپیوتر\n",
    "< br >\n",
    "< br >\n",
    "< /font >\n",
    "< /div >\n",
    "< /font >\n",
    "< /div >"
   ]
  },
  {
   "cell_type": "markdown",
   "metadata": {
    "collapsed": false
   },
   "source": [
    "<div dir=\"rtl\">\n",
    "<font face=\"XB Zar\" size=5>\n",
    "    <h1>\n",
    "    <b>مقدمه</b>\n",
    "    </h1>\n",
    "    <p></p>\n",
    "    <p></p>\n",
    "</font>\n",
    "<font face=\"XB Zar\" size=3>\n",
    "     <br>\n",
    "    در این فاز از پروژه، تمرکز ما بر\n",
    "    crawling\n",
    "    و تحلیل مقالات استخراج‌شده از اینترنت خواهد بود. ما با بررسی تکنیک های مختلف\n",
    "    web crawling\n",
    "    برای استخراج مقالات و سایر اطلاعات مرتبط از وب شروع خواهیم کرد.\n",
    "    <br>\n",
    "    در مرحله بعد، الگوریتم های تجزیه و تحلیل  لینک مانند\n",
    "    PageRank\n",
    "    و\n",
    "    HITS\n",
    "    را برای تعیین اهمیت این مقالات بر اساس نقل قول‌ها، ارجاعات یا اشکال دیگر پیوندها اعمال خواهیم‌کرد. ما همچنین یاد خواهیم‌گرفت که چگونه یک الگوریتم\n",
    "    PageRank\n",
    "    شخصی‌سازی‌شده را پیاده‌سازی کنیم که ترجیحات کاربر را برای ارائه نتایج مرتبط تر در نظر می‌گیرد.\n",
    "    <br>\n",
    "    در بخش سوم این مرحله، یک موتور جستجوی شخصی‌سازی شده را پیاده‌سازی میکنیم و یاد می‌گیریم که چگونه موتور جستجویی بسازیم که نتایجی را بر اساس ترجیحات کاربر ارائه دهد.\n",
    "    <br>\n",
    "در نهایت، ما یک\n",
    "    task\n",
    "     در مورد\n",
    "    recommendation system\n",
    "    ها خواهیم‌داشت، که در آن از تکنیک های مختلف برای توصیه مقالات یا صفحات وب به کاربران بر اساس ترجیحات و رفتار آنها استفاده خواهیم کرد.\n",
    "    <br>\n",
    "     تنها زبان قابل قبول برای پروژه پایتون است. محدودیت استفاده از کتاب‌خانه‌های آماده در هر بخش مشخص شده است. در انتهای پروژه قرار است یک سیستم یکپارچه‌ی جست‌و‌جو داشته باشید، بنابراین به پیاده‌سازی هر چه بهتر این فاز توجه داشته باشید.\n",
    "</font>\n",
    "</div>\n"
   ]
  },
  {
   "cell_type": "markdown",
   "metadata": {
    "collapsed": false
   },
   "source": [
    "<div dir=\"rtl\">\n",
    "<font face=\"XB Zar\" size=4>\n",
    "    <h1>\n",
    "    <b>پیاده‌سازی Crawler (۴۰ نمره)</b>\n",
    "    </h1>\n",
    "</font>\n",
    "    <br>\n",
    "\n",
    "<font face=\"XB Zar\" size=3>\n",
    "   در این بخش باید یک Crawler\n",
    "    برای واکشی اطلاعات تعدادی مقاله از سایت <a href=\"https://www.semanticscholar.org/\">Semantic Scholar</a> پیاده سازی کنید.\n",
    "   اطلاعات واکشی شده باید حاوی موارد زیر باشد.\n",
    "</font>\n",
    "</div>\n",
    "<br>\n",
    "<table dir=\"ltr\" style=\"width: 100%; border-collapse: collapse;\">\n",
    "  <tr>\n",
    "    <th style=\"padding: 8px; text-align: justify; border: 1px solid black;\">ID</th>\n",
    "    <th style=\"padding: 8px; text-align: justify; border: 1px solid black;\">Title</th>\n",
    "    <th style=\"padding: 8px; text-align: justify; border: 1px solid black;\">Abstract</th>\n",
    "    <th style=\"padding: 8px; text-align: justify; border: 1px solid black;\">Publication Year</th>\n",
    "    <th style=\"padding: 8px; text-align: justify; border: 1px solid black;\">Authors</th>\n",
    "    <th style=\"padding: 8px; text-align: justify; border: 1px solid black;\">Related Topics</th>\n",
    "    <th style=\"padding: 8px; text-align: justify; border: 1px solid black;\">Citation Count</th>\n",
    "    <th style=\"padding: 8px; text-align: justify; border: 1px solid black;\">Reference Count</th>\n",
    "    <th style=\"padding: 8px; text-align: justify; border: 1px solid black;\">References</th>\n",
    "  </tr>\n",
    "  <tr>\n",
    "    <td style=\"padding: 8px; text-align: justify; border: 1px solid black;\">Unique ID of the paper</td>\n",
    "    <td style=\"padding: 8px; text-align: justify; border: 1px solid black;\">Title of the paper</td>\n",
    "    <td style=\"padding: 8px; text-align: justify; border: 1px solid black;\">Abstract of the paper</td>\n",
    "    <td style=\"padding: 8px; text-align: justify; border: 1px solid black;\">Publication year</td>\n",
    "    <td style=\"padding: 8px; text-align: justify; border: 1px solid black;\">Name of the first author, ..., Name of the last author</td>\n",
    "    <td style=\"padding: 8px; text-align: justify; border: 1px solid black;\">topic1, topic2, ...</td>\n",
    "    <td style=\"padding: 8px; text-align: justify; border: 1px solid black;\">number of citations of the paper</td>\n",
    "    <td style=\"padding: 8px; text-align: justify; border: 1px solid black;\">number of references of the paper</td>\n",
    "    <td style=\"padding: 8px; text-align: justify; border: 1px solid black;\">ID of the first reference, ..., ID of the tenth reference</td>\n",
    "  </tr>\n",
    "</table>\n",
    "    <br>"
   ]
  },
  {
   "cell_type": "code",
   "execution_count": null,
   "metadata": {
    "collapsed": false
   },
   "outputs": [],
   "source": [
    "!pip install gdown"
   ]
  },
  {
   "cell_type": "code",
   "execution_count": null,
   "metadata": {
    "collapsed": false
   },
   "outputs": [],
   "source": [
    "import time\n",
    "import pprint\n",
    "import json\n",
    "from collections import defaultdict\n",
    "from scipy import linalg\n",
    "import numpy as np\n",
    "import pandas as pd"
   ]
  },
  {
   "cell_type": "code",
   "execution_count": null,
   "metadata": {
    "collapsed": false
   },
   "outputs": [],
   "source": [
    "writers = ['Rabiee', 'Rohban', 'Sharifi', 'Soleymani', 'Kasaei']"
   ]
  },
  {
   "cell_type": "code",
   "execution_count": null,
   "metadata": {
    "collapsed": false
   },
   "outputs": [],
   "source": [
    "import gdown"
   ]
  },
  {
   "cell_type": "code",
   "execution_count": null,
   "metadata": {
    "collapsed": false
   },
   "outputs": [],
   "source": [
    "url = 'https://drive.google.com/drive/folders/1arkiPq89oR9iaQEHaECKKUmqAmwa5IaN?usp=sharing'\n",
    "gdown.download_folder(url, quiet=True)"
   ]
  },
  {
   "cell_type": "markdown",
   "metadata": {
    "collapsed": false
   },
   "source": [
    "<div dir=\"rtl\">\n",
    "\n",
    "<font face=\"XB Zar\" size=3>\n",
    "  ابتدا فرایند واکشی را از ۵ مقاله‌ی هر استاد شروع کنید و\n",
    "    ۱۰\n",
    "    مرجع اول هر مقاله را به صف مقالات اضافه کنید.\n",
    "    فرایند واکشی را نا جایی ادامه دهید که اطلاعات ۲۰۰۰ مقاله را داشته باشید.\n",
    "    اطلاعات مقالات را در فایل crawled_paper_profName.json ذخیره کنید.\n",
    "</font>\n",
    "</div>\n",
    "\n",
    "<div dir=\"rtl\">\n",
    "\n",
    "<font face=\"XB Zar\" size=3>\n",
    "  در پیاده سازی Crawler به موارد زیر دقت کنید.\n",
    "\n",
    "\n",
    "<ul>\n",
    "<li>حق استفاده از api سایت semantic scholar را ندارید.</li>\n",
    "<li>برای واکشی می‌توانید از پکیج‌هایی مثل <a href=\"https://www.selenium.dev/selenium/docs/api/py/\">Selenium</a> و یا <a href=\"https://github.com/scrapy/scrapy\">Scrapy</a>  استفاده کنید. استفاده از پکیج‌های دیگر نیز مجاز است. همچنین برای پارس اطلاعات واکشی شده می‌توانید از پکیج <a href=\"https://pypi.org/project/beautifulsoup4/\">Beautiful Soup</a> استفاده کنید.\n",
    "</li>\n",
    "<li>بین هر بار درخواست از سایت یک فاصله چند ثانیه‌ای بدهید.</li>\n",
    "<li>در زمان تحویل کد Crawler شما اجرا خواهد شد و صحت آن بررسی خواهد شد.</li>\n",
    "<li>در صورتی که ‌Crawler شما به دچار اروری مثل request timeout شد نباید کار خود را متوقف کند.</li>\n",
    "</ul>\n",
    "\n",
    "\n",
    "</font>\n",
    "</div>"
   ]
  },
  {
   "cell_type": "code",
   "execution_count": null,
   "metadata": {
    "collapsed": false
   },
   "outputs": [],
   "source": [
    "!wget https: // dl.google.com/linux/linux_signing_key.pub\n",
    "!sudo apt-key add linux_signing_key.pub\n",
    "!echo 'deb [arch=amd64] http://dl.google.com/linux/chrome/deb/ stable main' >> /etc/apt/sources.list.d/google-chrome.list\n",
    "!sudo apt-get -y update\n",
    "!sudo apt-get install -y google-chrome-stable"
   ]
  },
  {
   "cell_type": "code",
   "execution_count": null,
   "metadata": {
    "collapsed": false
   },
   "outputs": [],
   "source": [
    "# install chromedriver\n",
    "# !apt-get install -y qq unzip\n",
    "!wget -O/tmp/chromedriver.zip http: // chromedriver.storage.googleapis.com/ `curl -sS chromedriver.storage.googleapis.com/LATEST_RELEASE` /chromedriver_linux64.zip\n",
    "!unzip/tmp/chromedriver.zip chromedriver -d/usr/local/bin/"
   ]
  },
  {
   "cell_type": "code",
   "execution_count": null,
   "metadata": {
    "collapsed": false
   },
   "outputs": [],
   "source": [
    "# install selenium\n",
    "!sudo apt install -y python3-selenium\n",
    "!pip install selenium == 3.141.0 > /dev/null"
   ]
  },
  {
   "cell_type": "code",
   "execution_count": null,
   "metadata": {
    "collapsed": false
   },
   "outputs": [],
   "source": [
    "!google-chrome --version"
   ]
  },
  {
   "cell_type": "code",
   "execution_count": null,
   "metadata": {
    "collapsed": false
   },
   "outputs": [],
   "source": [
    "!chromedriver -v"
   ]
  },
  {
   "cell_type": "code",
   "execution_count": null,
   "metadata": {
    "collapsed": false
   },
   "outputs": [],
   "source": [
    "from selenium.webdriver.chrome.options import Options\n",
    "from selenium.webdriver.chrome.service import Service\n",
    "from selenium import webdriver\n",
    "from selenium.webdriver.common.by import By\n",
    "from PIL import Image\n",
    "from selenium.webdriver.common.action_chains import ActionChains"
   ]
  },
  {
   "cell_type": "code",
   "execution_count": null,
   "metadata": {
    "collapsed": false
   },
   "outputs": [],
   "source": [
    "chrome_options = webdriver.ChromeOptions()\n",
    "chrome_options.add_argument('--no-sandbox')\n",
    "chrome_options.add_argument('--headless')\n",
    "chrome_options.add_argument('--disable-gpu')\n",
    "chrome_options.add_argument('--disable-dev-shm-usage')\n",
    "chrome_options.add_argument(\"--window-size=1920,1080\")\n",
    "driver = webdriver.Chrome(options=chrome_options)"
   ]
  },
  {
   "cell_type": "code",
   "execution_count": null,
   "metadata": {
    "collapsed": false
   },
   "outputs": [],
   "source": [
    "paper_urls = defaultdict(list)\n",
    "\n",
    "for writer in writers:\n",
    "    with open(f'/kaggle/working/HW3/{writer}.txt', \"r\") as f:\n",
    "        for url in f:\n",
    "            paper_urls[writer].append((url, None))"
   ]
  },
  {
   "cell_type": "code",
   "execution_count": null,
   "metadata": {
    "collapsed": false
   },
   "outputs": [],
   "source": [
    "paper_urls[writers[0]][2]"
   ]
  },
  {
   "cell_type": "code",
   "execution_count": null,
   "metadata": {
    "collapsed": false
   },
   "outputs": [],
   "source": [
    "def parese_one_paper(url):\n",
    "    driver.get(url)\n",
    "    title = driver.find_element(By.CSS_SELECTOR, \"h1[data-test-id='paper-detail-title']\").text\n",
    "    id_element = driver.find_elements(By.CSS_SELECTOR, \"li[data-test-id='corpus-id']\")\n",
    "    if id_element:\n",
    "        paper_id = id_element[0].text[len('Corpus ID: '):]\n",
    "    else:\n",
    "        paper_id = ''\n",
    "    expand_button = driver.find_elements(By.CSS_SELECTOR, \"button[data-test-id='text-truncator-toggle']\")\n",
    "    if expand_button:\n",
    "        expand_button[0].click()\n",
    "    abstract_element = driver.find_elements(By.CSS_SELECTOR, \".text-truncator.abstract__text.text--preline\")\n",
    "    if abstract_element:\n",
    "        abstract = abstract_element[0].text.rstrip(' \\nCollapse')\n",
    "    else:\n",
    "        abstract = ''\n",
    "    date = driver.find_element(By.CSS_SELECTOR, \"span[data-test-id='paper-year']\").text\n",
    "\n",
    "    expand_authors_button = driver.find_elements(By.CSS_SELECTOR, \"button[data-test-id='author-list-expand']\")\n",
    "    if expand_authors_button:\n",
    "        ActionChains(driver).move_to_element(expand_authors_button[0]).click().perform()\n",
    "    authors = [x.strip().rstrip(\" less\") for x in driver.find_element(By.CSS_SELECTOR, \".author-list\").text.split(',')]\n",
    "    citation_element = driver.find_elements(By.CSS_SELECTOR, \".scorecard-stat__headline__dark\")\n",
    "    if citation_element:\n",
    "        citation_count = citation_element[0].text.rstrip(' Citations')\n",
    "    else:\n",
    "        citation_count = ''\n",
    "    references_count = driver.find_element(By.XPATH, '''//*[@id=\"cited-papers\"]/div[1]/div/div/h2''').text.rstrip(\n",
    "        ' References')\n",
    "    references = driver.find_element(By.XPATH, '''//*[@id=\"cited-papers\"]/div[2]/div/div[1]''')\n",
    "    references_list = references.find_elements(By.CSS_SELECTOR, \".link-button--show-visited\")\n",
    "    reference_urls = []\n",
    "    for reference in references_list:\n",
    "        reference_urls.append(reference.get_attribute('href'))\n",
    "\n",
    "    related = driver.find_element(By.CSS_SELECTOR, \".flex-container.similar-papers__body\")\n",
    "    related_papers = related.find_elements(By.CSS_SELECTOR, '.cl-container')\n",
    "    print(related_papers, related)\n",
    "    related_urls = [element.get_attribute(\"href\") for element in related_papers]\n",
    "\n",
    "    paper_urls[writer] += [(x, paper_id) for x in reference_urls]\n",
    "    paper_data = {\n",
    "        'paper_id': paper_id,\n",
    "        'title': title,\n",
    "        'abstract': abstract,\n",
    "        'date': date,\n",
    "        'authors': authors,\n",
    "        'citation_count': citation_count,\n",
    "        'references_count': references_count,\n",
    "        'reference_ids': [],\n",
    "        'related_papers': related_urls\n",
    "    }\n",
    "    return paper_data"
   ]
  },
  {
   "cell_type": "code",
   "execution_count": null,
   "metadata": {
    "collapsed": false
   },
   "outputs": [],
   "source": [
    "pp = pprint.PrettyPrinter(indent=4)\n",
    "\n",
    "c = 0\n",
    "for writer in writers:\n",
    "    crawled_datas = {}\n",
    "    print(writer)\n",
    "    c = 0\n",
    "    for url, father in paper_urls[writer][:2]:\n",
    "        if c >= 400:\n",
    "            break\n",
    "        try:\n",
    "            time.sleep(10)\n",
    "            data = parese_one_paper(url)\n",
    "            print(data)\n",
    "            crawled_datas[data['paper_id']] = data\n",
    "            if father:\n",
    "                crawled_datas[father]['reference_ids'].append(data['paper_id'])\n",
    "            if c % 20 == 0:\n",
    "                print(c)\n",
    "            c += 1\n",
    "        except Exception as e:\n",
    "            print(e, url)\n",
    "        with open(f\"crawled_paper_{writer}.json\", \"w\") as f:\n",
    "            json.dump(crawled_datas, f)"
   ]
  },
  {
   "cell_type": "code",
   "execution_count": null,
   "metadata": {
    "collapsed": false
   },
   "outputs": [],
   "source": [
    "crawled_datas"
   ]
  },
  {
   "cell_type": "markdown",
   "metadata": {
    "collapsed": false
   },
   "source": [
    "<div dir=\"rtl\">\n",
    "<font face=\"XB Zar\" size=4>\n",
    "    <h1>\n",
    "    <b>PageRank\n",
    "        شخصی‌سازی‌شده\n",
    "        (۲۰ نمره)</b>\n",
    "    </h1>\n",
    "</font>\n",
    "    <br>\n",
    "<font face=\"XB Zar\" size=3>\n",
    "در این بخش، الگوریتم\n",
    "    PageRank\n",
    "    شخصی‌سازی‌شده را پیاده‌سازی می‌کنیم که توسعه‌ای از الگوریتم\n",
    "    PageRank\n",
    "    است که ترجیحات کاربر را در نظر می‌گیرد. الگوریتم\n",
    "    PageRank\n",
    "    شخصی‌سازی‌شده گره‌ها را در یک گراف بر اساس اهمیت آنها برای کاربر رتبه‌بندی می‌کند، نه بر اساس اهمیت کلی آنها در نمودار.\n",
    "\n",
    "</font>\n",
    "</div>"
   ]
  },
  {
   "cell_type": "code",
   "execution_count": null,
   "metadata": {
    "collapsed": false
   },
   "outputs": [],
   "source": [
    "url = \"https://drive.google.com/drive/folders/1Kl_W1zhqfd1kNyKZ_NR5N9YK1gof6TXl\"\n",
    "gdown.download_folder(url, quiet=True)"
   ]
  },
  {
   "cell_type": "code",
   "execution_count": null,
   "metadata": {
    "collapsed": false
   },
   "outputs": [],
   "source": [
    "def create_adjacency_matrix(nodes):\n",
    "    node_ids = set()\n",
    "    for node in nodes:\n",
    "        node_ids.add(nodes[node][\"paper_id\"])\n",
    "        node_ids.update(nodes[node][\"reference_ids\"])\n",
    "\n",
    "    id_to_index = {node_id: index for index, node_id in enumerate(node_ids)}\n",
    "\n",
    "    matrix_size = len(node_ids)\n",
    "    adjacency_matrix = [[0] * matrix_size for _ in range(matrix_size)]\n",
    "\n",
    "    for node in nodes:\n",
    "        n = len(nodes[node][\"reference_ids\"])\n",
    "        source_index = id_to_index[nodes[node][\"paper_id\"]]\n",
    "        for destination_id in nodes[node][\"reference_ids\"]:\n",
    "            destination_index = id_to_index[destination_id]\n",
    "            adjacency_matrix[source_index][destination_index] = 1 / n\n",
    "\n",
    "    return adjacency_matrix, id_to_index\n"
   ]
  },
  {
   "cell_type": "code",
   "execution_count": null,
   "metadata": {
    "collapsed": false
   },
   "outputs": [],
   "source": [
    "from typing import Dict, List\n",
    "\n",
    "\n",
    "def pagerank(graph: Dict[str, List[str]]) -> Dict[str, float]:\n",
    "    \"\"\"\n",
    "    Returns the personalized PageRank scores for the nodes in the graph, given the user's preferences.\n",
    "\n",
    "    Parameters:\n",
    "    graph (Dict[str, List[str]]): The graph represented as a dictionary of node IDs and their outgoing edges.\n",
    "\n",
    "    Returns:\n",
    "    Dict[str, float]: A dictionary of node IDs and their personalized PageRank scores.\n",
    "    \"\"\"\n",
    "    adjacency_matrix, id_to_index = create_adjacency_matrix(graph)\n",
    "    adjacency_matrix = np.array(adjacency_matrix)\n",
    "    P = 0.9 * adjacency_matrix + 0.1 * (1 / len(graph))\n",
    "    w, vl = linalg.eig(P)\n",
    "    largest_eigenvector = vl[:, np.argmax(w)]\n",
    "    index_to_id = {v: k for k, v in id_to_index.items()}\n",
    "    result = {index_to_id[i]: v for i, v in enumerate(largest_eigenvector)}\n",
    "    result = {k: v for k, v in sorted(result.items(), key=lambda item: item[1], reverse=True)}\n",
    "\n",
    "    return result"
   ]
  },
  {
   "cell_type": "markdown",
   "metadata": {
    "collapsed": false
   },
   "source": [
    "<div dir=\"rtl\">\n",
    "<font face=\"XB Zar\" size=3>\n",
    "در این بخش از الگوریتم\n",
    "PageRank\n",
    "شخصی‌سازی‌شده که در قسمت قبلی پیاده‌سازی شده‌است برای\n",
    "شناسایی مقالات مهم مرتبط با حوزه‌ی کاری یک استاد\n",
    "خاص استفاده می‌کنیم. این تابع، یک\n",
    "    field\n",
    "    را به عنوان ورودی دریافت می‌کند. خروجی نیز\n",
    "مقالات برتری که بیشترین ارتباط را با آن زمینه دارند؛ خواهدبود.\n",
    "</font>\n",
    "</div>"
   ]
  },
  {
   "cell_type": "code",
   "execution_count": null,
   "metadata": {
    "collapsed": false
   },
   "outputs": [],
   "source": [
    "from itertools import islice\n",
    "\n",
    "\n",
    "def important_articles(Professor: str) -> List[str]:\n",
    "    \"\"\"\n",
    "    Returns the most important articles in the field of given professor, based on the personalized PageRank scores.\n",
    "\n",
    "    Parameters:\n",
    "    Professor (str): Professor's name.\n",
    "\n",
    "    Returns:\n",
    "    List[str]: A list of article IDs representing the most important articles in the field of given professor.\n",
    "    \"\"\"\n",
    "    with open(f'/kaggle/working/crawled_data/crawled_paper_{Professor}.json') as f:\n",
    "        papers = json.load(f)\n",
    "        pr = pagerank(papers)\n",
    "        return [{k, pr[k]} for k in list(pr.keys())[:10]]"
   ]
  },
  {
   "cell_type": "code",
   "execution_count": null,
   "metadata": {
    "collapsed": false
   },
   "outputs": [],
   "source": [
    "important_articles('Soleymani')"
   ]
  },
  {
   "cell_type": "markdown",
   "metadata": {
    "collapsed": false
   },
   "source": [
    "<div dir=\"rtl\">\n",
    "<font face=\"XB Zar\" size=4>\n",
    "    <h1>\n",
    "    <b>جستجو شخصی‌سازی‌شده (۱۰ نمره)</b>\n",
    "    </h1>\n",
    "</font>\n",
    "    <br>\n",
    "<font face=\"XB Zar\" size=3>\n",
    "الگوریتم جست‌و‌جویی که در فازهای گذشته پیاده‌سازی کرده‌اید را به گونه‌ای تغییر دهید که نتایج به دست آمده جست‌و‌جو بر حسب علایق فرد مرتب شوند. از قضیه‌ی خطی بودن برای این کار استفاده کنید.\n",
    "\n",
    "</font>\n",
    "</div>"
   ]
  },
  {
   "cell_type": "code",
   "execution_count": null,
   "metadata": {
    "collapsed": false
   },
   "outputs": [],
   "source": [
    "from phase1 import *\n",
    "from ast import literal_eval"
   ]
  },
  {
   "cell_type": "code",
   "execution_count": null,
   "metadata": {
    "collapsed": false
   },
   "outputs": [],
   "source": [
    "def create_writer_df(writer_papers):\n",
    "    for p in writer_papers:\n",
    "        writer_papers[p]['title'] = clean_data(writer_papers[p]['title'])\n",
    "        writer_papers[p]['abstract'] = clean_data(writer_papers[p]['abstract'])\n",
    "\n",
    "    df = pd.DataFrame([{k: v[k] for k in ['title', 'abstract'], 'id': p} for p, v in writer_papers.items()])"
   ]
  },
  {
   "cell_type": "code",
   "execution_count": null,
   "metadata": {
    "collapsed": false
   },
   "outputs": [],
   "source": [
    "datasets = {}\n",
    "for writer in writers:\n",
    "    with open(f'./crawled_data/crawled_paper_{writer}.json', 'r') as f:\n",
    "        papers = json.load(f)\n"
   ]
  },
  {
   "cell_type": "code",
   "execution_count": null,
   "metadata": {
    "collapsed": false
   },
   "outputs": [],
   "source": [
    "from typing import List, Tuple\n",
    "\n",
    "\n",
    "def search(title_query: str, abstract_query: str, max_result_count: int, method: str = 'ltn-lnn', weight: float = 0.5,\n",
    "           print=False, preferred_field: str = None):\n",
    "    \"\"\"\n",
    "        Finds relevant documents to query\n",
    "\n",
    "        Parameters\n",
    "        ---------------------------------------------------------------------------------------------------\n",
    "        max_result_count: Return top 'max_result_count' docs which have the highest scores.\n",
    "                          notice that if max_result_count = -1, then you have to return all docs\n",
    "\n",
    "        mode: 'detailed' for searching in title and text separately.\n",
    "              'overall' for all words, and weighted by where the word appears on.\n",
    "\n",
    "        where: when mode ='detailed', when we want search query\n",
    "                in title or text not both of them at the same time.\n",
    "\n",
    "        method: 'ltn-lnn' or 'ltc-lnc' or 'okapi25'\n",
    "\n",
    "        preferred_field: A list containing preference rate to Dr. Rabiee, Dr. Soleymani, Dr. Rohban,\n",
    "                         Dr. Kasaei, and Dr. Sharifi's papers, respectively.\n",
    "\n",
    "        Returns\n",
    "        ----------------------------------------------------------------------------------------------------\n",
    "        list\n",
    "        Retrieved documents with snippet\n",
    "    \"\"\"\n",
    "    # TODO: return top 'max_result_count' documents for your searched query\n",
    "    result = [\"a72d6bd0b6d9b7aee66e91253bc6c6de37fa4e6a\"]\n",
    "\n",
    "    return result\n"
   ]
  },
  {
   "cell_type": "markdown",
   "metadata": {
    "collapsed": false
   },
   "source": [
    "<div dir=\"rtl\" style=\"text-align: justify\">\n",
    "<font face=\"XB Zar\" size=4>\n",
    "    <h1>\n",
    "    <b>رتبه‌بندی نویسندگان (۲۵ نمره)</b>\n",
    "    </h1>\n",
    "</font>\n",
    "    <br>\n",
    "<font face=\"XB Zar\" size=3>\n",
    "    برای رتبه‌بندی نویسندگان، مفهوم ارجاع نویسندگان به یکدیگر مطرح می‌شود. زمانی که نویسنده A در مقاله خود به مقاله P که نویسنده B جزو نویسندگان آن مقاله یعنی مقاله P می‌باشد، ارجاع دهد، می‌گوییم که نویسنده A به نویسنده B ارجاع داده است. با توجه به این رابطه، می‌توان گراف ارجاعات بین نویسندگان را ایجاد و سپس با استفاده از الگوریتم HITS\n",
    "نویسندگان را رتبه‌بندی کرد. برای رتبه‌بندی نیاز است تا از شاخص‌های hub و authority استفاده کنیم.\n",
    "\n",
    "\n",
    "</font>\n",
    "</div>"
   ]
  },
  {
   "cell_type": "code",
   "execution_count": null,
   "metadata": {
    "collapsed": false
   },
   "outputs": [],
   "source": [
    "crawled_papers = {}\n",
    "for writer in writers:\n",
    "    with open(f'/kaggle/working/crawled_data/crawled_paper_{writer}.json', \"r\") as f:\n",
    "        crawled_papers = dict(crawled_papers, **json.load(f))"
   ]
  },
  {
   "cell_type": "code",
   "execution_count": null,
   "metadata": {
    "collapsed": false
   },
   "outputs": [],
   "source": [
    "crawled_papers['701890']"
   ]
  },
  {
   "cell_type": "code",
   "execution_count": null,
   "metadata": {
    "collapsed": false
   },
   "outputs": [],
   "source": [
    "for k in crawled_papers:\n",
    "    crawled_papers[k]['authors'] = [x.strip() for x in crawled_papers[k]['authors'].split(',') if 'authors' not in x]"
   ]
  },
  {
   "cell_type": "code",
   "execution_count": null,
   "metadata": {
    "collapsed": false
   },
   "outputs": [],
   "source": [
    "def create_authors_adjacency_matrix(nodes):\n",
    "    authors = set()\n",
    "    for node in nodes:\n",
    "        authors.update(nodes[node]['authors'])\n",
    "\n",
    "    name_to_index = {author: index for index, author in enumerate(authors)}\n",
    "\n",
    "    matrix_size = len(authors)\n",
    "    adjacency_matrix = [[0] * matrix_size for _ in range(matrix_size)]\n",
    "\n",
    "    for node in nodes:\n",
    "        for author in nodes[node][\"authors\"]:\n",
    "            source_index = name_to_index[author]\n",
    "            for destination_id in nodes[node][\"reference_ids\"]:\n",
    "                if nodes.get(destination_id):\n",
    "                    for ref_author in nodes[destination_id]['authors']:\n",
    "                        destination_index = name_to_index[ref_author]\n",
    "                        adjacency_matrix[source_index][destination_index] = 1\n",
    "\n",
    "    return adjacency_matrix, name_to_index"
   ]
  },
  {
   "cell_type": "code",
   "execution_count": null,
   "metadata": {
    "collapsed": false
   },
   "outputs": [],
   "source": [
    "import networkx as nx\n",
    "import networkx as nx\n",
    "\n",
    "\n",
    "def hit_algorithm(papers, n):\n",
    "    \"\"\"\n",
    "        Implementing the HITS algorithm to score authors based on their papers and co-authors.\n",
    "\n",
    "        Parameters\n",
    "        ---------------------------------------------------------------------------------------------------\n",
    "        papers: A list of paper dictionaries with the following keys:\n",
    "                \"id\": A unique ID for the paper\n",
    "                \"title\": The title of the paper\n",
    "                \"abstract\": The abstract of the paper\n",
    "                \"date\": The year in which the paper was published\n",
    "                \"authors\": A list of the names of the authors of the paper\n",
    "                \"related_topics\": A list of IDs for related topics (optional)\n",
    "                \"citation_count\": The number of times the paper has been cited (optional)\n",
    "                \"reference_count\": The number of references in the paper (optional)\n",
    "                \"references\": A list of IDs for papers that are cited in the paper (optional)\n",
    "        n: An integer representing the number of top authors to return.\n",
    "\n",
    "        Returns\n",
    "        ---------------------------------------------------------------------------------------------------\n",
    "        List\n",
    "        list of the top n authors based on their hub scores.\n",
    "    \"\"\"\n",
    "    # Create a graph of authors and papers (all of the authors and papers represented as nodes, and all of the authors who wrote each paper connected to the corresponding paper node by an edge)\n",
    "    adjacency_matrix, name_to_index = create_authors_adjacency_matrix(papers)\n",
    "    adjacency_matrix = np.array(adjacency_matrix)\n",
    "    index_to_name = {v: k for k, v in name_to_index.items()}\n",
    "    # Run the HITS algorithm\n",
    "    AAT = np.dot(adjacency_matrix, adjacency_matrix.T)\n",
    "    ATA = np.dot(adjacency_matrix.T, adjacency_matrix)\n",
    "    h_w, hubs = linalg.eig(AAT)\n",
    "    hubs = hubs[:, np.argmax(h_w)]\n",
    "    a_w, authorities = linalg.eig(ATA)\n",
    "    authorities = authorities[:, np.argmax(a_w)]\n",
    "    # Create a list of top n authors based on their hub scores\n",
    "    top_authors = authorities.argsort()[-n:][::-1]\n",
    "    return [index_to_name[t] for t in top_authors]"
   ]
  },
  {
   "cell_type": "code",
   "execution_count": null,
   "metadata": {
    "collapsed": false
   },
   "outputs": [],
   "source": [
    "# call the hit_algorithm function\n",
    "top_authors = hit_algorithm(crawled_papers, 2)\n",
    "\n",
    "# print the top authors\n",
    "print(top_authors)"
   ]
  },
  {
   "cell_type": "markdown",
   "metadata": {
    "collapsed": false
   },
   "source": [
    "<div dir=\"rtl\">\n",
    "<font face=\"XB Zar\" size=4>\n",
    "    <h1>\n",
    "    <b>سیستم پیشنهادگر (۲۰ نمره)</b>\n",
    "    </h1>\n",
    "</font>\n",
    "<font face=\"XB Zar\" size=3>\n",
    "\n",
    "در این بخش سعی می‌کنیم که یک سیستم پیشنهادگر مقالات بر اساس جست‌و‌جو‌ها یا علايق یک کاربر پیاده‌سازی کنیم، سیستم پیشنهاد دهنده‌ای که قصد داریم آن را ایجاد کنیم،‌ باید بتواند بر اساس لیستی از مقالاتی که کاربر قبلا آن‌ها را مطالعه کرده یا به آن‌ها علاقه داشته است، مقالات تازه انتشار یافته‌‌ی جدید را به کاربر پیشنهاد دهد.\n",
    "\n",
    "در فایل recommended_papers.json\n",
    "لیستی از کاربران قرار دارد که در فیلد positive_papers هر کاربر،\n",
    "تعداد ۵۰ مقاله از مقالاتی که کاربر به آن‌ها علاقه داشته است مشخص شده است. و همچینین در فیلد recommendedPapers هر کاربر تعداد ۱۰ مقاله به ترتیب اهمیت، از مقالات جدیدی که کاربر آن‌ها را پسندیده است قرار دارد.\n",
    "\n",
    "در این بخش هدف شما یادگیری سیستم پیشنهاد‌ دهنده بر اساس همین داده‌ها می‌باشد، و به عبارتی شما بایستی کاربر‌ها را به دو دسته آموزش و آزمایش تقسیم کنید، و بر اساس داده‌های آموزشی بتوانید مقالات جدید مورد پسند کاربرهای آزمایش را پیش‌بینی کنید. (بنابراین در این پیش‌بینی نمی‌توانید از فیلد recommendedPapers این کاربران استفاده کنید.)\n",
    "\n",
    "</font>\n",
    "</div>"
   ]
  },
  {
   "cell_type": "code",
   "execution_count": null,
   "metadata": {
    "collapsed": false
   },
   "outputs": [],
   "source": [
    "import json\n",
    "\n",
    "with open('/kaggle/working/HW3/recommended_papers.json', 'r') as fp:\n",
    "    recommended_papers = json.load(fp)"
   ]
  },
  {
   "cell_type": "code",
   "execution_count": null,
   "metadata": {
    "collapsed": false
   },
   "outputs": [],
   "source": [
    "sample_user = recommended_papers[0]"
   ]
  },
  {
   "cell_type": "code",
   "execution_count": null,
   "metadata": {
    "collapsed": false
   },
   "outputs": [],
   "source": [
    "sample_user.keys()"
   ]
  },
  {
   "cell_type": "code",
   "execution_count": null,
   "metadata": {
    "collapsed": false
   },
   "outputs": [],
   "source": [
    "print(sample_user['positive_papers'][0]['paperId'])\n",
    "print(sample_user['positive_papers'][0]['title'])\n",
    "print(sample_user['positive_papers'][0]['abstract'])\n",
    "print(sample_user['positive_papers'][0]['fieldsOfStudy'])\n",
    "print(sample_user['recommendedPapers'][0])"
   ]
  },
  {
   "cell_type": "code",
   "execution_count": null,
   "metadata": {
    "collapsed": false
   },
   "outputs": [],
   "source": [
    "users_df = pd.DataFrame(\n",
    "    [{\n",
    "        'favorites': [x['paperId'] for x in user['positive_papers']],\n",
    "        'new_favorites': [x['paperId'] for x in user['recommendedPapers']],\n",
    "        'id': i + 1\n",
    "    } for i, user in enumerate(recommended_papers)])"
   ]
  },
  {
   "cell_type": "code",
   "execution_count": null,
   "metadata": {
    "collapsed": false
   },
   "outputs": [],
   "source": [
    "all_papers_list = [user['positive_papers'] for user in recommended_papers] + [user['recommendedPapers'] for user in\n",
    "                                                                              recommended_papers]\n",
    "all_papers_list = [paper for l in all_papers_list for paper in l]\n",
    "papers_df = pd.DataFrame(all_papers_list)\n",
    "papers_df = papers_df.drop_duplicates(subset=['paperId'], keep='last')"
   ]
  },
  {
   "cell_type": "code",
   "execution_count": null,
   "metadata": {
    "collapsed": false
   },
   "outputs": [],
   "source": [
    "papers_df.head()"
   ]
  },
  {
   "cell_type": "code",
   "execution_count": null,
   "metadata": {
    "collapsed": false
   },
   "outputs": [],
   "source": [
    "users_df.head()"
   ]
  },
  {
   "cell_type": "code",
   "execution_count": null,
   "metadata": {
    "collapsed": false
   },
   "outputs": [],
   "source": [
    "import pandas as pd\n",
    "import matplotlib.pyplot as plt\n",
    "\n",
    "study_fields_counts = papers_df['fieldsOfStudy'].explode().value_counts()\n",
    "\n",
    "plt.figure(figsize=(10, 6))\n",
    "study_fields_counts.plot(kind='bar')\n",
    "plt.title('Number of Papers by Study Field')\n",
    "plt.xlabel('Study Field')\n",
    "plt.ylabel('Count')\n",
    "plt.xticks(rotation=45)\n",
    "plt.tight_layout()\n",
    "plt.show()"
   ]
  },
  {
   "cell_type": "code",
   "execution_count": null,
   "metadata": {
    "collapsed": false
   },
   "outputs": [],
   "source": [
    "unique_fields = papers_df['fieldsOfStudy'].explode().unique()"
   ]
  },
  {
   "cell_type": "code",
   "execution_count": null,
   "metadata": {
    "collapsed": false
   },
   "outputs": [],
   "source": [
    "unique_fields = list(unique_fields)"
   ]
  },
  {
   "cell_type": "code",
   "execution_count": null,
   "metadata": {
    "collapsed": false
   },
   "outputs": [],
   "source": [
    "len(unique_fields)"
   ]
  },
  {
   "cell_type": "code",
   "execution_count": null,
   "metadata": {
    "collapsed": false
   },
   "outputs": [],
   "source": [
    "unique_fields"
   ]
  },
  {
   "cell_type": "code",
   "execution_count": null,
   "metadata": {
    "collapsed": false
   },
   "outputs": [],
   "source": [
    "user_field_ratio = []\n",
    "for _, user in users_df.iterrows():\n",
    "    favorite_papers = user['favorites']\n",
    "    field_counts = {}\n",
    "\n",
    "    for paper in favorite_papers:\n",
    "        fields = papers_df.loc[papers_df['paperId'] == paper, 'fieldsOfStudy'].values[0]\n",
    "        if fields:\n",
    "            for field in fields:\n",
    "                field_counts[field] = field_counts.get(field, 0) + 1\n",
    "\n",
    "    total_papers = len(favorite_papers)\n",
    "    field_ratio = {field: count / total_papers for field, count in field_counts.items()}\n",
    "    user_field_ratio.append(field_ratio)\n",
    "\n",
    "users_df['field_tendency'] = [[x.get(f, 0) for f in unique_fields] for x in user_field_ratio]"
   ]
  },
  {
   "cell_type": "code",
   "execution_count": null,
   "metadata": {
    "collapsed": false
   },
   "outputs": [],
   "source": [
    "from sklearn.model_selection import train_test_split\n",
    "\n",
    "train_users_df, test_users_df = train_test_split(users_df, test_size=0.2)"
   ]
  },
  {
   "cell_type": "code",
   "execution_count": null,
   "metadata": {
    "collapsed": false
   },
   "outputs": [],
   "source": [
    "test_users_df.shape"
   ]
  },
  {
   "cell_type": "code",
   "execution_count": null,
   "metadata": {
    "collapsed": false
   },
   "outputs": [],
   "source": [
    "train_users_df.head()"
   ]
  },
  {
   "cell_type": "markdown",
   "metadata": {
    "collapsed": false
   },
   "source": [
    "<div dir=\"rtl\">\n",
    "<font face=\"XB Zar\" size=4>\n",
    "    <h2>\n",
    "    <b>روش Collaborative Filtering (۱۰ نمره)</b>\n",
    "    </h2>\n",
    "</font>\n",
    "<font face=\"XB Zar\" size=3>\n",
    "\n",
    "در این راهکار سعی می‌کنیم با استفاده از کاربران مشابه با یک کاربر، سلیقه‌ی او را حدس بزنیم و مقالاتی را که کاربران مشابه دیده‌اند را به کاربر نمایش دهیم.\n",
    "\n",
    "در این روش ابتدا باید $N$ کاربر که سلیقه‌ی مشابه با کاربر $x$ دارند را پیدا کنید، و با ترکیب لیست مقالات جدید مورد علاقه‌ی آن $N$ کاربر مشابه،\n",
    " ۱۰ مقاله‌ به کاربر $x$ پیشنهاد دهید.\n",
    "\n",
    "توجه داشته باشید که برای اینکه شباهت دو کاربر را پیدا کنید، باید cosine_similarity بین بردار زمینه‌های مورد علاقه‌ی دو کاربر استفاده کنید. این بردار از $M$ درایه تشکیل شده است، که $M$ تعداد زمینه‌های یکتاییست که در داده‌ها وجود دارد. و در این بردار درایه‌ی $j$ام\n",
    "نشان دهنده‌ی نسبت تعداد مقالات خوانده‌ی شده‌ کاربر در زمینه‌ی $j$ به تعداد کل مقاله‌های خوانده شده توسط او می‌باشد. (توجه کنید که هر مقاله می‌تواند چند زمینه داشته باشد و بنابراین حاصل جمع درایه‌های این بردار الزاما یک نمی‌باشد)\n",
    "\n",
    "</font>\n",
    "</div>"
   ]
  },
  {
   "cell_type": "code",
   "execution_count": null,
   "metadata": {
    "collapsed": false
   },
   "outputs": [],
   "source": [
    "users_df.head()"
   ]
  },
  {
   "cell_type": "code",
   "execution_count": null,
   "metadata": {
    "collapsed": false
   },
   "outputs": [],
   "source": [
    "def recommend_articles(user_id, users, similar_users, top_k=10):\n",
    "    article_pool = defaultdict(int)\n",
    "    for similar_user in similar_users:\n",
    "        liked_articles = users[users['id'] == similar_user].new_favorites.values[0]\n",
    "        for article in liked_articles:\n",
    "            article_pool[article] += 1\n",
    "    sorted_articles = sorted(article_pool, key=article_pool.get, reverse=True)\n",
    "    recommended_articles = sorted_articles[:top_k]\n",
    "    return recommended_articles"
   ]
  },
  {
   "cell_type": "code",
   "execution_count": null,
   "metadata": {
    "collapsed": false
   },
   "outputs": [],
   "source": [
    "from sklearn.metrics.pairwise import cosine_similarity\n",
    "\n",
    "\n",
    "def collaborative_filtering(users, user_id: int, field_tendency, N=10):\n",
    "    \"\"\"\n",
    "    Returns the top 10 related articles to the user, based on similar users (Similar users should be on \"train data\").\n",
    "\n",
    "    Parameters:\n",
    "    user_id (int): The unique index of the user.\n",
    "    N: The number of hyperparameter N in Nearest Neighbor algorithm.\n",
    "\n",
    "    Returns:\n",
    "    List[str]: A list of 10 article IDs that are most relevant to the user's interests.\n",
    "    \"\"\"\n",
    "    field_tendency_list = list(users.field_tendency)\n",
    "    ids = list(users.id)\n",
    "    similarity_scores = cosine_similarity([field_tendency], field_tendency_list)[0]\n",
    "    top_indices = [ids[x] for x in np.argsort(similarity_scores)[::-1][:10] if ids[x] != user_id]\n",
    "    #     top_matches = [similarity_scores[index] for index in top_indices]\n",
    "    return recommend_articles(user_id, users, top_indices, N)\n"
   ]
  },
  {
   "cell_type": "code",
   "execution_count": null,
   "metadata": {
    "collapsed": false
   },
   "outputs": [],
   "source": [
    "collaborative_filtering(train_users_df, 2, train_users_df[train_users_df['id'] == 2].field_tendency.values[0])"
   ]
  },
  {
   "cell_type": "markdown",
   "metadata": {
    "collapsed": false
   },
   "source": [
    "<div dir=\"rtl\">\n",
    "<font face=\"XB Zar\" size=4>\n",
    "    <h2>\n",
    "    <b>روش Content Based (۱۰ نمره)</b>\n",
    "    </h2>\n",
    "</font>\n",
    "<font face=\"XB Zar\" size=3>\n",
    "\n",
    "در این روش با استفاده از مقالات قبلی که کاربر آن‌ها را پسندیده است، به کاربر مقاله‌ی جدید پیشنهاد می‌دهیم.\n",
    "\n",
    "برای اینکار ابتدا تمام مقالات پیشنهاد شده برای تمام کاربرها را سر جمع کنید. (در واقع مدلی که پیاده‌سازی می‌کنید نباید بداند که به کدام کاربر چه مقالاتی پیشنهاد شده است)\n",
    "\n",
    "سپس بردار tf-idf برای تایتل هر یک از مقالات را ایجاد کنید، و میانگین بردار مقالات مورد علاقه‌ی هر فرد را با لیستی که از مقالات جدید سر جمع کردید مقایسه کنید و ۱۰ تا از شبیه‌ترین مقالات را خروجی دهید.\n",
    "\n",
    "</font>\n",
    "</div>"
   ]
  },
  {
   "cell_type": "code",
   "execution_count": null,
   "metadata": {
    "collapsed": false
   },
   "outputs": [],
   "source": [
    "titles = list(papers_df.title)"
   ]
  },
  {
   "cell_type": "code",
   "execution_count": null,
   "metadata": {
    "collapsed": false
   },
   "outputs": [],
   "source": [
    "from sklearn.feature_extraction.text import TfidfVectorizer\n",
    "\n",
    "vectorizer = TfidfVectorizer()\n",
    "vectorizer.fit(titles)"
   ]
  },
  {
   "cell_type": "code",
   "execution_count": null,
   "metadata": {
    "collapsed": false
   },
   "outputs": [],
   "source": [
    "new_papers = list([x for l in train_users_df['new_favorites'] for x in l])\n",
    "new_titles = np.array(papers_df[papers_df['paperId'].isin(new_papers)].title.values)\n",
    "new_papers_embeddings = vectorizer.transform(new_titles)"
   ]
  },
  {
   "cell_type": "code",
   "execution_count": null,
   "metadata": {
    "collapsed": false
   },
   "outputs": [],
   "source": [
    "def content_based_recommendation(user_id, favorites):\n",
    "    \"\"\"\n",
    "    Returns the top 10 related articles to the user, based on the titles of the articles.\n",
    "\n",
    "    Parameters:\n",
    "    user_id (int): The unique index of the user.\n",
    "\n",
    "    Returns:\n",
    "    List[str]: A list of 10 article IDs that are most relevant to the user's interests.\n",
    "    \"\"\"\n",
    "\n",
    "    favorite_titles = np.array(papers_df[papers_df['paperId'].isin(favorites)].title.values)\n",
    "    favorite_emmbeded = np.mean(vectorizer.transform(favorite_titles), axis=0)\n",
    "    f = np.array(favorite_emmbeded)\n",
    "    similarity_scores = cosine_similarity(f, new_papers_embeddings)[0]\n",
    "    top_indices = [new_papers[x] for x in np.argsort(similarity_scores)[::-1][:10]]\n",
    "\n",
    "    return top_indices"
   ]
  },
  {
   "cell_type": "code",
   "execution_count": null,
   "metadata": {
    "collapsed": false
   },
   "outputs": [],
   "source": [
    "content_based_recommendation(2, train_users_df[train_users_df['id'] == 2].favorites.values[0])"
   ]
  },
  {
   "cell_type": "markdown",
   "metadata": {
    "collapsed": false
   },
   "source": [
    "<div dir=\"rtl\">\n",
    "<font face=\"XB Zar\" size=4>\n",
    "    <h2>\n",
    "    <b>ارزیابی سیستم‌های پیشنهادگر</b>\n",
    "    </h2>\n",
    "</font>\n",
    "<font face=\"XB Zar\" size=3>\n",
    "\n",
    "در این بخش سیستم‌های پیشنهادگری را که پیاده کرده‌اید را با استفاده از معیار nDCG و با استفاده از دادگان واقعی از علایق کاربران نسبت به مقالات جدید ارزیابی کنید و نتایج حاصل از دو روش را با هم مقایسه کنید.\n",
    "\n",
    "</font>\n",
    "</div>"
   ]
  },
  {
   "cell_type": "code",
   "execution_count": null,
   "metadata": {
    "collapsed": false
   },
   "outputs": [],
   "source": [
    "from typing import List\n",
    "\n",
    "\n",
    "def get_ndcg(predicted, actual):\n",
    "    dcg = []\n",
    "    for i, p in enumerate(predicted):\n",
    "        if p in actual:\n",
    "            r = 1\n",
    "        else:\n",
    "            r = 0\n",
    "        dcg.append(r / np.log2(i + 2))\n",
    "    return np.average(np.array(dcg))\n",
    "\n",
    "\n",
    "def cacluate_NDCG(actual: List[List[str]], predicted: List[List[str]]) -> float:\n",
    "    \"\"\"\n",
    "    Calculates the Normalized Discounted Cumulative Gain (NDCG) of the predicted results\n",
    "\n",
    "    Parameters\n",
    "    ----------\n",
    "    actual : List[List[str]]\n",
    "        The actual results\n",
    "    predicted : List[List[str]]\n",
    "        The predicted results\n",
    "\n",
    "    Returns\n",
    "    -------\n",
    "    float\n",
    "        The NDCG of the predicted results\n",
    "    \"\"\"\n",
    "    r = [1] * 10\n",
    "    perfect_dcg = np.average(np.array(r / np.log2(np.arange(2, len(r) + 2))))\n",
    "    ndcg = []\n",
    "\n",
    "    for i in range(len(predicted)):\n",
    "        dcg = get_ndcg(actual=actual[i], predicted=predicted[i])\n",
    "        ndcg.append(dcg)\n",
    "\n",
    "    return np.average(np.array(ndcg) / perfect_dcg)"
   ]
  },
  {
   "cell_type": "code",
   "execution_count": null,
   "metadata": {
    "collapsed": false
   },
   "outputs": [],
   "source": [
    "predicted_papers = [collaborative_filtering(train_users_df, user['id'], user['field_tendency']) for _, user in\n",
    "                    test_users_df.iterrows()]\n",
    "actual_papers = list(test_users_df.new_favorites)\n",
    "print('NDCG of collaborative filtering:')\n",
    "cacluate_NDCG(predicted_papers, actual_papers)"
   ]
  },
  {
   "cell_type": "code",
   "execution_count": null,
   "metadata": {
    "collapsed": false
   },
   "outputs": [],
   "source": [
    "predicted_papers = [content_based_recommendation(user['id'], user['favorites']) for _, user in test_users_df.iterrows()]\n",
    "actual_papers = list(test_users_df.new_favorites)\n",
    "print('NDCG of content based recommendation:')\n",
    "cacluate_NDCG(predicted_papers, actual_papers)"
   ]
  },
  {
   "cell_type": "markdown",
   "metadata": {
    "collapsed": false
   },
   "source": [
    "<div dir=\"rtl\" style=\"text-align: justify\">\n",
    "<font face=\"XB Zar\" size=4>\n",
    "    <h1>\n",
    "    <b>رابط کاربری (تا ۱۰ نمره)</b>\n",
    "    </h1>\n",
    "</font>\n",
    "    <br>\n",
    "<font face=\"XB Zar\" size=3>\n",
    "در این بخش\n",
    " باید یک واسط کاربری ساده برای اجرای تعاملی بخش‌های مختلف سیستم که از فاز ۱ ساخته‌اید و همچنین مشاهده نتایج پیاده‌سازی کنید. در صورت پیاده سازی زیبا و بهتر رابط کاربری تا ده نمره نمره امتیازی نیز در نظر گرفته خواهد شد.\n",
    "</font>\n",
    "</div>"
   ]
  },
  {
   "cell_type": "code",
   "execution_count": null,
   "metadata": {
    "collapsed": false
   },
   "outputs": [],
   "source": []
  },
  {
   "cell_type": "code",
   "execution_count": null,
   "metadata": {
    "collapsed": false
   },
   "outputs": [],
   "source": [
    "crawled_papers['701890']"
   ]
  },
  {
   "cell_type": "code",
   "execution_count": null,
   "metadata": {
    "collapsed": false
   },
   "outputs": [],
   "source": [
    "for k in crawled_papers:\n",
    "    crawled_papers[k]['authors'] = [x.strip() for x in crawled_papers[k]['authors'].split(',') if 'authors' not in x]"
   ]
  },
  {
   "cell_type": "code",
   "execution_count": null,
   "metadata": {
    "collapsed": false
   },
   "outputs": [],
   "source": [
    "def create_authors_adjacency_matrix(nodes):\n",
    "    authors = set()\n",
    "    for node in nodes:\n",
    "        authors.update(nodes[node]['authors'])\n",
    "\n",
    "    name_to_index = {author: index for index, author in enumerate(authors)}\n",
    "\n",
    "    matrix_size = len(authors)\n",
    "    adjacency_matrix = [[0] * matrix_size for _ in range(matrix_size)]\n",
    "\n",
    "    for node in nodes:\n",
    "        for author in nodes[node][\"authors\"]:\n",
    "            source_index = name_to_index[author]\n",
    "            for destination_id in nodes[node][\"reference_ids\"]:\n",
    "                if nodes.get(destination_id):\n",
    "                    for ref_author in nodes[destination_id]['authors']:\n",
    "                        destination_index = name_to_index[ref_author]\n",
    "                        adjacency_matrix[source_index][destination_index] = 1\n",
    "\n",
    "    return adjacency_matrix, name_to_index"
   ]
  },
  {
   "cell_type": "code",
   "execution_count": null,
   "metadata": {
    "collapsed": false
   },
   "outputs": [],
   "source": [
    "import networkx as nx\n",
    "import networkx as nx\n",
    "\n",
    "\n",
    "def hit_algorithm(papers, n):\n",
    "    \"\"\"\n",
    "        Implementing the HITS algorithm to score authors based on their papers and co-authors.\n",
    "\n",
    "        Parameters\n",
    "        ---------------------------------------------------------------------------------------------------\n",
    "        papers: A list of paper dictionaries with the following keys:\n",
    "                \"id\": A unique ID for the paper\n",
    "                \"title\": The title of the paper\n",
    "                \"abstract\": The abstract of the paper\n",
    "                \"date\": The year in which the paper was published\n",
    "                \"authors\": A list of the names of the authors of the paper\n",
    "                \"related_topics\": A list of IDs for related topics (optional)\n",
    "                \"citation_count\": The number of times the paper has been cited (optional)\n",
    "                \"reference_count\": The number of references in the paper (optional)\n",
    "                \"references\": A list of IDs for papers that are cited in the paper (optional)\n",
    "        n: An integer representing the number of top authors to return.\n",
    "\n",
    "        Returns\n",
    "        ---------------------------------------------------------------------------------------------------\n",
    "        List\n",
    "        list of the top n authors based on their hub scores.\n",
    "    \"\"\"\n",
    "    # Create a graph of authors and papers (all of the authors and papers represented as nodes, and all of the authors who wrote each paper connected to the corresponding paper node by an edge)\n",
    "    adjacency_matrix, name_to_index = create_authors_adjacency_matrix(papers)\n",
    "    adjacency_matrix = np.array(adjacency_matrix)\n",
    "    index_to_name = {v: k for k, v in name_to_index.items()}\n",
    "    # Run the HITS algorithm\n",
    "    AAT = np.dot(adjacency_matrix, adjacency_matrix.T)\n",
    "    ATA = np.dot(adjacency_matrix.T, adjacency_matrix)\n",
    "    h_w, hubs = linalg.eig(AAT)\n",
    "    hubs = hubs[:, np.argmax(h_w)]\n",
    "    a_w, authorities = linalg.eig(ATA)\n",
    "    authorities = authorities[:, np.argmax(a_w)]\n",
    "    # Create a list of top n authors based on their hub scores\n",
    "    top_authors = authorities.argsort()[-n:][::-1]\n",
    "    return [index_to_name[t] for t in top_authors]"
   ]
  },
  {
   "cell_type": "code",
   "execution_count": null,
   "metadata": {
    "collapsed": false
   },
   "outputs": [],
   "source": [
    "# call the hit_algorithm function\n",
    "top_authors = hit_algorithm(crawled_papers, 2)\n",
    "\n",
    "# print the top authors\n",
    "print(top_authors)"
   ]
  },
  {
   "cell_type": "markdown",
   "metadata": {
    "collapsed": false
   },
   "source": [
    "<div dir=\"rtl\">\n",
    "<font face=\"XB Zar\" size=4>\n",
    "    <h1>\n",
    "    <b>سیستم پیشنهادگر (۲۰ نمره)</b>\n",
    "    </h1>\n",
    "</font>\n",
    "<font face=\"XB Zar\" size=3>\n",
    "\n",
    "در این بخش سعی می‌کنیم که یک سیستم پیشنهادگر مقالات بر اساس جست‌و‌جو‌ها یا علايق یک کاربر پیاده‌سازی کنیم، سیستم پیشنهاد دهنده‌ای که قصد داریم آن را ایجاد کنیم،‌ باید بتواند بر اساس لیستی از مقالاتی که کاربر قبلا آن‌ها را مطالعه کرده یا به آن‌ها علاقه داشته است، مقالات تازه انتشار یافته‌‌ی جدید را به کاربر پیشنهاد دهد.\n",
    "\n",
    "در فایل recommended_papers.json\n",
    "لیستی از کاربران قرار دارد که در فیلد positive_papers هر کاربر،\n",
    "تعداد ۵۰ مقاله از مقالاتی که کاربر به آن‌ها علاقه داشته است مشخص شده است. و همچینین در فیلد recommendedPapers هر کاربر تعداد ۱۰ مقاله به ترتیب اهمیت، از مقالات جدیدی که کاربر آن‌ها را پسندیده است قرار دارد.\n",
    "\n",
    "در این بخش هدف شما یادگیری سیستم پیشنهاد‌ دهنده بر اساس همین داده‌ها می‌باشد، و به عبارتی شما بایستی کاربر‌ها را به دو دسته آموزش و آزمایش تقسیم کنید، و بر اساس داده‌های آموزشی بتوانید مقالات جدید مورد پسند کاربرهای آزمایش را پیش‌بینی کنید. (بنابراین در این پیش‌بینی نمی‌توانید از فیلد recommendedPapers این کاربران استفاده کنید.)\n",
    "\n",
    "</font>\n",
    "</div>"
   ]
  },
  {
   "cell_type": "code",
   "execution_count": null,
   "metadata": {
    "collapsed": false
   },
   "outputs": [],
   "source": [
    "import json\n",
    "\n",
    "with open('/kaggle/working/HW3/recommended_papers.json', 'r') as fp:\n",
    "    recommended_papers = json.load(fp)"
   ]
  },
  {
   "cell_type": "code",
   "execution_count": null,
   "metadata": {
    "collapsed": false
   },
   "outputs": [],
   "source": [
    "sample_user = recommended_papers[0]"
   ]
  },
  {
   "cell_type": "code",
   "execution_count": null,
   "metadata": {
    "collapsed": false
   },
   "outputs": [],
   "source": [
    "sample_user.keys()"
   ]
  },
  {
   "cell_type": "code",
   "execution_count": null,
   "metadata": {
    "collapsed": false
   },
   "outputs": [],
   "source": [
    "print(sample_user['positive_papers'][0]['paperId'])\n",
    "print(sample_user['positive_papers'][0]['title'])\n",
    "print(sample_user['positive_papers'][0]['abstract'])\n",
    "print(sample_user['positive_papers'][0]['fieldsOfStudy'])\n",
    "print(sample_user['recommendedPapers'][0])"
   ]
  },
  {
   "cell_type": "code",
   "execution_count": null,
   "metadata": {
    "collapsed": false
   },
   "outputs": [],
   "source": [
    "users_df = pd.DataFrame(\n",
    "    [{\n",
    "        'favorites': [x['paperId'] for x in user['positive_papers']],\n",
    "        'new_favorites': [x['paperId'] for x in user['recommendedPapers']],\n",
    "        'id': i + 1\n",
    "    } for i, user in enumerate(recommended_papers)])"
   ]
  },
  {
   "cell_type": "code",
   "execution_count": null,
   "metadata": {
    "collapsed": false
   },
   "outputs": [],
   "source": [
    "all_papers_list = [user['positive_papers'] for user in recommended_papers] + [user['recommendedPapers'] for user in\n",
    "                                                                              recommended_papers]\n",
    "all_papers_list = [paper for l in all_papers_list for paper in l]\n",
    "papers_df = pd.DataFrame(all_papers_list)\n",
    "papers_df = papers_df.drop_duplicates(subset=['paperId'], keep='last')"
   ]
  },
  {
   "cell_type": "code",
   "execution_count": null,
   "metadata": {
    "collapsed": false
   },
   "outputs": [],
   "source": [
    "papers_df.head()"
   ]
  },
  {
   "cell_type": "code",
   "execution_count": null,
   "metadata": {
    "collapsed": false
   },
   "outputs": [],
   "source": [
    "users_df.head()"
   ]
  },
  {
   "cell_type": "code",
   "execution_count": null,
   "metadata": {
    "collapsed": false
   },
   "outputs": [],
   "source": [
    "import pandas as pd\n",
    "import matplotlib.pyplot as plt\n",
    "\n",
    "study_fields_counts = papers_df['fieldsOfStudy'].explode().value_counts()\n",
    "\n",
    "plt.figure(figsize=(10, 6))\n",
    "study_fields_counts.plot(kind='bar')\n",
    "plt.title('Number of Papers by Study Field')\n",
    "plt.xlabel('Study Field')\n",
    "plt.ylabel('Count')\n",
    "plt.xticks(rotation=45)\n",
    "plt.tight_layout()\n",
    "plt.show()"
   ]
  },
  {
   "cell_type": "code",
   "execution_count": null,
   "metadata": {
    "collapsed": false
   },
   "outputs": [],
   "source": [
    "unique_fields = papers_df['fieldsOfStudy'].explode().unique()"
   ]
  },
  {
   "cell_type": "code",
   "execution_count": null,
   "metadata": {
    "collapsed": false
   },
   "outputs": [],
   "source": [
    "unique_fields = list(unique_fields)"
   ]
  },
  {
   "cell_type": "code",
   "execution_count": null,
   "metadata": {
    "collapsed": false
   },
   "outputs": [],
   "source": [
    "len(unique_fields)"
   ]
  },
  {
   "cell_type": "code",
   "execution_count": null,
   "metadata": {
    "collapsed": false
   },
   "outputs": [],
   "source": [
    "unique_fields"
   ]
  },
  {
   "cell_type": "code",
   "execution_count": null,
   "metadata": {
    "collapsed": false
   },
   "outputs": [],
   "source": [
    "user_field_ratio = []\n",
    "for _, user in users_df.iterrows():\n",
    "    favorite_papers = user['favorites']\n",
    "    field_counts = {}\n",
    "\n",
    "    for paper in favorite_papers:\n",
    "        fields = papers_df.loc[papers_df['paperId'] == paper, 'fieldsOfStudy'].values[0]\n",
    "        if fields:\n",
    "            for field in fields:\n",
    "                field_counts[field] = field_counts.get(field, 0) + 1\n",
    "\n",
    "    total_papers = len(favorite_papers)\n",
    "    field_ratio = {field: count / total_papers for field, count in field_counts.items()}\n",
    "    user_field_ratio.append(field_ratio)\n",
    "\n",
    "users_df['field_tendency'] = [[x.get(f, 0) for f in unique_fields] for x in user_field_ratio]"
   ]
  },
  {
   "cell_type": "code",
   "execution_count": null,
   "metadata": {
    "collapsed": false
   },
   "outputs": [],
   "source": [
    "from sklearn.model_selection import train_test_split\n",
    "\n",
    "train_users_df, test_users_df = train_test_split(users_df, test_size=0.2)"
   ]
  },
  {
   "cell_type": "code",
   "execution_count": null,
   "metadata": {
    "collapsed": false
   },
   "outputs": [],
   "source": [
    "test_users_df.shape"
   ]
  },
  {
   "cell_type": "code",
   "execution_count": null,
   "metadata": {
    "collapsed": false
   },
   "outputs": [],
   "source": [
    "train_users_df.head()"
   ]
  },
  {
   "cell_type": "markdown",
   "metadata": {
    "collapsed": false
   },
   "source": [
    "<div dir=\"rtl\">\n",
    "<font face=\"XB Zar\" size=4>\n",
    "    <h2>\n",
    "    <b>روش Collaborative Filtering (۱۰ نمره)</b>\n",
    "    </h2>\n",
    "</font>\n",
    "<font face=\"XB Zar\" size=3>\n",
    "\n",
    "در این راهکار سعی می‌کنیم با استفاده از کاربران مشابه با یک کاربر، سلیقه‌ی او را حدس بزنیم و مقالاتی را که کاربران مشابه دیده‌اند را به کاربر نمایش دهیم.\n",
    "\n",
    "در این روش ابتدا باید $N$ کاربر که سلیقه‌ی مشابه با کاربر $x$ دارند را پیدا کنید، و با ترکیب لیست مقالات جدید مورد علاقه‌ی آن $N$ کاربر مشابه،\n",
    " ۱۰ مقاله‌ به کاربر $x$ پیشنهاد دهید.\n",
    "\n",
    "توجه داشته باشید که برای اینکه شباهت دو کاربر را پیدا کنید، باید cosine_similarity بین بردار زمینه‌های مورد علاقه‌ی دو کاربر استفاده کنید. این بردار از $M$ درایه تشکیل شده است، که $M$ تعداد زمینه‌های یکتاییست که در داده‌ها وجود دارد. و در این بردار درایه‌ی $j$ام\n",
    "نشان دهنده‌ی نسبت تعداد مقالات خوانده‌ی شده‌ کاربر در زمینه‌ی $j$ به تعداد کل مقاله‌های خوانده شده توسط او می‌باشد. (توجه کنید که هر مقاله می‌تواند چند زمینه داشته باشد و بنابراین حاصل جمع درایه‌های این بردار الزاما یک نمی‌باشد)\n",
    "\n",
    "</font>\n",
    "</div>"
   ]
  },
  {
   "cell_type": "code",
   "execution_count": null,
   "metadata": {
    "collapsed": false
   },
   "outputs": [],
   "source": [
    "users_df.head()"
   ]
  },
  {
   "cell_type": "code",
   "execution_count": null,
   "metadata": {
    "collapsed": false
   },
   "outputs": [],
   "source": [
    "def recommend_articles(user_id, users, similar_users, top_k=10):\n",
    "    article_pool = defaultdict(int)\n",
    "    for similar_user in similar_users:\n",
    "        liked_articles = users[users['id'] == similar_user].new_favorites.values[0]\n",
    "        for article in liked_articles:\n",
    "            article_pool[article] += 1\n",
    "    sorted_articles = sorted(article_pool, key=article_pool.get, reverse=True)\n",
    "    recommended_articles = sorted_articles[:top_k]\n",
    "    return recommended_articles"
   ]
  },
  {
   "cell_type": "code",
   "execution_count": null,
   "metadata": {
    "collapsed": false
   },
   "outputs": [],
   "source": [
    "from sklearn.metrics.pairwise import cosine_similarity\n",
    "\n",
    "\n",
    "def collaborative_filtering(users, user_id: int, field_tendency, N=10):\n",
    "    \"\"\"\n",
    "    Returns the top 10 related articles to the user, based on similar users (Similar users should be on \"train data\").\n",
    "\n",
    "    Parameters:\n",
    "    user_id (int): The unique index of the user.\n",
    "    N: The number of hyperparameter N in Nearest Neighbor algorithm.\n",
    "\n",
    "    Returns:\n",
    "    List[str]: A list of 10 article IDs that are most relevant to the user's interests.\n",
    "    \"\"\"\n",
    "    field_tendency_list = list(users.field_tendency)\n",
    "    ids = list(users.id)\n",
    "    similarity_scores = cosine_similarity([field_tendency], field_tendency_list)[0]\n",
    "    top_indices = [ids[x] for x in np.argsort(similarity_scores)[::-1][:10] if ids[x] != user_id]\n",
    "    #     top_matches = [similarity_scores[index] for index in top_indices]\n",
    "    return recommend_articles(user_id, users, top_indices, N)\n"
   ]
  },
  {
   "cell_type": "code",
   "execution_count": null,
   "metadata": {
    "collapsed": false
   },
   "outputs": [],
   "source": [
    "collaborative_filtering(train_users_df, 2, train_users_df[train_users_df['id'] == 2].field_tendency.values[0])"
   ]
  },
  {
   "cell_type": "markdown",
   "metadata": {
    "collapsed": false
   },
   "source": [
    "<div dir=\"rtl\">\n",
    "<font face=\"XB Zar\" size=4>\n",
    "    <h2>\n",
    "    <b>روش Content Based (۱۰ نمره)</b>\n",
    "    </h2>\n",
    "</font>\n",
    "<font face=\"XB Zar\" size=3>\n",
    "\n",
    "در این روش با استفاده از مقالات قبلی که کاربر آن‌ها را پسندیده است، به کاربر مقاله‌ی جدید پیشنهاد می‌دهیم.\n",
    "\n",
    "برای اینکار ابتدا تمام مقالات پیشنهاد شده برای تمام کاربرها را سر جمع کنید. (در واقع مدلی که پیاده‌سازی می‌کنید نباید بداند که به کدام کاربر چه مقالاتی پیشنهاد شده است)\n",
    "\n",
    "سپس بردار tf-idf برای تایتل هر یک از مقالات را ایجاد کنید، و میانگین بردار مقالات مورد علاقه‌ی هر فرد را با لیستی که از مقالات جدید سر جمع کردید مقایسه کنید و ۱۰ تا از شبیه‌ترین مقالات را خروجی دهید.\n",
    "\n",
    "</font>\n",
    "</div>"
   ]
  },
  {
   "cell_type": "code",
   "execution_count": null,
   "metadata": {
    "collapsed": false
   },
   "outputs": [],
   "source": [
    "titles = list(papers_df.title)"
   ]
  },
  {
   "cell_type": "code",
   "execution_count": null,
   "metadata": {
    "collapsed": false
   },
   "outputs": [],
   "source": [
    "from sklearn.feature_extraction.text import TfidfVectorizer\n",
    "\n",
    "vectorizer = TfidfVectorizer()\n",
    "vectorizer.fit(titles)"
   ]
  },
  {
   "cell_type": "code",
   "execution_count": null,
   "metadata": {
    "collapsed": false
   },
   "outputs": [],
   "source": [
    "new_papers = list([x for l in train_users_df['new_favorites'] for x in l])\n",
    "new_titles = np.array(papers_df[papers_df['paperId'].isin(new_papers)].title.values)\n",
    "new_papers_embeddings = vectorizer.transform(new_titles)"
   ]
  },
  {
   "cell_type": "code",
   "execution_count": null,
   "metadata": {
    "collapsed": false
   },
   "outputs": [],
   "source": [
    "def content_based_recommendation(user_id, favorites):\n",
    "    \"\"\"\n",
    "    Returns the top 10 related articles to the user, based on the titles of the articles.\n",
    "\n",
    "    Parameters:\n",
    "    user_id (int): The unique index of the user.\n",
    "\n",
    "    Returns:\n",
    "    List[str]: A list of 10 article IDs that are most relevant to the user's interests.\n",
    "    \"\"\"\n",
    "\n",
    "    favorite_titles = np.array(papers_df[papers_df['paperId'].isin(favorites)].title.values)\n",
    "    favorite_emmbeded = np.mean(vectorizer.transform(favorite_titles), axis=0)\n",
    "    f = np.array(favorite_emmbeded)\n",
    "    similarity_scores = cosine_similarity(f, new_papers_embeddings)[0]\n",
    "    top_indices = [new_papers[x] for x in np.argsort(similarity_scores)[::-1][:10]]\n",
    "\n",
    "    return top_indices"
   ]
  },
  {
   "cell_type": "code",
   "execution_count": null,
   "metadata": {
    "collapsed": false
   },
   "outputs": [],
   "source": [
    "content_based_recommendation(2, train_users_df[train_users_df['id'] == 2].favorites.values[0])"
   ]
  },
  {
   "cell_type": "markdown",
   "metadata": {
    "collapsed": false
   },
   "source": [
    "<div dir=\"rtl\">\n",
    "<font face=\"XB Zar\" size=4>\n",
    "    <h2>\n",
    "    <b>ارزیابی سیستم‌های پیشنهادگر</b>\n",
    "    </h2>\n",
    "</font>\n",
    "<font face=\"XB Zar\" size=3>\n",
    "\n",
    "در این بخش سیستم‌های پیشنهادگری را که پیاده کرده‌اید را با استفاده از معیار nDCG و با استفاده از دادگان واقعی از علایق کاربران نسبت به مقالات جدید ارزیابی کنید و نتایج حاصل از دو روش را با هم مقایسه کنید.\n",
    "\n",
    "</font>\n",
    "</div>"
   ]
  },
  {
   "cell_type": "code",
   "execution_count": null,
   "metadata": {
    "collapsed": false
   },
   "outputs": [],
   "source": [
    "from typing import List\n",
    "\n",
    "def get_ndcg(predicted, actual):\n",
    "    dcg = []\n",
    "    for i, p in enumerate(predicted):\n",
    "        if p in actual:\n",
    "            r = 1\n",
    "        else:\n",
    "            r = 0\n",
    "        dcg.append(r / np.log2(i + 2))\n",
    "    return np.average(np.array(dcg))\n",
    "\n",
    "def cacluate_NDCG(actual: List[List[str]], predicted: List[List[str]]) -> float:\n",
    "    \"\"\"\n",
    "    Calculates the Normalized Discounted Cumulative Gain (NDCG) of the predicted results\n",
    "\n",
    "    Parameters\n",
    "    ----------\n",
    "    actual : List[List[str]]\n",
    "        The actual results\n",
    "    predicted : List[List[str]]\n",
    "        The predicted results\n",
    "\n",
    "    Returns\n",
    "    -------\n",
    "    float\n",
    "        The NDCG of the predicted results\n",
    "    \"\"\"\n",
    "    r = [1]*10\n",
    "    perfect_dcg = np.average(np.array(r / np.log2(np.arange(2, len(r) + 2))))\n",
    "    ndcg = []\n",
    "\n",
    "    for i in range(len(predicted)):\n",
    "        dcg = get_ndcg(actual=actual[i], predicted=predicted[i])\n",
    "        ndcg.append(dcg)\n",
    "\n",
    "    return np.average(np.array(ndcg)/ perfect_dcg)"
   ]
  },
  {
   "cell_type": "code",
   "execution_count": null,
   "metadata": {
    "collapsed": false
   },
   "outputs": [],
   "source": [
    "predicted_papers = [collaborative_filtering(train_users_df, user['id'], user['field_tendency']) for _, user in test_users_df.iterrows()]\n",
    "actual_papers = list(test_users_df.new_favorites)\n",
    "print('NDCG of collaborative filtering:')\n",
    "cacluate_NDCG(predicted_papers, actual_papers)"
   ]
  },
  {
   "cell_type": "code",
   "execution_count": null,
   "metadata": {
    "collapsed": false
   },
   "outputs": [],
   "source": [
    "predicted_papers = [content_based_recommendation(user['id'], user['favorites']) for _, user in test_users_df.iterrows()]\n",
    "actual_papers = list(test_users_df.new_favorites)\n",
    "print('NDCG of content based recommendation:')\n",
    "cacluate_NDCG(predicted_papers, actual_papers)"
   ]
  },
  {
   "cell_type": "markdown",
   "metadata": {
    "collapsed": false
   },
   "source": [
    "<div dir=\"rtl\" style=\"text-align: justify\">\n",
    "<font face=\"XB Zar\" size=4>\n",
    "    <h1>\n",
    "    <b>رابط کاربری (تا ۱۰ نمره)</b>\n",
    "    </h1>\n",
    "</font>\n",
    "    <br>\n",
    "<font face=\"XB Zar\" size=3>\n",
    "در این بخش\n",
    " باید یک واسط کاربری ساده برای اجرای تعاملی بخش‌های مختلف سیستم که از فاز ۱ ساخته‌اید و همچنین مشاهده نتایج پیاده‌سازی کنید. در صورت پیاده سازی زیبا و بهتر رابط کاربری تا ده نمره نمره امتیازی نیز در نظر گرفته خواهد شد.\n",
    "</font>\n",
    "</div>"
   ]
  },
  {
   "cell_type": "code",
   "execution_count": null,
   "metadata": {
    "collapsed": false
   },
   "outputs": [],
   "source": []
  },
  {
   "cell_type": "code",
   "execution_count": 164,
   "metadata": {
    "execution": {
     "iopub.execute_input": "2023-06-25T22:17:09.126451Z",
     "iopub.status.busy": "2023-06-25T22:17:09.125737Z",
     "iopub.status.idle": "2023-06-25T22:17:09.139940Z",
     "shell.execute_reply": "2023-06-25T22:17:09.138977Z",
     "shell.execute_reply.started": "2023-06-25T22:17:09.126418Z"
    },
    "trusted": true
   },
   "outputs": [
    {
     "data": {
      "text/plain": [
       "['94eebbefe8a37cf394be899b85af295c2e3a1f01',\n",
       " 'efeaa77602c13e521e8359d2dad21228cac435f6',\n",
       " '682ff0690c87a31c6bc148e53f56b5b494621d66',\n",
       " '62f3ecee1135503bb2cab776e915281521ef2f3a',\n",
       " '7d03af1ccf5404e23bee02903b41850e88cc8590',\n",
       " '1d36e7ba19be5db9694ed256ea21dae5f753ede3',\n",
       " '355a88ee6967af23512f85f947270cf9d81ea098',\n",
       " '3282be1c7cb981e1728863d99406cd53d6c9085b',\n",
       " 'b2db53ac752045905063eb497a6a484627b037b1',\n",
       " '79f43d149cd569abf46428ed8a27a8a2b3e44a8f']"
      ]
     },
     "execution_count": 164,
     "metadata": {},
     "output_type": "execute_result"
    }
   ],
   "source": [
    "collaborative_filtering(train_users_df, 2, train_users_df[train_users_df['id'] == 2].field_tendency.values[0])"
   ]
  },
  {
   "cell_type": "markdown",
   "metadata": {
    "pycharm": {
     "name": "#%% md\n"
    }
   },
   "source": [
    "<div dir=\"rtl\">\n",
    "<font face=\"XB Zar\" size=4>\n",
    "    <h2>\n",
    "    <b>روش Content Based (۱۰ نمره)</b>\n",
    "    </h2>\n",
    "</font>\n",
    "<font face=\"XB Zar\" size=3>\n",
    "\n",
    "در این روش با استفاده از مقالات قبلی که کاربر آن‌ها را پسندیده است، به کاربر مقاله‌ی جدید پیشنهاد می‌دهیم.\n",
    "\n",
    "برای اینکار ابتدا تمام مقالات پیشنهاد شده برای تمام کاربرها را سر جمع کنید. (در واقع مدلی که پیاده‌سازی می‌کنید نباید بداند که به کدام کاربر چه مقالاتی پیشنهاد شده است)\n",
    "\n",
    "سپس بردار tf-idf برای تایتل هر یک از مقالات را ایجاد کنید، و میانگین بردار مقالات مورد علاقه‌ی هر فرد را با لیستی که از مقالات جدید سر جمع کردید مقایسه کنید و ۱۰ تا از شبیه‌ترین مقالات را خروجی دهید.\n",
    "\n",
    "</font>\n",
    "</div>"
   ]
  },
  {
   "cell_type": "code",
   "execution_count": 165,
   "metadata": {
    "execution": {
     "iopub.execute_input": "2023-06-25T22:17:11.034914Z",
     "iopub.status.busy": "2023-06-25T22:17:11.034532Z",
     "iopub.status.idle": "2023-06-25T22:17:11.041484Z",
     "shell.execute_reply": "2023-06-25T22:17:11.040343Z",
     "shell.execute_reply.started": "2023-06-25T22:17:11.034886Z"
    },
    "trusted": true
   },
   "outputs": [],
   "source": [
    "titles = list(papers_df.title)"
   ]
  },
  {
   "cell_type": "code",
   "execution_count": 166,
   "metadata": {
    "execution": {
     "iopub.execute_input": "2023-06-25T22:17:12.059656Z",
     "iopub.status.busy": "2023-06-25T22:17:12.058705Z",
     "iopub.status.idle": "2023-06-25T22:17:12.216559Z",
     "shell.execute_reply": "2023-06-25T22:17:12.215403Z",
     "shell.execute_reply.started": "2023-06-25T22:17:12.059620Z"
    },
    "trusted": true
   },
   "outputs": [
    {
     "data": {
      "text/html": [
       "<style>#sk-container-id-2 {color: black;background-color: white;}#sk-container-id-2 pre{padding: 0;}#sk-container-id-2 div.sk-toggleable {background-color: white;}#sk-container-id-2 label.sk-toggleable__label {cursor: pointer;display: block;width: 100%;margin-bottom: 0;padding: 0.3em;box-sizing: border-box;text-align: center;}#sk-container-id-2 label.sk-toggleable__label-arrow:before {content: \"▸\";float: left;margin-right: 0.25em;color: #696969;}#sk-container-id-2 label.sk-toggleable__label-arrow:hover:before {color: black;}#sk-container-id-2 div.sk-estimator:hover label.sk-toggleable__label-arrow:before {color: black;}#sk-container-id-2 div.sk-toggleable__content {max-height: 0;max-width: 0;overflow: hidden;text-align: left;background-color: #f0f8ff;}#sk-container-id-2 div.sk-toggleable__content pre {margin: 0.2em;color: black;border-radius: 0.25em;background-color: #f0f8ff;}#sk-container-id-2 input.sk-toggleable__control:checked~div.sk-toggleable__content {max-height: 200px;max-width: 100%;overflow: auto;}#sk-container-id-2 input.sk-toggleable__control:checked~label.sk-toggleable__label-arrow:before {content: \"▾\";}#sk-container-id-2 div.sk-estimator input.sk-toggleable__control:checked~label.sk-toggleable__label {background-color: #d4ebff;}#sk-container-id-2 div.sk-label input.sk-toggleable__control:checked~label.sk-toggleable__label {background-color: #d4ebff;}#sk-container-id-2 input.sk-hidden--visually {border: 0;clip: rect(1px 1px 1px 1px);clip: rect(1px, 1px, 1px, 1px);height: 1px;margin: -1px;overflow: hidden;padding: 0;position: absolute;width: 1px;}#sk-container-id-2 div.sk-estimator {font-family: monospace;background-color: #f0f8ff;border: 1px dotted black;border-radius: 0.25em;box-sizing: border-box;margin-bottom: 0.5em;}#sk-container-id-2 div.sk-estimator:hover {background-color: #d4ebff;}#sk-container-id-2 div.sk-parallel-item::after {content: \"\";width: 100%;border-bottom: 1px solid gray;flex-grow: 1;}#sk-container-id-2 div.sk-label:hover label.sk-toggleable__label {background-color: #d4ebff;}#sk-container-id-2 div.sk-serial::before {content: \"\";position: absolute;border-left: 1px solid gray;box-sizing: border-box;top: 0;bottom: 0;left: 50%;z-index: 0;}#sk-container-id-2 div.sk-serial {display: flex;flex-direction: column;align-items: center;background-color: white;padding-right: 0.2em;padding-left: 0.2em;position: relative;}#sk-container-id-2 div.sk-item {position: relative;z-index: 1;}#sk-container-id-2 div.sk-parallel {display: flex;align-items: stretch;justify-content: center;background-color: white;position: relative;}#sk-container-id-2 div.sk-item::before, #sk-container-id-2 div.sk-parallel-item::before {content: \"\";position: absolute;border-left: 1px solid gray;box-sizing: border-box;top: 0;bottom: 0;left: 50%;z-index: -1;}#sk-container-id-2 div.sk-parallel-item {display: flex;flex-direction: column;z-index: 1;position: relative;background-color: white;}#sk-container-id-2 div.sk-parallel-item:first-child::after {align-self: flex-end;width: 50%;}#sk-container-id-2 div.sk-parallel-item:last-child::after {align-self: flex-start;width: 50%;}#sk-container-id-2 div.sk-parallel-item:only-child::after {width: 0;}#sk-container-id-2 div.sk-dashed-wrapped {border: 1px dashed gray;margin: 0 0.4em 0.5em 0.4em;box-sizing: border-box;padding-bottom: 0.4em;background-color: white;}#sk-container-id-2 div.sk-label label {font-family: monospace;font-weight: bold;display: inline-block;line-height: 1.2em;}#sk-container-id-2 div.sk-label-container {text-align: center;}#sk-container-id-2 div.sk-container {/* jupyter's `normalize.less` sets `[hidden] { display: none; }` but bootstrap.min.css set `[hidden] { display: none !important; }` so we also need the `!important` here to be able to override the default hidden behavior on the sphinx rendered scikit-learn.org. See: https://github.com/scikit-learn/scikit-learn/issues/21755 */display: inline-block !important;position: relative;}#sk-container-id-2 div.sk-text-repr-fallback {display: none;}</style><div id=\"sk-container-id-2\" class=\"sk-top-container\"><div class=\"sk-text-repr-fallback\"><pre>TfidfVectorizer()</pre><b>In a Jupyter environment, please rerun this cell to show the HTML representation or trust the notebook. <br />On GitHub, the HTML representation is unable to render, please try loading this page with nbviewer.org.</b></div><div class=\"sk-container\" hidden><div class=\"sk-item\"><div class=\"sk-estimator sk-toggleable\"><input class=\"sk-toggleable__control sk-hidden--visually\" id=\"sk-estimator-id-2\" type=\"checkbox\" checked><label for=\"sk-estimator-id-2\" class=\"sk-toggleable__label sk-toggleable__label-arrow\">TfidfVectorizer</label><div class=\"sk-toggleable__content\"><pre>TfidfVectorizer()</pre></div></div></div></div></div>"
      ],
      "text/plain": [
       "TfidfVectorizer()"
      ]
     },
     "execution_count": 166,
     "metadata": {},
     "output_type": "execute_result"
    }
   ],
   "source": [
    "from sklearn.feature_extraction.text import TfidfVectorizer\n",
    "\n",
    "vectorizer = TfidfVectorizer()\n",
    "vectorizer.fit(titles)"
   ]
  },
  {
   "cell_type": "code",
   "execution_count": 167,
   "metadata": {
    "execution": {
     "iopub.execute_input": "2023-06-25T22:17:13.396491Z",
     "iopub.status.busy": "2023-06-25T22:17:13.395890Z",
     "iopub.status.idle": "2023-06-25T22:17:13.408696Z",
     "shell.execute_reply": "2023-06-25T22:17:13.407961Z",
     "shell.execute_reply.started": "2023-06-25T22:17:13.396460Z"
    },
    "trusted": true
   },
   "outputs": [],
   "source": [
    "new_papers = list([x for l in train_users_df['new_favorites'] for x in l])\n",
    "new_titles = np.array(papers_df[papers_df['paperId'].isin(new_papers)].title.values)\n",
    "new_papers_embeddings = vectorizer.transform(new_titles)"
   ]
  },
  {
   "cell_type": "code",
   "execution_count": 168,
   "metadata": {
    "collapsed": false,
    "execution": {
     "iopub.execute_input": "2023-06-25T22:17:14.523532Z",
     "iopub.status.busy": "2023-06-25T22:17:14.522877Z",
     "iopub.status.idle": "2023-06-25T22:17:14.530367Z",
     "shell.execute_reply": "2023-06-25T22:17:14.529225Z",
     "shell.execute_reply.started": "2023-06-25T22:17:14.523496Z"
    },
    "jupyter": {
     "outputs_hidden": false
    },
    "pycharm": {
     "name": "#%%\n"
    },
    "trusted": true
   },
   "outputs": [],
   "source": [
    "def content_based_recommendation(user_id, favorites):\n",
    "    \"\"\"\n",
    "    Returns the top 10 related articles to the user, based on the titles of the articles.\n",
    "\n",
    "    Parameters:\n",
    "    user_id (int): The unique index of the user.\n",
    "\n",
    "    Returns:\n",
    "    List[str]: A list of 10 article IDs that are most relevant to the user's interests.\n",
    "    \"\"\"\n",
    "   \n",
    "    favorite_titles = np.array(papers_df[papers_df['paperId'].isin(favorites)].title.values)\n",
    "    favorite_emmbeded = np.mean(vectorizer.transform(favorite_titles), axis=0)\n",
    "    f = np.array(favorite_emmbeded)\n",
    "    similarity_scores = cosine_similarity(f, new_papers_embeddings)[0]\n",
    "    top_indices = [new_papers[x] for x in np.argsort(similarity_scores)[::-1][:10]]\n",
    "    \n",
    "    return top_indices"
   ]
  },
  {
   "cell_type": "code",
   "execution_count": 169,
   "metadata": {
    "execution": {
     "iopub.execute_input": "2023-06-25T22:17:15.507307Z",
     "iopub.status.busy": "2023-06-25T22:17:15.506886Z",
     "iopub.status.idle": "2023-06-25T22:17:15.522110Z",
     "shell.execute_reply": "2023-06-25T22:17:15.520516Z",
     "shell.execute_reply.started": "2023-06-25T22:17:15.507269Z"
    },
    "trusted": true
   },
   "outputs": [
    {
     "data": {
      "text/plain": [
       "['a7a40b35b6f37c554f1c5c2038892ed70c693a64',\n",
       " '00474bfec99c5b6852de1ac5190a1243b7a5fa91',\n",
       " 'e27ed7a092e795b33b920247d25dd5556b0b388c',\n",
       " '590b8f5e17424d1d4be560a0d2b1c665d8d3c7f8',\n",
       " '7d03af1ccf5404e23bee02903b41850e88cc8590',\n",
       " 'b65dfaf9b95b21840848b3b77bb4df655305ac89',\n",
       " 'efeaa77602c13e521e8359d2dad21228cac435f6',\n",
       " '0be2d311dff7e9d601a99a8c199a56faba216123',\n",
       " '3256e193a308e451c7107e51bb96c3e9b5bb6ae3',\n",
       " '590b8f5e17424d1d4be560a0d2b1c665d8d3c7f8']"
      ]
     },
     "execution_count": 169,
     "metadata": {},
     "output_type": "execute_result"
    }
   ],
   "source": [
    "content_based_recommendation(2, train_users_df[train_users_df['id'] == 2].favorites.values[0])"
   ]
  },
  {
   "cell_type": "markdown",
   "metadata": {
    "pycharm": {
     "name": "#%% md\n"
    }
   },
   "source": [
    "<div dir=\"rtl\">\n",
    "<font face=\"XB Zar\" size=4>\n",
    "    <h2>\n",
    "    <b>ارزیابی سیستم‌های پیشنهادگر</b>\n",
    "    </h2>\n",
    "</font>\n",
    "<font face=\"XB Zar\" size=3>\n",
    "\n",
    "در این بخش سیستم‌های پیشنهادگری را که پیاده کرده‌اید را با استفاده از معیار nDCG و با استفاده از دادگان واقعی از علایق کاربران نسبت به مقالات جدید ارزیابی کنید و نتایج حاصل از دو روش را با هم مقایسه کنید.\n",
    "\n",
    "</font>\n",
    "</div>"
   ]
  },
  {
   "cell_type": "code",
   "execution_count": 170,
   "metadata": {
    "collapsed": false,
    "execution": {
     "iopub.execute_input": "2023-06-25T22:17:17.223454Z",
     "iopub.status.busy": "2023-06-25T22:17:17.223086Z",
     "iopub.status.idle": "2023-06-25T22:17:17.232021Z",
     "shell.execute_reply": "2023-06-25T22:17:17.230905Z",
     "shell.execute_reply.started": "2023-06-25T22:17:17.223423Z"
    },
    "jupyter": {
     "outputs_hidden": false
    },
    "pycharm": {
     "is_executing": true,
     "name": "#%%\n"
    },
    "trusted": true
   },
   "outputs": [],
   "source": [
    "from typing import List\n",
    "\n",
    "def get_ndcg(predicted, actual):\n",
    "    dcg = []\n",
    "    for i, p in enumerate(predicted):\n",
    "        if p in actual:\n",
    "            r = 1\n",
    "        else:\n",
    "            r = 0\n",
    "        dcg.append(r / np.log2(i + 2))\n",
    "    return np.average(np.array(dcg)) \n",
    "\n",
    "def cacluate_NDCG(actual: List[List[str]], predicted: List[List[str]]) -> float:\n",
    "    \"\"\"\n",
    "    Calculates the Normalized Discounted Cumulative Gain (NDCG) of the predicted results\n",
    "\n",
    "    Parameters\n",
    "    ----------\n",
    "    actual : List[List[str]]\n",
    "        The actual results\n",
    "    predicted : List[List[str]]\n",
    "        The predicted results\n",
    "\n",
    "    Returns\n",
    "    -------\n",
    "    float\n",
    "        The NDCG of the predicted results\n",
    "    \"\"\"\n",
    "    r = [1]*10\n",
    "    perfect_dcg = np.average(np.array(r / np.log2(np.arange(2, len(r) + 2))))\n",
    "    ndcg = []\n",
    "\n",
    "    for i in range(len(predicted)):\n",
    "        dcg = get_ndcg(actual=actual[i], predicted=predicted[i])\n",
    "        ndcg.append(dcg)\n",
    "\n",
    "    return np.average(np.array(ndcg)/ perfect_dcg) "
   ]
  },
  {
   "cell_type": "code",
   "execution_count": 173,
   "metadata": {
    "execution": {
     "iopub.execute_input": "2023-06-25T22:19:20.477763Z",
     "iopub.status.busy": "2023-06-25T22:19:20.477379Z",
     "iopub.status.idle": "2023-06-25T22:19:21.059520Z",
     "shell.execute_reply": "2023-06-25T22:19:21.058527Z",
     "shell.execute_reply.started": "2023-06-25T22:19:20.477733Z"
    },
    "trusted": true
   },
   "outputs": [
    {
     "name": "stdout",
     "output_type": "stream",
     "text": [
      "NDCG of collaborative filtering:\n"
     ]
    },
    {
     "data": {
      "text/plain": [
       "0.5137472181634777"
      ]
     },
     "execution_count": 173,
     "metadata": {},
     "output_type": "execute_result"
    }
   ],
   "source": [
    "predicted_papers = [collaborative_filtering(train_users_df, user['id'], user['field_tendency']) for _, user in test_users_df.iterrows()]\n",
    "actual_papers = list(test_users_df.new_favorites)\n",
    "print('NDCG of collaborative filtering:')\n",
    "cacluate_NDCG(predicted_papers, actual_papers)"
   ]
  },
  {
   "cell_type": "code",
   "execution_count": 174,
   "metadata": {
    "execution": {
     "iopub.execute_input": "2023-06-25T22:19:29.867368Z",
     "iopub.status.busy": "2023-06-25T22:19:29.867011Z",
     "iopub.status.idle": "2023-06-25T22:19:30.301002Z",
     "shell.execute_reply": "2023-06-25T22:19:30.299882Z",
     "shell.execute_reply.started": "2023-06-25T22:19:29.867341Z"
    },
    "trusted": true
   },
   "outputs": [
    {
     "name": "stdout",
     "output_type": "stream",
     "text": [
      "NDCG of content based recommendation:\n"
     ]
    },
    {
     "data": {
      "text/plain": [
       "0.11234158202881162"
      ]
     },
     "execution_count": 174,
     "metadata": {},
     "output_type": "execute_result"
    }
   ],
   "source": [
    "predicted_papers = [content_based_recommendation(user['id'], user['favorites']) for _, user in test_users_df.iterrows()]\n",
    "actual_papers = list(test_users_df.new_favorites)\n",
    "print('NDCG of content based recommendation:')\n",
    "cacluate_NDCG(predicted_papers, actual_papers)"
   ]
  },
  {
   "cell_type": "markdown",
   "metadata": {
    "pycharm": {
     "name": "#%% md\n"
    }
   },
   "source": [
    "<div dir=\"rtl\" style=\"text-align: justify\">\n",
    "<font face=\"XB Zar\" size=4>\n",
    "    <h1>\n",
    "    <b>رابط کاربری (تا ۱۰ نمره)</b>\n",
    "    </h1>\n",
    "</font>\n",
    "    <br>\n",
    "<font face=\"XB Zar\" size=3>\n",
    "در این بخش\n",
    " باید یک واسط کاربری ساده برای اجرای تعاملی بخش‌های مختلف سیستم که از فاز ۱ ساخته‌اید و همچنین مشاهده نتایج پیاده‌سازی کنید. در صورت پیاده سازی زیبا و بهتر رابط کاربری تا ده نمره نمره امتیازی نیز در نظر گرفته خواهد شد.\n",
    "</font>\n",
    "</div>"
   ]
  },
  {
   "cell_type": "code",
   "execution_count": null,
   "metadata": {
    "collapsed": false,
    "jupyter": {
     "outputs_hidden": false
    },
    "pycharm": {
     "name": "#%%\n"
    }
   },
   "outputs": [],
   "source": []
  }
 ],
 "metadata": {
  "kernelspec": {
   "display_name": "Python 3",
   "language": "python",
   "name": "python3"
  },
  "language_info": {
   "codemirror_mode": {
    "name": "ipython",
    "version": 3
   },
   "file_extension": ".py",
   "mimetype": "text/x-python",
   "name": "python",
   "nbconvert_exporter": "python",
   "pygments_lexer": "ipython3",
   "version": "3.8.10"
  }
 },
 "nbformat": 4,
 "nbformat_minor": 4
}
