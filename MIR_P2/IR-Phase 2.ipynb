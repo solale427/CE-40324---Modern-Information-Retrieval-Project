{
 "cells": [
  {
   "attachments": {},
   "cell_type": "markdown",
   "metadata": {},
   "source": [
    "<div style=\"direction:rtl;line-height:300%;\">\n",
    "<font face=\"XB Zar\" size=5>\n",
    "<div align=center>\n",
    "<font face=\"B Titr\" size=5>\n",
    "<p></p><p></p>\n",
    "بسمه تعالی\n",
    "<p></p>\n",
    "</font>\n",
    "<p></p>\n",
    "<font>\n",
    "<br>\n",
    "درس بازیابی پیشرفته اطلاعات\n",
    "<br>\n",
    "مدرس: دکتر سلیمانی\n",
    "</font>\n",
    "<p></p>\n",
    "<br>\n",
    "<font>\n",
    "<b>فاز دوم پروژه</b>\n",
    "</font>\n",
    "<br>\n",
    "<br>\n",
    "موعد تحویل: ۵ خرداد ۱۴۰۲ <br>\n",
    "<br>\n",
    "<br>\n",
    "<br>\n",
    "<font>\n",
    "دانشگاه صنعتی شریف\n",
    "<br>\n",
    "دانشکده مهندسی کامپیوتر\n",
    "<br>\n",
    "<br>\n",
    "</font>\n",
    "</div>\n",
    "</font>\n",
    "</div>"
   ]
  },
  {
   "attachments": {},
   "cell_type": "markdown",
   "metadata": {},
   "source": [
    "<div dir=\"rtl\">\n",
    "<font face=\"XB Zar\" size=4 >\n",
    "سامانه‌های مبتنی بر یادگیری ماشین در بخش‌های مختلف از روش‌های یادگیری ماشین استفاده می‌کنند. دسته‌بندی و\n",
    "خوشه‌بندی\n",
    "دو کار مورد نیاز این سامانه‌ها هستند. در این تمرین به پیاده‌سازی این کارها با روش‌های مختلف و پیاده‌سازی قابلیت‌های جدید برای سیستم بازیابی روی مقالات علمی می‌پردازیم. دادگان این فاز را می‌توانید از\n",
    "<a href=\"https://www.kaggle.com/datasets/spsayakpaul/arxiv-paper-abstracts?resource=download\">این لینک</a>\n",
    "دانلود کنید.\n",
    "</font>\n",
    "</div>"
   ]
  },
  {
   "attachments": {},
   "cell_type": "markdown",
   "metadata": {},
   "source": [
    "<div dir=\"rtl\">\n",
    "<font face=\"XB Zar\" size=6>\n",
    "    <h1>\n",
    "    <b>دسته‌بندی توسط NaiveBayes (۱۸ نمره)</b>\n",
    "    </h1>\n",
    "    <p></p>\n",
    "    <p></p>\n",
    "</font>\n",
    "<font face=\"XB Zar\" size=3>\n",
    "در این قسمت شما به دسته‌بندی اسناد می‌پردازید. برای این منظور، ابتدا برای هر سند، بردار مربوط به تعداد کلمات کل را بسازید و سپس classifier NaiveBaise را خودتان از پایه پیاده‌سازی کرده و اسناد را دسته‌بندی کنید.\n",
    "در این تسک می‌توانید از کل دیتاست استفاده نکنید ولی باید دیتاست شما شامل هر سه کلاس موجود در دیتاست اصلی باشد.\n",
    "</font>\n",
    "</div>"
   ]
  },
  {
   "attachments": {},
   "cell_type": "markdown",
   "metadata": {},
   "source": [
    "<div dir=\"rtl\">\n",
    "<font face=\"XB Zar\" size=5>\n",
    "    <h2>\n",
    "    <b>دانلود دیتاست و آشنایی با آن</b>\n",
    "    </h2>\n",
    "    <p></p>\n",
    "    <p></p>\n",
    "</font>\n",
    "<font face=\"XB Zar\" size=3>\n",
    "در این قسمت دیتاست زیر را در kaggle دریافت کرده و ویژگی‌های آن را مشاهده کنید.\n",
    "</font>\n",
    "</div>"
   ]
  },
  {
   "cell_type": "code",
   "execution_count": 1,
   "metadata": {
    "ExecuteTime": {
     "end_time": "2023-05-31T12:05:40.185381337Z",
     "start_time": "2023-05-31T12:05:34.186198150Z"
    }
   },
   "outputs": [
    {
     "name": "stderr",
     "output_type": "stream",
     "text": [
      "2023-05-31 16:35:36.536000: I tensorflow/core/platform/cpu_feature_guard.cc:193] This TensorFlow binary is optimized with oneAPI Deep Neural Network Library (oneDNN) to use the following CPU instructions in performance-critical operations:  AVX2 FMA\n",
      "To enable them in other operations, rebuild TensorFlow with the appropriate compiler flags.\n",
      "2023-05-31 16:35:38.505776: W tensorflow/compiler/xla/stream_executor/platform/default/dso_loader.cc:64] Could not load dynamic library 'libnvinfer.so.7'; dlerror: libnvinfer.so.7: cannot open shared object file: No such file or directory\n",
      "2023-05-31 16:35:38.505921: W tensorflow/compiler/xla/stream_executor/platform/default/dso_loader.cc:64] Could not load dynamic library 'libnvinfer_plugin.so.7'; dlerror: libnvinfer_plugin.so.7: cannot open shared object file: No such file or directory\n",
      "2023-05-31 16:35:38.505934: W tensorflow/compiler/tf2tensorrt/utils/py_utils.cc:38] TF-TRT Warning: Cannot dlopen some TensorRT libraries. If you would like to use Nvidia GPU with TensorRT, please make sure the missing libraries mentioned above are installed properly.\n"
     ]
    }
   ],
   "source": [
    "import torch\n",
    "import nltk\n",
    "import numpy as np\n",
    "import pandas as pd\n",
    "from tqdm import tqdm\n",
    "from nltk import word_tokenize\n",
    "import string\n",
    "from sklearn.model_selection import train_test_split\n",
    "import torch\n",
    "from transformers import BertTokenizer, BertForSequenceClassification, TrainingArguments, Trainer\n",
    "from sklearn.metrics import precision_recall_fscore_support\n",
    "from sklearn.metrics import recall_score\n",
    "from sklearn.metrics import f1_score\n",
    "from sklearn.metrics import accuracy_score\n",
    "from sklearn.metrics import confusion_matrix, ConfusionMatrixDisplay\n",
    "from ast import literal_eval\n",
    "from sklearn.preprocessing import label_binarize\n",
    "import re"
   ]
  },
  {
   "cell_type": "code",
   "execution_count": 6,
   "metadata": {
    "ExecuteTime": {
     "end_time": "2023-05-31T12:00:39.054363286Z",
     "start_time": "2023-05-31T12:00:36.852846073Z"
    },
    "collapsed": false
   },
   "outputs": [
    {
     "name": "stderr",
     "output_type": "stream",
     "text": [
      "[nltk_data] Downloading package stopwords to /home/solale/nltk_data...\n",
      "[nltk_data]   Package stopwords is already up-to-date!\n"
     ]
    },
    {
     "data": {
      "text/plain": [
       "True"
      ]
     },
     "execution_count": 6,
     "metadata": {},
     "output_type": "execute_result"
    }
   ],
   "source": [
    "nltk.download('stopwords')"
   ]
  },
  {
   "cell_type": "code",
   "execution_count": 3,
   "metadata": {
    "ExecuteTime": {
     "end_time": "2023-05-28T05:55:14.106172627Z",
     "start_time": "2023-05-28T05:55:13.859850310Z"
    }
   },
   "outputs": [],
   "source": [
    "df = pd.read_csv('archive/arxiv_data.csv', nrows=20000)\n",
    "df = df.drop_duplicates(subset=['titles'])"
   ]
  },
  {
   "cell_type": "code",
   "execution_count": 4,
   "metadata": {
    "ExecuteTime": {
     "end_time": "2023-05-28T05:55:14.980059548Z",
     "start_time": "2023-05-28T05:55:14.932705854Z"
    }
   },
   "outputs": [
    {
     "data": {
      "text/html": [
       "<div>\n",
       "<style scoped>\n",
       "    .dataframe tbody tr th:only-of-type {\n",
       "        vertical-align: middle;\n",
       "    }\n",
       "\n",
       "    .dataframe tbody tr th {\n",
       "        vertical-align: top;\n",
       "    }\n",
       "\n",
       "    .dataframe thead th {\n",
       "        text-align: right;\n",
       "    }\n",
       "</style>\n",
       "<table border=\"1\" class=\"dataframe\">\n",
       "  <thead>\n",
       "    <tr style=\"text-align: right;\">\n",
       "      <th></th>\n",
       "      <th>titles</th>\n",
       "      <th>summaries</th>\n",
       "      <th>terms</th>\n",
       "    </tr>\n",
       "  </thead>\n",
       "  <tbody>\n",
       "    <tr>\n",
       "      <th>0</th>\n",
       "      <td>Survey on Semantic Stereo Matching / Semantic ...</td>\n",
       "      <td>Stereo matching is one of the widely used tech...</td>\n",
       "      <td>['cs.CV', 'cs.LG']</td>\n",
       "    </tr>\n",
       "    <tr>\n",
       "      <th>1</th>\n",
       "      <td>FUTURE-AI: Guiding Principles and Consensus Re...</td>\n",
       "      <td>The recent advancements in artificial intellig...</td>\n",
       "      <td>['cs.CV', 'cs.AI', 'cs.LG']</td>\n",
       "    </tr>\n",
       "    <tr>\n",
       "      <th>2</th>\n",
       "      <td>Enforcing Mutual Consistency of Hard Regions f...</td>\n",
       "      <td>In this paper, we proposed a novel mutual cons...</td>\n",
       "      <td>['cs.CV', 'cs.AI']</td>\n",
       "    </tr>\n",
       "    <tr>\n",
       "      <th>3</th>\n",
       "      <td>Parameter Decoupling Strategy for Semi-supervi...</td>\n",
       "      <td>Consistency training has proven to be an advan...</td>\n",
       "      <td>['cs.CV']</td>\n",
       "    </tr>\n",
       "    <tr>\n",
       "      <th>4</th>\n",
       "      <td>Background-Foreground Segmentation for Interio...</td>\n",
       "      <td>To ensure safety in automated driving, the cor...</td>\n",
       "      <td>['cs.CV', 'cs.LG']</td>\n",
       "    </tr>\n",
       "  </tbody>\n",
       "</table>\n",
       "</div>"
      ],
      "text/plain": [
       "                                              titles  \\\n",
       "0  Survey on Semantic Stereo Matching / Semantic ...   \n",
       "1  FUTURE-AI: Guiding Principles and Consensus Re...   \n",
       "2  Enforcing Mutual Consistency of Hard Regions f...   \n",
       "3  Parameter Decoupling Strategy for Semi-supervi...   \n",
       "4  Background-Foreground Segmentation for Interio...   \n",
       "\n",
       "                                           summaries  \\\n",
       "0  Stereo matching is one of the widely used tech...   \n",
       "1  The recent advancements in artificial intellig...   \n",
       "2  In this paper, we proposed a novel mutual cons...   \n",
       "3  Consistency training has proven to be an advan...   \n",
       "4  To ensure safety in automated driving, the cor...   \n",
       "\n",
       "                         terms  \n",
       "0           ['cs.CV', 'cs.LG']  \n",
       "1  ['cs.CV', 'cs.AI', 'cs.LG']  \n",
       "2           ['cs.CV', 'cs.AI']  \n",
       "3                    ['cs.CV']  \n",
       "4           ['cs.CV', 'cs.LG']  "
      ]
     },
     "execution_count": 4,
     "metadata": {},
     "output_type": "execute_result"
    }
   ],
   "source": [
    "df.head()"
   ]
  },
  {
   "cell_type": "code",
   "execution_count": 5,
   "metadata": {
    "ExecuteTime": {
     "end_time": "2023-05-28T05:55:15.496410120Z",
     "start_time": "2023-05-28T05:55:15.446573202Z"
    },
    "collapsed": false
   },
   "outputs": [
    {
     "data": {
      "text/html": [
       "<div>\n",
       "<style scoped>\n",
       "    .dataframe tbody tr th:only-of-type {\n",
       "        vertical-align: middle;\n",
       "    }\n",
       "\n",
       "    .dataframe tbody tr th {\n",
       "        vertical-align: top;\n",
       "    }\n",
       "\n",
       "    .dataframe thead th {\n",
       "        text-align: right;\n",
       "    }\n",
       "</style>\n",
       "<table border=\"1\" class=\"dataframe\">\n",
       "  <thead>\n",
       "    <tr style=\"text-align: right;\">\n",
       "      <th></th>\n",
       "      <th>titles</th>\n",
       "      <th>summaries</th>\n",
       "      <th>terms</th>\n",
       "    </tr>\n",
       "  </thead>\n",
       "  <tbody>\n",
       "    <tr>\n",
       "      <th>count</th>\n",
       "      <td>16593</td>\n",
       "      <td>16593</td>\n",
       "      <td>16593</td>\n",
       "    </tr>\n",
       "    <tr>\n",
       "      <th>unique</th>\n",
       "      <td>16593</td>\n",
       "      <td>16592</td>\n",
       "      <td>1406</td>\n",
       "    </tr>\n",
       "    <tr>\n",
       "      <th>top</th>\n",
       "      <td>Survey on Semantic Stereo Matching / Semantic ...</td>\n",
       "      <td>Transformer is a powerful tool for many natura...</td>\n",
       "      <td>['cs.CV']</td>\n",
       "    </tr>\n",
       "    <tr>\n",
       "      <th>freq</th>\n",
       "      <td>1</td>\n",
       "      <td>2</td>\n",
       "      <td>6655</td>\n",
       "    </tr>\n",
       "  </tbody>\n",
       "</table>\n",
       "</div>"
      ],
      "text/plain": [
       "                                                   titles  \\\n",
       "count                                               16593   \n",
       "unique                                              16593   \n",
       "top     Survey on Semantic Stereo Matching / Semantic ...   \n",
       "freq                                                    1   \n",
       "\n",
       "                                                summaries      terms  \n",
       "count                                               16593      16593  \n",
       "unique                                              16592       1406  \n",
       "top     Transformer is a powerful tool for many natura...  ['cs.CV']  \n",
       "freq                                                    2       6655  "
      ]
     },
     "execution_count": 5,
     "metadata": {},
     "output_type": "execute_result"
    }
   ],
   "source": [
    "df.describe()"
   ]
  },
  {
   "cell_type": "code",
   "execution_count": 6,
   "metadata": {
    "ExecuteTime": {
     "end_time": "2023-05-28T05:55:16.114430973Z",
     "start_time": "2023-05-28T05:55:16.074956041Z"
    },
    "collapsed": false
   },
   "outputs": [
    {
     "data": {
      "text/html": [
       "<div>\n",
       "<style scoped>\n",
       "    .dataframe tbody tr th:only-of-type {\n",
       "        vertical-align: middle;\n",
       "    }\n",
       "\n",
       "    .dataframe tbody tr th {\n",
       "        vertical-align: top;\n",
       "    }\n",
       "\n",
       "    .dataframe thead th {\n",
       "        text-align: right;\n",
       "    }\n",
       "</style>\n",
       "<table border=\"1\" class=\"dataframe\">\n",
       "  <thead>\n",
       "    <tr style=\"text-align: right;\">\n",
       "      <th></th>\n",
       "      <th>titles</th>\n",
       "      <th>summaries</th>\n",
       "    </tr>\n",
       "    <tr>\n",
       "      <th>terms</th>\n",
       "      <th></th>\n",
       "      <th></th>\n",
       "    </tr>\n",
       "  </thead>\n",
       "  <tbody>\n",
       "    <tr>\n",
       "      <th>['cs.CV', '03B52, 94A08', 'I.4.8; I.4.10']</th>\n",
       "      <td>1</td>\n",
       "      <td>1</td>\n",
       "    </tr>\n",
       "    <tr>\n",
       "      <th>['cs.CV', '05B45, 62H30, 54E05, 68T10']</th>\n",
       "      <td>1</td>\n",
       "      <td>1</td>\n",
       "    </tr>\n",
       "    <tr>\n",
       "      <th>['cs.CV', '14J60', 'F.2.2']</th>\n",
       "      <td>1</td>\n",
       "      <td>1</td>\n",
       "    </tr>\n",
       "    <tr>\n",
       "      <th>['cs.CV', '26A33']</th>\n",
       "      <td>1</td>\n",
       "      <td>1</td>\n",
       "    </tr>\n",
       "    <tr>\n",
       "      <th>['cs.CV', '49-06 (Primary), 49-11(Secondary)', 'I.4.6; I.5.1']</th>\n",
       "      <td>1</td>\n",
       "      <td>1</td>\n",
       "    </tr>\n",
       "    <tr>\n",
       "      <th>...</th>\n",
       "      <td>...</td>\n",
       "      <td>...</td>\n",
       "    </tr>\n",
       "    <tr>\n",
       "      <th>['stat.ML', 'math.ST', 'stat.TH']</th>\n",
       "      <td>1</td>\n",
       "      <td>1</td>\n",
       "    </tr>\n",
       "    <tr>\n",
       "      <th>['stat.ML', 'physics.comp-ph', 'physics.data-an', 'physics.geo-ph']</th>\n",
       "      <td>1</td>\n",
       "      <td>1</td>\n",
       "    </tr>\n",
       "    <tr>\n",
       "      <th>['stat.ML', 'physics.comp-ph', 'physics.geo-ph']</th>\n",
       "      <td>1</td>\n",
       "      <td>1</td>\n",
       "    </tr>\n",
       "    <tr>\n",
       "      <th>['stat.ML', 'stat.CO']</th>\n",
       "      <td>1</td>\n",
       "      <td>1</td>\n",
       "    </tr>\n",
       "    <tr>\n",
       "      <th>['stat.ML']</th>\n",
       "      <td>28</td>\n",
       "      <td>28</td>\n",
       "    </tr>\n",
       "  </tbody>\n",
       "</table>\n",
       "<p>1406 rows × 2 columns</p>\n",
       "</div>"
      ],
      "text/plain": [
       "                                                    titles  summaries\n",
       "terms                                                                \n",
       "['cs.CV', '03B52, 94A08', 'I.4.8; I.4.10']               1          1\n",
       "['cs.CV', '05B45, 62H30, 54E05, 68T10']                  1          1\n",
       "['cs.CV', '14J60', 'F.2.2']                              1          1\n",
       "['cs.CV', '26A33']                                       1          1\n",
       "['cs.CV', '49-06 (Primary), 49-11(Secondary)', ...       1          1\n",
       "...                                                    ...        ...\n",
       "['stat.ML', 'math.ST', 'stat.TH']                        1          1\n",
       "['stat.ML', 'physics.comp-ph', 'physics.data-an...       1          1\n",
       "['stat.ML', 'physics.comp-ph', 'physics.geo-ph']         1          1\n",
       "['stat.ML', 'stat.CO']                                   1          1\n",
       "['stat.ML']                                             28         28\n",
       "\n",
       "[1406 rows x 2 columns]"
      ]
     },
     "execution_count": 6,
     "metadata": {},
     "output_type": "execute_result"
    }
   ],
   "source": [
    "df.groupby(['terms']).count()"
   ]
  },
  {
   "attachments": {},
   "cell_type": "markdown",
   "metadata": {},
   "source": [
    "<div dir=\"rtl\">\n",
    "<font face=\"XB Zar\" size=5>\n",
    "    <h2>\n",
    "    <b>کاهش سایز دیتاست</b>\n",
    "    </h2>\n",
    "    <p></p>\n",
    "    <p></p>\n",
    "</font>\n",
    "<font face=\"XB Zar\" size=3>\n",
    "    در این قسمت می‌توانید سایز دیتاست را به دلخواه کم کرده تا NaiveBayes عملکرد بهتری بتواند از خودش نشان دهد.\n",
    "    کاهش سایز دیتاست می‌تواند باعث افزایش سرعت و حافظه‌ی مورد نیاز شود.\n",
    "</font>\n",
    "</div>"
   ]
  },
  {
   "cell_type": "code",
   "execution_count": 7,
   "metadata": {
    "ExecuteTime": {
     "end_time": "2023-05-28T05:55:17.622023923Z",
     "start_time": "2023-05-28T05:55:17.529675492Z"
    }
   },
   "outputs": [
    {
     "data": {
      "text/plain": [
       "(15574, 3)"
      ]
     },
     "execution_count": 7,
     "metadata": {},
     "output_type": "execute_result"
    }
   ],
   "source": [
    "df = df[~df[\"titles\"].duplicated()]\n",
    "df = df.groupby(\"terms\").filter(lambda x: len(x) > 1)\n",
    "df.shape"
   ]
  },
  {
   "attachments": {},
   "cell_type": "markdown",
   "metadata": {},
   "source": [
    "<div dir=\"rtl\">\n",
    "<font face=\"XB Zar\" size=5>\n",
    "    <h2>\n",
    "    <b>پیش‌پردازش دیتاست</b>\n",
    "    </h2>\n",
    "    <p></p>\n",
    "    <p></p>\n",
    "</font>\n",
    "<font face=\"XB Zar\" size=3>\n",
    "    در این قسمت می‌توانید با استفاده از تابع زیر یا توابعی که در فاز 1 تعریف کردید به پیش‌پردازش دیتاست بپردازید.\n",
    "    داده‌ای که با آن در این بخش کار می‌کنید چند برچسبی می‌باشند. اما برای این بخش ما تنها برچسب اول از هر مقاله را در نظر می‌گیریم و به صورت تک برچسبی به داده‌ها نگاه می‌کنیم.\n",
    "</font>\n",
    "</div>"
   ]
  },
  {
   "cell_type": "code",
   "execution_count": 8,
   "metadata": {
    "ExecuteTime": {
     "end_time": "2023-05-28T07:53:51.598991594Z",
     "start_time": "2023-05-28T07:53:51.585134943Z"
    }
   },
   "outputs": [],
   "source": [
    "def preprocess_text(text, minimum_length=1, stopword_removal=True, stopwords_domain=None, lower_case=True,\n",
    "                    punctuation_removal=True, number_removal=True):\n",
    "    text = re.sub(r'/', ' ', text)\n",
    "    if stopwords_domain is None:\n",
    "        stopwords_domain = ['i.e', 'e.g', 'w.r.t']\n",
    "    if number_removal:\n",
    "        text = re.sub(r'\\d+', '', text)\n",
    "    normalized_tokens = word_tokenize(text)\n",
    "\n",
    "    if stopword_removal:\n",
    "        # Remove stopwords in English and also the given domain stopwords\n",
    "        stopwords = [x.lower() for x in nltk.corpus.stopwords.words('english')]\n",
    "        domain_stopwords = [x.lower() for x in stopwords_domain]\n",
    "        normalized_tokens = [word for word in normalized_tokens if word.lower() not in domain_stopwords + stopwords]\n",
    "\n",
    "    if punctuation_removal:\n",
    "        # Remove punctuations\n",
    "        normalized_tokens = [word for word in normalized_tokens if word not in string.punctuation]\n",
    "\n",
    "    if lower_case:\n",
    "        # Convert everything to lowercase and filter based on a min length\n",
    "        normalized_tokens = [word.lower() for word in normalized_tokens if len(word) > minimum_length]\n",
    "    else:\n",
    "        normalized_tokens = [word for word in normalized_tokens if len(word) > minimum_length]\n",
    "\n",
    "    return normalized_tokens"
   ]
  },
  {
   "cell_type": "code",
   "execution_count": 9,
   "metadata": {
    "ExecuteTime": {
     "end_time": "2023-05-28T07:53:52.323956237Z",
     "start_time": "2023-05-28T07:53:52.312659182Z"
    },
    "collapsed": false
   },
   "outputs": [
    {
     "ename": "NameError",
     "evalue": "name 'df' is not defined",
     "output_type": "error",
     "traceback": [
      "\u001b[0;31m---------------------------------------------------------------------------\u001b[0m",
      "\u001b[0;31mNameError\u001b[0m                                 Traceback (most recent call last)",
      "Cell \u001b[0;32mIn[9], line 1\u001b[0m\n\u001b[0;32m----> 1\u001b[0m df[\u001b[38;5;124m'\u001b[39m\u001b[38;5;124mtitles\u001b[39m\u001b[38;5;124m'\u001b[39m] \u001b[38;5;241m=\u001b[39m \u001b[43mdf\u001b[49m[\u001b[38;5;124m'\u001b[39m\u001b[38;5;124mtitles\u001b[39m\u001b[38;5;124m'\u001b[39m]\u001b[38;5;241m.\u001b[39mapply(preprocess_text)\n\u001b[1;32m      2\u001b[0m df[\u001b[38;5;124m'\u001b[39m\u001b[38;5;124msummaries\u001b[39m\u001b[38;5;124m'\u001b[39m] \u001b[38;5;241m=\u001b[39m df[\u001b[38;5;124m'\u001b[39m\u001b[38;5;124msummaries\u001b[39m\u001b[38;5;124m'\u001b[39m]\u001b[38;5;241m.\u001b[39mapply(preprocess_text)\n\u001b[1;32m      3\u001b[0m \u001b[38;5;66;03m# title_dist = nltk.FreqDist(df.titles.sum())\u001b[39;00m\n\u001b[1;32m      4\u001b[0m \u001b[38;5;66;03m# stop_words = title_dist.most_common(30)\u001b[39;00m\n\u001b[1;32m      5\u001b[0m \u001b[38;5;66;03m# print(stop_words)\u001b[39;00m\n\u001b[1;32m      6\u001b[0m \u001b[38;5;66;03m# df['titles'] = df['titles'].apply(lambda x: [t for t in x if t not in stop_words])\u001b[39;00m\n",
      "\u001b[0;31mNameError\u001b[0m: name 'df' is not defined"
     ]
    }
   ],
   "source": [
    "df['titles'] = df['titles'].apply(preprocess_text)\n",
    "df['summaries'] = df['summaries'].apply(preprocess_text)\n",
    "# title_dist = nltk.FreqDist(df.titles.sum())\n",
    "# stop_words = title_dist.most_common(30)\n",
    "# print(stop_words)\n",
    "# df['titles'] = df['titles'].apply(lambda x: [t for t in x if t not in stop_words])"
   ]
  },
  {
   "cell_type": "code",
   "execution_count": 34,
   "metadata": {
    "ExecuteTime": {
     "end_time": "2023-05-27T17:55:49.901511284Z",
     "start_time": "2023-05-27T17:55:49.855537003Z"
    },
    "collapsed": false
   },
   "outputs": [
    {
     "data": {
      "text/html": [
       "<div>\n",
       "<style scoped>\n",
       "    .dataframe tbody tr th:only-of-type {\n",
       "        vertical-align: middle;\n",
       "    }\n",
       "\n",
       "    .dataframe tbody tr th {\n",
       "        vertical-align: top;\n",
       "    }\n",
       "\n",
       "    .dataframe thead th {\n",
       "        text-align: right;\n",
       "    }\n",
       "</style>\n",
       "<table border=\"1\" class=\"dataframe\">\n",
       "  <thead>\n",
       "    <tr style=\"text-align: right;\">\n",
       "      <th></th>\n",
       "      <th>titles</th>\n",
       "      <th>summaries</th>\n",
       "      <th>terms</th>\n",
       "    </tr>\n",
       "  </thead>\n",
       "  <tbody>\n",
       "    <tr>\n",
       "      <th>0</th>\n",
       "      <td>[survey, semantic, stereo, matching, semantic,...</td>\n",
       "      <td>[stereo, matching, one, widely, used, techniqu...</td>\n",
       "      <td>['cs.CV', 'cs.LG']</td>\n",
       "    </tr>\n",
       "    <tr>\n",
       "      <th>1</th>\n",
       "      <td>[future-ai, guiding, principles, consensus, re...</td>\n",
       "      <td>[recent, advancements, artificial, intelligenc...</td>\n",
       "      <td>['cs.CV', 'cs.AI', 'cs.LG']</td>\n",
       "    </tr>\n",
       "    <tr>\n",
       "      <th>2</th>\n",
       "      <td>[enforcing, mutual, consistency, hard, regions...</td>\n",
       "      <td>[paper, proposed, novel, mutual, consistency, ...</td>\n",
       "      <td>['cs.CV', 'cs.AI']</td>\n",
       "    </tr>\n",
       "    <tr>\n",
       "      <th>3</th>\n",
       "      <td>[parameter, decoupling, strategy, semi-supervi...</td>\n",
       "      <td>[consistency, training, proven, advanced, semi...</td>\n",
       "      <td>['cs.CV']</td>\n",
       "    </tr>\n",
       "    <tr>\n",
       "      <th>4</th>\n",
       "      <td>[background-foreground, segmentation, interior...</td>\n",
       "      <td>[ensure, safety, automated, driving, correct, ...</td>\n",
       "      <td>['cs.CV', 'cs.LG']</td>\n",
       "    </tr>\n",
       "  </tbody>\n",
       "</table>\n",
       "</div>"
      ],
      "text/plain": [
       "                                              titles  \\\n",
       "0  [survey, semantic, stereo, matching, semantic,...   \n",
       "1  [future-ai, guiding, principles, consensus, re...   \n",
       "2  [enforcing, mutual, consistency, hard, regions...   \n",
       "3  [parameter, decoupling, strategy, semi-supervi...   \n",
       "4  [background-foreground, segmentation, interior...   \n",
       "\n",
       "                                           summaries  \\\n",
       "0  [stereo, matching, one, widely, used, techniqu...   \n",
       "1  [recent, advancements, artificial, intelligenc...   \n",
       "2  [paper, proposed, novel, mutual, consistency, ...   \n",
       "3  [consistency, training, proven, advanced, semi...   \n",
       "4  [ensure, safety, automated, driving, correct, ...   \n",
       "\n",
       "                         terms  \n",
       "0           ['cs.CV', 'cs.LG']  \n",
       "1  ['cs.CV', 'cs.AI', 'cs.LG']  \n",
       "2           ['cs.CV', 'cs.AI']  \n",
       "3                    ['cs.CV']  \n",
       "4           ['cs.CV', 'cs.LG']  "
      ]
     },
     "execution_count": 34,
     "metadata": {},
     "output_type": "execute_result"
    }
   ],
   "source": [
    "df.head()"
   ]
  },
  {
   "cell_type": "code",
   "execution_count": 35,
   "metadata": {
    "ExecuteTime": {
     "end_time": "2023-05-27T17:55:50.531713462Z",
     "start_time": "2023-05-27T17:55:50.427333082Z"
    },
    "collapsed": false
   },
   "outputs": [],
   "source": [
    "df['terms'] = df['terms'].apply(lambda x: literal_eval(x)[0])"
   ]
  },
  {
   "cell_type": "code",
   "execution_count": 36,
   "metadata": {
    "ExecuteTime": {
     "end_time": "2023-05-27T17:55:51.750673256Z",
     "start_time": "2023-05-27T17:55:51.722020078Z"
    },
    "collapsed": false
   },
   "outputs": [
    {
     "data": {
      "text/plain": [
       "0        cs.CV\n",
       "1        cs.CV\n",
       "2        cs.CV\n",
       "3        cs.CV\n",
       "4        cs.CV\n",
       "         ...  \n",
       "19993    cs.LG\n",
       "19995    cs.CV\n",
       "19996    cs.CV\n",
       "19997    cs.LG\n",
       "19999    cs.LG\n",
       "Name: terms, Length: 15574, dtype: object"
      ]
     },
     "execution_count": 36,
     "metadata": {},
     "output_type": "execute_result"
    }
   ],
   "source": [
    "df.terms"
   ]
  },
  {
   "attachments": {},
   "cell_type": "markdown",
   "metadata": {},
   "source": [
    "<div dir=\"rtl\">\n",
    "<font face=\"XB Zar\" size=5>\n",
    "    <h2>\n",
    "    <b>آماده‌سازی دیتای train و test</b>\n",
    "    </h2>\n",
    "    <p></p>\n",
    "    <p></p>\n",
    "</font>\n",
    "<font face=\"XB Zar\" size=3>\n",
    "    در این قسمت با ساخت ماتریس doc-word می‌توانید دیتای مورد نیاز برای NaiveBayes را آماده کنید. در این ماتریس هر سطر نشان‌دهنده آیدی داکیومنت و هر ستون نشان‌دهنده یک کلمه در کل vocabulary شما می‌باشد.\n",
    "   همچنین می‌توانید از CountVectorizer استفاده کنید. \n",
    "</font>\n",
    "</div>"
   ]
  },
  {
   "cell_type": "code",
   "execution_count": 37,
   "metadata": {
    "ExecuteTime": {
     "end_time": "2023-05-27T17:55:56.314156036Z",
     "start_time": "2023-05-27T17:55:56.284620475Z"
    }
   },
   "outputs": [
    {
     "name": "stdout",
     "output_type": "stream",
     "text": [
      "Train dataset size -> (10901, 3)\n",
      "Test dataset size -> (4673, 3)\n"
     ]
    }
   ],
   "source": [
    "test_split = 0.3\n",
    "train_df, test_df = train_test_split(\n",
    "    df,\n",
    "    test_size=test_split,\n",
    "    stratify=df[\"terms\"].values,\n",
    ")\n",
    "\n",
    "print(f'Train dataset size -> {train_df.shape}')\n",
    "print(f'Test dataset size -> {test_df.shape}')"
   ]
  },
  {
   "cell_type": "code",
   "execution_count": 38,
   "metadata": {
    "ExecuteTime": {
     "end_time": "2023-05-27T17:55:58.479050392Z",
     "start_time": "2023-05-27T17:55:58.457187145Z"
    },
    "collapsed": false
   },
   "outputs": [],
   "source": [
    "from sklearn.feature_extraction.text import CountVectorizer\n",
    "\n",
    "\n",
    "def dummy(doc):\n",
    "    return doc\n",
    "\n",
    "\n",
    "def get_doc_word_matrix(df, cv: CountVectorizer = None):\n",
    "    corpus = [[t for t in paper['titles'] for _ in (0, 1)] + paper['summaries'] for index, paper in df.iterrows()]\n",
    "    if not cv:\n",
    "        vectorizer = CountVectorizer(\n",
    "            tokenizer=dummy,\n",
    "            preprocessor=dummy,\n",
    "        )\n",
    "        X = vectorizer.fit_transform(corpus)\n",
    "        return X.toarray(), vectorizer\n",
    "    else:\n",
    "        X = cv.transform(corpus)\n",
    "        return X.toarray()"
   ]
  },
  {
   "cell_type": "code",
   "execution_count": 39,
   "metadata": {
    "ExecuteTime": {
     "end_time": "2023-05-27T17:56:01.542106299Z",
     "start_time": "2023-05-27T17:55:59.388938375Z"
    },
    "collapsed": false
   },
   "outputs": [
    {
     "name": "stderr",
     "output_type": "stream",
     "text": [
      "/home/solale/PycharmProjects/MIR_P2/venv/lib/python3.8/site-packages/sklearn/feature_extraction/text.py:528: UserWarning: The parameter 'token_pattern' will not be used since 'tokenizer' is not None'\n",
      "  warnings.warn(\n"
     ]
    }
   ],
   "source": [
    "doc_word_matrix, cv = get_doc_word_matrix(train_df)"
   ]
  },
  {
   "cell_type": "code",
   "execution_count": 40,
   "metadata": {
    "ExecuteTime": {
     "end_time": "2023-05-27T17:56:02.955544180Z",
     "start_time": "2023-05-27T17:56:02.107430315Z"
    },
    "collapsed": false
   },
   "outputs": [],
   "source": [
    "test_matrix = get_doc_word_matrix(test_df, cv)"
   ]
  },
  {
   "attachments": {},
   "cell_type": "markdown",
   "metadata": {
    "ExecuteTime": {
     "end_time": "2023-05-17T16:42:11.889023072Z",
     "start_time": "2023-05-17T16:42:11.774260676Z"
    }
   },
   "source": [
    "<div dir=\"rtl\">\n",
    "<font face=\"XB Zar\" size=5>\n",
    "    <h2>\n",
    "    <b>دسته‌بندی با استفاده از NaivaBayes</b>\n",
    "    </h2>\n",
    "    در این بخش کلاس زیر را تکمیل نمایید تا classifier NaiveBayes را <u><b>از پایه</b></u> پیاده‌سازی کنید.\n",
    "</font>\n",
    "</div>"
   ]
  },
  {
   "cell_type": "code",
   "execution_count": 41,
   "metadata": {
    "ExecuteTime": {
     "end_time": "2023-05-27T17:56:03.888254353Z",
     "start_time": "2023-05-27T17:56:03.865440542Z"
    },
    "collapsed": false
   },
   "outputs": [
    {
     "data": {
      "text/plain": [
       "(10901, 41839)"
      ]
     },
     "execution_count": 41,
     "metadata": {},
     "output_type": "execute_result"
    }
   ],
   "source": [
    "doc_word_matrix.shape"
   ]
  },
  {
   "cell_type": "code",
   "execution_count": 53,
   "metadata": {
    "ExecuteTime": {
     "end_time": "2023-05-27T18:11:29.454471879Z",
     "start_time": "2023-05-27T18:11:29.428561894Z"
    },
    "collapsed": false
   },
   "outputs": [],
   "source": [
    "def softmax(x):\n",
    "    e_x = np.exp(x - np.max(x))\n",
    "    return e_x / e_x.sum(axis=0)"
   ]
  },
  {
   "cell_type": "code",
   "execution_count": 54,
   "metadata": {
    "ExecuteTime": {
     "end_time": "2023-05-27T18:11:30.114203233Z",
     "start_time": "2023-05-27T18:11:30.101028106Z"
    }
   },
   "outputs": [],
   "source": [
    "class NaiveBayes():\n",
    "    def __init__(self, alpha=1.0):\n",
    "        self.prior = None\n",
    "        self.word_counts = None\n",
    "        self.lk_word = None\n",
    "        self.alpha = alpha\n",
    "        self.cond_prob = []\n",
    "\n",
    "    def fit(self, x, y):\n",
    "        '''\n",
    "        Fit the features and the labels\n",
    "        Calculate prior, word_counts and lk_word\n",
    "        \n",
    "        Parameters\n",
    "        ----------\n",
    "        x: np.ndarray\n",
    "            An m * n matrix - m is count \n",
    "            of docs and n is size of vocabulary\n",
    "\n",
    "        y: np.ndarray\n",
    "            The real class label for each doc\n",
    "            \n",
    "        Returns\n",
    "        -------\n",
    "        self\n",
    "            Returns self as a classifier\n",
    "        '''\n",
    "        counter = Counter(y)\n",
    "        self.prior = {k: v / len(y) for k, v in counter.items()}\n",
    "        self.cond_prob = [[] for _ in self.prior.keys()]\n",
    "        print(self.prior)\n",
    "        for i, c in enumerate(self.prior.keys()):\n",
    "            print(c)\n",
    "            m = x[y == c]\n",
    "            total = np.concatenate(m).sum()\n",
    "            self.cond_prob[i] = (m.sum(axis=0) + 1) / (total + len(m[0]))\n",
    "\n",
    "    def predict(self, x):\n",
    "        '''\n",
    "        Parameters\n",
    "        ----------\n",
    "        x: np.ndarray\n",
    "            An k * n matrix - k is count \n",
    "            of docs and n is vocabulary size\n",
    "        \n",
    "        Returns\n",
    "        -------\n",
    "        np.ndarray\n",
    "            Return the predicted class for each doc\n",
    "            with the highest probability (argmax)\n",
    "        '''\n",
    "        scores = []\n",
    "        for i, c in enumerate(self.prior.keys()):\n",
    "            scores.append(np.log(self.prior[c]))\n",
    "            for j, t in enumerate(x):\n",
    "                for k in range(t):\n",
    "                    scores[i] += np.log(self.cond_prob[i][j])\n",
    "        return list(self.prior.keys())[np.argmax(np.array(scores))], softmax(np.array(scores))"
   ]
  },
  {
   "cell_type": "code",
   "execution_count": 55,
   "metadata": {
    "ExecuteTime": {
     "end_time": "2023-05-27T18:11:32.761317237Z",
     "start_time": "2023-05-27T18:11:30.607447540Z"
    }
   },
   "outputs": [
    {
     "name": "stdout",
     "output_type": "stream",
     "text": [
      "{'cs.CV': 0.6703054765617833, 'cs.LG': 0.28978992752958443, 'stat.ML': 0.03990459590863223}\n",
      "cs.CV\n",
      "cs.LG\n",
      "stat.ML\n"
     ]
    }
   ],
   "source": [
    "# use your classifier to fit on the training data\n",
    "# then try to predict classes of test data\n",
    "\n",
    "naive_bayes_classifier = NaiveBayes()\n",
    "naive_bayes_classifier.fit(doc_word_matrix, train_df.terms)"
   ]
  },
  {
   "attachments": {},
   "cell_type": "markdown",
   "metadata": {
    "ExecuteTime": {
     "start_time": "2023-05-17T16:19:26.724444226Z"
    }
   },
   "source": [
    "<div dir=\"rtl\">\n",
    "<font face=\"XB Zar\" size=5>\n",
    "    <h2>\n",
    "    <b>ارزیابی مدل train شده</b>\n",
    "    </h2>\n",
    "    در این بخش precision، recall، F1 score را در حالت macro و micro\n",
    "    و accuracy مدل\n",
    "    را با استفاده از sklearn به دست آورید.\n",
    "</font>\n",
    "</div>"
   ]
  },
  {
   "cell_type": "code",
   "execution_count": 57,
   "metadata": {
    "ExecuteTime": {
     "end_time": "2023-05-27T18:14:52.228129391Z",
     "start_time": "2023-05-27T18:13:22.173617930Z"
    }
   },
   "outputs": [
    {
     "name": "stdout",
     "output_type": "stream",
     "text": [
      "MACRO precision: 0.8893084067056813, recall: 0.603908464241486, f_score: 0.5847982939237132\n",
      "MICRO precision: 0.8662529424352664, recall: 0.8662529424352664, f_score: 0.8662529424352664\n",
      "accuracy: 0.8662529424352664\n"
     ]
    }
   ],
   "source": [
    "from sklearn.metrics import accuracy_score, recall_score, precision_score, f1_score\n",
    "\n",
    "results = [naive_bayes_classifier.predict(x) for x in test_matrix]\n",
    "y_pred, y_prob = [x[0] for x in results], [x[1] for x in results]\n",
    "y_true = test_df.terms\n",
    "precision, recall, f_score, sup = precision_recall_fscore_support(y_true, y_pred, average='macro')\n",
    "precision_micro, recall_micro, f_score_micro, sup_micro = precision_recall_fscore_support(y_true, y_pred,\n",
    "                                                                                          average='micro')\n",
    "accuracy = accuracy_score(y_true, y_pred)\n",
    "print(f'MACRO precision: {precision}, recall: {recall}, f_score: {f_score}')\n",
    "print(f'MICRO precision: {precision_micro}, recall: {recall_micro}, f_score: {f_score_micro}')\n",
    "print(f'accuracy: {accuracy}')"
   ]
  },
  {
   "attachments": {},
   "cell_type": "markdown",
   "metadata": {},
   "source": [
    "<div dir=\"rtl\">\n",
    "<font face=\"XB Zar\" size=4>\n",
    "در بخش پایین roc curve مربوط به این دسته‌بندی non-binary را به دست آورده و به صورت مختصر تحلیل کنید.\n",
    "</div>\n",
    "</font>"
   ]
  },
  {
   "cell_type": "code",
   "execution_count": 66,
   "metadata": {
    "ExecuteTime": {
     "end_time": "2023-05-27T18:21:41.819468586Z",
     "start_time": "2023-05-27T18:21:41.753116837Z"
    }
   },
   "outputs": [
    {
     "name": "stdout",
     "output_type": "stream",
     "text": [
      "Micro-averaged One-vs-Rest ROC AUC score:\n",
      "0.90\n",
      "Macro-averaged One-vs-Rest ROC AUC score:\n",
      "0.76\n"
     ]
    }
   ],
   "source": [
    "from itertools import cycle\n",
    "from sklearn.metrics import roc_curve, roc_auc_score, auc\n",
    "import matplotlib.pyplot as plt\n",
    "\n",
    "classes = ['cs.CV', 'cs.LG', 'stat.ML']\n",
    "n_classes = len(classes)\n",
    "y = label_binarize(y_true, classes=classes)\n",
    "y_p = label_binarize(y_pred, classes=classes)\n",
    "fpr = dict()\n",
    "tpr = dict()\n",
    "roc_auc = dict()\n",
    "for i in range(len(classes)):\n",
    "    fpr[i], tpr[i], _ = roc_curve(y[:, i], y_p[:, i])\n",
    "    roc_auc[i] = auc(fpr[i], tpr[i])\n",
    "\n",
    "fpr_grid = np.linspace(0.0, 1.0, 1000)\n",
    "\n",
    "mean_tpr = np.zeros_like(fpr_grid)\n",
    "\n",
    "for i in range(n_classes):\n",
    "    mean_tpr += np.interp(fpr_grid, fpr[i], tpr[i])\n",
    "\n",
    "mean_tpr /= n_classes\n",
    "\n",
    "fpr, tpr, roc_auc = dict(), dict(), dict()\n",
    "fpr[\"micro\"], tpr[\"micro\"], _ = roc_curve(y.ravel(), y_p.ravel())\n",
    "roc_auc[\"micro\"] = auc(fpr[\"micro\"], tpr[\"micro\"])\n",
    "\n",
    "print(f\"Micro-averaged One-vs-Rest ROC AUC score:\\n{roc_auc['micro']:.2f}\")\n",
    "\n",
    "fpr[\"macro\"] = fpr_grid\n",
    "tpr[\"macro\"] = mean_tpr\n",
    "roc_auc[\"macro\"] = auc(fpr[\"macro\"], tpr[\"macro\"])\n",
    "\n",
    "print(f\"Macro-averaged One-vs-Rest ROC AUC score:\\n{roc_auc['macro']:.2f}\")"
   ]
  },
  {
   "cell_type": "code",
   "execution_count": 68,
   "metadata": {
    "ExecuteTime": {
     "end_time": "2023-05-27T18:21:44.545691371Z",
     "start_time": "2023-05-27T18:21:43.976191674Z"
    },
    "collapsed": false
   },
   "outputs": [
    {
     "data": {
      "image/png": "[encoded data removed]",
      "text/plain": [
       "<Figure size 640x480 with 1 Axes>"
      ]
     },
     "metadata": {},
     "output_type": "display_data"
    },
    {
     "data": {
      "image/png": "[encoded data removed]",
      "text/plain": [
       "<Figure size 640x480 with 1 Axes>"
      ]
     },
     "metadata": {},
     "output_type": "display_data"
    },
    {
     "data": {
      "image/png": "[encoded data removed]",
      "text/plain": [
       "<Figure size 640x480 with 1 Axes>"
      ]
     },
     "metadata": {},
     "output_type": "display_data"
    }
   ],
   "source": [
    "from sklearn.metrics import RocCurveDisplay\n",
    "\n",
    "y_prob = np.stack(y_prob, axis=0)\n",
    "\n",
    "colors = cycle([\"aqua\", \"darkorange\", \"cornflowerblue\"])\n",
    "\n",
    "for class_id, color in zip(range(n_classes), colors):\n",
    "    RocCurveDisplay.from_predictions(\n",
    "        y[:, class_id],\n",
    "        y_prob[:, class_id],\n",
    "        name=f\"ROC curve for {classes[class_id]}\",\n",
    "        color=color,\n",
    "    )\n",
    "    plt.plot([0, 1], [0, 1], \"k--\", label=\"chance level (AUC = 0.5)\")\n",
    "    plt.axis(\"square\")\n",
    "    plt.xlabel(\"False Positive Rate\")\n",
    "    plt.ylabel(\"True Positive Rate\")\n",
    "    plt.title(f\"One-vs-Rest ROC curves:\\n {classes[class_id]} vs Rest\")\n",
    "    plt.legend()\n",
    "    plt.show()"
   ]
  },
  {
   "attachments": {},
   "cell_type": "markdown",
   "metadata": {},
   "source": [
    "<div dir=\"rtl\">\n",
    "<font face=\"XB Zar\" size=4>\n",
    "در این بخش confusion matrix را بدون استفاده از sklearn و به کمک matplotlib و seaborn بکشید.\n",
    "</font>\n",
    "</div>"
   ]
  },
  {
   "cell_type": "code",
   "execution_count": 69,
   "metadata": {
    "ExecuteTime": {
     "end_time": "2023-05-27T18:22:00.969074558Z",
     "start_time": "2023-05-27T18:22:00.956768468Z"
    }
   },
   "outputs": [],
   "source": [
    "import matplotlib.pyplot as plt\n",
    "import seaborn as sns\n",
    "\n",
    "\n",
    "def create_confusion_matrix(actual_labels, predicted_labels, num_classes):\n",
    "    # Initialize an empty confusion matrix\n",
    "    actual_labels = pd.Series(actual_labels).astype('category').cat.codes.values\n",
    "    predicted_labels = pd.Series(predicted_labels).astype('category').cat.codes.values\n",
    "\n",
    "    cm = np.zeros((num_classes, num_classes), dtype=int)\n",
    "\n",
    "    # Iterate over each pair of actual and predicted labels\n",
    "    for actual, predicted in zip(actual_labels, predicted_labels):\n",
    "        cm[actual][predicted] += 1\n",
    "\n",
    "    return cm\n",
    "\n",
    "\n",
    "confusion_m = create_confusion_matrix(actual_labels=y_true, predicted_labels=y_pred, num_classes=n_classes)"
   ]
  },
  {
   "cell_type": "code",
   "execution_count": 70,
   "metadata": {
    "ExecuteTime": {
     "end_time": "2023-05-27T18:22:03.004415825Z",
     "start_time": "2023-05-27T18:22:02.885102988Z"
    },
    "collapsed": false
   },
   "outputs": [
    {
     "data": {
      "image/png": "[encoded data removed]",
      "text/plain": [
       "<Figure size 300x300 with 1 Axes>"
      ]
     },
     "metadata": {},
     "output_type": "display_data"
    }
   ],
   "source": [
    "def plot_confusion_matrix(cm, labels):\n",
    "    plt.figure(figsize=(len(labels), len(labels)))\n",
    "    ax = sns.heatmap(cm, annot=True, fmt=\"d\", cmap=\"Blues\", cbar=False)\n",
    "    ax.set_xticklabels(labels, rotation=45, ha=\"right\")\n",
    "    ax.set_yticklabels(labels, rotation=0)\n",
    "    plt.xlabel(\"Predicted\")\n",
    "    plt.ylabel(\"Actual\")\n",
    "    plt.title(\"Confusion Matrix\")\n",
    "    plt.show()\n",
    "\n",
    "\n",
    "plot_confusion_matrix(confusion_m, labels=classes)"
   ]
  },
  {
   "attachments": {},
   "cell_type": "markdown",
   "metadata": {},
   "source": [
    "<div dir=\"rtl\">\n",
    "<font face=\"XB Zar\" size=5>\n",
    "    <h1>\n",
    "    <b>دسته بندی با شبکه های عصبی (۳۲ نمره)</b>\n",
    "    </h1>\n",
    "    <p></p>\n",
    "    <p></p>\n",
    "</font>\n",
    "<font face=\"XB Zar\" size=3>\n",
    "     <br>\n",
    "    شما یک مجموعه داده از مقالات علمی دارید، هرکدام با یک چکیده و موضوع مربوطه نشان داده شده است. هدف ساختن یک مدل شبکه عصبی است که بتواند بر اساس چکیده مقاله علمی و عنوان آن، موضوع آن را پیش بینی کند.\n",
    "</font>\n",
    "</div>\n",
    "   "
   ]
  },
  {
   "cell_type": "markdown",
   "metadata": {},
   "source": [
    "<div dir=\"rtl\">\n",
    "<font face=\"XB Zar\" size=5>\n",
    "    <h2>\n",
    "    <b>داده ها</b>\n",
    "    </h2>\n",
    "    <p></p>\n",
    "    <p></p>\n",
    "</font>\n",
    "<font face=\"XB Zar\" size=3>\n",
    "     <br>\n",
    "    داده‌ای که با آن در این بخش کار می‌کنید چند برچسبی می‌باشند. اما برای این بخش ما تنها برچسب اول از هر مقاله را در نظر می‌گیریم و به صورت تک برچسبی به داده‌ها نگاه می‌کنیم.\n",
    "</font>\n",
    "</div>\n",
    "   "
   ]
  },
  {
   "cell_type": "markdown",
   "metadata": {},
   "source": [
    "## Requirements"
   ]
  },
  {
   "cell_type": "code",
   "execution_count": 2,
   "metadata": {
    "ExecuteTime": {
     "end_time": "2023-05-31T12:05:47.992261941Z",
     "start_time": "2023-05-31T12:05:47.943572634Z"
    }
   },
   "outputs": [],
   "source": [
    "# You may not use all of these imports, but they are here to help you get started\n",
    "# you can add cells if you needed\n",
    "\n",
    "import nltk\n",
    "import numpy as np\n",
    "import pandas as pd\n",
    "from tqdm import tqdm\n",
    "from nltk import word_tokenize\n",
    "import string\n",
    "from sklearn.model_selection import train_test_split\n",
    "import torch\n",
    "from sklearn.metrics import precision_recall_fscore_support\n",
    "from sklearn.metrics import f1_score\n",
    "from sklearn.metrics import accuracy_score\n",
    "from sklearn.metrics import confusion_matrix\n",
    "import fasttext\n",
    "import os\n",
    "import matplotlib.pyplot as plt\n",
    "from sklearn.feature_extraction.text import TfidfVectorizer\n",
    "\n",
    "import torch\n",
    "from torch import nn\n",
    "from torch.utils.data import Dataset, DataLoader\n",
    "from time import time\n",
    "from IPython.display import display"
   ]
  },
  {
   "attachments": {},
   "cell_type": "markdown",
   "metadata": {},
   "source": [
    "## Read and preprocess data"
   ]
  },
  {
   "cell_type": "markdown",
   "metadata": {},
   "source": [
    "\n",
    "<div dir=\"rtl\">\n",
    "<font face=\"XB Zar\" size=5>\n",
    "</font>\n",
    "<font face=\"XB Zar\" size=3>\n",
    "     <br>\n",
    "در ابتدا دیتا را لود کنید. آن را تمیز کنید یا به عبارتی EDA مناسب در حدی که داده‌های null یا موارد این‌چنینی نداشته باشیم، بر روی آن انجام دهید.\n",
    " پیش پردازش‌های مورد نیاز که در فاز قبل با آن آشنا شدید را روی داده انجام دهید.\n",
    "    برای کتگوری هر مقاله برچسب اول آن را از دیتاست در نظر بگیرید.\n",
    "</font>\n",
    "</div>"
   ]
  },
  {
   "cell_type": "code",
   "execution_count": 4,
   "metadata": {
    "ExecuteTime": {
     "end_time": "2023-05-31T11:51:57.631116228Z",
     "start_time": "2023-05-31T11:51:57.338113938Z"
    }
   },
   "outputs": [],
   "source": [
    "# read data\n",
    "ml_df = pd.read_csv('archive/arxiv_data.csv', nrows=20000)"
   ]
  },
  {
   "cell_type": "code",
   "execution_count": 11,
   "metadata": {
    "ExecuteTime": {
     "end_time": "2023-05-28T05:55:59.611168487Z",
     "start_time": "2023-05-28T05:55:25.898948007Z"
    }
   },
   "outputs": [],
   "source": [
    "ml_df['titles'] = ml_df['titles'].apply(preprocess_text)\n",
    "ml_df['summaries'] = ml_df['summaries'].apply(preprocess_text)\n",
    "ml_df['terms'] = ml_df['terms'].apply(lambda x: literal_eval(x)[0])\n"
   ]
  },
  {
   "cell_type": "code",
   "execution_count": 12,
   "metadata": {
    "ExecuteTime": {
     "end_time": "2023-05-28T05:55:59.612309112Z",
     "start_time": "2023-05-28T05:55:59.610381140Z"
    }
   },
   "outputs": [],
   "source": [
    "# def preprocess_text(text, minimum_length=1, stopword_removal=True, stopwords_domain=[], lower_case=True,\n",
    "#                     punctuation_removal=True):\n",
    "#     \"\"\"\n",
    "#     preprocess text by removing stopwords, punctuations, and converting to lowercase, and also filter based on a min length\n",
    "#     for stopwords use nltk.corpus.stopwords.words('english')\n",
    "#     for punctuations use string.punctuation\n",
    "#\n",
    "#     Parameters\n",
    "#     ----------\n",
    "#     text: str\n",
    "#         text to be preprocessed\n",
    "#     minimum_length: int\n",
    "#         minimum length of the token\n",
    "#     stopword_removal: bool\n",
    "#         whether to remove stopwords\n",
    "#     stopwords_domain: list\n",
    "#         list of stopwords to be removed base on domain\n",
    "#     lower_case: bool\n",
    "#         whether to convert to lowercase\n",
    "#     punctuation_removal: bool\n",
    "#         whether to remove punctuations\n",
    "#     \"\"\"\n",
    "#     # todo\n",
    "#     normalized_tokens = None\n",
    "#     return normalized_tokens"
   ]
  },
  {
   "cell_type": "markdown",
   "metadata": {},
   "source": [
    "\n",
    "<div dir=\"rtl\">\n",
    "<font face=\"XB Zar\" size=5>\n",
    "</font>\n",
    "<font face=\"XB Zar\" size=3>\n",
    "     <br>\n",
    "\n",
    "</font>\n",
    "</div>"
   ]
  },
  {
   "cell_type": "code",
   "execution_count": 13,
   "metadata": {
    "ExecuteTime": {
     "end_time": "2023-05-28T05:55:59.613710581Z",
     "start_time": "2023-05-28T05:55:59.611892181Z"
    }
   },
   "outputs": [],
   "source": [
    "# preprocess text\n",
    "# df['preprocessed_abstract'] = df['summaries'].apply(lambda x: preprocess_text(x))\n",
    "# df['preprocessed_title'] = df['titles'].apply(lambda x: preprocess_text(x))\n",
    "# preprocessed_total = df['preprocessed_abstract'] + df['preprocessed_title']"
   ]
  },
  {
   "attachments": {},
   "cell_type": "markdown",
   "metadata": {},
   "source": [
    "## Vectorize data"
   ]
  },
  {
   "cell_type": "markdown",
   "metadata": {},
   "source": [
    "\n",
    "<div dir=\"rtl\">\n",
    "<font face=\"XB Zar\" size=5>\n",
    "</font>\n",
    "<font face=\"XB Zar\" size=3>\n",
    "     <br>\n",
    "در این قسمت از fasttext کمک می‌گیریم تا به یک embedding اولیه برای هر مقاله برسیم.\n",
    "    با استفاده از داده‌هایی که داریم یک مدل fasttext آموزش دهید که برای هر توکن یک امبدینگ ۱۰۰تایی بدهد.\n",
    "    در مرحله‌ی بعد میانگین وزن دار امبدینگ های fasttext\n",
    "        توکن‌های ورودی (چکیده + عنوان)\n",
    "    را بر اساس tfidif آن‌ها محاسبه کنید و به امبدینگ نهایی متن برسید.\n",
    "    <br>\n",
    "    در واقع به عبارت ساده‌تر بر اساس میانگین وزن‌دار که وزن‌های ما tfidf توکن‌ها می‌باشد به امبدینگ نهایی متن بر اساس fasttext می‌رسیم.\n",
    "    </font>\n",
    "</div>"
   ]
  },
  {
   "cell_type": "code",
   "execution_count": 14,
   "metadata": {
    "ExecuteTime": {
     "end_time": "2023-05-28T05:56:10.691887356Z",
     "start_time": "2023-05-28T05:56:10.630700762Z"
    },
    "collapsed": false
   },
   "outputs": [
    {
     "data": {
      "text/html": [
       "<div>\n",
       "<style scoped>\n",
       "    .dataframe tbody tr th:only-of-type {\n",
       "        vertical-align: middle;\n",
       "    }\n",
       "\n",
       "    .dataframe tbody tr th {\n",
       "        vertical-align: top;\n",
       "    }\n",
       "\n",
       "    .dataframe thead th {\n",
       "        text-align: right;\n",
       "    }\n",
       "</style>\n",
       "<table border=\"1\" class=\"dataframe\">\n",
       "  <thead>\n",
       "    <tr style=\"text-align: right;\">\n",
       "      <th></th>\n",
       "      <th>titles</th>\n",
       "      <th>summaries</th>\n",
       "      <th>terms</th>\n",
       "    </tr>\n",
       "  </thead>\n",
       "  <tbody>\n",
       "    <tr>\n",
       "      <th>0</th>\n",
       "      <td>[survey, semantic, stereo, matching, semantic,...</td>\n",
       "      <td>[stereo, matching, one, widely, used, techniqu...</td>\n",
       "      <td>cs.CV</td>\n",
       "    </tr>\n",
       "    <tr>\n",
       "      <th>1</th>\n",
       "      <td>[future-ai, guiding, principles, consensus, re...</td>\n",
       "      <td>[recent, advancements, artificial, intelligenc...</td>\n",
       "      <td>cs.CV</td>\n",
       "    </tr>\n",
       "    <tr>\n",
       "      <th>2</th>\n",
       "      <td>[enforcing, mutual, consistency, hard, regions...</td>\n",
       "      <td>[paper, proposed, novel, mutual, consistency, ...</td>\n",
       "      <td>cs.CV</td>\n",
       "    </tr>\n",
       "    <tr>\n",
       "      <th>3</th>\n",
       "      <td>[parameter, decoupling, strategy, semi-supervi...</td>\n",
       "      <td>[consistency, training, proven, advanced, semi...</td>\n",
       "      <td>cs.CV</td>\n",
       "    </tr>\n",
       "    <tr>\n",
       "      <th>4</th>\n",
       "      <td>[background-foreground, segmentation, interior...</td>\n",
       "      <td>[ensure, safety, automated, driving, correct, ...</td>\n",
       "      <td>cs.CV</td>\n",
       "    </tr>\n",
       "  </tbody>\n",
       "</table>\n",
       "</div>"
      ],
      "text/plain": [
       "                                              titles  \\\n",
       "0  [survey, semantic, stereo, matching, semantic,...   \n",
       "1  [future-ai, guiding, principles, consensus, re...   \n",
       "2  [enforcing, mutual, consistency, hard, regions...   \n",
       "3  [parameter, decoupling, strategy, semi-supervi...   \n",
       "4  [background-foreground, segmentation, interior...   \n",
       "\n",
       "                                           summaries  terms  \n",
       "0  [stereo, matching, one, widely, used, techniqu...  cs.CV  \n",
       "1  [recent, advancements, artificial, intelligenc...  cs.CV  \n",
       "2  [paper, proposed, novel, mutual, consistency, ...  cs.CV  \n",
       "3  [consistency, training, proven, advanced, semi...  cs.CV  \n",
       "4  [ensure, safety, automated, driving, correct, ...  cs.CV  "
      ]
     },
     "execution_count": 14,
     "metadata": {},
     "output_type": "execute_result"
    }
   ],
   "source": [
    "ml_df.head()"
   ]
  },
  {
   "cell_type": "code",
   "execution_count": 15,
   "metadata": {
    "ExecuteTime": {
     "end_time": "2023-05-28T05:56:11.804044108Z",
     "start_time": "2023-05-28T05:56:11.794108693Z"
    }
   },
   "outputs": [],
   "source": [
    "class FastTextEmbedding:\n",
    "\n",
    "    def __init__(self, method='skipgram', preprocess=None):\n",
    "        self.method = method\n",
    "        self.model = None\n",
    "        self.preprocess = preprocess\n",
    "\n",
    "    def train(self, texts):\n",
    "        \"\"\"\n",
    "        train the fasttext model and save it into self.model\n",
    "        Parameters\n",
    "        ----------\n",
    "        texts: list of list of str\n",
    "        \"\"\"\n",
    "        with open('data/archive_ft.txt', 'w') as f:\n",
    "            for t, s, l in zip(texts.titles, texts.summaries, texts.terms):\n",
    "                f.write(' '.join(t) + ' ' + ' '.join(s))\n",
    "                f.write('\\n')\n",
    "        self.model = fasttext.train_unsupervised(input='data/archive_ft.txt')\n",
    "\n",
    "    def get_query_embedding(self, query, tf_idf_vectorizer):\n",
    "        \"\"\"\n",
    "        get the embedding of the query. You can use the tf_idf_vectorizer to get the weights of the words in the query. preprocess the query using self.preprocessor if it is not None\n",
    "        Parameters\n",
    "        ----------\n",
    "        query: str\n",
    "        tf_idf_vectorizer: TfidfVectorizer\n",
    "        Returns embedding of the query\n",
    "        \"\"\"\n",
    "        query = self.preprocess(query)\n",
    "        tfidf_wm = tf_idf_vectorizer.transform([' '.join(query)])\n",
    "        tf_idf_weight = tfidf_wm.toarray()[0]\n",
    "        query_embed = np.zeros(100)\n",
    "        tfidf_tokens = tf_idf_vectorizer.get_feature_names_out()\n",
    "        for word in set(query):\n",
    "            if tf_idf_weight[np.where(tfidf_tokens == word)]:\n",
    "                query_embed += tf_idf_weight[np.where(tfidf_tokens == word)] * self.model.get_word_vector(word)\n",
    "            else:\n",
    "                print(word)\n",
    "        return query_embed\n",
    "\n",
    "    def save_FastText_model(self, path='FastText_model.bin'):\n",
    "        self.model.save_model(path)\n",
    "\n",
    "    def load_FastText_model(self, path=\"FastText_model.bin\"):\n",
    "        self.model = fasttext.load_model(path)\n",
    "\n",
    "    def prepare(self, dataset, mode, save=False):\n",
    "        if mode == 'train':\n",
    "            self.train(dataset)\n",
    "        if mode == 'load':\n",
    "            self.load_FastText_model()\n",
    "        if save:\n",
    "            self.save_FastText_model()"
   ]
  },
  {
   "cell_type": "code",
   "execution_count": 36,
   "metadata": {
    "ExecuteTime": {
     "end_time": "2023-05-28T06:01:40.993866633Z",
     "start_time": "2023-05-28T06:01:40.964496696Z"
    }
   },
   "outputs": [
    {
     "name": "stderr",
     "output_type": "stream",
     "text": [
      "Warning : `load_model` does not return WordVectorModel or SupervisedModel any more, but a `FastText` object which is very similar.\n"
     ]
    }
   ],
   "source": [
    "FastText_model = FastTextEmbedding(preprocess=preprocess_text)\n",
    "# FastText_model.prepare(ml_df, mode='train', save=True)\n",
    "FastText_model.prepare(ml_df, mode='load')"
   ]
  },
  {
   "cell_type": "code",
   "execution_count": 37,
   "metadata": {
    "ExecuteTime": {
     "end_time": "2023-05-28T06:02:11.722165859Z",
     "start_time": "2023-05-28T06:02:11.679931515Z"
    }
   },
   "outputs": [
    {
     "data": {
      "text/plain": [
       "[(0.8933971524238586, 'covid-'),\n",
       " (0.7553080916404724, 'covid-related'),\n",
       " (0.7115972638130188, 'pneumonia'),\n",
       " (0.701467752456665, 'pandemic'),\n",
       " (0.6956272721290588, 'x-rays'),\n",
       " (0.6889908909797668, 'in-hospital'),\n",
       " (0.6877138018608093, 'coronavirus'),\n",
       " (0.6843649744987488, 'chest'),\n",
       " (0.6828356385231018, 'infectious'),\n",
       " (0.6816428303718567, 'sars-cov-')]"
      ]
     },
     "execution_count": 37,
     "metadata": {},
     "output_type": "execute_result"
    }
   ],
   "source": [
    "text = 'covid'\n",
    "\n",
    "FastText_model.model.get_nearest_neighbors(text)"
   ]
  },
  {
   "cell_type": "code",
   "execution_count": 42,
   "metadata": {
    "ExecuteTime": {
     "end_time": "2023-05-28T06:03:47.984485632Z",
     "start_time": "2023-05-28T06:03:47.892657645Z"
    }
   },
   "outputs": [],
   "source": [
    "class TF_IDF:\n",
    "\n",
    "    def __init__(self):\n",
    "        self.vectorizer = TfidfVectorizer(preprocessor=None, token_pattern=r\"(?u)\\b\\w[\\w-]*\\w\\b\")\n",
    "\n",
    "    def fit_vectorizer(self, data):\n",
    "        \"\"\"\n",
    "        fit the vectorizer on the data\n",
    "        Parameters\n",
    "        ----------\n",
    "        data: list of list of str\n",
    "        \"\"\"\n",
    "        self.vectorizer.fit(data)\n"
   ]
  },
  {
   "cell_type": "code",
   "execution_count": 43,
   "metadata": {
    "ExecuteTime": {
     "end_time": "2023-05-28T06:03:51.001845698Z",
     "start_time": "2023-05-28T06:03:48.717579841Z"
    }
   },
   "outputs": [],
   "source": [
    "TF_IDF_model = TF_IDF()\n",
    "TF_IDF_model.fit_vectorizer(\n",
    "    [' '.join(x) for x in ml_df.summaries.tolist()] + [' '.join(x) for x in ml_df.titles.tolist()])"
   ]
  },
  {
   "cell_type": "code",
   "execution_count": 40,
   "metadata": {
    "ExecuteTime": {
     "end_time": "2023-05-28T06:02:25.862888855Z",
     "start_time": "2023-05-28T06:02:25.797310864Z"
    }
   },
   "outputs": [
    {
     "name": "stdout",
     "output_type": "stream",
     "text": [
      "[[0. 0. 0. ... 0. 0. 0.]]\n"
     ]
    },
    {
     "data": {
      "text/plain": [
       "array([-0.17091235,  0.04042738,  0.20155786,  0.03743515,  0.029743  ,\n",
       "        0.19611592, -0.30425992,  0.27421203,  0.14435722, -0.46059099,\n",
       "       -0.10559109, -0.17461121, -0.13065   , -0.03024681, -0.35759398,\n",
       "        0.29015171,  0.11988357,  0.53886643, -0.18766271,  0.23943815,\n",
       "        0.05389296, -0.03416122, -0.4675491 ,  0.02004068, -0.31239698,\n",
       "       -0.03084216,  0.11303963,  0.19515509, -0.11726048, -0.08433428,\n",
       "       -0.80410571,  0.11626839,  1.01637316,  0.58161557, -0.2377042 ,\n",
       "        0.23700955,  0.41189621, -0.21681714, -0.18355347,  0.33626323,\n",
       "        0.41007673,  0.17842116, -0.60741715, -0.13350822, -0.07631228,\n",
       "        0.20045113,  0.45102633, -0.24831891, -0.28086559,  0.16941677,\n",
       "       -0.203565  , -0.3105482 , -0.72830027,  0.65990743,  0.16562685,\n",
       "       -0.222817  ,  0.388614  ,  0.0719212 , -0.0408782 ,  0.35329446,\n",
       "       -0.02444552, -0.17257932, -0.14529217,  0.18472669,  0.18287534,\n",
       "        0.10307406, -0.10486721,  0.17931605,  0.18745177, -0.03271245,\n",
       "       -0.88468078, -0.07296011,  0.25270875,  0.16348867,  0.12099812,\n",
       "       -0.00714841,  0.04723593, -0.11484493,  0.1777889 , -0.38542087,\n",
       "        0.20329995,  0.97483237,  0.17180103, -0.60843203,  0.4029623 ,\n",
       "        0.13343366,  0.6297389 , -0.08806832, -0.3863664 ,  0.12846808,\n",
       "       -0.23111952,  0.23275064, -0.15662981, -0.00657643, -0.77359611,\n",
       "       -0.29145954,  0.02193858, -0.43980496, -0.32987081,  0.1386006 ])"
      ]
     },
     "execution_count": 40,
     "metadata": {},
     "output_type": "execute_result"
    }
   ],
   "source": [
    "text = \"backpropagation is good\"\n",
    "print(TF_IDF_model.vectorizer.transform([text]).toarray())\n",
    "FastText_model.get_query_embedding(text, TF_IDF_model.vectorizer)"
   ]
  },
  {
   "cell_type": "markdown",
   "metadata": {},
   "source": [
    "\n",
    "<div dir=\"rtl\">\n",
    "<font face=\"XB Zar\" size=5>\n",
    "</font>\n",
    "<font face=\"XB Zar\" size=3>\n",
    "     <br>\n",
    "حال به کمک مدلی که نوشته‌اید دیتای ورودی شبکه‌ی عصبی را بسازید.\n",
    "    به عبارتی به ازای هر مقاله embedding مربوطه را بدست آورید.\n",
    "    همچنین برچسب‌ها را نیز به عدد تبدیل کنید تا برای شبکه‌ی عصبی قابل فهم باشد.\n",
    "    </font>\n",
    "</div>"
   ]
  },
  {
   "cell_type": "code",
   "execution_count": 41,
   "metadata": {
    "ExecuteTime": {
     "end_time": "2023-05-28T06:02:30.874794215Z",
     "start_time": "2023-05-28T06:02:27.177229114Z"
    }
   },
   "outputs": [
    {
     "name": "stderr",
     "output_type": "stream",
     "text": [
      "/tmp/ipykernel_5489/2541764496.py:36: DeprecationWarning: The truth value of an empty array is ambiguous. Returning False, but in future this will result in an error. Use `array.size > 0` to check that an array is not empty.\n",
      "  if tf_idf_weight[np.where(tfidf_tokens == word)]:\n"
     ]
    },
    {
     "name": "stdout",
     "output_type": "stream",
     "text": [
      "'s\n"
     ]
    },
    {
     "name": "stderr",
     "output_type": "stream",
     "text": [
      "/tmp/ipykernel_5489/2541764496.py:36: DeprecationWarning: The truth value of an empty array is ambiguous. Returning False, but in future this will result in an error. Use `array.size > 0` to check that an array is not empty.\n",
      "  if tf_idf_weight[np.where(tfidf_tokens == word)]:\n",
      "/tmp/ipykernel_5489/2541764496.py:36: DeprecationWarning: The truth value of an empty array is ambiguous. Returning False, but in future this will result in an error. Use `array.size > 0` to check that an array is not empty.\n",
      "  if tf_idf_weight[np.where(tfidf_tokens == word)]:\n",
      "/tmp/ipykernel_5489/2541764496.py:36: DeprecationWarning: The truth value of an empty array is ambiguous. Returning False, but in future this will result in an error. Use `array.size > 0` to check that an array is not empty.\n",
      "  if tf_idf_weight[np.where(tfidf_tokens == word)]:\n"
     ]
    },
    {
     "name": "stdout",
     "output_type": "stream",
     "text": [
      "mc-net+\n",
      "'s\n",
      "github.com\n"
     ]
    },
    {
     "name": "stderr",
     "output_type": "stream",
     "text": [
      "/tmp/ipykernel_5489/2541764496.py:36: DeprecationWarning: The truth value of an empty array is ambiguous. Returning False, but in future this will result in an error. Use `array.size > 0` to check that an array is not empty.\n",
      "  if tf_idf_weight[np.where(tfidf_tokens == word)]:\n",
      "/tmp/ipykernel_5489/2541764496.py:36: DeprecationWarning: The truth value of an empty array is ambiguous. Returning False, but in future this will result in an error. Use `array.size > 0` to check that an array is not empty.\n",
      "  if tf_idf_weight[np.where(tfidf_tokens == word)]:\n"
     ]
    },
    {
     "name": "stdout",
     "output_type": "stream",
     "text": [
      "e.g.\\\n",
      "pre-\n"
     ]
    },
    {
     "name": "stderr",
     "output_type": "stream",
     "text": [
      "/tmp/ipykernel_5489/2541764496.py:36: DeprecationWarning: The truth value of an empty array is ambiguous. Returning False, but in future this will result in an error. Use `array.size > 0` to check that an array is not empty.\n",
      "  if tf_idf_weight[np.where(tfidf_tokens == word)]:\n"
     ]
    },
    {
     "name": "stdout",
     "output_type": "stream",
     "text": [
      "github.com\n"
     ]
    },
    {
     "name": "stderr",
     "output_type": "stream",
     "text": [
      "/tmp/ipykernel_5489/2541764496.py:36: DeprecationWarning: The truth value of an empty array is ambiguous. Returning False, but in future this will result in an error. Use `array.size > 0` to check that an array is not empty.\n",
      "  if tf_idf_weight[np.where(tfidf_tokens == word)]:\n"
     ]
    },
    {
     "name": "stdout",
     "output_type": "stream",
     "text": [
      "'s\n"
     ]
    },
    {
     "ename": "KeyboardInterrupt",
     "evalue": "",
     "output_type": "error",
     "traceback": [
      "\u001b[0;31m---------------------------------------------------------------------------\u001b[0m",
      "\u001b[0;31mKeyboardInterrupt\u001b[0m                         Traceback (most recent call last)",
      "Cell \u001b[0;32mIn[41], line 1\u001b[0m\n\u001b[0;32m----> 1\u001b[0m ml_df[\u001b[38;5;124m'\u001b[39m\u001b[38;5;124membedding\u001b[39m\u001b[38;5;124m'\u001b[39m] \u001b[38;5;241m=\u001b[39m \u001b[43mml_df\u001b[49m\u001b[38;5;241;43m.\u001b[39;49m\u001b[43mapply\u001b[49m\u001b[43m(\u001b[49m\n\u001b[1;32m      2\u001b[0m \u001b[43m    \u001b[49m\u001b[38;5;28;43;01mlambda\u001b[39;49;00m\u001b[43m \u001b[49m\u001b[43mx\u001b[49m\u001b[43m:\u001b[49m\u001b[43m \u001b[49m\u001b[43mFastText_model\u001b[49m\u001b[38;5;241;43m.\u001b[39;49m\u001b[43mget_query_embedding\u001b[49m\u001b[43m(\u001b[49m\u001b[38;5;124;43m'\u001b[39;49m\u001b[38;5;124;43m \u001b[39;49m\u001b[38;5;124;43m'\u001b[39;49m\u001b[38;5;241;43m.\u001b[39;49m\u001b[43mjoin\u001b[49m\u001b[43m(\u001b[49m\u001b[43mx\u001b[49m\u001b[43m[\u001b[49m\u001b[38;5;124;43m'\u001b[39;49m\u001b[38;5;124;43msummaries\u001b[39;49m\u001b[38;5;124;43m'\u001b[39;49m\u001b[43m]\u001b[49m\u001b[43m \u001b[49m\u001b[38;5;241;43m+\u001b[39;49m\u001b[43m \u001b[49m\u001b[43mx\u001b[49m\u001b[43m[\u001b[49m\u001b[38;5;124;43m'\u001b[39;49m\u001b[38;5;124;43mtitles\u001b[39;49m\u001b[38;5;124;43m'\u001b[39;49m\u001b[43m]\u001b[49m\u001b[43m)\u001b[49m\u001b[43m,\u001b[49m\u001b[43m \u001b[49m\u001b[43mTF_IDF_model\u001b[49m\u001b[38;5;241;43m.\u001b[39;49m\u001b[43mvectorizer\u001b[49m\u001b[43m)\u001b[49m\u001b[43m,\u001b[49m\n\u001b[1;32m      3\u001b[0m \u001b[43m    \u001b[49m\u001b[43maxis\u001b[49m\u001b[38;5;241;43m=\u001b[39;49m\u001b[38;5;241;43m1\u001b[39;49m\u001b[43m)\u001b[49m\n\u001b[1;32m      4\u001b[0m embeddings \u001b[38;5;241m=\u001b[39m []\n",
      "File \u001b[0;32m~/PycharmProjects/MIR_P2/venv/lib/python3.8/site-packages/pandas/core/frame.py:9568\u001b[0m, in \u001b[0;36mDataFrame.apply\u001b[0;34m(self, func, axis, raw, result_type, args, **kwargs)\u001b[0m\n\u001b[1;32m   9557\u001b[0m \u001b[38;5;28;01mfrom\u001b[39;00m \u001b[38;5;21;01mpandas\u001b[39;00m\u001b[38;5;21;01m.\u001b[39;00m\u001b[38;5;21;01mcore\u001b[39;00m\u001b[38;5;21;01m.\u001b[39;00m\u001b[38;5;21;01mapply\u001b[39;00m \u001b[38;5;28;01mimport\u001b[39;00m frame_apply\n\u001b[1;32m   9559\u001b[0m op \u001b[38;5;241m=\u001b[39m frame_apply(\n\u001b[1;32m   9560\u001b[0m     \u001b[38;5;28mself\u001b[39m,\n\u001b[1;32m   9561\u001b[0m     func\u001b[38;5;241m=\u001b[39mfunc,\n\u001b[0;32m   (...)\u001b[0m\n\u001b[1;32m   9566\u001b[0m     kwargs\u001b[38;5;241m=\u001b[39mkwargs,\n\u001b[1;32m   9567\u001b[0m )\n\u001b[0;32m-> 9568\u001b[0m \u001b[38;5;28;01mreturn\u001b[39;00m \u001b[43mop\u001b[49m\u001b[38;5;241;43m.\u001b[39;49m\u001b[43mapply\u001b[49m\u001b[43m(\u001b[49m\u001b[43m)\u001b[49m\u001b[38;5;241m.\u001b[39m__finalize__(\u001b[38;5;28mself\u001b[39m, method\u001b[38;5;241m=\u001b[39m\u001b[38;5;124m\"\u001b[39m\u001b[38;5;124mapply\u001b[39m\u001b[38;5;124m\"\u001b[39m)\n",
      "File \u001b[0;32m~/PycharmProjects/MIR_P2/venv/lib/python3.8/site-packages/pandas/core/apply.py:764\u001b[0m, in \u001b[0;36mFrameApply.apply\u001b[0;34m(self)\u001b[0m\n\u001b[1;32m    761\u001b[0m \u001b[38;5;28;01melif\u001b[39;00m \u001b[38;5;28mself\u001b[39m\u001b[38;5;241m.\u001b[39mraw:\n\u001b[1;32m    762\u001b[0m     \u001b[38;5;28;01mreturn\u001b[39;00m \u001b[38;5;28mself\u001b[39m\u001b[38;5;241m.\u001b[39mapply_raw()\n\u001b[0;32m--> 764\u001b[0m \u001b[38;5;28;01mreturn\u001b[39;00m \u001b[38;5;28;43mself\u001b[39;49m\u001b[38;5;241;43m.\u001b[39;49m\u001b[43mapply_standard\u001b[49m\u001b[43m(\u001b[49m\u001b[43m)\u001b[49m\n",
      "File \u001b[0;32m~/PycharmProjects/MIR_P2/venv/lib/python3.8/site-packages/pandas/core/apply.py:891\u001b[0m, in \u001b[0;36mFrameApply.apply_standard\u001b[0;34m(self)\u001b[0m\n\u001b[1;32m    890\u001b[0m \u001b[38;5;28;01mdef\u001b[39;00m \u001b[38;5;21mapply_standard\u001b[39m(\u001b[38;5;28mself\u001b[39m):\n\u001b[0;32m--> 891\u001b[0m     results, res_index \u001b[38;5;241m=\u001b[39m \u001b[38;5;28;43mself\u001b[39;49m\u001b[38;5;241;43m.\u001b[39;49m\u001b[43mapply_series_generator\u001b[49m\u001b[43m(\u001b[49m\u001b[43m)\u001b[49m\n\u001b[1;32m    893\u001b[0m     \u001b[38;5;66;03m# wrap results\u001b[39;00m\n\u001b[1;32m    894\u001b[0m     \u001b[38;5;28;01mreturn\u001b[39;00m \u001b[38;5;28mself\u001b[39m\u001b[38;5;241m.\u001b[39mwrap_results(results, res_index)\n",
      "File \u001b[0;32m~/PycharmProjects/MIR_P2/venv/lib/python3.8/site-packages/pandas/core/apply.py:907\u001b[0m, in \u001b[0;36mFrameApply.apply_series_generator\u001b[0;34m(self)\u001b[0m\n\u001b[1;32m    904\u001b[0m \u001b[38;5;28;01mwith\u001b[39;00m option_context(\u001b[38;5;124m\"\u001b[39m\u001b[38;5;124mmode.chained_assignment\u001b[39m\u001b[38;5;124m\"\u001b[39m, \u001b[38;5;28;01mNone\u001b[39;00m):\n\u001b[1;32m    905\u001b[0m     \u001b[38;5;28;01mfor\u001b[39;00m i, v \u001b[38;5;129;01min\u001b[39;00m \u001b[38;5;28menumerate\u001b[39m(series_gen):\n\u001b[1;32m    906\u001b[0m         \u001b[38;5;66;03m# ignore SettingWithCopy here in case the user mutates\u001b[39;00m\n\u001b[0;32m--> 907\u001b[0m         results[i] \u001b[38;5;241m=\u001b[39m \u001b[38;5;28;43mself\u001b[39;49m\u001b[38;5;241;43m.\u001b[39;49m\u001b[43mf\u001b[49m\u001b[43m(\u001b[49m\u001b[43mv\u001b[49m\u001b[43m)\u001b[49m\n\u001b[1;32m    908\u001b[0m         \u001b[38;5;28;01mif\u001b[39;00m \u001b[38;5;28misinstance\u001b[39m(results[i], ABCSeries):\n\u001b[1;32m    909\u001b[0m             \u001b[38;5;66;03m# If we have a view on v, we need to make a copy because\u001b[39;00m\n\u001b[1;32m    910\u001b[0m             \u001b[38;5;66;03m#  series_generator will swap out the underlying data\u001b[39;00m\n\u001b[1;32m    911\u001b[0m             results[i] \u001b[38;5;241m=\u001b[39m results[i]\u001b[38;5;241m.\u001b[39mcopy(deep\u001b[38;5;241m=\u001b[39m\u001b[38;5;28;01mFalse\u001b[39;00m)\n",
      "Cell \u001b[0;32mIn[41], line 2\u001b[0m, in \u001b[0;36m<lambda>\u001b[0;34m(x)\u001b[0m\n\u001b[1;32m      1\u001b[0m ml_df[\u001b[38;5;124m'\u001b[39m\u001b[38;5;124membedding\u001b[39m\u001b[38;5;124m'\u001b[39m] \u001b[38;5;241m=\u001b[39m ml_df\u001b[38;5;241m.\u001b[39mapply(\n\u001b[0;32m----> 2\u001b[0m     \u001b[38;5;28;01mlambda\u001b[39;00m x: \u001b[43mFastText_model\u001b[49m\u001b[38;5;241;43m.\u001b[39;49m\u001b[43mget_query_embedding\u001b[49m\u001b[43m(\u001b[49m\u001b[38;5;124;43m'\u001b[39;49m\u001b[38;5;124;43m \u001b[39;49m\u001b[38;5;124;43m'\u001b[39;49m\u001b[38;5;241;43m.\u001b[39;49m\u001b[43mjoin\u001b[49m\u001b[43m(\u001b[49m\u001b[43mx\u001b[49m\u001b[43m[\u001b[49m\u001b[38;5;124;43m'\u001b[39;49m\u001b[38;5;124;43msummaries\u001b[39;49m\u001b[38;5;124;43m'\u001b[39;49m\u001b[43m]\u001b[49m\u001b[43m \u001b[49m\u001b[38;5;241;43m+\u001b[39;49m\u001b[43m \u001b[49m\u001b[43mx\u001b[49m\u001b[43m[\u001b[49m\u001b[38;5;124;43m'\u001b[39;49m\u001b[38;5;124;43mtitles\u001b[39;49m\u001b[38;5;124;43m'\u001b[39;49m\u001b[43m]\u001b[49m\u001b[43m)\u001b[49m\u001b[43m,\u001b[49m\u001b[43m \u001b[49m\u001b[43mTF_IDF_model\u001b[49m\u001b[38;5;241;43m.\u001b[39;49m\u001b[43mvectorizer\u001b[49m\u001b[43m)\u001b[49m,\n\u001b[1;32m      3\u001b[0m     axis\u001b[38;5;241m=\u001b[39m\u001b[38;5;241m1\u001b[39m)\n\u001b[1;32m      4\u001b[0m embeddings \u001b[38;5;241m=\u001b[39m []\n",
      "Cell \u001b[0;32mIn[15], line 37\u001b[0m, in \u001b[0;36mFastTextEmbedding.get_query_embedding\u001b[0;34m(self, query, tf_idf_vectorizer)\u001b[0m\n\u001b[1;32m     35\u001b[0m \u001b[38;5;28;01mfor\u001b[39;00m word \u001b[38;5;129;01min\u001b[39;00m \u001b[38;5;28mset\u001b[39m(query):\n\u001b[1;32m     36\u001b[0m     \u001b[38;5;28;01mif\u001b[39;00m tf_idf_weight[np\u001b[38;5;241m.\u001b[39mwhere(tfidf_tokens \u001b[38;5;241m==\u001b[39m word)]:\n\u001b[0;32m---> 37\u001b[0m         query_embed \u001b[38;5;241m+\u001b[39m\u001b[38;5;241m=\u001b[39m tf_idf_weight[np\u001b[38;5;241m.\u001b[39mwhere(\u001b[43mtfidf_tokens\u001b[49m\u001b[43m \u001b[49m\u001b[38;5;241;43m==\u001b[39;49m\u001b[43m \u001b[49m\u001b[43mword\u001b[49m)] \u001b[38;5;241m*\u001b[39m \u001b[38;5;28mself\u001b[39m\u001b[38;5;241m.\u001b[39mmodel\u001b[38;5;241m.\u001b[39mget_word_vector(word)\n\u001b[1;32m     38\u001b[0m     \u001b[38;5;28;01melse\u001b[39;00m:\n\u001b[1;32m     39\u001b[0m         \u001b[38;5;28mprint\u001b[39m(word)\n",
      "\u001b[0;31mKeyboardInterrupt\u001b[0m: "
     ]
    }
   ],
   "source": [
    "ml_df['embedding'] = ml_df.apply(\n",
    "    lambda x: FastText_model.get_query_embedding(' '.join(x['summaries'] + x['titles']), TF_IDF_model.vectorizer),\n",
    "    axis=1)\n",
    "embeddings = []"
   ]
  },
  {
   "cell_type": "code",
   "execution_count": 17,
   "metadata": {
    "ExecuteTime": {
     "end_time": "2023-05-28T05:56:46.823355505Z",
     "start_time": "2023-05-28T05:56:46.258723511Z"
    },
    "collapsed": false
   },
   "outputs": [],
   "source": [
    "s_df = pd.read_csv('ml_df.csv')\n",
    "ml_df['embedding'] = s_df['embedding']"
   ]
  },
  {
   "cell_type": "code",
   "execution_count": 18,
   "metadata": {
    "ExecuteTime": {
     "end_time": "2023-05-28T05:56:47.909662744Z",
     "start_time": "2023-05-28T05:56:47.891094598Z"
    },
    "collapsed": false
   },
   "outputs": [],
   "source": [
    "# ml_df.to_csv('ml_df.csv')"
   ]
  },
  {
   "cell_type": "code",
   "execution_count": 19,
   "metadata": {
    "ExecuteTime": {
     "end_time": "2023-05-28T05:56:49.007451221Z",
     "start_time": "2023-05-28T05:56:48.525545182Z"
    },
    "collapsed": false
   },
   "outputs": [],
   "source": [
    "ml_df['embedding'] = ml_df['embedding'].apply(lambda x: [float(t) for t in x.replace('[', '').replace(']', '').split()])"
   ]
  },
  {
   "cell_type": "code",
   "execution_count": 20,
   "metadata": {
    "ExecuteTime": {
     "end_time": "2023-05-28T05:56:51.458500340Z",
     "start_time": "2023-05-28T05:56:51.415638327Z"
    },
    "collapsed": false
   },
   "outputs": [
    {
     "data": {
      "text/html": [
       "<div>\n",
       "<style scoped>\n",
       "    .dataframe tbody tr th:only-of-type {\n",
       "        vertical-align: middle;\n",
       "    }\n",
       "\n",
       "    .dataframe tbody tr th {\n",
       "        vertical-align: top;\n",
       "    }\n",
       "\n",
       "    .dataframe thead th {\n",
       "        text-align: right;\n",
       "    }\n",
       "</style>\n",
       "<table border=\"1\" class=\"dataframe\">\n",
       "  <thead>\n",
       "    <tr style=\"text-align: right;\">\n",
       "      <th></th>\n",
       "      <th>titles</th>\n",
       "      <th>summaries</th>\n",
       "      <th>embedding</th>\n",
       "    </tr>\n",
       "    <tr>\n",
       "      <th>terms</th>\n",
       "      <th></th>\n",
       "      <th></th>\n",
       "      <th></th>\n",
       "    </tr>\n",
       "  </thead>\n",
       "  <tbody>\n",
       "    <tr>\n",
       "      <th>cs.CV</th>\n",
       "      <td>13601</td>\n",
       "      <td>13601</td>\n",
       "      <td>13601</td>\n",
       "    </tr>\n",
       "    <tr>\n",
       "      <th>cs.LG</th>\n",
       "      <td>5609</td>\n",
       "      <td>5609</td>\n",
       "      <td>5609</td>\n",
       "    </tr>\n",
       "    <tr>\n",
       "      <th>stat.ML</th>\n",
       "      <td>790</td>\n",
       "      <td>790</td>\n",
       "      <td>790</td>\n",
       "    </tr>\n",
       "  </tbody>\n",
       "</table>\n",
       "</div>"
      ],
      "text/plain": [
       "         titles  summaries  embedding\n",
       "terms                                \n",
       "cs.CV     13601      13601      13601\n",
       "cs.LG      5609       5609       5609\n",
       "stat.ML     790        790        790"
      ]
     },
     "execution_count": 20,
     "metadata": {},
     "output_type": "execute_result"
    }
   ],
   "source": [
    "ml_df.groupby(by=[\"terms\"]).count()"
   ]
  },
  {
   "cell_type": "code",
   "execution_count": 21,
   "metadata": {
    "ExecuteTime": {
     "end_time": "2023-05-28T05:56:52.045067609Z",
     "start_time": "2023-05-28T05:56:51.989091950Z"
    },
    "collapsed": false
   },
   "outputs": [],
   "source": [
    "ml_df['term_num'] = ml_df['terms'].map({'cs.CV': 0, 'cs.LG': 1, 'stat.ML': 2})"
   ]
  },
  {
   "cell_type": "code",
   "execution_count": 22,
   "metadata": {
    "ExecuteTime": {
     "end_time": "2023-05-28T05:56:52.884764105Z",
     "start_time": "2023-05-28T05:56:52.829416567Z"
    },
    "collapsed": false
   },
   "outputs": [
    {
     "data": {
      "text/html": [
       "<div>\n",
       "<style scoped>\n",
       "    .dataframe tbody tr th:only-of-type {\n",
       "        vertical-align: middle;\n",
       "    }\n",
       "\n",
       "    .dataframe tbody tr th {\n",
       "        vertical-align: top;\n",
       "    }\n",
       "\n",
       "    .dataframe thead th {\n",
       "        text-align: right;\n",
       "    }\n",
       "</style>\n",
       "<table border=\"1\" class=\"dataframe\">\n",
       "  <thead>\n",
       "    <tr style=\"text-align: right;\">\n",
       "      <th></th>\n",
       "      <th>titles</th>\n",
       "      <th>summaries</th>\n",
       "      <th>terms</th>\n",
       "      <th>embedding</th>\n",
       "      <th>term_num</th>\n",
       "    </tr>\n",
       "  </thead>\n",
       "  <tbody>\n",
       "    <tr>\n",
       "      <th>0</th>\n",
       "      <td>[survey, semantic, stereo, matching, semantic,...</td>\n",
       "      <td>[stereo, matching, one, widely, used, techniqu...</td>\n",
       "      <td>cs.CV</td>\n",
       "      <td>[0.05331266, 0.61133364, -1.34678432, -0.15660...</td>\n",
       "      <td>0</td>\n",
       "    </tr>\n",
       "    <tr>\n",
       "      <th>1</th>\n",
       "      <td>[future-ai, guiding, principles, consensus, re...</td>\n",
       "      <td>[recent, advancements, artificial, intelligenc...</td>\n",
       "      <td>cs.CV</td>\n",
       "      <td>[1.27792983, 0.475542382, -1.01725404, -0.0456...</td>\n",
       "      <td>0</td>\n",
       "    </tr>\n",
       "    <tr>\n",
       "      <th>2</th>\n",
       "      <td>[enforcing, mutual, consistency, hard, regions...</td>\n",
       "      <td>[paper, proposed, novel, mutual, consistency, ...</td>\n",
       "      <td>cs.CV</td>\n",
       "      <td>[-0.06707639, 0.40710013, -0.80899814, -0.2688...</td>\n",
       "      <td>0</td>\n",
       "    </tr>\n",
       "    <tr>\n",
       "      <th>3</th>\n",
       "      <td>[parameter, decoupling, strategy, semi-supervi...</td>\n",
       "      <td>[consistency, training, proven, advanced, semi...</td>\n",
       "      <td>cs.CV</td>\n",
       "      <td>[0.05330299, 0.01468058, -0.18366176, -0.50907...</td>\n",
       "      <td>0</td>\n",
       "    </tr>\n",
       "    <tr>\n",
       "      <th>4</th>\n",
       "      <td>[background-foreground, segmentation, interior...</td>\n",
       "      <td>[ensure, safety, automated, driving, correct, ...</td>\n",
       "      <td>cs.CV</td>\n",
       "      <td>[0.32095881, 1.33557301, -1.27332349, 0.123458...</td>\n",
       "      <td>0</td>\n",
       "    </tr>\n",
       "  </tbody>\n",
       "</table>\n",
       "</div>"
      ],
      "text/plain": [
       "                                              titles  \\\n",
       "0  [survey, semantic, stereo, matching, semantic,...   \n",
       "1  [future-ai, guiding, principles, consensus, re...   \n",
       "2  [enforcing, mutual, consistency, hard, regions...   \n",
       "3  [parameter, decoupling, strategy, semi-supervi...   \n",
       "4  [background-foreground, segmentation, interior...   \n",
       "\n",
       "                                           summaries  terms  \\\n",
       "0  [stereo, matching, one, widely, used, techniqu...  cs.CV   \n",
       "1  [recent, advancements, artificial, intelligenc...  cs.CV   \n",
       "2  [paper, proposed, novel, mutual, consistency, ...  cs.CV   \n",
       "3  [consistency, training, proven, advanced, semi...  cs.CV   \n",
       "4  [ensure, safety, automated, driving, correct, ...  cs.CV   \n",
       "\n",
       "                                           embedding  term_num  \n",
       "0  [0.05331266, 0.61133364, -1.34678432, -0.15660...         0  \n",
       "1  [1.27792983, 0.475542382, -1.01725404, -0.0456...         0  \n",
       "2  [-0.06707639, 0.40710013, -0.80899814, -0.2688...         0  \n",
       "3  [0.05330299, 0.01468058, -0.18366176, -0.50907...         0  \n",
       "4  [0.32095881, 1.33557301, -1.27332349, 0.123458...         0  "
      ]
     },
     "execution_count": 22,
     "metadata": {},
     "output_type": "execute_result"
    }
   ],
   "source": [
    "ml_df.head()"
   ]
  },
  {
   "attachments": {},
   "cell_type": "markdown",
   "metadata": {},
   "source": [
    "## Prepare data for model"
   ]
  },
  {
   "cell_type": "markdown",
   "metadata": {},
   "source": [
    "\n",
    "<div dir=\"rtl\">\n",
    "<font face=\"XB Zar\" size=5>\n",
    "</font>\n",
    "<font face=\"XB Zar\" size=3>\n",
    "     <br>\n",
    "     در این قسمت dataset ورودی شبکه‌ی عصبی را بسازید.\n",
    "     همچنین دیتا‌ را به قسمت‌های train test validation تقسیم کنید.\n",
    "     80% داده برای آموزش\n",
    "     10% را برای  validation\n",
    "     و 10% را برای تست در نظر بگیرید.\n",
    "     در نهایت dataloaderهای مربوطه را بسازید.\n",
    "    </font>\n",
    "</div>"
   ]
  },
  {
   "cell_type": "code",
   "execution_count": 23,
   "metadata": {
    "ExecuteTime": {
     "end_time": "2023-05-28T05:56:57.440668253Z",
     "start_time": "2023-05-28T05:56:57.352912750Z"
    },
    "collapsed": false
   },
   "outputs": [
    {
     "name": "stdout",
     "output_type": "stream",
     "text": [
      "len of train:  16000\n",
      "len of val:  2000\n",
      "len of test:  2000\n"
     ]
    }
   ],
   "source": [
    "val_frac = 0.1\n",
    "test_frac = 0.1\n",
    "val_split_idx = int(len(ml_df) * (val_frac))\n",
    "data_idx = list(range(len(ml_df)))\n",
    "np.random.shuffle(data_idx)\n",
    "\n",
    "val_idx, test_idx, train_idx = data_idx[:val_split_idx], data_idx[val_split_idx: val_split_idx * 2], data_idx[\n",
    "                                                                                                     val_split_idx * 2:]\n",
    "print('len of train: ', len(train_idx))\n",
    "print('len of val: ', len(val_idx))\n",
    "print('len of test: ', len(test_idx))\n",
    "\n",
    "train = ml_df.iloc[train_idx].reset_index().drop('index', axis=1)\n",
    "val = ml_df.iloc[val_idx].reset_index().drop('index', axis=1)\n",
    "test = ml_df.iloc[test_idx].reset_index().drop('index', axis=1)"
   ]
  },
  {
   "cell_type": "code",
   "execution_count": 24,
   "metadata": {
    "ExecuteTime": {
     "end_time": "2023-05-28T05:56:58.653890228Z",
     "start_time": "2023-05-28T05:56:58.625931465Z"
    }
   },
   "outputs": [],
   "source": [
    "class PapersDataSet(Dataset):\n",
    "    def __init__(self, embeddings: list, labels: list):\n",
    "        self.embeddings = np.array(embeddings)\n",
    "        self.labels = label_binarize(np.array(labels), classes=[0, 1, 2])\n",
    "\n",
    "    def __len__(self):\n",
    "        return len(self.embeddings)\n",
    "\n",
    "    def __getitem__(self, i):\n",
    "        # embedding = self.embeddings[i]\n",
    "        embedding = self.embeddings[i]\n",
    "        target_label = self.labels[i]\n",
    "        return torch.tensor(embedding, dtype=torch.float32), torch.tensor(target_label, dtype=torch.float32)"
   ]
  },
  {
   "cell_type": "code",
   "execution_count": 25,
   "metadata": {
    "ExecuteTime": {
     "end_time": "2023-05-28T05:56:59.138413924Z",
     "start_time": "2023-05-28T05:56:59.110929265Z"
    },
    "collapsed": false
   },
   "outputs": [
    {
     "name": "stdout",
     "output_type": "stream",
     "text": [
      "Counter({0: 13601, 1: 5609, 2: 790})\n",
      "[7.35240056e-05 1.78284899e-04 1.26582278e-03]\n"
     ]
    }
   ],
   "source": [
    "from collections import Counter\n",
    "\n",
    "count = Counter(ml_df.term_num)\n",
    "print(count)\n",
    "class_count = np.array([count[0], count[1], count[2]])\n",
    "weight = 1. / class_count\n",
    "print(weight)"
   ]
  },
  {
   "cell_type": "code",
   "execution_count": 26,
   "metadata": {
    "ExecuteTime": {
     "end_time": "2023-05-28T05:56:59.354390313Z",
     "start_time": "2023-05-28T05:56:59.344444895Z"
    },
    "collapsed": false
   },
   "outputs": [],
   "source": [
    "from torch.utils.data import WeightedRandomSampler\n",
    "\n",
    "samples_weight = np.array([weight[t] for t in ml_df.term_num])\n",
    "samples_weight = torch.from_numpy(samples_weight)\n",
    "sampler = WeightedRandomSampler(samples_weight, len(samples_weight))"
   ]
  },
  {
   "cell_type": "code",
   "execution_count": 29,
   "metadata": {
    "ExecuteTime": {
     "end_time": "2023-05-28T05:57:58.255320371Z",
     "start_time": "2023-05-28T05:57:58.243249305Z"
    }
   },
   "outputs": [],
   "source": [
    "train_ds = PapersDataSet(embeddings=train.embedding, labels=train.term_num)\n",
    "val_ds = PapersDataSet(embeddings=val.embedding, labels=val.term_num)\n",
    "test_ds = PapersDataSet(embeddings=test.embedding, labels=test.term_num)\n",
    "train_loader = DataLoader(train_ds, batch_size=16, num_workers=0, shuffle=False)\n",
    "val_loader = DataLoader(val_ds, batch_size=16, num_workers=0, shuffle=True)\n",
    "test_loader = DataLoader(test_ds, batch_size=16, num_workers=0, shuffle=False)"
   ]
  },
  {
   "attachments": {},
   "cell_type": "markdown",
   "metadata": {},
   "source": [
    "## Build model"
   ]
  },
  {
   "cell_type": "markdown",
   "metadata": {},
   "source": [
    "\n",
    "<div dir=\"rtl\">\n",
    "<font face=\"XB Zar\" size=5>\n",
    "</font>\n",
    "<font face=\"XB Zar\" size=3>\n",
    "     <br>\n",
    "حال دراین قسمت مدل شبکه‌ی عصبی خود را تعریف کنید.\n",
    "    </font>\n",
    "</div>"
   ]
  },
  {
   "cell_type": "code",
   "execution_count": 30,
   "metadata": {
    "ExecuteTime": {
     "end_time": "2023-05-28T05:57:59.607423847Z",
     "start_time": "2023-05-28T05:57:59.580308522Z"
    }
   },
   "outputs": [],
   "source": [
    "class ClassifierModel(nn.Module):\n",
    "    def __init__(self, in_features=100, num_classes=3):\n",
    "        super(ClassifierModel, self).__init__()\n",
    "        self.seq = nn.Sequential(\n",
    "            nn.Linear(in_features, 128),\n",
    "            nn.BatchNorm1d(128),\n",
    "            nn.ReLU(),\n",
    "            nn.Dropout(p=0.5),\n",
    "            nn.Linear(128, 64),\n",
    "            nn.BatchNorm1d(64),\n",
    "            nn.ReLU(),\n",
    "            nn.Dropout(p=0.5),\n",
    "            nn.Linear(64, num_classes),\n",
    "        )\n",
    "        self.softmax = nn.Softmax(dim=0)\n",
    "\n",
    "    def forward(self, x):\n",
    "        x = self.seq(x)\n",
    "        return x"
   ]
  },
  {
   "attachments": {},
   "cell_type": "markdown",
   "metadata": {},
   "source": [
    "## Train model"
   ]
  },
  {
   "cell_type": "markdown",
   "metadata": {},
   "source": [
    "\n",
    "\n",
    "<div dir=\"rtl\">\n",
    "<font face=\"XB Zar\" size=5>\n",
    "</font>\n",
    "<font face=\"XB Zar\" size=3>\n",
    "     <br>\n",
    "در این قسمت به کمک داده‌ی آموزش و validation مدل خود را آموزش دهید.\n",
    "اطلاعات مورد نیاز نظیر lossهای train و validation را ذخیره کنید تا در ادامه به کمک نمودار یادگیری مدل خود را ارزیابی کنید.\n",
    "    </font>\n",
    "</div>"
   ]
  },
  {
   "cell_type": "code",
   "execution_count": 31,
   "metadata": {
    "ExecuteTime": {
     "end_time": "2023-05-28T05:58:00.829734038Z",
     "start_time": "2023-05-28T05:58:00.807800196Z"
    }
   },
   "outputs": [],
   "source": [
    "device = torch.device('cuda' if torch.cuda.is_available() else 'cpu')\n",
    "model = ClassifierModel().to(device)"
   ]
  },
  {
   "cell_type": "code",
   "execution_count": 32,
   "metadata": {
    "ExecuteTime": {
     "end_time": "2023-05-28T05:58:01.212398150Z",
     "start_time": "2023-05-28T05:58:01.195251740Z"
    }
   },
   "outputs": [],
   "source": [
    "criterion = nn.CrossEntropyLoss()\n",
    "learning_rate = 0.001\n",
    "optimizer = torch.optim.Adam(model.parameters(), lr=learning_rate)"
   ]
  },
  {
   "cell_type": "code",
   "execution_count": 33,
   "metadata": {
    "ExecuteTime": {
     "end_time": "2023-05-28T05:58:01.568458173Z",
     "start_time": "2023-05-28T05:58:01.555228659Z"
    }
   },
   "outputs": [],
   "source": [
    "def eval_epoch(model: nn.Module, criterion: nn.Module, dataloader: torch.utils.data.DataLoader, test_mode=False):\n",
    "    \"\"\"\n",
    "    Evaluate the model on the given dataloader. used for validation and test\n",
    "    Parameters\n",
    "    ----------\n",
    "    model: nn.Module\n",
    "    criterion: nn.Module\n",
    "    dataloader: torch.utils.data.DataLoader\n",
    "    test_mode: bool\n",
    "        If True, the function will print 'Test' instead of 'Validation'\n",
    "    Returns\n",
    "    -------\n",
    "    eval_loss: float\n",
    "        The loss on the given dataloader\n",
    "    predicted_labels: list\n",
    "        The predicted labels\n",
    "    true_labels: list\n",
    "        The true labels\n",
    "    f1_score_macro: float\n",
    "        The f1 score on the given dataloader\n",
    "    \"\"\"\n",
    "    running_vloss = 0.0\n",
    "    predicted_labels = []\n",
    "    true_labels = []\n",
    "    with torch.no_grad():\n",
    "        for v_data in dataloader:\n",
    "            v_inputs, v_labels = v_data\n",
    "            true_labels.extend(v_labels.detach().numpy())\n",
    "            v_outputs = model(v_inputs)\n",
    "            predicted_labels.extend(v_outputs.detach().numpy())\n",
    "            v_loss = criterion(v_outputs, v_labels)\n",
    "            running_vloss += v_loss.item()\n",
    "\n",
    "    eval_loss = running_vloss / len(dataloader)\n",
    "    y = np.argmax(true_labels, axis=1)\n",
    "    y_p = np.argmax(predicted_labels, axis=1)\n",
    "    f1_score_macro = f1_score(y, y_p, average='macro')\n",
    "    if test_mode:\n",
    "        print('Test')\n",
    "    else:\n",
    "        print('Validation')\n",
    "    return eval_loss, predicted_labels, true_labels, f1_score_macro"
   ]
  },
  {
   "cell_type": "code",
   "execution_count": 34,
   "metadata": {
    "ExecuteTime": {
     "end_time": "2023-05-28T05:59:32.031472965Z",
     "start_time": "2023-05-28T05:58:02.016373419Z"
    }
   },
   "outputs": [
    {
     "name": "stderr",
     "output_type": "stream",
     "text": [
      "100%|██████████| 1000/1000 [00:01<00:00, 583.74it/s]\n"
     ]
    },
    {
     "name": "stdout",
     "output_type": "stream",
     "text": [
      "Validation\n",
      "Epoch 1 finished in 1.79s\n",
      "[Epoch 1]\tTrain Loss: 0.4659\tValidation Loss: 0.3799\t F1 score macro: 0.5372406618293222 \t Val F1 score macro: 0.5622401266827293\n"
     ]
    },
    {
     "name": "stderr",
     "output_type": "stream",
     "text": [
      "100%|██████████| 1000/1000 [00:01<00:00, 633.48it/s]\n"
     ]
    },
    {
     "name": "stdout",
     "output_type": "stream",
     "text": [
      "Validation\n",
      "Epoch 2 finished in 1.66s\n",
      "[Epoch 2]\tTrain Loss: 0.4168\tValidation Loss: 0.3669\t F1 score macro: 0.5505256925055227 \t Val F1 score macro: 0.568588648159877\n"
     ]
    },
    {
     "name": "stderr",
     "output_type": "stream",
     "text": [
      "100%|██████████| 1000/1000 [00:01<00:00, 619.68it/s]\n"
     ]
    },
    {
     "name": "stdout",
     "output_type": "stream",
     "text": [
      "Validation\n",
      "Epoch 3 finished in 1.70s\n",
      "[Epoch 3]\tTrain Loss: 0.3994\tValidation Loss: 0.3611\t F1 score macro: 0.557380508471816 \t Val F1 score macro: 0.5655557852579693\n"
     ]
    },
    {
     "name": "stderr",
     "output_type": "stream",
     "text": [
      "100%|██████████| 1000/1000 [00:01<00:00, 642.68it/s]\n"
     ]
    },
    {
     "name": "stdout",
     "output_type": "stream",
     "text": [
      "Validation\n",
      "Epoch 4 finished in 1.64s\n",
      "[Epoch 4]\tTrain Loss: 0.3951\tValidation Loss: 0.3535\t F1 score macro: 0.5567948939235087 \t Val F1 score macro: 0.5717782011470975\n"
     ]
    },
    {
     "name": "stderr",
     "output_type": "stream",
     "text": [
      "100%|██████████| 1000/1000 [00:01<00:00, 531.32it/s]\n"
     ]
    },
    {
     "name": "stdout",
     "output_type": "stream",
     "text": [
      "Validation\n",
      "Epoch 5 finished in 1.96s\n",
      "[Epoch 5]\tTrain Loss: 0.3886\tValidation Loss: 0.3535\t F1 score macro: 0.5616355582919428 \t Val F1 score macro: 0.5722783960605079\n"
     ]
    },
    {
     "name": "stderr",
     "output_type": "stream",
     "text": [
      "100%|██████████| 1000/1000 [00:01<00:00, 615.58it/s]\n"
     ]
    },
    {
     "name": "stdout",
     "output_type": "stream",
     "text": [
      "Validation\n",
      "Epoch 6 finished in 1.72s\n",
      "[Epoch 6]\tTrain Loss: 0.3861\tValidation Loss: 0.3482\t F1 score macro: 0.5605100539466702 \t Val F1 score macro: 0.5710138885112374\n"
     ]
    },
    {
     "name": "stderr",
     "output_type": "stream",
     "text": [
      "100%|██████████| 1000/1000 [00:01<00:00, 604.93it/s]\n"
     ]
    },
    {
     "name": "stdout",
     "output_type": "stream",
     "text": [
      "Validation\n",
      "Epoch 7 finished in 1.74s\n",
      "[Epoch 7]\tTrain Loss: 0.3771\tValidation Loss: 0.3481\t F1 score macro: 0.5623638786194588 \t Val F1 score macro: 0.5747024401415028\n"
     ]
    },
    {
     "name": "stderr",
     "output_type": "stream",
     "text": [
      "100%|██████████| 1000/1000 [00:01<00:00, 598.32it/s]\n"
     ]
    },
    {
     "name": "stdout",
     "output_type": "stream",
     "text": [
      "Validation\n",
      "Epoch 8 finished in 1.76s\n",
      "[Epoch 8]\tTrain Loss: 0.3722\tValidation Loss: 0.3444\t F1 score macro: 0.5616282277727821 \t Val F1 score macro: 0.5743937132432674\n"
     ]
    },
    {
     "name": "stderr",
     "output_type": "stream",
     "text": [
      "100%|██████████| 1000/1000 [00:01<00:00, 637.13it/s]\n"
     ]
    },
    {
     "name": "stdout",
     "output_type": "stream",
     "text": [
      "Validation\n",
      "Epoch 9 finished in 1.65s\n",
      "[Epoch 9]\tTrain Loss: 0.3688\tValidation Loss: 0.3452\t F1 score macro: 0.5621544036212396 \t Val F1 score macro: 0.5746799275883879\n"
     ]
    },
    {
     "name": "stderr",
     "output_type": "stream",
     "text": [
      "100%|██████████| 1000/1000 [00:01<00:00, 634.47it/s]\n"
     ]
    },
    {
     "name": "stdout",
     "output_type": "stream",
     "text": [
      "Validation\n",
      "Epoch 10 finished in 1.67s\n",
      "[Epoch 10]\tTrain Loss: 0.3643\tValidation Loss: 0.3460\t F1 score macro: 0.5637495439469884 \t Val F1 score macro: 0.5736308622840967\n"
     ]
    },
    {
     "name": "stderr",
     "output_type": "stream",
     "text": [
      "100%|██████████| 1000/1000 [00:01<00:00, 616.45it/s]\n"
     ]
    },
    {
     "name": "stdout",
     "output_type": "stream",
     "text": [
      "Validation\n",
      "Epoch 11 finished in 1.72s\n",
      "[Epoch 11]\tTrain Loss: 0.3603\tValidation Loss: 0.3414\t F1 score macro: 0.5675629738853063 \t Val F1 score macro: 0.5736308622840967\n"
     ]
    },
    {
     "name": "stderr",
     "output_type": "stream",
     "text": [
      "100%|██████████| 1000/1000 [00:01<00:00, 608.74it/s]\n"
     ]
    },
    {
     "name": "stdout",
     "output_type": "stream",
     "text": [
      "Validation\n",
      "Epoch 12 finished in 1.76s\n",
      "[Epoch 12]\tTrain Loss: 0.3564\tValidation Loss: 0.3370\t F1 score macro: 0.5697096030366021 \t Val F1 score macro: 0.5749893844435908\n"
     ]
    },
    {
     "name": "stderr",
     "output_type": "stream",
     "text": [
      "100%|██████████| 1000/1000 [00:01<00:00, 607.35it/s]\n"
     ]
    },
    {
     "name": "stdout",
     "output_type": "stream",
     "text": [
      "Validation\n",
      "Epoch 13 finished in 1.74s\n",
      "[Epoch 13]\tTrain Loss: 0.3547\tValidation Loss: 0.3418\t F1 score macro: 0.5686903158542002 \t Val F1 score macro: 0.5700218338750197\n"
     ]
    },
    {
     "name": "stderr",
     "output_type": "stream",
     "text": [
      "100%|██████████| 1000/1000 [00:01<00:00, 607.34it/s]\n"
     ]
    },
    {
     "name": "stdout",
     "output_type": "stream",
     "text": [
      "Validation\n",
      "Epoch 14 finished in 1.74s\n",
      "[Epoch 14]\tTrain Loss: 0.3518\tValidation Loss: 0.3405\t F1 score macro: 0.5849598596172194 \t Val F1 score macro: 0.5721458695711155\n"
     ]
    },
    {
     "name": "stderr",
     "output_type": "stream",
     "text": [
      "100%|██████████| 1000/1000 [00:01<00:00, 651.51it/s]\n"
     ]
    },
    {
     "name": "stdout",
     "output_type": "stream",
     "text": [
      "Validation\n",
      "Epoch 15 finished in 1.62s\n",
      "[Epoch 15]\tTrain Loss: 0.3482\tValidation Loss: 0.3402\t F1 score macro: 0.5780234625152793 \t Val F1 score macro: 0.5714128262580997\n"
     ]
    },
    {
     "name": "stderr",
     "output_type": "stream",
     "text": [
      "100%|██████████| 1000/1000 [00:01<00:00, 624.35it/s]\n"
     ]
    },
    {
     "name": "stdout",
     "output_type": "stream",
     "text": [
      "Validation\n",
      "Epoch 16 finished in 1.69s\n",
      "[Epoch 16]\tTrain Loss: 0.3424\tValidation Loss: 0.3351\t F1 score macro: 0.5792879431978923 \t Val F1 score macro: 0.5716079667890597\n"
     ]
    },
    {
     "name": "stderr",
     "output_type": "stream",
     "text": [
      "100%|██████████| 1000/1000 [00:01<00:00, 585.30it/s]\n"
     ]
    },
    {
     "name": "stdout",
     "output_type": "stream",
     "text": [
      "Validation\n",
      "Epoch 17 finished in 1.79s\n",
      "[Epoch 17]\tTrain Loss: 0.3409\tValidation Loss: 0.3383\t F1 score macro: 0.5857096761473398 \t Val F1 score macro: 0.5711790836916634\n"
     ]
    },
    {
     "name": "stderr",
     "output_type": "stream",
     "text": [
      "100%|██████████| 1000/1000 [00:01<00:00, 590.18it/s]\n"
     ]
    },
    {
     "name": "stdout",
     "output_type": "stream",
     "text": [
      "Validation\n",
      "Epoch 18 finished in 1.80s\n",
      "[Epoch 18]\tTrain Loss: 0.3351\tValidation Loss: 0.3403\t F1 score macro: 0.586720275925828 \t Val F1 score macro: 0.5715273080487678\n"
     ]
    },
    {
     "name": "stderr",
     "output_type": "stream",
     "text": [
      "100%|██████████| 1000/1000 [00:01<00:00, 618.11it/s]\n"
     ]
    },
    {
     "name": "stdout",
     "output_type": "stream",
     "text": [
      "Validation\n",
      "Epoch 19 finished in 1.72s\n",
      "[Epoch 19]\tTrain Loss: 0.3300\tValidation Loss: 0.3358\t F1 score macro: 0.5993045099508775 \t Val F1 score macro: 0.5721216940452408\n"
     ]
    },
    {
     "name": "stderr",
     "output_type": "stream",
     "text": [
      "100%|██████████| 1000/1000 [00:01<00:00, 596.32it/s]\n"
     ]
    },
    {
     "name": "stdout",
     "output_type": "stream",
     "text": [
      "Validation\n",
      "Epoch 20 finished in 1.76s\n",
      "[Epoch 20]\tTrain Loss: 0.3301\tValidation Loss: 0.3359\t F1 score macro: 0.600496265286768 \t Val F1 score macro: 0.5729272590264414\n"
     ]
    },
    {
     "name": "stderr",
     "output_type": "stream",
     "text": [
      "100%|██████████| 1000/1000 [00:01<00:00, 640.44it/s]\n"
     ]
    },
    {
     "name": "stdout",
     "output_type": "stream",
     "text": [
      "Validation\n",
      "Epoch 21 finished in 1.65s\n",
      "[Epoch 21]\tTrain Loss: 0.3282\tValidation Loss: 0.3342\t F1 score macro: 0.6127803315998702 \t Val F1 score macro: 0.5715142775567145\n"
     ]
    },
    {
     "name": "stderr",
     "output_type": "stream",
     "text": [
      "100%|██████████| 1000/1000 [00:01<00:00, 607.79it/s]\n"
     ]
    },
    {
     "name": "stdout",
     "output_type": "stream",
     "text": [
      "Validation\n",
      "Epoch 22 finished in 1.73s\n",
      "[Epoch 22]\tTrain Loss: 0.3250\tValidation Loss: 0.3336\t F1 score macro: 0.6090177851463004 \t Val F1 score macro: 0.573051948051948\n"
     ]
    },
    {
     "name": "stderr",
     "output_type": "stream",
     "text": [
      "100%|██████████| 1000/1000 [00:01<00:00, 637.23it/s]\n"
     ]
    },
    {
     "name": "stdout",
     "output_type": "stream",
     "text": [
      "Validation\n",
      "Epoch 23 finished in 1.65s\n",
      "[Epoch 23]\tTrain Loss: 0.3250\tValidation Loss: 0.3401\t F1 score macro: 0.5968837229009901 \t Val F1 score macro: 0.5700909739150825\n"
     ]
    },
    {
     "name": "stderr",
     "output_type": "stream",
     "text": [
      "100%|██████████| 1000/1000 [00:01<00:00, 607.69it/s]\n"
     ]
    },
    {
     "name": "stdout",
     "output_type": "stream",
     "text": [
      "Validation\n",
      "Epoch 24 finished in 1.74s\n",
      "[Epoch 24]\tTrain Loss: 0.3214\tValidation Loss: 0.3335\t F1 score macro: 0.6098417405162777 \t Val F1 score macro: 0.572959587238207\n"
     ]
    },
    {
     "name": "stderr",
     "output_type": "stream",
     "text": [
      "100%|██████████| 1000/1000 [00:01<00:00, 649.54it/s]\n"
     ]
    },
    {
     "name": "stdout",
     "output_type": "stream",
     "text": [
      "Validation\n",
      "Epoch 25 finished in 1.62s\n",
      "[Epoch 25]\tTrain Loss: 0.3194\tValidation Loss: 0.3355\t F1 score macro: 0.6139308633678955 \t Val F1 score macro: 0.5713119447234475\n"
     ]
    },
    {
     "name": "stderr",
     "output_type": "stream",
     "text": [
      "100%|██████████| 1000/1000 [00:01<00:00, 658.75it/s]\n"
     ]
    },
    {
     "name": "stdout",
     "output_type": "stream",
     "text": [
      "Validation\n",
      "Epoch 26 finished in 1.61s\n",
      "[Epoch 26]\tTrain Loss: 0.3171\tValidation Loss: 0.3386\t F1 score macro: 0.6206547723371235 \t Val F1 score macro: 0.572512670519136\n"
     ]
    },
    {
     "name": "stderr",
     "output_type": "stream",
     "text": [
      "100%|██████████| 1000/1000 [00:01<00:00, 633.54it/s]\n"
     ]
    },
    {
     "name": "stdout",
     "output_type": "stream",
     "text": [
      "Validation\n",
      "Epoch 27 finished in 1.67s\n",
      "[Epoch 27]\tTrain Loss: 0.3172\tValidation Loss: 0.3337\t F1 score macro: 0.6271878693189591 \t Val F1 score macro: 0.5714089834789907\n"
     ]
    },
    {
     "name": "stderr",
     "output_type": "stream",
     "text": [
      "100%|██████████| 1000/1000 [00:01<00:00, 584.12it/s]\n"
     ]
    },
    {
     "name": "stdout",
     "output_type": "stream",
     "text": [
      "Validation\n",
      "Epoch 28 finished in 1.80s\n",
      "[Epoch 28]\tTrain Loss: 0.3118\tValidation Loss: 0.3365\t F1 score macro: 0.6339486594766096 \t Val F1 score macro: 0.5846723008519159\n"
     ]
    },
    {
     "name": "stderr",
     "output_type": "stream",
     "text": [
      "100%|██████████| 1000/1000 [00:01<00:00, 636.93it/s]\n"
     ]
    },
    {
     "name": "stdout",
     "output_type": "stream",
     "text": [
      "Validation\n",
      "Epoch 29 finished in 1.67s\n",
      "[Epoch 29]\tTrain Loss: 0.3086\tValidation Loss: 0.3348\t F1 score macro: 0.6423013983350665 \t Val F1 score macro: 0.5701339939196036\n"
     ]
    },
    {
     "name": "stderr",
     "output_type": "stream",
     "text": [
      "100%|██████████| 1000/1000 [00:01<00:00, 659.07it/s]\n"
     ]
    },
    {
     "name": "stdout",
     "output_type": "stream",
     "text": [
      "Validation\n",
      "Epoch 30 finished in 1.60s\n",
      "[Epoch 30]\tTrain Loss: 0.3064\tValidation Loss: 0.3355\t F1 score macro: 0.6356638543768748 \t Val F1 score macro: 0.5719321380028464\n"
     ]
    },
    {
     "name": "stderr",
     "output_type": "stream",
     "text": [
      "100%|██████████| 1000/1000 [00:01<00:00, 658.26it/s]\n"
     ]
    },
    {
     "name": "stdout",
     "output_type": "stream",
     "text": [
      "Validation\n",
      "Epoch 31 finished in 1.61s\n",
      "[Epoch 31]\tTrain Loss: 0.3032\tValidation Loss: 0.3390\t F1 score macro: 0.6371293004834282 \t Val F1 score macro: 0.5714814461768635\n"
     ]
    },
    {
     "name": "stderr",
     "output_type": "stream",
     "text": [
      "100%|██████████| 1000/1000 [00:01<00:00, 643.36it/s]\n"
     ]
    },
    {
     "name": "stdout",
     "output_type": "stream",
     "text": [
      "Validation\n",
      "Epoch 32 finished in 1.64s\n",
      "[Epoch 32]\tTrain Loss: 0.3034\tValidation Loss: 0.3309\t F1 score macro: 0.6508742385827871 \t Val F1 score macro: 0.5733317632658684\n"
     ]
    },
    {
     "name": "stderr",
     "output_type": "stream",
     "text": [
      "100%|██████████| 1000/1000 [00:01<00:00, 592.75it/s]\n"
     ]
    },
    {
     "name": "stdout",
     "output_type": "stream",
     "text": [
      "Validation\n",
      "Epoch 33 finished in 1.79s\n",
      "[Epoch 33]\tTrain Loss: 0.2994\tValidation Loss: 0.3334\t F1 score macro: 0.6574171330256268 \t Val F1 score macro: 0.589907927299269\n"
     ]
    },
    {
     "name": "stderr",
     "output_type": "stream",
     "text": [
      "100%|██████████| 1000/1000 [00:01<00:00, 601.26it/s]\n"
     ]
    },
    {
     "name": "stdout",
     "output_type": "stream",
     "text": [
      "Validation\n",
      "Epoch 34 finished in 1.75s\n",
      "[Epoch 34]\tTrain Loss: 0.2977\tValidation Loss: 0.3426\t F1 score macro: 0.6616057965765944 \t Val F1 score macro: 0.5703512958498713\n"
     ]
    },
    {
     "name": "stderr",
     "output_type": "stream",
     "text": [
      "100%|██████████| 1000/1000 [00:01<00:00, 581.41it/s]\n"
     ]
    },
    {
     "name": "stdout",
     "output_type": "stream",
     "text": [
      "Validation\n",
      "Epoch 35 finished in 1.82s\n",
      "[Epoch 35]\tTrain Loss: 0.3003\tValidation Loss: 0.3392\t F1 score macro: 0.6423282887148353 \t Val F1 score macro: 0.5808106672498853\n"
     ]
    },
    {
     "name": "stderr",
     "output_type": "stream",
     "text": [
      "100%|██████████| 1000/1000 [00:01<00:00, 549.35it/s]\n"
     ]
    },
    {
     "name": "stdout",
     "output_type": "stream",
     "text": [
      "Validation\n",
      "Epoch 36 finished in 1.93s\n",
      "[Epoch 36]\tTrain Loss: 0.2933\tValidation Loss: 0.3410\t F1 score macro: 0.661633653701135 \t Val F1 score macro: 0.5873748825515065\n"
     ]
    },
    {
     "name": "stderr",
     "output_type": "stream",
     "text": [
      "100%|██████████| 1000/1000 [00:01<00:00, 563.52it/s]\n"
     ]
    },
    {
     "name": "stdout",
     "output_type": "stream",
     "text": [
      "Validation\n",
      "Epoch 37 finished in 1.89s\n",
      "[Epoch 37]\tTrain Loss: 0.2929\tValidation Loss: 0.3346\t F1 score macro: 0.6608808665299637 \t Val F1 score macro: 0.5729449639592642\n"
     ]
    },
    {
     "name": "stderr",
     "output_type": "stream",
     "text": [
      "100%|██████████| 1000/1000 [00:01<00:00, 531.58it/s]\n"
     ]
    },
    {
     "name": "stdout",
     "output_type": "stream",
     "text": [
      "Validation\n",
      "Epoch 38 finished in 1.99s\n",
      "[Epoch 38]\tTrain Loss: 0.2887\tValidation Loss: 0.3415\t F1 score macro: 0.6645520112536564 \t Val F1 score macro: 0.5787089734019117\n"
     ]
    },
    {
     "name": "stderr",
     "output_type": "stream",
     "text": [
      "100%|██████████| 1000/1000 [00:01<00:00, 528.12it/s]\n"
     ]
    },
    {
     "name": "stdout",
     "output_type": "stream",
     "text": [
      "Validation\n",
      "Epoch 39 finished in 2.00s\n",
      "[Epoch 39]\tTrain Loss: 0.2890\tValidation Loss: 0.3401\t F1 score macro: 0.6712816864748331 \t Val F1 score macro: 0.5846024345388847\n"
     ]
    },
    {
     "name": "stderr",
     "output_type": "stream",
     "text": [
      "100%|██████████| 1000/1000 [00:01<00:00, 537.01it/s]\n"
     ]
    },
    {
     "name": "stdout",
     "output_type": "stream",
     "text": [
      "Validation\n",
      "Epoch 40 finished in 1.99s\n",
      "[Epoch 40]\tTrain Loss: 0.2866\tValidation Loss: 0.3397\t F1 score macro: 0.6672582709620447 \t Val F1 score macro: 0.5811234307776832\n"
     ]
    },
    {
     "name": "stderr",
     "output_type": "stream",
     "text": [
      "100%|██████████| 1000/1000 [00:01<00:00, 548.08it/s]\n"
     ]
    },
    {
     "name": "stdout",
     "output_type": "stream",
     "text": [
      "Validation\n",
      "Epoch 41 finished in 1.94s\n",
      "[Epoch 41]\tTrain Loss: 0.2814\tValidation Loss: 0.3383\t F1 score macro: 0.6745984877493271 \t Val F1 score macro: 0.6169862596733585\n"
     ]
    },
    {
     "name": "stderr",
     "output_type": "stream",
     "text": [
      "100%|██████████| 1000/1000 [00:02<00:00, 495.06it/s]\n"
     ]
    },
    {
     "name": "stdout",
     "output_type": "stream",
     "text": [
      "Validation\n",
      "Epoch 42 finished in 2.13s\n",
      "[Epoch 42]\tTrain Loss: 0.2817\tValidation Loss: 0.3477\t F1 score macro: 0.6737449385503034 \t Val F1 score macro: 0.5842760874824453\n"
     ]
    },
    {
     "name": "stderr",
     "output_type": "stream",
     "text": [
      "100%|██████████| 1000/1000 [00:01<00:00, 533.66it/s]\n"
     ]
    },
    {
     "name": "stdout",
     "output_type": "stream",
     "text": [
      "Validation\n",
      "Epoch 43 finished in 1.97s\n",
      "[Epoch 43]\tTrain Loss: 0.2799\tValidation Loss: 0.3443\t F1 score macro: 0.6762907407901769 \t Val F1 score macro: 0.599361716427783\n"
     ]
    },
    {
     "name": "stderr",
     "output_type": "stream",
     "text": [
      "100%|██████████| 1000/1000 [00:01<00:00, 511.90it/s]\n"
     ]
    },
    {
     "name": "stdout",
     "output_type": "stream",
     "text": [
      "Validation\n",
      "Epoch 44 finished in 2.08s\n",
      "[Epoch 44]\tTrain Loss: 0.2843\tValidation Loss: 0.3558\t F1 score macro: 0.6713410779184462 \t Val F1 score macro: 0.5983957605988347\n"
     ]
    },
    {
     "name": "stderr",
     "output_type": "stream",
     "text": [
      "100%|██████████| 1000/1000 [00:02<00:00, 497.01it/s]\n"
     ]
    },
    {
     "name": "stdout",
     "output_type": "stream",
     "text": [
      "Validation\n",
      "Epoch 45 finished in 2.11s\n",
      "[Epoch 45]\tTrain Loss: 0.2777\tValidation Loss: 0.3543\t F1 score macro: 0.6806988486076438 \t Val F1 score macro: 0.6016265640686564\n"
     ]
    },
    {
     "name": "stderr",
     "output_type": "stream",
     "text": [
      "100%|██████████| 1000/1000 [00:01<00:00, 526.34it/s]\n"
     ]
    },
    {
     "name": "stdout",
     "output_type": "stream",
     "text": [
      "Validation\n",
      "Epoch 46 finished in 2.00s\n",
      "[Epoch 46]\tTrain Loss: 0.2769\tValidation Loss: 0.3479\t F1 score macro: 0.6865532430583827 \t Val F1 score macro: 0.5833371709521186\n"
     ]
    },
    {
     "name": "stderr",
     "output_type": "stream",
     "text": [
      "100%|██████████| 1000/1000 [00:01<00:00, 508.92it/s]\n"
     ]
    },
    {
     "name": "stdout",
     "output_type": "stream",
     "text": [
      "Validation\n",
      "Epoch 47 finished in 2.07s\n",
      "[Epoch 47]\tTrain Loss: 0.2745\tValidation Loss: 0.3522\t F1 score macro: 0.6911156256158177 \t Val F1 score macro: 0.5900852620451263\n"
     ]
    },
    {
     "name": "stderr",
     "output_type": "stream",
     "text": [
      "100%|██████████| 1000/1000 [00:01<00:00, 523.76it/s]\n"
     ]
    },
    {
     "name": "stdout",
     "output_type": "stream",
     "text": [
      "Validation\n",
      "Epoch 48 finished in 2.02s\n",
      "[Epoch 48]\tTrain Loss: 0.2764\tValidation Loss: 0.3439\t F1 score macro: 0.6909341741966696 \t Val F1 score macro: 0.5975763056908606\n"
     ]
    },
    {
     "name": "stderr",
     "output_type": "stream",
     "text": [
      "100%|██████████| 1000/1000 [00:01<00:00, 565.58it/s]\n"
     ]
    },
    {
     "name": "stdout",
     "output_type": "stream",
     "text": [
      "Validation\n",
      "Epoch 49 finished in 1.86s\n",
      "[Epoch 49]\tTrain Loss: 0.2670\tValidation Loss: 0.3578\t F1 score macro: 0.6927711222534133 \t Val F1 score macro: 0.6156718259403794\n"
     ]
    },
    {
     "name": "stderr",
     "output_type": "stream",
     "text": [
      "100%|██████████| 1000/1000 [00:01<00:00, 530.06it/s]\n"
     ]
    },
    {
     "name": "stdout",
     "output_type": "stream",
     "text": [
      "Validation\n",
      "Epoch 50 finished in 1.99s\n",
      "[Epoch 50]\tTrain Loss: 0.2692\tValidation Loss: 0.3421\t F1 score macro: 0.7018290592039463 \t Val F1 score macro: 0.6338278209501907\n"
     ]
    }
   ],
   "source": [
    "\"\"\"\n",
    "Train the model for num_epochs epochs\n",
    "epoch_true and epoch_all are used to calculate the accuracy.\n",
    "epoch_true is the number of correct predictions and epoch_all is the total number of predictions in the epoch\n",
    "\"\"\"\n",
    "import warnings\n",
    "\n",
    "warnings.filterwarnings('always')\n",
    "\n",
    "num_epochs = 50\n",
    "\n",
    "train_loss_arr, val_loss_arr = [], []\n",
    "f1_macro_scores, val_f1_macro_scores = [], []\n",
    "for epoch in range(num_epochs):\n",
    "    start_time = time()\n",
    "\n",
    "    train_loss, val_loss = 0, 0\n",
    "    epoch_all = 0\n",
    "    epoch_true = 0\n",
    "    pl = []\n",
    "    tl = []\n",
    "\n",
    "    model.train()\n",
    "\n",
    "    with tqdm(enumerate(train_loader), total=len(train_loader)) as pbar:\n",
    "        for i, (x, labels) in pbar:\n",
    "            optimizer.zero_grad()\n",
    "            outputs = model(x)\n",
    "            loss = criterion(outputs, labels)\n",
    "            loss.backward()\n",
    "            optimizer.step()\n",
    "            train_loss += loss.item()\n",
    "            tl.extend(labels.detach().numpy())\n",
    "            pl.extend(outputs.detach().numpy())\n",
    "\n",
    "    model.eval()\n",
    "\n",
    "    val_loss, predicted_labels, true_labels, val_f1_score_macro = eval_epoch(model, criterion, val_loader)\n",
    "\n",
    "    train_loss /= len(train_loader)\n",
    "    train_loss_arr.append(train_loss)\n",
    "    val_loss_arr.append(val_loss)\n",
    "    y = np.argmax(tl, axis=1)\n",
    "    y_p = np.argmax(pl, axis=1)\n",
    "    f1_score_macro = f1_score(y, y_p, average='macro')\n",
    "    f1_macro_scores.append(f1_score_macro)\n",
    "    val_f1_macro_scores.append(val_f1_score_macro)\n",
    "\n",
    "    end_time = time()\n",
    "\n",
    "    print(f'Epoch {epoch + 1} finished in {end_time - start_time:.2f}s')\n",
    "\n",
    "    print(f\"[Epoch {epoch + 1}]\\t\"\n",
    "          f\"Train Loss: {train_loss:.4f}\\t\"\n",
    "          f\"Validation Loss: {val_loss:.4f}\\t F1 score macro: {f1_score_macro} \\t Val F1 score macro: {val_f1_score_macro}\")"
   ]
  },
  {
   "cell_type": "markdown",
   "metadata": {},
   "source": [
    "<div dir=\"rtl\">\n",
    "<font face=\"XB Zar\" size=5>\n",
    "</font>\n",
    "<font face=\"XB Zar\" size=3>\n",
    "     <br>\n",
    "نمودار loss بر حسب epoch را برای داده‌های train و validation رسم کنید.\n",
    "    </font>\n",
    "</div>"
   ]
  },
  {
   "cell_type": "code",
   "execution_count": 255,
   "metadata": {
    "ExecuteTime": {
     "end_time": "2023-05-27T21:48:13.654230156Z",
     "start_time": "2023-05-27T21:48:13.577736018Z"
    }
   },
   "outputs": [],
   "source": [
    "def plot_model_history(model_name,\n",
    "                       train_history, val_history,\n",
    "                       num_epochs, metric):\n",
    "    x = np.arange(num_epochs)\n",
    "\n",
    "    fig = plt.figure(figsize=(10, 6))\n",
    "    plt.plot(x, train_history, label=f'train {metric}', lw=3, c=\"springgreen\")\n",
    "    plt.plot(x, val_history, label=f'validation {metric}', lw=3, c=\"deeppink\")\n",
    "\n",
    "    plt.title(f\"{model_name}\", fontsize=15)\n",
    "    plt.legend(fontsize=12)\n",
    "    plt.xlabel(\"Epoch\", fontsize=15)\n",
    "    plt.ylabel(metric, fontsize=15)\n",
    "    plt.show()"
   ]
  },
  {
   "cell_type": "code",
   "execution_count": 256,
   "metadata": {
    "ExecuteTime": {
     "end_time": "2023-05-27T21:48:14.370138457Z",
     "start_time": "2023-05-27T21:48:14.181734552Z"
    },
    "collapsed": false
   },
   "outputs": [
    {
     "data": {
      "image/png": "[encoded data removed]",
      "text/plain": [
       "<Figure size 1000x600 with 1 Axes>"
      ]
     },
     "metadata": {},
     "output_type": "display_data"
    }
   ],
   "source": [
    "plot_model_history(\"NN\", train_loss_arr, val_loss_arr, 50, metric='loss')"
   ]
  },
  {
   "cell_type": "markdown",
   "metadata": {},
   "source": [
    "<div dir=\"rtl\">\n",
    "<font face=\"XB Zar\" size=5>\n",
    "</font>\n",
    "<font face=\"XB Zar\" size=3>\n",
    "     <br>\n",
    "نمودار f1 score بر حسب epoch را برای داده‌های train و validation رسم کنید.\n",
    "    </font>\n",
    "</div>"
   ]
  },
  {
   "cell_type": "code",
   "execution_count": 257,
   "metadata": {
    "ExecuteTime": {
     "end_time": "2023-05-27T21:48:24.298115339Z",
     "start_time": "2023-05-27T21:48:24.120864943Z"
    }
   },
   "outputs": [
    {
     "data": {
      "image/png": "[encoded data removed]",
      "text/plain": [
       "<Figure size 1000x600 with 1 Axes>"
      ]
     },
     "metadata": {},
     "output_type": "display_data"
    }
   ],
   "source": [
    "plot_model_history(\"NN\", f1_macro_scores, val_f1_macro_scores, 50, metric='F1 score')"
   ]
  },
  {
   "attachments": {},
   "cell_type": "markdown",
   "metadata": {},
   "source": [
    "## Evaluate model"
   ]
  },
  {
   "cell_type": "markdown",
   "metadata": {},
   "source": [
    "<div dir=\"rtl\">\n",
    "<font face=\"XB Zar\" size=5>\n",
    "</font>\n",
    "<font face=\"XB Zar\" size=3>\n",
    "     <br>\n",
    "حال داده‌ی test را به مدلتان دهید و بر اساس خروجی‌ها موارد زیر را به دست آورید.\n",
    "    <br>\n",
    "    <br>\n",
    "    <ul>\n",
    "        <li>accuracy</li>\n",
    "        <li>Loss</li>\n",
    "        <li>F1-Macro</li>\n",
    "        <li>F1-Micro</li>\n",
    "        <li>Confusion matrix</li>\n",
    "        <li>Macro-average precision</li>\n",
    "        <li>Macro-average recall</li>\n",
    "        <li>Micro-average precision</li>\n",
    "        <li>Micro-average recall</li>\n",
    "    </ul>\n",
    "    </font>\n",
    "</div>"
   ]
  },
  {
   "cell_type": "code",
   "execution_count": 260,
   "metadata": {
    "ExecuteTime": {
     "end_time": "2023-05-27T21:56:54.492135875Z",
     "start_time": "2023-05-27T21:56:54.254859820Z"
    }
   },
   "outputs": [
    {
     "name": "stdout",
     "output_type": "stream",
     "text": [
      "Test\n",
      "Test Results:\n",
      "Loss: 0.3932\n",
      "Accuracy: 0.8515\n",
      "F1 Score (Macro): 0.5938\n",
      "F1 Score (Micro): 0.8515\n",
      "Average Precision (Macro): 0.6561\n",
      "Average Precision (Micro): 0.8515\n",
      "Average Recall (Macro): 0.5959\n",
      "Average Recall (Micro): 0.8515\n"
     ]
    },
    {
     "data": {
      "image/png": "[encoded data removed]",
      "text/plain": [
       "<Figure size 300x300 with 1 Axes>"
      ]
     },
     "metadata": {},
     "output_type": "display_data"
    }
   ],
   "source": [
    "# print the required metrics\n",
    "model.eval()\n",
    "eval_loss, predicted_labels, true_labels, f1_score_macro = eval_epoch(model, criterion, test_loader, test_mode=True)\n",
    "true_labels = np.argmax(true_labels, axis=1)\n",
    "predicted_labels = np.argmax(predicted_labels, axis=1)\n",
    "accuracy = accuracy_score(true_labels, predicted_labels)\n",
    "f1_score_micro = f1_score(true_labels, predicted_labels, average='micro')\n",
    "confusion_m = confusion_matrix(true_labels, predicted_labels)\n",
    "precision_micro = precision_score(true_labels, predicted_labels, average='micro')\n",
    "precision_macro = precision_score(true_labels, predicted_labels, average='macro')\n",
    "recall_macro = recall_score(true_labels, predicted_labels, average='macro')\n",
    "recall_micro = recall_score(true_labels, predicted_labels, average='micro')\n",
    "\n",
    "print(\"Test Results:\")\n",
    "print(f\"Loss: {eval_loss:.4f}\")\n",
    "print(f\"Accuracy: {accuracy:.4f}\")\n",
    "print(f\"F1 Score (Macro): {f1_score_macro:.4f}\")\n",
    "print(f\"F1 Score (Micro): {f1_score_micro:.4f}\")\n",
    "print(f\"Average Precision (Macro): {precision_macro:.4f}\")\n",
    "print(f\"Average Precision (Micro): {precision_micro:.4f}\")\n",
    "print(f\"Average Recall (Macro): {recall_macro:.4f}\")\n",
    "print(f\"Average Recall (Micro): {recall_micro:.4f}\")\n",
    "plot_confusion_matrix(confusion_m, classes)"
   ]
  },
  {
   "cell_type": "markdown",
   "metadata": {},
   "source": [
    "<div dir=\"rtl\">\n",
    "<font face=\"XB Zar\" size=3>\n",
    "     <br>\n",
    "در نهایت در این قسمت تابعی بنویسید که یک متن را به عنوان ورودی بگیرد و بر اساس مدلتان برچسب‌ مناسب را به آن بدهد.\n",
    "    <br>\n",
    "    <br>\n",
    "    </font>\n",
    "</div>\n",
    "    "
   ]
  },
  {
   "cell_type": "code",
   "execution_count": 52,
   "metadata": {
    "ExecuteTime": {
     "end_time": "2023-05-28T06:10:22.313891267Z",
     "start_time": "2023-05-28T06:10:22.268272200Z"
    }
   },
   "outputs": [],
   "source": [
    "classes = ['cs.CV', 'cs.LG', 'stat.ML']\n",
    "\n",
    "\n",
    "def predict(x, calsses):\n",
    "    \"\"\"\n",
    "    predict the class code of a given query\n",
    "    :param x: the query\n",
    "    :return: the class of the query in the form of real strings.\n",
    "    \"\"\"\n",
    "    embedding = FastText_model.get_query_embedding(x, TF_IDF_model.vectorizer)\n",
    "    embedding = torch.Tensor(embedding).unsqueeze(0)\n",
    "    predicted_class = model(embedding)\n",
    "    class_num = torch.argmax(predicted_class)\n",
    "    return classes[class_num]"
   ]
  },
  {
   "cell_type": "code",
   "execution_count": 53,
   "metadata": {
    "ExecuteTime": {
     "end_time": "2023-05-28T06:10:22.823848215Z",
     "start_time": "2023-05-28T06:10:22.770653769Z"
    }
   },
   "outputs": [
    {
     "name": "stdout",
     "output_type": "stream",
     "text": [
      "computerc\n"
     ]
    },
    {
     "name": "stderr",
     "output_type": "stream",
     "text": [
      "/tmp/ipykernel_5489/2541764496.py:36: DeprecationWarning: The truth value of an empty array is ambiguous. Returning False, but in future this will result in an error. Use `array.size > 0` to check that an array is not empty.\n",
      "  if tf_idf_weight[np.where(tfidf_tokens == word)]:\n"
     ]
    },
    {
     "data": {
      "text/plain": [
       "'cs.CV'"
      ]
     },
     "execution_count": 53,
     "metadata": {},
     "output_type": "execute_result"
    }
   ],
   "source": [
    "predict('hardware and computerc architecture is good', calsses=classes)"
   ]
  },
  {
   "cell_type": "code",
   "execution_count": 54,
   "metadata": {
    "ExecuteTime": {
     "end_time": "2023-05-28T06:10:40.049927767Z",
     "start_time": "2023-05-28T06:10:40.000058249Z"
    }
   },
   "outputs": [],
   "source": [
    "PATH = \"nn_fasttext_model.pt\"\n",
    "\n",
    "# Save\n",
    "torch.save(model, PATH)"
   ]
  },
  {
   "attachments": {},
   "cell_type": "markdown",
   "metadata": {},
   "source": [
    "<div dir=\"rtl\">\n",
    "<font face=\"XB Zar\" size=5>\n",
    "    <h1>\n",
    "    <b>دسته بندی با استفاده از مدل های زبانی (۴۰ نمره)</b>\n",
    "    </h1>\n",
    "    <p></p>\n",
    "    <p></p>\n",
    "</font>\n",
    "<font face=\"XB Zar\" size=3>\n",
    "     <br>\n",
    "در این قسمت قرار است تا به کمک language modelهای از پیش آموزش شده \n",
    "و fine-tune کردن آن‌ها طبقه‌بند خودمان را درست کنیم.\n",
    "</font>\n",
    "</div>\n",
    "   "
   ]
  },
  {
   "cell_type": "markdown",
   "metadata": {},
   "source": [
    "## Requirements"
   ]
  },
  {
   "cell_type": "code",
   "execution_count": 20,
   "metadata": {
    "ExecuteTime": {
     "end_time": "2023-05-31T12:12:25.750874380Z",
     "start_time": "2023-05-31T12:12:25.689384109Z"
    }
   },
   "outputs": [],
   "source": [
    "import torch\n",
    "import nltk\n",
    "import numpy as np\n",
    "import pandas as pd\n",
    "from tqdm import tqdm\n",
    "from nltk import word_tokenize\n",
    "import string\n",
    "from sklearn.model_selection import train_test_split\n",
    "import torch\n",
    "from transformers import BertTokenizer, BertForSequenceClassification, TrainingArguments, Trainer\n",
    "from sklearn.metrics import precision_recall_fscore_support\n",
    "from sklearn.metrics import recall_score\n",
    "from sklearn.metrics import f1_score\n",
    "from sklearn.metrics import accuracy_score\n",
    "from sklearn.metrics import confusion_matrix, ConfusionMatrixDisplay\n",
    "from ast import literal_eval\n",
    "import random"
   ]
  },
  {
   "cell_type": "markdown",
   "metadata": {},
   "source": [
    "## Read and preprocess data"
   ]
  },
  {
   "cell_type": "markdown",
   "metadata": {},
   "source": [
    "\n",
    "<div dir=\"rtl\">\n",
    "<font face=\"XB Zar\" size=5>\n",
    "</font>\n",
    "<font face=\"XB Zar\" size=3>\n",
    "     <br>\n",
    "در ابتدا دیتا را لود کنید. آن را تمیز کنید یا به عبارتی EDA مناسب در حدی که داده‌های null یا موارد این‌چنینی نداشته باشیم، بر روی آن انجام دهید.\n",
    " پیش پردازش‌های مورد نیاز که در فاز قبل با آن آشنا شدید را روی داده انجام دهید.\n",
    "    برای کتگوری هر مقاله برچسب اول آن را از دیتاست در نظر بگیرید.\n",
    "</font>\n",
    "</div>"
   ]
  },
  {
   "cell_type": "code",
   "execution_count": 21,
   "metadata": {
    "ExecuteTime": {
     "end_time": "2023-05-31T12:12:26.706264529Z",
     "start_time": "2023-05-31T12:12:26.688245044Z"
    },
    "collapsed": false
   },
   "outputs": [],
   "source": [
    "# read data\n",
    "tr_df = pd.read_csv('./archive/arxiv_data.csv', nrows=100)\n",
    "tr_df = tr_df.drop_duplicates(subset=['titles'])"
   ]
  },
  {
   "cell_type": "code",
   "execution_count": 22,
   "metadata": {
    "ExecuteTime": {
     "end_time": "2023-05-31T12:12:27.067490084Z",
     "start_time": "2023-05-31T12:12:27.045700634Z"
    }
   },
   "outputs": [],
   "source": [
    "# perform data cleaning and eda (you can add cells here)\n",
    "# todo"
   ]
  },
  {
   "cell_type": "code",
   "execution_count": 23,
   "metadata": {
    "ExecuteTime": {
     "end_time": "2023-05-31T12:12:27.416250204Z",
     "start_time": "2023-05-31T12:12:27.401479443Z"
    }
   },
   "outputs": [],
   "source": [
    "def preprocess_text(text, minimum_length=1, lower_case=True,\n",
    "                    punctuation_removal=True, number_removal=True):\n",
    "    \"\"\"\n",
    "    preprocess text by removing stopwords, punctuations, and converting to lowercase, and also filter based on a min length\n",
    "    for stopwords use nltk.corpus.stopwords.words('english')\n",
    "    for punctuations use string.punctuation\n",
    "\n",
    "    Parameters\n",
    "    ----------\n",
    "    text: str\n",
    "        text to be preprocessed\n",
    "    minimum_length: int\n",
    "        minimum length of the token\n",
    "    stopword_removal: bool\n",
    "        whether to remove stopwords\n",
    "    stopwords_domain: list\n",
    "        list of stopwords to be removed base on domain\n",
    "    lower_case: bool\n",
    "        whether to convert to lowercase\n",
    "    punctuation_removal: bool\n",
    "        whether to remove punctuations\n",
    "    \"\"\"\n",
    "    text = re.sub(r'/', ' ', text)\n",
    "    if number_removal:\n",
    "        text = re.sub(r'\\d+', '', text)\n",
    "    normalized_tokens = word_tokenize(text)\n",
    "    if punctuation_removal:\n",
    "        normalized_tokens = [word for word in normalized_tokens if word not in string.punctuation]\n",
    "    if lower_case:\n",
    "        normalized_tokens = [word.lower() for word in normalized_tokens if len(word) > minimum_length]\n",
    "    else:\n",
    "        normalized_tokens = [word for word in normalized_tokens if len(word) > minimum_length]\n",
    "\n",
    "    return normalized_tokens"
   ]
  },
  {
   "cell_type": "code",
   "execution_count": 24,
   "metadata": {
    "ExecuteTime": {
     "end_time": "2023-05-31T12:12:27.844527756Z",
     "start_time": "2023-05-31T12:12:27.732795920Z"
    }
   },
   "outputs": [
    {
     "data": {
      "text/html": [
       "<div>\n",
       "<style scoped>\n",
       "    .dataframe tbody tr th:only-of-type {\n",
       "        vertical-align: middle;\n",
       "    }\n",
       "\n",
       "    .dataframe tbody tr th {\n",
       "        vertical-align: top;\n",
       "    }\n",
       "\n",
       "    .dataframe thead th {\n",
       "        text-align: right;\n",
       "    }\n",
       "</style>\n",
       "<table border=\"1\" class=\"dataframe\">\n",
       "  <thead>\n",
       "    <tr style=\"text-align: right;\">\n",
       "      <th></th>\n",
       "      <th>titles</th>\n",
       "      <th>summaries</th>\n",
       "      <th>terms</th>\n",
       "      <th>preprocessed_abstract</th>\n",
       "      <th>preprocessed_title</th>\n",
       "    </tr>\n",
       "  </thead>\n",
       "  <tbody>\n",
       "    <tr>\n",
       "      <th>0</th>\n",
       "      <td>Survey on Semantic Stereo Matching / Semantic ...</td>\n",
       "      <td>Stereo matching is one of the widely used tech...</td>\n",
       "      <td>['cs.CV', 'cs.LG']</td>\n",
       "      <td>[stereo, matching, is, one, of, the, widely, u...</td>\n",
       "      <td>[survey, on, semantic, stereo, matching, seman...</td>\n",
       "    </tr>\n",
       "    <tr>\n",
       "      <th>1</th>\n",
       "      <td>FUTURE-AI: Guiding Principles and Consensus Re...</td>\n",
       "      <td>The recent advancements in artificial intellig...</td>\n",
       "      <td>['cs.CV', 'cs.AI', 'cs.LG']</td>\n",
       "      <td>[the, recent, advancements, in, artificial, in...</td>\n",
       "      <td>[future-ai, guiding, principles, and, consensu...</td>\n",
       "    </tr>\n",
       "    <tr>\n",
       "      <th>2</th>\n",
       "      <td>Enforcing Mutual Consistency of Hard Regions f...</td>\n",
       "      <td>In this paper, we proposed a novel mutual cons...</td>\n",
       "      <td>['cs.CV', 'cs.AI']</td>\n",
       "      <td>[in, this, paper, we, proposed, novel, mutual,...</td>\n",
       "      <td>[enforcing, mutual, consistency, of, hard, reg...</td>\n",
       "    </tr>\n",
       "    <tr>\n",
       "      <th>3</th>\n",
       "      <td>Parameter Decoupling Strategy for Semi-supervi...</td>\n",
       "      <td>Consistency training has proven to be an advan...</td>\n",
       "      <td>['cs.CV']</td>\n",
       "      <td>[consistency, training, has, proven, to, be, a...</td>\n",
       "      <td>[parameter, decoupling, strategy, for, semi-su...</td>\n",
       "    </tr>\n",
       "    <tr>\n",
       "      <th>4</th>\n",
       "      <td>Background-Foreground Segmentation for Interio...</td>\n",
       "      <td>To ensure safety in automated driving, the cor...</td>\n",
       "      <td>['cs.CV', 'cs.LG']</td>\n",
       "      <td>[to, ensure, safety, in, automated, driving, t...</td>\n",
       "      <td>[background-foreground, segmentation, for, int...</td>\n",
       "    </tr>\n",
       "  </tbody>\n",
       "</table>\n",
       "</div>"
      ],
      "text/plain": [
       "                                              titles  \\\n",
       "0  Survey on Semantic Stereo Matching / Semantic ...   \n",
       "1  FUTURE-AI: Guiding Principles and Consensus Re...   \n",
       "2  Enforcing Mutual Consistency of Hard Regions f...   \n",
       "3  Parameter Decoupling Strategy for Semi-supervi...   \n",
       "4  Background-Foreground Segmentation for Interio...   \n",
       "\n",
       "                                           summaries  \\\n",
       "0  Stereo matching is one of the widely used tech...   \n",
       "1  The recent advancements in artificial intellig...   \n",
       "2  In this paper, we proposed a novel mutual cons...   \n",
       "3  Consistency training has proven to be an advan...   \n",
       "4  To ensure safety in automated driving, the cor...   \n",
       "\n",
       "                         terms  \\\n",
       "0           ['cs.CV', 'cs.LG']   \n",
       "1  ['cs.CV', 'cs.AI', 'cs.LG']   \n",
       "2           ['cs.CV', 'cs.AI']   \n",
       "3                    ['cs.CV']   \n",
       "4           ['cs.CV', 'cs.LG']   \n",
       "\n",
       "                               preprocessed_abstract  \\\n",
       "0  [stereo, matching, is, one, of, the, widely, u...   \n",
       "1  [the, recent, advancements, in, artificial, in...   \n",
       "2  [in, this, paper, we, proposed, novel, mutual,...   \n",
       "3  [consistency, training, has, proven, to, be, a...   \n",
       "4  [to, ensure, safety, in, automated, driving, t...   \n",
       "\n",
       "                                  preprocessed_title  \n",
       "0  [survey, on, semantic, stereo, matching, seman...  \n",
       "1  [future-ai, guiding, principles, and, consensu...  \n",
       "2  [enforcing, mutual, consistency, of, hard, reg...  \n",
       "3  [parameter, decoupling, strategy, for, semi-su...  \n",
       "4  [background-foreground, segmentation, for, int...  "
      ]
     },
     "execution_count": 24,
     "metadata": {},
     "output_type": "execute_result"
    }
   ],
   "source": [
    "# preprocess text\n",
    "tr_df['preprocessed_abstract'] = tr_df['summaries'].apply(lambda x: preprocess_text(x))\n",
    "tr_df['preprocessed_title'] = tr_df['titles'].apply(lambda x: preprocess_text(x))\n",
    "tr_df.head()"
   ]
  },
  {
   "cell_type": "code",
   "execution_count": 25,
   "metadata": {
    "ExecuteTime": {
     "end_time": "2023-05-31T12:12:28.085290346Z",
     "start_time": "2023-05-31T12:12:28.025585446Z"
    },
    "collapsed": false
   },
   "outputs": [],
   "source": [
    "tr_df['terms'] = tr_df['terms'].apply(lambda x: literal_eval(x)[0])\n",
    "tr_df['term_num'] = tr_df['terms'].map({'cs.CV': 0, 'cs.LG': 1, 'stat.ML': 2})"
   ]
  },
  {
   "cell_type": "markdown",
   "metadata": {},
   "source": [
    "## Prepare data for model"
   ]
  },
  {
   "cell_type": "markdown",
   "metadata": {},
   "source": [
    "\n",
    "<div dir=\"rtl\">\n",
    "<font face=\"XB Zar\" size=5>\n",
    "</font>\n",
    "<font face=\"XB Zar\" size=3>\n",
    "     <br>\n",
    "     در این قسمت برچسب‌ها و متن‌ها را برای مدل آماده کنید.\n",
    "     برای متن هم عنوان و هم چکیده را در نظر بگیرید و این دو را به هم بچسبانید.\n",
    "     به صورت رندم، ۱۰۰۰۰ داده را برای تمرین انتخاب کنید.\n",
    "     همچنین جدا‌سازی داده‌ها را انجام دهید.\n",
    "     در این بخش کافی است تا داده‌ها را به دو دسته‌ی آموزش و تست تقسیم کنید. 80% داده‌ها برای آموزش و 20% را برای تست قرار دهید.\n",
    "    </font>\n",
    "</div>"
   ]
  },
  {
   "cell_type": "code",
   "execution_count": 26,
   "metadata": {
    "ExecuteTime": {
     "end_time": "2023-05-31T12:12:29.234896394Z",
     "start_time": "2023-05-31T12:12:29.211098131Z"
    }
   },
   "outputs": [],
   "source": [
    "# todo\n",
    "# calculate labels\n",
    "# calulcate final texts\n",
    "# select 10000 data randomly\n",
    "# split data into train and test\n",
    "\n",
    "corpus = [' '.join(t) for t in tr_df['preprocessed_title'] + tr_df['preprocessed_abstract']]\n",
    "classes = ['cs.CV', 'cs.LG', 'stat.ML']\n",
    "Y = label_binarize(tr_df.terms, classes=classes)\n",
    "X_train, X_test, y_train, y_test = train_test_split(corpus, tr_df.term_num.tolist(), test_size=0.2, random_state=1)"
   ]
  },
  {
   "cell_type": "markdown",
   "metadata": {},
   "source": [
    "## Transformer based classification"
   ]
  },
  {
   "attachments": {},
   "cell_type": "markdown",
   "metadata": {},
   "source": [
    "\n",
    "<div dir=\"rtl\">\n",
    "<font face=\"XB Zar\" size=5>\n",
    "</font>\n",
    "<font face=\"XB Zar\" size=3>\n",
    "     <br>\n",
    "مدلی که در این قسمت استفاده می‌کنیم مدل معروف bert می‌باشد.\n",
    "    برای این کار از کتابخانه transformers استفاده می‌کنیم.\n",
    "    مدل و tokenizer مربوطه را لود کنید.\n",
    "    <br><b><u>\n",
    "    به کمک داده‌های قسمت قبل و به کمک \n",
    "    Trainer\n",
    "    مربوط به کتاب‌خانه‌ی transformers عملیات fine-tune را انجام دهید.\n",
    "    <br>\n",
    "    همچنین یکبار وزن‌های مدل برت را فریز کنید و فقط دسته‌بند مربوطه را آموزش دهید.\n",
    "    </u></b><br>\n",
    "    مطالعه‌ی بیشتر کتاب‌خانه‌ی transformers بسیار توصیه می‌شود.\n",
    "    </font>\n",
    "</div>"
   ]
  },
  {
   "cell_type": "code",
   "execution_count": 27,
   "metadata": {
    "ExecuteTime": {
     "end_time": "2023-05-31T12:12:33.027299670Z",
     "start_time": "2023-05-31T12:12:30.587660090Z"
    }
   },
   "outputs": [
    {
     "name": "stderr",
     "output_type": "stream",
     "text": [
      "Some weights of the model checkpoint at bert-base-uncased were not used when initializing BertForSequenceClassification: ['cls.predictions.transform.dense.weight', 'cls.predictions.bias', 'cls.predictions.transform.dense.bias', 'cls.predictions.decoder.weight', 'cls.seq_relationship.bias', 'cls.predictions.transform.LayerNorm.bias', 'cls.seq_relationship.weight', 'cls.predictions.transform.LayerNorm.weight']\n",
      "- This IS expected if you are initializing BertForSequenceClassification from the checkpoint of a model trained on another task or with another architecture (e.g. initializing a BertForSequenceClassification model from a BertForPreTraining model).\n",
      "- This IS NOT expected if you are initializing BertForSequenceClassification from the checkpoint of a model that you expect to be exactly identical (initializing a BertForSequenceClassification model from a BertForSequenceClassification model).\n",
      "Some weights of BertForSequenceClassification were not initialized from the model checkpoint at bert-base-uncased and are newly initialized: ['classifier.weight', 'classifier.bias']\n",
      "You should probably TRAIN this model on a down-stream task to be able to use it for predictions and inference.\n"
     ]
    }
   ],
   "source": [
    "MODEL_NAME = \"bert-base-uncased\"\n",
    "device = torch.device('cuda' if torch.cuda.is_available() else 'cpu')\n",
    "\n",
    "model = BertForSequenceClassification.from_pretrained(MODEL_NAME, num_labels=3)\n",
    "tokenizer = BertTokenizer.from_pretrained(MODEL_NAME)"
   ]
  },
  {
   "cell_type": "code",
   "execution_count": 28,
   "metadata": {
    "ExecuteTime": {
     "end_time": "2023-05-31T12:12:33.408664793Z",
     "start_time": "2023-05-31T12:12:33.027626330Z"
    }
   },
   "outputs": [],
   "source": [
    "# todo\n",
    "class CustomDataset(torch.utils.data.Dataset):\n",
    "    def __init__(self, texts, labels):\n",
    "        self.texts = texts\n",
    "        self.labels = labels\n",
    "        self.attention_masks = []\n",
    "        self.input_ids = []\n",
    "        for text in self.texts:\n",
    "            encoding = tokenizer.encode_plus(text,\n",
    "                                             add_special_tokens=True,\n",
    "                                             max_length=256,\n",
    "                                             return_attention_mask=True,\n",
    "                                             truncation=True,\n",
    "                                             return_tensors='pt',\n",
    "                                             padding='max_length')\n",
    "            self.input_ids.append(encoding['input_ids'].squeeze())\n",
    "            self.attention_masks.append(encoding['attention_mask'].squeeze())\n",
    "\n",
    "    def __getitem__(self, idx):\n",
    "        return self.input_ids[idx], self.attention_masks[idx], self.labels[idx]\n",
    "\n",
    "    def __len__(self):\n",
    "        return len(self.labels)\n",
    "\n",
    "\n",
    "train_dataset = CustomDataset(X_train, y_train)\n",
    "test_dataset = CustomDataset(X_test, y_test)"
   ]
  },
  {
   "cell_type": "code",
   "execution_count": 29,
   "metadata": {
    "ExecuteTime": {
     "end_time": "2023-05-31T12:12:33.411955537Z",
     "start_time": "2023-05-31T12:12:33.408933106Z"
    },
    "collapsed": false
   },
   "outputs": [],
   "source": [
    "train_loader = DataLoader(train_dataset, batch_size=16, shuffle=True)\n",
    "test_loader = DataLoader(test_dataset, batch_size=16, shuffle=False)"
   ]
  },
  {
   "cell_type": "code",
   "execution_count": 30,
   "metadata": {
    "ExecuteTime": {
     "end_time": "2023-05-31T12:12:33.466190048Z",
     "start_time": "2023-05-31T12:12:33.418011203Z"
    }
   },
   "outputs": [],
   "source": [
    "import copy\n",
    "\n",
    "\n",
    "def train_model(the_model, train_dataloader, val_dataloader, model_optimizer, num_epochs=5):\n",
    "    training_loss, train_accuracy, validation_loss, validation_accuracy = [], [], [], []\n",
    "    best_result = (0.0, 0.0)\n",
    "    best_net = None\n",
    "    the_model.train()\n",
    "    for epoch in range(num_epochs):\n",
    "        running_loss = 0.0\n",
    "        correct = 0\n",
    "        pbar = tqdm(train_dataloader, desc=f'[epoch {epoch + 1}]')\n",
    "        for input_ids, attention_masks, labels in pbar:\n",
    "            input_ids, attention_masks, labels = input_ids.to(device), attention_masks.to(device), labels.to(device)\n",
    "            model_optimizer.zero_grad()\n",
    "            outputs = the_model(input_ids=input_ids, attention_mask=attention_masks, labels=labels)\n",
    "            loss = outputs.loss\n",
    "            loss.backward()\n",
    "            model_optimizer.step()\n",
    "            p = outputs.logits.argmax(dim=1)\n",
    "            correct += (p == labels).sum().item()\n",
    "            running_loss += loss.item()\n",
    "            pbar.set_postfix({'Loss': loss.item()})\n",
    "        avg_loss = running_loss / len(train_dataloader)\n",
    "        avg_accuracy = correct / len(train_dataloader)\n",
    "        train_loss.append(avg_loss)\n",
    "        train_accuracy.append(avg_accuracy)\n",
    "\n",
    "        the_model.eval()\n",
    "\n",
    "        with torch.no_grad():\n",
    "            loss_val = 0.0\n",
    "            correct_val = 0\n",
    "            for input_ids, attention_masks, labels in val_dataloader:\n",
    "                input_ids, attention_masks, labels = input_ids.to(device), attention_masks.to(device), labels.to(device)\n",
    "                outputs = the_model(input_ids=input_ids, attention_mask=attention_masks, labels=labels)\n",
    "                loss = outputs.loss\n",
    "                _, p = torch.max(outputs, 1)\n",
    "                correct_val += (p == labels).sum().item()\n",
    "                loss_val += loss.item()\n",
    "            avg_loss_val = loss_val / len(val_dataloader)\n",
    "            avg_accuracy_val = correct_val / len(val_dataloader)\n",
    "            validation_loss.append(avg_loss_val)\n",
    "            validation_accuracy.append(avg_accuracy_val)\n",
    "        if (avg_accuracy_val, avg_loss_val) > best_result:\n",
    "            best_result = (avg_accuracy_val, avg_loss_val)\n",
    "            best_net = copy.deepcopy(the_model)\n",
    "        the_model.train()\n",
    "        #     scheduler.step(avg_loss_val)\n",
    "        print('Train Loss: %.4f Train Accuracy: %.4f Validation Loss: %.4f Validation Accuracy: %.4f' % (\n",
    "            avg_loss, avg_accuracy, avg_loss_val, avg_accuracy_val))"
   ]
  },
  {
   "cell_type": "code",
   "execution_count": null,
   "metadata": {
    "ExecuteTime": {
     "start_time": "2023-05-31T12:12:34.423559117Z"
    }
   },
   "outputs": [
    {
     "name": "stderr",
     "output_type": "stream",
     "text": [
      "/home/solale/PycharmProjects/MIR_P2/venv/lib/python3.8/site-packages/transformers/optimization.py:306: FutureWarning: This implementation of AdamW is deprecated and will be removed in a future version. Use the PyTorch implementation torch.optim.AdamW instead, or set `no_deprecation_warning=True` to disable this warning\n",
      "  warnings.warn(\n",
      "[epoch %d 1]:   0%|          | 0/5 [00:00<?, ?it/s]"
     ]
    }
   ],
   "source": [
    "from transformers import AdamW\n",
    "\n",
    "m1_optimizer = AdamW(model.parameters(), lr=1e-2)\n",
    "train_model(model, train_dataloader=train_loader, val_dataloader=test_loader, model_optimizer=m1_optimizer)"
   ]
  },
  {
   "cell_type": "markdown",
   "metadata": {},
   "source": [
    "## Evaluate model"
   ]
  },
  {
   "cell_type": "markdown",
   "metadata": {},
   "source": [
    "<div dir=\"rtl\">\n",
    "<font face=\"XB Zar\" size=3>\n",
    "     <br>\n",
    "حال داده‌ی test را به هر دو مدل بدهید و بر اساس خروجی‌ها موارد زیر را به دست آورید.\n",
    "    <br>\n",
    "    <br>\n",
    "    <ul>\n",
    "        <li>accuracy</li>\n",
    "        <li>F1-Macro</li>\n",
    "        <li>F1-Micro</li>\n",
    "        <li>Confusion matrix</li>\n",
    "        <li>Macro-average precision</li>\n",
    "        <li>Macro-average recall</li>\n",
    "        <li>Micro-average precision</li>\n",
    "        <li>Micro-average recall</li>\n",
    "    </ul>\n",
    "    </font>\n",
    "</div>"
   ]
  },
  {
   "cell_type": "code",
   "execution_count": null,
   "metadata": {},
   "outputs": [],
   "source": [
    "# you can add more cells here if you need\n",
    "# todo\n",
    "y_pred_transformers = []\n",
    "y_pred_transformers_2 = []"
   ]
  },
  {
   "cell_type": "markdown",
   "metadata": {},
   "source": [
    "<div dir=\"rtl\">\n",
    "<font face=\"XB Zar\" size=3>\n",
    "     <br>\n",
    "     نتایج به دست آمده برای دو مدل آموزش داده شده را مقایسه کنید و سپس نتایج مدل بهتر را با خروجی‌های fasttext که در قسمت قبل استخراج کردید نیز مقایسه کنید و تحلیل‌های خود را بنویسید.\n",
    "    <br>\n",
    "    <br>\n",
    "    </font>\n",
    "</div>"
   ]
  },
  {
   "cell_type": "markdown",
   "metadata": {},
   "source": [
    "<div dir=\"rtl\">\n",
    "<font face=\"XB Zar\" size=3>\n",
    "پاسخ خود را در این قسمت بنویسید\n",
    "</font>\n",
    "</div>"
   ]
  },
  {
   "cell_type": "markdown",
   "metadata": {},
   "source": [
    "<div dir=\"rtl\">\n",
    "<font face=\"XB Zar\" size=3>\n",
    "     <br>\n",
    "در نهایت در این قسمت تابعی بنویسید که یک متن را به عنوان ورودی بگیرد و بر اساس مدلتان برچسب‌ مناسب را به آن بدهد.\n",
    "    <br>\n",
    "    <br>\n",
    "    </font>\n",
    "</div>\n",
    "    "
   ]
  },
  {
   "cell_type": "code",
   "execution_count": null,
   "metadata": {},
   "outputs": [],
   "source": [
    "def predict(x, model):\n",
    "    \"\"\"\n",
    "    predict the class code of a given query\n",
    "    :param x: the query\n",
    "    :return: the class of the query in the form of real strings.\n",
    "    \"\"\"\n",
    "    # todo\n",
    "    predicted_class = None\n",
    "    return predicted_class"
   ]
  },
  {
   "cell_type": "code",
   "execution_count": null,
   "metadata": {},
   "outputs": [],
   "source": [
    "predict('hardware is very good.', model)"
   ]
  },
  {
   "cell_type": "code",
   "execution_count": null,
   "metadata": {},
   "outputs": [],
   "source": [
    "# It is highly recommended to save your final models\n",
    "# todo"
   ]
  },
  {
   "attachments": {},
   "cell_type": "markdown",
   "metadata": {},
   "source": [
    "<div dir=\"rtl\">\n",
    "<font face=\"XB Zar\" size=5>\n",
    "    <h2>\n",
    "    <b>جستجو و بازیابی اسناد در دسته‌های مختلف</b>\n",
    "    </h2>\n",
    "</font>\n",
    "<font face=\"XB Zar\" size=4>\n",
    "در این بخش می‌خواهیم به تابع search مربوط به فاز قبل قابلیتی اضافه کنیم که بر اساس آن بتوان جستجو و بازیابی پرسمان را به یک دسته خاص محدود کرد و یا مشخص کرد که جستجو بر روی تمام اسناد انجام شود. همانند فاز قبل:\n",
    "<br>\n",
    " پرسمانی که از کاربر می‌گیرید را در مجموعه اسناد نمایه شده جست و جو کنید. توجه داشته باشید که جست و جویی که انجام می‌دهید هم باید در عنوان مقاله و هم در چکیده آن انجام شود. در نهایت، اسناد باید به ترتیب امتیاز نهایی‌شان برگردانده شوند. امتیاز نهایی هر سند نیز از جمع وزن‌دار امتیاز جستجو در عنوان و جستجو در چکیده مقاله به دست می‌آید.\n",
    "<br>\n",
    "ورودی‌های تابع search در این فاز، همانند فاز قبل است؛ تنها ورودی category به آن اضافه شده است. در صورتی که ورودی category برابر all باشد، جستجو در تمامی اسناد انجام می‌شود. در صورتی که category برابر نام یک دسته باشد، جستجو تنها در دسته گفته شده انجام می‌شود.\n",
    "<br>\n",
    "(برای این قسمت از کدهایی که در فاز قبل زده‌اید استفاده کنید و قابلیت گفته شده را به آن اضافه کنید.)\n",
    "</font>\n",
    "</div>"
   ]
  },
  {
   "cell_type": "code",
   "execution_count": 44,
   "metadata": {
    "ExecuteTime": {
     "end_time": "2023-06-03T11:26:44.999450626Z",
     "start_time": "2023-06-03T11:26:44.947109363Z"
    },
    "collapsed": false
   },
   "outputs": [
    {
     "name": "stdout",
     "output_type": "stream",
     "text": [
      "The autoreload extension is already loaded. To reload it, use:\n",
      "  %reload_ext autoreload\n"
     ]
    },
    {
     "name": "stderr",
     "output_type": "stream",
     "text": [
      "[nltk_data] Downloading package punkt to /home/solale/nltk_data...\n",
      "[nltk_data]   Package punkt is already up-to-date!\n",
      "[nltk_data] Downloading package wordnet to /home/solale/nltk_data...\n",
      "[nltk_data]   Package wordnet is already up-to-date!\n",
      "[nltk_data] Downloading package omw-1.4 to /home/solale/nltk_data...\n",
      "[nltk_data]   Package omw-1.4 is already up-to-date!\n",
      "[nltk_data] Downloading package averaged_perceptron_tagger to\n",
      "[nltk_data]     /home/solale/nltk_data...\n",
      "[nltk_data]   Package averaged_perceptron_tagger is already up-to-\n",
      "[nltk_data]       date!\n"
     ]
    }
   ],
   "source": [
    "%load_ext autoreload\n",
    "%autoreload 2"
   ]
  },
  {
   "cell_type": "code",
   "execution_count": 45,
   "metadata": {
    "ExecuteTime": {
     "end_time": "2023-06-03T11:26:45.564301517Z",
     "start_time": "2023-06-03T11:26:45.499447052Z"
    },
    "collapsed": false
   },
   "outputs": [],
   "source": [
    "from phase1 import *\n",
    "from ast import literal_eval"
   ]
  },
  {
   "cell_type": "code",
   "execution_count": 46,
   "metadata": {
    "ExecuteTime": {
     "end_time": "2023-06-03T11:26:48.214988395Z",
     "start_time": "2023-06-03T11:26:45.813829970Z"
    },
    "collapsed": false
   },
   "outputs": [
    {
     "data": {
      "text/plain": [
       "(82, 3)"
      ]
     },
     "execution_count": 46,
     "metadata": {},
     "output_type": "execute_result"
    }
   ],
   "source": [
    "\n",
    "df = pd.read_csv('archive/arxiv_data.csv', nrows=100)\n",
    "all_text = list(df[df['summaries'].notnull()]['summaries'])\n",
    "all_text = list(map(clean_data, all_text))\n",
    "stop_words = find_stop_words([' '.join(item) for item in all_text])\n",
    "stop_words_list = [x[0] for x in stop_words]\n",
    "df = df.fillna(-1)\n",
    "df = df[~df[\"titles\"].duplicated()]\n",
    "df = df.groupby(\"terms\").filter(lambda x: len(x) > 1)\n",
    "df['terms'] = df['terms'].apply(lambda x: literal_eval(x)[0])\n",
    "df.shape"
   ]
  },
  {
   "cell_type": "code",
   "execution_count": 47,
   "metadata": {
    "ExecuteTime": {
     "end_time": "2023-06-03T11:26:48.329377532Z",
     "start_time": "2023-06-03T11:26:48.211419333Z"
    },
    "collapsed": false
   },
   "outputs": [
    {
     "data": {
      "text/html": [
       "<div>\n",
       "<style scoped>\n",
       "    .dataframe tbody tr th:only-of-type {\n",
       "        vertical-align: middle;\n",
       "    }\n",
       "\n",
       "    .dataframe tbody tr th {\n",
       "        vertical-align: top;\n",
       "    }\n",
       "\n",
       "    .dataframe thead th {\n",
       "        text-align: right;\n",
       "    }\n",
       "</style>\n",
       "<table border=\"1\" class=\"dataframe\">\n",
       "  <thead>\n",
       "    <tr style=\"text-align: right;\">\n",
       "      <th></th>\n",
       "      <th>titles</th>\n",
       "      <th>summaries</th>\n",
       "    </tr>\n",
       "    <tr>\n",
       "      <th>terms</th>\n",
       "      <th></th>\n",
       "      <th></th>\n",
       "    </tr>\n",
       "  </thead>\n",
       "  <tbody>\n",
       "    <tr>\n",
       "      <th>cs.CV</th>\n",
       "      <td>82</td>\n",
       "      <td>82</td>\n",
       "    </tr>\n",
       "  </tbody>\n",
       "</table>\n",
       "</div>"
      ],
      "text/plain": [
       "       titles  summaries\n",
       "terms                   \n",
       "cs.CV      82         82"
      ]
     },
     "execution_count": 47,
     "metadata": {},
     "output_type": "execute_result"
    }
   ],
   "source": [
    "df.groupby(['terms']).count()"
   ]
  },
  {
   "cell_type": "code",
   "execution_count": 48,
   "metadata": {
    "ExecuteTime": {
     "end_time": "2023-06-03T11:26:50.773973228Z",
     "start_time": "2023-06-03T11:26:48.234758587Z"
    },
    "collapsed": false
   },
   "outputs": [],
   "source": [
    "doc_dict, paper_id_map = create_paper_id_map(df=df, stop_words_list=stop_words_list)\n",
    "positional_index = construct_positional_indexes(paper_id_map=paper_id_map, doc_dict=doc_dict)"
   ]
  },
  {
   "cell_type": "code",
   "execution_count": 49,
   "metadata": {
    "ExecuteTime": {
     "end_time": "2023-06-03T11:26:50.825309711Z",
     "start_time": "2023-06-03T11:26:50.739750582Z"
    },
    "collapsed": false
   },
   "outputs": [],
   "source": [
    "tf_doc = compute_tf(doc_dict)"
   ]
  },
  {
   "cell_type": "code",
   "execution_count": 50,
   "metadata": {
    "ExecuteTime": {
     "end_time": "2023-06-03T11:26:50.894154108Z",
     "start_time": "2023-06-03T11:26:50.817234580Z"
    },
    "collapsed": false
   },
   "outputs": [],
   "source": [
    "idf_dict = compute_idf(positional_index, paper_id_map=paper_id_map)\n",
    "okapi_idf = compute_idf_okapi(positional_index, paper_id_map=paper_id_map)"
   ]
  },
  {
   "cell_type": "code",
   "execution_count": 51,
   "metadata": {
    "ExecuteTime": {
     "end_time": "2023-06-03T11:26:50.894868179Z",
     "start_time": "2023-06-03T11:26:50.860881924Z"
    },
    "collapsed": false
   },
   "outputs": [
    {
     "name": "stdout",
     "output_type": "stream",
     "text": [
      "|    | titles                                                                                           |\n",
      "|---:|:-------------------------------------------------------------------------------------------------|\n",
      "| 27 | Autonomous Removal of Perspective Distortion of Elevator Button Images based on Corner Detection |\n",
      "| 34 | Deep Reinforcement Learning in Computer Vision: A Comprehensive Survey                           |\n",
      "| 43 | Real-Time Multi-Modal Semantic Fusion on Unmanned Aerial Vehicles                                |\n",
      "| 67 | Weighted Intersection over Union (wIoU): A New Evaluation Metric for Image Segmentation          |\n",
      "| 88 | A Deep Learning Object Detection Method for an Efficient Clusters Initialization                 |\n"
     ]
    },
    {
     "data": {
      "text/plain": [
       "[73, 22, 54, 36, 29]"
      ]
     },
     "execution_count": 51,
     "metadata": {},
     "output_type": "execute_result"
    }
   ],
   "source": [
    "search(title_query=\"object detection\", abstract_query=\"object dection\", weight=0.5,\n",
    "       stop_words_list=stop_words_list, paper_id_map=paper_id_map, tf_doc=tf_doc, idf_dict=idf_dict, method='okapi25',\n",
    "       doc_dict=doc_dict, okapi_idf=okapi_idf, category='cs.CV', df=df, max_result_count=5)"
   ]
  },
  {
   "cell_type": "code",
   "execution_count": 52,
   "metadata": {
    "ExecuteTime": {
     "end_time": "2023-06-03T11:26:50.996351727Z",
     "start_time": "2023-06-03T11:26:50.887390852Z"
    },
    "collapsed": false
   },
   "outputs": [
    {
     "data": {
      "text/plain": [
       "{0: 1,\n",
       " 1: 2,\n",
       " 2: 3,\n",
       " 3: 4,\n",
       " 4: 5,\n",
       " 6: 6,\n",
       " 7: 7,\n",
       " 8: 8,\n",
       " 9: 9,\n",
       " 11: 10,\n",
       " 13: 11,\n",
       " 14: 12,\n",
       " 15: 13,\n",
       " 16: 14,\n",
       " 17: 15,\n",
       " 18: 16,\n",
       " 19: 17,\n",
       " 20: 18,\n",
       " 23: 19,\n",
       " 25: 20,\n",
       " 26: 21,\n",
       " 27: 22,\n",
       " 28: 23,\n",
       " 29: 24,\n",
       " 30: 25,\n",
       " 31: 26,\n",
       " 32: 27,\n",
       " 33: 28,\n",
       " 34: 29,\n",
       " 35: 30,\n",
       " 36: 31,\n",
       " 37: 32,\n",
       " 40: 33,\n",
       " 41: 34,\n",
       " 42: 35,\n",
       " 43: 36,\n",
       " 44: 37,\n",
       " 45: 38,\n",
       " 46: 39,\n",
       " 47: 40,\n",
       " 48: 41,\n",
       " 49: 42,\n",
       " 51: 43,\n",
       " 52: 44,\n",
       " 55: 45,\n",
       " 56: 46,\n",
       " 57: 47,\n",
       " 59: 48,\n",
       " 60: 49,\n",
       " 61: 50,\n",
       " 63: 51,\n",
       " 65: 52,\n",
       " 66: 53,\n",
       " 67: 54,\n",
       " 68: 55,\n",
       " 69: 56,\n",
       " 70: 57,\n",
       " 71: 58,\n",
       " 72: 59,\n",
       " 73: 60,\n",
       " 74: 61,\n",
       " 76: 62,\n",
       " 77: 63,\n",
       " 78: 64,\n",
       " 79: 65,\n",
       " 80: 66,\n",
       " 81: 67,\n",
       " 83: 68,\n",
       " 84: 69,\n",
       " 85: 70,\n",
       " 86: 71,\n",
       " 87: 72,\n",
       " 88: 73,\n",
       " 89: 74,\n",
       " 91: 75,\n",
       " 92: 76,\n",
       " 93: 77,\n",
       " 94: 78,\n",
       " 95: 79,\n",
       " 96: 80,\n",
       " 97: 81,\n",
       " 98: 82}"
      ]
     },
     "execution_count": 52,
     "metadata": {},
     "output_type": "execute_result"
    }
   ],
   "source": [
    "paper_id_map"
   ]
  },
  {
   "attachments": {},
   "cell_type": "markdown",
   "metadata": {},
   "source": [
    "<div dir=\"rtl\">\n",
    "<font face=\"XB Zar\" size=6>\n",
    "    <h1>\n",
    "    <b>خوشه‌بندی (۴۰ نمره)</b>\n",
    "    </h1>\n",
    "    <p></p>\n",
    "    <p></p>\n",
    "</font>\n",
    "<font face=\"XB Zar\" size=3>\n",
    "در این قسمت شما به خوشه‌بندی اسناد و استفاده از آن خوشه‌ها برای اهداف مختلف میپردازید. برای این منظور، ابتدا برای هر سند، بردار جاسازی (Embedding) تولید کرده و با استفاده از دو الگوریتم kmeans و خوشه‌بندی سلسله‌مراتبی (Hierarchical Clustering)، خوشه‌ها را ایجاد می‌کنید.\n",
    "</font>\n",
    "</div>"
   ]
  },
  {
   "attachments": {},
   "cell_type": "markdown",
   "metadata": {},
   "source": [
    "<div dir=\"rtl\">\n",
    "<font face=\"XB Zar\" size=5>\n",
    "    <h2>\n",
    "    <b>استخراج بردار جاسازی اسناد</b>\n",
    "    </h2>\n",
    "    <p></p>\n",
    "    <p></p>\n",
    "</font>\n",
    "<font face=\"XB Zar\" size=3>\n",
    "اگرچه امکان ایجاد بردار جاسازی برای هر سند با استفاده از روش ‌Bag of Words نیز وجود دارد، اما برای اینکه احتمالا بتوانید به نتابج بهتری در خوشه‌بندی برسید، در این قسمت از مدل‌های زبانی برمبنای مبدل‌ها (Transformers) برای استخراج این بردارها استفاده می‌کنید.\n",
    "برای این منظور می‌توانید از\n",
    "<a href=\"https://huggingface.co/\">HuggingFace</a>\n",
    "  و مدل‌های متعددی که در آن وجود دارد استفاده کنید.\n",
    "  <br>\n",
    "  در تابع extract_embedding پیاده‌سازی مورد نیاز را انجام دهید. این تابع لیستی از اسناد را به عنوان ورودی دریافت میکند و در خروجی لیستی از بردار‌های جاسازی متناظر با هر عنصر در ورودی را برمی‌گرداند.\n",
    "  <br>\n",
    "برای محاسبه بردار جاسازی هر سند، روش های مختلفی وجود دارد. استفاده از بردار جاسازی توکن CLS در مدل ‌BERT، میانگین‌گیری (وزن‌دار یا بدون وزن) از بردارهای جاسازی هر کلمه ورودی و ... از روش‌های موجود هستند که می‌توانید به دلخواه خود انتخاب کنید.\n",
    "</font>\n",
    "</div>"
   ]
  },
  {
   "cell_type": "code",
   "execution_count": null,
   "metadata": {},
   "outputs": [],
   "source": [
    "## ؟ points\n",
    "\n",
    "from typing import List\n",
    "\n",
    "\n",
    "def extract_embedding(doc_list: List):\n",
    "    \"\"\"Extracts embedding vector for each document in doc_list\n",
    "\n",
    "    Parameters\n",
    "    ----------\n",
    "    doc_list : List\n",
    "        A list of documents\n",
    "\n",
    "    Returns\n",
    "    -------\n",
    "    list\n",
    "        A list of embedding vectors\n",
    "    \"\"\"\n",
    "\n",
    "    # TODO: Extract a vector for each input document using a transformer-based language model \n",
    "    pass\n",
    "\n",
    "\n",
    "docs_embedding = extract_embedding(\n",
    "    [str, str, str, ...])  # return [[NUM, NUM, NUM, ...], [NUM, NUM, NUM, ...], [NUM, NUM, NUM, ...]]"
   ]
  },
  {
   "attachments": {},
   "cell_type": "markdown",
   "metadata": {},
   "source": [
    "<div dir=\"rtl\">\n",
    "<font face=\"XB Zar\" size=5>\n",
    "    <h2>\n",
    "    <b>کاهش بعد بردارها برای رسم نمودار دوبعدی</b>\n",
    "    </h2>\n",
    "    <p></p>\n",
    "    <p></p>\n",
    "</font>\n",
    "<font face=\"XB Zar\" size=3>\n",
    "برای اینکه بتوانید در مراحل بعدی، نتایج خوشه‌بندی را مشاهده کنید، در این قسمت به پیاده‌سازی تابع کاهش بعد بردارهای جاسازی با استفاده از روش T-SNE می‌پردازید.\n",
    "برای اینکار تابع convert_to_2d_tsne را پیاده‌سازی می‌کنید که لیستی از بردارهای جاسازی را به عنوان ورودی دریافت می‌کند و در خروجی، لیستی از بردارهای جاسازی کاهش بعد داده شده به دو بعد را تولید می‌کند. برای پیاده سازی این تابع می‌توانید از کتابخانه‌های آماده استفاده کنید.\n",
    "<br>\n",
    "توجه کنید که از بردارهای خروجی این قسمت <u>صرفا برای رسم نمودار</u> استفاده می‌کنید و تمامی مراحلی که در ادامه طی می‌کنید (به جز رسم نمودار)، باید با استفاده از بردارهای کاهش بعد داده <u>نشده</u> انجام شوند.\n",
    "</font>\n",
    "</div>"
   ]
  },
  {
   "cell_type": "code",
   "execution_count": null,
   "metadata": {},
   "outputs": [],
   "source": [
    "## ؟ points\n",
    "\n",
    "from typing import List\n",
    "\n",
    "\n",
    "def convert_to_2d_tsne(emb_vecs: List):\n",
    "    \"\"\"Converts each raw embedding vector to 2d vector \n",
    "\n",
    "    Parameters\n",
    "    ----------\n",
    "    emb_vecs : List\n",
    "        A list of vectors\n",
    "\n",
    "    Returns\n",
    "    -------\n",
    "    list\n",
    "        A list of 2d vectors\n",
    "    \"\"\"\n",
    "\n",
    "    # TODO: Convert each input vector to 2d vector \n",
    "    pass\n",
    "\n",
    "\n",
    "docs_embedding_2d = convert_to_2d_tsne([[NUM, NUM, NUM, ...], [NUM, NUM, NUM, ...],\n",
    "                                        [NUM, NUM, NUM, ...]])  # return [[NUM, NUM], [NUM, NUM], [NUM, NUM], ...]"
   ]
  },
  {
   "attachments": {},
   "cell_type": "markdown",
   "metadata": {},
   "source": [
    "<div dir=\"rtl\">\n",
    "<font face=\"XB Zar\" size=5>\n",
    "    <h2>\n",
    "    <b>رسم نمودار</b>\n",
    "    </h2>\n",
    "    <p></p>\n",
    "    <p></p>\n",
    "</font>\n",
    "<font face=\"XB Zar\" size=3>\n",
    "در این قسمت، تابع plot_docs را پیاده‌سازی می‌کنید که لیستی از بردارهای کاهش بعد داده شده و لیستی از شماره‌ خوشه‌‌های هربردار (برای رنگ‌آمیزی نقاط) را به عنوان ورودی دریافت کرده و نمودار دوبعدی ای را رسم می‌کند که در آن به هر خوشه یک رنگ مجزا اختصاص داده شده است و هر سند به عنوان یک نقطه نشان داده می‌شود که به رنگ خوشه‌ای است که به آن نسبت داده شده است. \n",
    "</font>\n",
    "</div>\n",
    "\n"
   ]
  },
  {
   "cell_type": "code",
   "execution_count": null,
   "metadata": {},
   "outputs": [],
   "source": [
    "## ؟ points\n",
    "\n",
    "from typing import List\n",
    "\n",
    "\n",
    "def plot_docs(emb_vecs_2d: List, labels: List):\n",
    "    \"\"\"Draws a 2d plot of input vectors\n",
    "\n",
    "    Parameters\n",
    "    ----------\n",
    "    emb_2d_vecs : List\n",
    "        A list of 2d vectors\n",
    "\n",
    "    Returns\n",
    "    -------\n",
    "    \"\"\"\n",
    "\n",
    "    # TODO: Draw a 2d plot from input vectors and color each cluster with specific color.\n",
    "    pass\n",
    "\n",
    "\n",
    "plot_docs([[NUM, NUM], [NUM, NUM], [NUM, NUM], ...])"
   ]
  },
  {
   "attachments": {},
   "cell_type": "markdown",
   "metadata": {},
   "source": [
    "<div dir=\"rtl\">\n",
    "<font face=\"XB Zar\" size=5>\n",
    "    <h2>\n",
    "    <b>خوشه‌بندی مستندها</b>\n",
    "    </h2>\n",
    "    <p></p>\n",
    "    <p></p>\n",
    "</font>\n",
    "<font face=\"XB Zar\" size=3>\n",
    "در این قسمت شما به خوشه‌بندی اسناد با استفاده از بردارهای جاسازی مستخرج از مدل زبانی با دو روش Kmeans و خوشه‌بندی سلسله‌مراتبی می‌پردازید.\n",
    "</font>\n",
    "</div>"
   ]
  },
  {
   "attachments": {},
   "cell_type": "markdown",
   "metadata": {},
   "source": [
    "<div dir=\"rtl\">\n",
    "<font face=\"XB Zar\" size=4>\n",
    "    <h3>\n",
    "    <b>روش K-means</b>\n",
    "    </h3>\n",
    "    <p></p>\n",
    "    <p></p>\n",
    "</font>\n",
    "<font face=\"XB Zar\" size=3>\n",
    "در این قسمت، شما ابتدا الگوریتم خوشه‌بندی K-means را \n",
    "<u><b>از پایه</b></u>\n",
    " پیاده‌سازی کرده و سپس با استفاده از آن، خوشه‌های اسناد را ایجاد می‌کنید. الگوریتم را با استفاده از چند مقدار مختلف تعداد خوشه‌ها (k) اجرا کنید. در هربار اجرا، با استفاده از تعدادی از اسناد موجود در هر خوشه، موضوع آن خوشه را تعیین کرده و خوشه‌بندی حاصله را با استفاده از بردار‌های دوبعدی قسمت قبل، رسم کنید. با اینکار، پیاده‌سازی خود و همچنین کارایی این الگوریتم در خوشه‌بندی اسناد و قرار دادن اسناد مشابه در خوشه‌های یکسان را بررسی کنید.\n",
    "<br>\n",
    " نمودار silhouette score برای مقدار‌های محتلف k را رسم کرده و silhouette analysis برای انتخاب k مناسب انجام دهید. \n",
    " همچنین با استفاده از داده‌های دارای برچسب، مقدار purity به ازای k را رسم کرده و مقدار purity برای k نهایی را گزارش کنید.\n",
    "<br>\n",
    "پیاده‌سازی خود را در تابع cluster_kmeans قرار دهید. این تابع یک لیست از بردارهای جاسازی دریافت کرده و در خروجی، مختصات مرکز هر خوشه را به همراه لیستی از شماره خوشه‌های متناظر با هر بردار جاسازی تولید می‌کند.\n",
    "توجه کنید که الگوریتم می‌بایست از پایه پیاده‌سازی شود و امکان استفاده از پیاده‌سازی‌های آماده آن وجود ندارد.\n",
    "</font>\n",
    "</div>"
   ]
  },
  {
   "cell_type": "code",
   "execution_count": null,
   "metadata": {},
   "outputs": [],
   "source": [
    "## ؟ points\n",
    "\n",
    "from typing import List\n",
    "\n",
    "\n",
    "def cluster_kmeans(emb_vecs: List, n_clusters: int):\n",
    "    \"\"\"Clusters input vectors using K-means method\n",
    "\n",
    "    Parameters\n",
    "    ----------\n",
    "    emb_vecs : List\n",
    "        A list of vectors\n",
    "\n",
    "    Returns\n",
    "    -------\n",
    "    list\n",
    "        Two lists: 1) A list containing cluster centers 2) A list containing cluster index for each input vector\n",
    "    \"\"\"\n",
    "\n",
    "    # TODO: Implement K-means method \n",
    "    pass\n",
    "\n",
    "\n",
    "cluster_centers, cluster_kmeans = cluster_kmeans(\n",
    "    [[NUM, NUM, NUM, ...], [NUM, NUM, NUM, ...], [NUM, NUM, NUM, ...]])  # return [NUM, NUM, NUM, ...]"
   ]
  },
  {
   "cell_type": "code",
   "execution_count": null,
   "metadata": {},
   "outputs": [],
   "source": [
    "from sklearn.metrics import silhouette_samples, silhouette_score\n",
    "#TODO: silhouette analysis "
   ]
  },
  {
   "cell_type": "code",
   "execution_count": null,
   "metadata": {},
   "outputs": [],
   "source": [
    "#TODO: plot purity for different value of k"
   ]
  },
  {
   "attachments": {},
   "cell_type": "markdown",
   "metadata": {},
   "source": [
    "<div dir=\"rtl\">\n",
    "<font face=\"XB Zar\" size=4>\n",
    "    <h3>\n",
    "    <b>روش خوشه‌بندی سلسله‌مراتبی (Hierarchical Clustering)</b>\n",
    "    </h3>\n",
    "    <p></p>\n",
    "    <p></p>\n",
    "</font>\n",
    "<font face=\"XB Zar\" size=3>\n",
    "تکنیک خوشه‌بندی سلسله مراتبی یکی از تکنیک‌های خوشه‌بندی در یادگیری ماشین است. در این قسمت شما می‌توانید از لایببری scipy یا هر لایبرری دیگری در پایتون استفاده کنید تا داده‌ها را به صورت سلسله‌مراتبی خوشه‌بندی کنید. سپس می‌توانید خوشه‌ها را با matplotlib مشاهده کنید.\n",
    "</font>\n",
    "</div>"
   ]
  },
  {
   "cell_type": "code",
   "execution_count": null,
   "metadata": {},
   "outputs": [],
   "source": [
    "import scipy.cluster.hierarchy as shc\n",
    "import matplotlib.pyplot as plt\n",
    "\n",
    "#TODO"
   ]
  },
  {
   "attachments": {},
   "cell_type": "markdown",
   "metadata": {},
   "source": [
    "<div dir=\"rtl\">\n",
    "<font face=\"XB Zar\" size=5>\n",
    "    <h2>\n",
    "    <b>خوشه‌بندی خروجی‌های سیستم جستجو فاز ۱</b>\n",
    "    </h2>\n",
    "    <p></p>\n",
    "    <p></p>\n",
    "</font>\n",
    "<font face=\"XB Zar\" size=3>\n",
    "در این قسمت شما به افزودن قابلیت خوشه‌بندی در سیستم جستجویی که در فاز ۱ درس توسعه داده‌اید می‌پردازید. برای این منظور، توابعی که تابحال پیاده‌سازی کرده‌اید را به نحوی به سامانه جستجوی فاز ۱ خود اضافه می‌کنید که اسناد خروجی سامانه را خوشه‌بندی کرده و در نمایش خروجی،‌ اسنادی که در یک خوشه هستند را مشخص کند.\n",
    "می‌توانید با فراخوانی توابعی که در فاز ۱ پیاده‌سازی کرده‌اید و ایجاد تغییر در آن‌ها در سلول زیر، این‌کار را انجام دهید. نحوه پیاده‌سازی این بخش به عهده خودتان است.\n",
    "</font>\n",
    "</div>"
   ]
  },
  {
   "cell_type": "code",
   "execution_count": null,
   "metadata": {},
   "outputs": [],
   "source": []
  },
  {
   "attachments": {},
   "cell_type": "markdown",
   "metadata": {},
   "source": [
    "<div dir=\"rtl\">\n",
    "<font face=\"XB Zar\" size=5>\n",
    "    <h2>\n",
    "    <b>جست‌و‌جوی اسناد مشابه با یک سند</b>\n",
    "    </h2>\n",
    "    <p></p>\n",
    "    <p></p>\n",
    "</font>\n",
    "<font face=\"XB Zar\" size=3>\n",
    "در این قسمت، شما به پیاده‌سازی تابع find_similar_docs می‌پردازید که در آن با دریافت اندیس یک سند در مجموعه دادگان، تعداد اسناد مشابه مورد نظر و لیست بردارهای جاسازی، اندیس اسناد مشابه با آن در مجموعه دادگان را در خروجی تولید می‌کند. برای این منظور، به تعداد num_of_similar_docs تا از نزدیک‌ترین بردارها را به بردار مدنظر پیدا کرده و اندیس آن‌ها را به عنوان خروجی برمیگردانید. اسناد مشابه باید به ترتیب شباهت (مقدار شباهت بردار جاسازی آن‌ها به بردار جاسازی سند ورودی) مرتب شده باشند. انتخاب معیار شباهت برعهده خودتان است.\n",
    "</font>\n",
    "</div>"
   ]
  },
  {
   "cell_type": "code",
   "execution_count": null,
   "metadata": {},
   "outputs": [],
   "source": [
    "## ؟ points\n",
    "\n",
    "from typing import List\n",
    "\n",
    "\n",
    "def find_similar_docs(input_doc_index: int,\n",
    "                      num_of_similar_docs: int,\n",
    "                      emb_vecs: List):\n",
    "    \"\"\"Finds similar documents to input in dataset\n",
    "\n",
    "    Parameters\n",
    "    ----------\n",
    "    input_doc_index: int\n",
    "        Index of input document vector in emb_vecs list to search for specific paper\n",
    "\n",
    "    num_of_similar_docs:\n",
    "        Number of similar documents to return \n",
    "\n",
    "    emb_vecs : List\n",
    "        A list of vectors corresponding to documents\n",
    "\n",
    "    Returns\n",
    "    -------\n",
    "    List\n",
    "        A list of similar document indexes to input document\n",
    "    \"\"\"\n",
    "\n",
    "    # TODO: Implement a function to find similar documents to input document.\n",
    "    pass\n",
    "\n",
    "\n",
    "find_similar_docs(int, int, [[NUM, NUM, NUM, ...], [NUM, NUM, NUM, ...], [NUM, NUM, NUM, ...]])"
   ]
  }
 ],
 "metadata": {
  "kernelspec": {
   "display_name": "Python 3 (ipykernel)",
   "language": "python",
   "name": "python3"
  },
  "language_info": {
   "name": "python"
  },
  "orig_nbformat": 4
 },
 "nbformat": 4,
 "nbformat_minor": 2
}
